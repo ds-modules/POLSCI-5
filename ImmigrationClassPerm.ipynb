{
 "cells": [
  {
   "cell_type": "markdown",
   "metadata": {},
   "source": [
    "# Immigration-- Class Admission and Last Perm Residence"
   ]
  },
  {
   "cell_type": "markdown",
   "metadata": {},
   "source": [
    "# Outline\n",
    "Similar to Immigration by Region and Country notebook or to be combined with that notebook \n",
    "Like other notebook(s), need to reformat years\n",
    "\n",
    "## Context of the Data \n",
    "\n",
    "Context on [type](https://www.dhs.gov/immigration-statistics/lawful-permanent-residents/ImmigrantCOA) column \n",
    "\"A lawful permanent resident (LPR) or “green card” recipient may live and work anywhere in the United States and may apply to become U.S. citizens if they meet certain eligibility and admissibility requirements. The Immigration and Nationality Act (INA) provides several broad classes of admission for foreign nationals to gain LPR status, the largest of which focuses on admitting immigrants for the purpose of family reunification. Other major categories include economic and humanitarian immigrants, as well as immigrants from countries with relatively low levels of immigration to the United States.\" \n",
    "\n",
    "Diversity -- \"Those who seek to immigrate to the United States from countries with relatively low levels of immigration may be eligible to seek immigration under the Diversity Immigrant Visa Program.\"\n",
    "\n"
   ]
  },
  {
   "cell_type": "code",
   "execution_count": 1,
   "metadata": {},
   "outputs": [],
   "source": [
    "from datascience import *\n",
    "\n",
    "import numpy as np\n",
    "\n",
    "%matplotlib inline\n",
    "import matplotlib.pyplot as plots\n",
    "plots.style.use('fivethirtyeight')"
   ]
  },
  {
   "cell_type": "code",
   "execution_count": 2,
   "metadata": {},
   "outputs": [],
   "source": [
    "class_perm = Table.read_table('immigrants-class-perm.csv') # read in the dataset"
   ]
  },
  {
   "cell_type": "code",
   "execution_count": 3,
   "metadata": {},
   "outputs": [
    {
     "data": {
      "text/html": [
       "<table border=\"1\" class=\"dataframe\">\n",
       "    <thead>\n",
       "        <tr>\n",
       "            <th>country</th> <th>type</th> <th>fiscal_year</th> <th>total</th>\n",
       "        </tr>\n",
       "    </thead>\n",
       "    <tbody>\n",
       "        <tr>\n",
       "            <td>Afghanistan</td> <td>Cancellation of Removal</td> <td>1,999      </td> <td>6    </td>\n",
       "        </tr>\n",
       "        <tr>\n",
       "            <td>Afghanistan</td> <td>Cancellation of Removal</td> <td>2,000      </td> <td>7    </td>\n",
       "        </tr>\n",
       "        <tr>\n",
       "            <td>Afghanistan</td> <td>Cancellation of Removal</td> <td>2,001      </td> <td>3    </td>\n",
       "        </tr>\n",
       "        <tr>\n",
       "            <td>Afghanistan</td> <td>Cancellation of Removal</td> <td>2,002      </td> <td>1    </td>\n",
       "        </tr>\n",
       "        <tr>\n",
       "            <td>Afghanistan</td> <td>Cancellation of Removal</td> <td>2,004      </td> <td>5    </td>\n",
       "        </tr>\n",
       "        <tr>\n",
       "            <td>Afghanistan</td> <td>Diversity              </td> <td>1,998      </td> <td>6    </td>\n",
       "        </tr>\n",
       "        <tr>\n",
       "            <td>Afghanistan</td> <td>Diversity              </td> <td>1,999      </td> <td>15   </td>\n",
       "        </tr>\n",
       "        <tr>\n",
       "            <td>Afghanistan</td> <td>Diversity              </td> <td>2,000      </td> <td>1    </td>\n",
       "        </tr>\n",
       "        <tr>\n",
       "            <td>Afghanistan</td> <td>Diversity              </td> <td>2,001      </td> <td>22   </td>\n",
       "        </tr>\n",
       "        <tr>\n",
       "            <td>Afghanistan</td> <td>Diversity              </td> <td>2,002      </td> <td>9    </td>\n",
       "        </tr>\n",
       "    </tbody>\n",
       "</table>\n",
       "<p>... (20897 rows omitted)</p>"
      ],
      "text/plain": [
       "country     | type                    | fiscal_year | total\n",
       "Afghanistan | Cancellation of Removal | 1,999       | 6\n",
       "Afghanistan | Cancellation of Removal | 2,000       | 7\n",
       "Afghanistan | Cancellation of Removal | 2,001       | 3\n",
       "Afghanistan | Cancellation of Removal | 2,002       | 1\n",
       "Afghanistan | Cancellation of Removal | 2,004       | 5\n",
       "Afghanistan | Diversity               | 1,998       | 6\n",
       "Afghanistan | Diversity               | 1,999       | 15\n",
       "Afghanistan | Diversity               | 2,000       | 1\n",
       "Afghanistan | Diversity               | 2,001       | 22\n",
       "Afghanistan | Diversity               | 2,002       | 9\n",
       "... (20897 rows omitted)"
      ]
     },
     "execution_count": 3,
     "metadata": {},
     "output_type": "execute_result"
    }
   ],
   "source": [
    "class_perm"
   ]
  },
  {
   "cell_type": "code",
   "execution_count": 12,
   "metadata": {},
   "outputs": [
    {
     "name": "stdout",
     "output_type": "stream",
     "text": [
      "The fiscal years in the dataset range from 1997 to 2017\n"
     ]
    }
   ],
   "source": [
    "earliest_yr = min(class_perm.column('fiscal_year'))\n",
    "latest_yr = max(class_perm.column('fiscal_year'))\n",
    "\n",
    "print('The fiscal years in the dataset range from', earliest_yr, 'to', latest_yr)"
   ]
  },
  {
   "cell_type": "code",
   "execution_count": 15,
   "metadata": {},
   "outputs": [
    {
     "name": "stdout",
     "output_type": "stream",
     "text": [
      "There are 235 represented in this dataset\n"
     ]
    },
    {
     "data": {
      "text/html": [
       "<table border=\"1\" class=\"dataframe\">\n",
       "    <thead>\n",
       "        <tr>\n",
       "            <th>country</th> <th>count</th>\n",
       "        </tr>\n",
       "    </thead>\n",
       "    <tbody>\n",
       "        <tr>\n",
       "            <td>Mexico   </td> <td>138  </td>\n",
       "        </tr>\n",
       "        <tr>\n",
       "            <td>Honduras </td> <td>137  </td>\n",
       "        </tr>\n",
       "        <tr>\n",
       "            <td>Poland   </td> <td>136  </td>\n",
       "        </tr>\n",
       "        <tr>\n",
       "            <td>Pakistan </td> <td>136  </td>\n",
       "        </tr>\n",
       "        <tr>\n",
       "            <td>Nigeria  </td> <td>136  </td>\n",
       "        </tr>\n",
       "        <tr>\n",
       "            <td>Nicaragua</td> <td>136  </td>\n",
       "        </tr>\n",
       "        <tr>\n",
       "            <td>Israel   </td> <td>136  </td>\n",
       "        </tr>\n",
       "        <tr>\n",
       "            <td>Iran     </td> <td>136  </td>\n",
       "        </tr>\n",
       "        <tr>\n",
       "            <td>India    </td> <td>136  </td>\n",
       "        </tr>\n",
       "        <tr>\n",
       "            <td>Egypt    </td> <td>136  </td>\n",
       "        </tr>\n",
       "    </tbody>\n",
       "</table>\n",
       "<p>... (225 rows omitted)</p>"
      ],
      "text/plain": [
       "country   | count\n",
       "Mexico    | 138\n",
       "Honduras  | 137\n",
       "Poland    | 136\n",
       "Pakistan  | 136\n",
       "Nigeria   | 136\n",
       "Nicaragua | 136\n",
       "Israel    | 136\n",
       "Iran      | 136\n",
       "India     | 136\n",
       "Egypt     | 136\n",
       "... (225 rows omitted)"
      ]
     },
     "execution_count": 15,
     "metadata": {},
     "output_type": "execute_result"
    }
   ],
   "source": [
    "num_countries = class_perm.group('country').num_rows\n",
    "print('There are', num_countries, 'represented in this dataset')\n",
    "\n",
    "class_perm.group('country').sort('count', descending = True)"
   ]
  },
  {
   "cell_type": "code",
   "execution_count": 10,
   "metadata": {},
   "outputs": [
    {
     "data": {
      "text/html": [
       "<table border=\"1\" class=\"dataframe\">\n",
       "    <thead>\n",
       "        <tr>\n",
       "            <th>type</th> <th>count</th>\n",
       "        </tr>\n",
       "    </thead>\n",
       "    <tbody>\n",
       "        <tr>\n",
       "            <td>Immediate relatives of U.S. citizens</td> <td>4,046</td>\n",
       "        </tr>\n",
       "        <tr>\n",
       "            <td>Employment-based preferences        </td> <td>3,594</td>\n",
       "        </tr>\n",
       "        <tr>\n",
       "            <td>Family-sponsored preferences        </td> <td>3,418</td>\n",
       "        </tr>\n",
       "        <tr>\n",
       "            <td>Diversity                           </td> <td>3,179</td>\n",
       "        </tr>\n",
       "        <tr>\n",
       "            <td>Refugees and asylees                </td> <td>3,115</td>\n",
       "        </tr>\n",
       "        <tr>\n",
       "            <td>Other                               </td> <td>2,673</td>\n",
       "        </tr>\n",
       "        <tr>\n",
       "            <td>Cancellation of Removal             </td> <td>658  </td>\n",
       "        </tr>\n",
       "        <tr>\n",
       "            <td>IRCA legalization                   </td> <td>131  </td>\n",
       "        </tr>\n",
       "        <tr>\n",
       "            <td>Suspension of Deportation           </td> <td>93   </td>\n",
       "        </tr>\n",
       "    </tbody>\n",
       "</table>"
      ],
      "text/plain": [
       "type                                 | count\n",
       "Immediate relatives of U.S. citizens | 4,046\n",
       "Employment-based preferences         | 3,594\n",
       "Family-sponsored preferences         | 3,418\n",
       "Diversity                            | 3,179\n",
       "Refugees and asylees                 | 3,115\n",
       "Other                                | 2,673\n",
       "Cancellation of Removal              | 658\n",
       "IRCA legalization                    | 131\n",
       "Suspension of Deportation            | 93"
      ]
     },
     "execution_count": 10,
     "metadata": {},
     "output_type": "execute_result"
    }
   ],
   "source": [
    "types = class_perm.group('type').sort('count', descending = True)\n",
    "types"
   ]
  },
  {
   "cell_type": "code",
   "execution_count": 11,
   "metadata": {},
   "outputs": [
    {
     "name": "stdout",
     "output_type": "stream",
     "text": [
      "Total number of types: 9\n"
     ]
    }
   ],
   "source": [
    "total_types = class_perm.group('type').num_rows\n",
    "print('Total number of types:', total_types)"
   ]
  },
  {
   "cell_type": "code",
   "execution_count": 20,
   "metadata": {},
   "outputs": [],
   "source": [
    "min_total = min(class_perm.column('total'))\n",
    "max_total = max(class_perm.column('total'))\n"
   ]
  },
  {
   "cell_type": "code",
   "execution_count": 21,
   "metadata": {},
   "outputs": [
    {
     "data": {
      "text/html": [
       "<table border=\"1\" class=\"dataframe\">\n",
       "    <thead>\n",
       "        <tr>\n",
       "            <th>country</th> <th>type</th> <th>fiscal_year</th> <th>total</th>\n",
       "        </tr>\n",
       "    </thead>\n",
       "    <tbody>\n",
       "        <tr>\n",
       "            <td>French Southern-Antarctic Lands</td> <td>Immediate relatives of U.S. citizens</td> <td>2,002      </td> <td>0    </td>\n",
       "        </tr>\n",
       "        <tr>\n",
       "            <td>Niue                           </td> <td>Immediate relatives of U.S. citizens</td> <td>2,002      </td> <td>0    </td>\n",
       "        </tr>\n",
       "        <tr>\n",
       "            <td>Reunion                        </td> <td>Immediate relatives of U.S. citizens</td> <td>2,002      </td> <td>0    </td>\n",
       "        </tr>\n",
       "    </tbody>\n",
       "</table>"
      ],
      "text/plain": [
       "country                         | type                                 | fiscal_year | total\n",
       "French Southern-Antarctic Lands | Immediate relatives of U.S. citizens | 2,002       | 0\n",
       "Niue                            | Immediate relatives of U.S. citizens | 2,002       | 0\n",
       "Reunion                         | Immediate relatives of U.S. citizens | 2,002       | 0"
      ]
     },
     "execution_count": 21,
     "metadata": {},
     "output_type": "execute_result"
    }
   ],
   "source": [
    "class_perm.where('total', are.equal_to(min_total))"
   ]
  },
  {
   "cell_type": "code",
   "execution_count": 22,
   "metadata": {},
   "outputs": [
    {
     "data": {
      "text/html": [
       "<table border=\"1\" class=\"dataframe\">\n",
       "    <thead>\n",
       "        <tr>\n",
       "            <th>country</th> <th>type</th> <th>fiscal_year</th> <th>total</th>\n",
       "        </tr>\n",
       "    </thead>\n",
       "    <tbody>\n",
       "        <tr>\n",
       "            <td>Mexico </td> <td>Immediate relatives of U.S. citizens</td> <td>2,002      </td> <td>149,596</td>\n",
       "        </tr>\n",
       "    </tbody>\n",
       "</table>"
      ],
      "text/plain": [
       "country | type                                 | fiscal_year | total\n",
       "Mexico  | Immediate relatives of U.S. citizens | 2,002       | 149,596"
      ]
     },
     "execution_count": 22,
     "metadata": {},
     "output_type": "execute_result"
    }
   ],
   "source": [
    "class_perm.where('total', are.equal_to(max_total))"
   ]
  },
  {
   "cell_type": "code",
   "execution_count": 23,
   "metadata": {},
   "outputs": [
    {
     "data": {
      "text/html": [
       "<table border=\"1\" class=\"dataframe\">\n",
       "    <thead>\n",
       "        <tr>\n",
       "            <th>country</th> <th>type</th> <th>fiscal_year</th> <th>total</th>\n",
       "        </tr>\n",
       "    </thead>\n",
       "    <tbody>\n",
       "        <tr>\n",
       "            <td>Mexico </td> <td>Cancellation of Removal</td> <td>1,998      </td> <td>103  </td>\n",
       "        </tr>\n",
       "        <tr>\n",
       "            <td>Mexico </td> <td>Cancellation of Removal</td> <td>1,999      </td> <td>4,119</td>\n",
       "        </tr>\n",
       "        <tr>\n",
       "            <td>Mexico </td> <td>Cancellation of Removal</td> <td>2,000      </td> <td>2,321</td>\n",
       "        </tr>\n",
       "        <tr>\n",
       "            <td>Mexico </td> <td>Cancellation of Removal</td> <td>2,001      </td> <td>2,126</td>\n",
       "        </tr>\n",
       "        <tr>\n",
       "            <td>Mexico </td> <td>Cancellation of Removal</td> <td>2,002      </td> <td>1,908</td>\n",
       "        </tr>\n",
       "        <tr>\n",
       "            <td>Mexico </td> <td>Cancellation of Removal</td> <td>2,003      </td> <td>2,461</td>\n",
       "        </tr>\n",
       "        <tr>\n",
       "            <td>Mexico </td> <td>Cancellation of Removal</td> <td>2,004      </td> <td>3,243</td>\n",
       "        </tr>\n",
       "        <tr>\n",
       "            <td>Mexico </td> <td>Diversity              </td> <td>1,997      </td> <td>27   </td>\n",
       "        </tr>\n",
       "        <tr>\n",
       "            <td>Mexico </td> <td>Diversity              </td> <td>1,998      </td> <td>14   </td>\n",
       "        </tr>\n",
       "        <tr>\n",
       "            <td>Mexico </td> <td>Diversity              </td> <td>1,999      </td> <td>9    </td>\n",
       "        </tr>\n",
       "    </tbody>\n",
       "</table>\n",
       "<p>... (128 rows omitted)</p>"
      ],
      "text/plain": [
       "country | type                    | fiscal_year | total\n",
       "Mexico  | Cancellation of Removal | 1,998       | 103\n",
       "Mexico  | Cancellation of Removal | 1,999       | 4,119\n",
       "Mexico  | Cancellation of Removal | 2,000       | 2,321\n",
       "Mexico  | Cancellation of Removal | 2,001       | 2,126\n",
       "Mexico  | Cancellation of Removal | 2,002       | 1,908\n",
       "Mexico  | Cancellation of Removal | 2,003       | 2,461\n",
       "Mexico  | Cancellation of Removal | 2,004       | 3,243\n",
       "Mexico  | Diversity               | 1,997       | 27\n",
       "Mexico  | Diversity               | 1,998       | 14\n",
       "Mexico  | Diversity               | 1,999       | 9\n",
       "... (128 rows omitted)"
      ]
     },
     "execution_count": 23,
     "metadata": {},
     "output_type": "execute_result"
    }
   ],
   "source": [
    "mexico = class_perm.where('country', are.equal_to('Mexico'))\n",
    "mexico"
   ]
  },
  {
   "cell_type": "code",
   "execution_count": 25,
   "metadata": {},
   "outputs": [
    {
     "data": {
      "text/html": [
       "<table border=\"1\" class=\"dataframe\">\n",
       "    <thead>\n",
       "        <tr>\n",
       "            <th>type</th> <th>count</th>\n",
       "        </tr>\n",
       "    </thead>\n",
       "    <tbody>\n",
       "        <tr>\n",
       "            <td>Refugees and asylees                </td> <td>21   </td>\n",
       "        </tr>\n",
       "        <tr>\n",
       "            <td>Other                               </td> <td>21   </td>\n",
       "        </tr>\n",
       "        <tr>\n",
       "            <td>Immediate relatives of U.S. citizens</td> <td>21   </td>\n",
       "        </tr>\n",
       "        <tr>\n",
       "            <td>Family-sponsored preferences        </td> <td>21   </td>\n",
       "        </tr>\n",
       "        <tr>\n",
       "            <td>Employment-based preferences        </td> <td>21   </td>\n",
       "        </tr>\n",
       "        <tr>\n",
       "            <td>Diversity                           </td> <td>21   </td>\n",
       "        </tr>\n",
       "        <tr>\n",
       "            <td>Cancellation of Removal             </td> <td>7    </td>\n",
       "        </tr>\n",
       "        <tr>\n",
       "            <td>IRCA legalization                   </td> <td>4    </td>\n",
       "        </tr>\n",
       "        <tr>\n",
       "            <td>Suspension of Deportation           </td> <td>1    </td>\n",
       "        </tr>\n",
       "    </tbody>\n",
       "</table>"
      ],
      "text/plain": [
       "type                                 | count\n",
       "Refugees and asylees                 | 21\n",
       "Other                                | 21\n",
       "Immediate relatives of U.S. citizens | 21\n",
       "Family-sponsored preferences         | 21\n",
       "Employment-based preferences         | 21\n",
       "Diversity                            | 21\n",
       "Cancellation of Removal              | 7\n",
       "IRCA legalization                    | 4\n",
       "Suspension of Deportation            | 1"
      ]
     },
     "execution_count": 25,
     "metadata": {},
     "output_type": "execute_result"
    }
   ],
   "source": [
    "mexico.group('type').sort('count', descending = True)"
   ]
  },
  {
   "cell_type": "code",
   "execution_count": 27,
   "metadata": {},
   "outputs": [
    {
     "data": {
      "text/html": [
       "<table border=\"1\" class=\"dataframe\">\n",
       "    <thead>\n",
       "        <tr>\n",
       "            <th>country</th> <th>type</th> <th>fiscal_year</th> <th>total</th>\n",
       "        </tr>\n",
       "    </thead>\n",
       "    <tbody>\n",
       "        <tr>\n",
       "            <td>Mexico </td> <td>Immediate relatives of U.S. citizens</td> <td>2,008      </td> <td>111,410</td>\n",
       "        </tr>\n",
       "        <tr>\n",
       "            <td>Mexico </td> <td>Family-sponsored preferences        </td> <td>2,008      </td> <td>66,541 </td>\n",
       "        </tr>\n",
       "        <tr>\n",
       "            <td>Mexico </td> <td>Employment-based preferences        </td> <td>2,008      </td> <td>7,560  </td>\n",
       "        </tr>\n",
       "        <tr>\n",
       "            <td>Mexico </td> <td>Other                               </td> <td>2,008      </td> <td>1,872  </td>\n",
       "        </tr>\n",
       "        <tr>\n",
       "            <td>Mexico </td> <td>Refugees and asylees                </td> <td>2,008      </td> <td>614    </td>\n",
       "        </tr>\n",
       "        <tr>\n",
       "            <td>Mexico </td> <td>Diversity                           </td> <td>2,008      </td> <td>18     </td>\n",
       "        </tr>\n",
       "    </tbody>\n",
       "</table>"
      ],
      "text/plain": [
       "country | type                                 | fiscal_year | total\n",
       "Mexico  | Immediate relatives of U.S. citizens | 2,008       | 111,410\n",
       "Mexico  | Family-sponsored preferences         | 2,008       | 66,541\n",
       "Mexico  | Employment-based preferences         | 2,008       | 7,560\n",
       "Mexico  | Other                                | 2,008       | 1,872\n",
       "Mexico  | Refugees and asylees                 | 2,008       | 614\n",
       "Mexico  | Diversity                            | 2,008       | 18"
      ]
     },
     "execution_count": 27,
     "metadata": {},
     "output_type": "execute_result"
    }
   ],
   "source": [
    "mexico.where('fiscal_year', are.equal_to(2008)).sort('total', descending = True)"
   ]
  },
  {
   "cell_type": "code",
   "execution_count": null,
   "metadata": {},
   "outputs": [],
   "source": []
  }
 ],
 "metadata": {
  "kernelspec": {
   "display_name": "Python 3",
   "language": "python",
   "name": "python3"
  },
  "language_info": {
   "codemirror_mode": {
    "name": "ipython",
    "version": 3
   },
   "file_extension": ".py",
   "mimetype": "text/x-python",
   "name": "python",
   "nbconvert_exporter": "python",
   "pygments_lexer": "ipython3",
   "version": "3.6.8"
  }
 },
 "nbformat": 4,
 "nbformat_minor": 2
}
