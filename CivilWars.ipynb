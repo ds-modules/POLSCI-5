{
 "cells": [
  {
   "cell_type": "markdown",
   "metadata": {},
   "source": [
    "# [POLSCI 5] Civil Wars\n",
    "\n",
    "Estimated Time: 30-40 Minutes <br>\n",
    "Created by: Lauren Hom, Ravi Singhal\n",
    "\n",
    "Today we will be examining a dataset (i.e. a table) on civil wars around the world from 1946-2013. The data, which contains information on various types of wars, comes from the Uppsala Conflict Data Program (UCDP). We will be exploring what rows and columns represent in the dataset as well as analyzing some trends in the types of conflicts over time.\n",
    "\n",
    "\n",
    "### Table of Contents \n",
    "1. [Jupyter Introduction](#0) <br>\n",
    "1. [The Dataset](#1)<br>\n",
    "    2.1 [Rows](#1a)<br>\n",
    "    2.2 [Columns](#1b)<br>\n",
    "1. [Civil War Analysis](#2)<br>\n",
    "    3.1 [Civil Wars Over Time](#2a)<br>\n",
    "    3.2 [Intensity Level](#2b)<br>\n",
    "    3.3 [Outcome](#2c)<br>\n",
    "1. [Choose a Conflict](#3)\n",
    "1. [Data Science Opportunities at UC Berkeley](#4)<br>\n",
    "1. [Bibliography](#5)"
   ]
  },
  {
   "cell_type": "markdown",
   "metadata": {},
   "source": [
    "# Section 1. Jupyter Introduction <a id='0'></a>\n",
    "\n",
    "This webpage is a Jupyter Notebook. We will use this notebook to analyze the Uppsala Conflict Data Program (UCDP) Conflict Termination Dataset. Jupyter Notebooks are composed of both regular text and code cells. Code cells have a gray background. In order to run a code cell, click the cell and press `Shift + Enter` while the cell is selected or hit the `▶| Run` button in the toolbar at the top. An example of a code cell is below. Try running it. If everything works properly, the word \"Success\" should be printed under the cell."
   ]
  },
  {
   "cell_type": "code",
   "execution_count": 3,
   "metadata": {},
   "outputs": [
    {
     "name": "stdout",
     "output_type": "stream",
     "text": [
      "Success!\n"
     ]
    }
   ],
   "source": [
    "# This cell sets up the notebook. Just run this cell.\n",
    "from datascience import *\n",
    "import numpy as np\n",
    "from ipywidgets import interact, interactive, fixed, interact_manual\n",
    "import ipywidgets as widgets\n",
    "%matplotlib inline\n",
    "import matplotlib.pyplot as plt\n",
    "plt.style.use('fivethirtyeight')\n",
    "\n",
    "print(\"Success!\")"
   ]
  },
  {
   "cell_type": "markdown",
   "metadata": {},
   "source": [
    "<br><br><br><br><br><br><br><br><br>\n",
    "# Section 2. The Dataset <a id='1'></a>\n",
    "\n",
    "The dataset we will look at contains information about conflicts around world from 1946-2013. A **dataset** is a table with rows and columns that contain values. Here is the description of dateset by the author, Joadim Kreutz.\n",
    "\n",
    "> \"Armed conflict is defined by Uppsala Conflict Data Program (UCDP) \\[as\\] a contested incompatibility that concerns government and/or territory where the use of armed force between two parties, of which at least one is the government of a state, results in at least 25 battle-related deaths in a calender-year.\"\n",
    "\n",
    "> \"A conflict episode, thus, is defined as the a continuous period of active conflict years in the UCDP-PRIO armed conflict dataset. A conflict episode ends when an active year is followed by a year in which there are fewer than 25 battle-related deaths.\"\n",
    "\n",
    "\n",
    "<br>If you want to read more about the dataset, click [here](https://www.pcr.uu.se/research/ucdp/).\n",
    "\n",
    "<br>Here are the first 5 rows of the dataset. You can scroll horizontally when hovering over the table to see the whole data set. There are 2741 rows and 33 columns"
   ]
  },
  {
   "cell_type": "code",
   "execution_count": 4,
   "metadata": {},
   "outputs": [
    {
     "data": {
      "text/html": [
       "<table border=\"1\" class=\"dataframe\">\n",
       "    <thead>\n",
       "        <tr>\n",
       "            <th>ConflictId</th> <th>DyadId</th> <th>DyadEp</th> <th>Year</th> <th>Location</th> <th>SideA</th> <th>SideA2nd</th> <th>SideB</th> <th>SideBID</th> <th>SideB2nd</th> <th>Incompatibility</th> <th>TerritoryName</th> <th>IntensityLevel</th> <th>TypeOfConflict</th> <th>Type2</th> <th>StartDate</th> <th>StartPrec</th> <th>StartDate2</th> <th>StartPrec2</th> <th>Dyadterm</th> <th>EpEndDate</th> <th>EpEndPrec</th> <th>Outcome_early</th> <th>Outcome</th> <th>CfireDate</th> <th>PeAgDate</th> <th>GWNoA</th> <th>GWNoA2nd</th> <th>GWNoB</th> <th>GWNoB2nd</th> <th>GWNoLoc</th> <th>Region</th> <th>Version</th>\n",
       "        </tr>\n",
       "    </thead>\n",
       "    <tbody>\n",
       "        <tr>\n",
       "            <td>1-191     </td> <td>1     </td> <td>101   </td> <td>1992</td> <td>Algeria </td> <td>Government of Algeria</td> <td>nan     </td> <td>AIS  </td> <td>1389   </td> <td>nan     </td> <td>2              </td> <td>nan          </td> <td>1             </td> <td>3             </td> <td>3    </td> <td>1985-08-27</td> <td>1        </td> <td>1992-03-10</td> <td>5         </td> <td>0       </td> <td>nan      </td> <td>nan      </td> <td>nan          </td> <td>nan    </td> <td>nan      </td> <td>nan     </td> <td>615  </td> <td>nan     </td> <td>nan  </td> <td>nan     </td> <td>615    </td> <td>4     </td> <td>2.0-2015</td>\n",
       "        </tr>\n",
       "        <tr>\n",
       "            <td>1-191     </td> <td>1     </td> <td>101   </td> <td>1993</td> <td>Algeria </td> <td>Government of Algeria</td> <td>nan     </td> <td>AIS  </td> <td>1389   </td> <td>nan     </td> <td>2              </td> <td>nan          </td> <td>1             </td> <td>3             </td> <td>3    </td> <td>1985-08-27</td> <td>1        </td> <td>1992-03-10</td> <td>5         </td> <td>0       </td> <td>nan      </td> <td>nan      </td> <td>nan          </td> <td>nan    </td> <td>nan      </td> <td>nan     </td> <td>615  </td> <td>nan     </td> <td>nan  </td> <td>nan     </td> <td>615    </td> <td>4     </td> <td>2.0-2015</td>\n",
       "        </tr>\n",
       "        <tr>\n",
       "            <td>1-191     </td> <td>1     </td> <td>101   </td> <td>1994</td> <td>Algeria </td> <td>Government of Algeria</td> <td>nan     </td> <td>AIS  </td> <td>1389   </td> <td>nan     </td> <td>2              </td> <td>nan          </td> <td>2             </td> <td>3             </td> <td>3    </td> <td>1985-08-27</td> <td>1        </td> <td>1992-03-10</td> <td>5         </td> <td>0       </td> <td>nan      </td> <td>nan      </td> <td>nan          </td> <td>nan    </td> <td>nan      </td> <td>nan     </td> <td>615  </td> <td>nan     </td> <td>nan  </td> <td>nan     </td> <td>615    </td> <td>4     </td> <td>2.0-2015</td>\n",
       "        </tr>\n",
       "        <tr>\n",
       "            <td>1-191     </td> <td>1     </td> <td>101   </td> <td>1995</td> <td>Algeria </td> <td>Government of Algeria</td> <td>nan     </td> <td>AIS  </td> <td>1389   </td> <td>nan     </td> <td>2              </td> <td>nan          </td> <td>1             </td> <td>3             </td> <td>3    </td> <td>1985-08-27</td> <td>1        </td> <td>1992-03-10</td> <td>5         </td> <td>0       </td> <td>nan      </td> <td>nan      </td> <td>nan          </td> <td>nan    </td> <td>nan      </td> <td>nan     </td> <td>615  </td> <td>nan     </td> <td>nan  </td> <td>nan     </td> <td>615    </td> <td>4     </td> <td>2.0-2015</td>\n",
       "        </tr>\n",
       "        <tr>\n",
       "            <td>1-191     </td> <td>1     </td> <td>101   </td> <td>1996</td> <td>Algeria </td> <td>Government of Algeria</td> <td>nan     </td> <td>AIS  </td> <td>1389   </td> <td>nan     </td> <td>2              </td> <td>nan          </td> <td>1             </td> <td>3             </td> <td>3    </td> <td>1985-08-27</td> <td>1        </td> <td>1992-03-10</td> <td>5         </td> <td>0       </td> <td>nan      </td> <td>nan      </td> <td>nan          </td> <td>nan    </td> <td>nan      </td> <td>nan     </td> <td>615  </td> <td>nan     </td> <td>nan  </td> <td>nan     </td> <td>615    </td> <td>4     </td> <td>2.0-2015</td>\n",
       "        </tr>\n",
       "    </tbody>\n",
       "</table>\n",
       "<p>... (2736 rows omitted)</p>"
      ],
      "text/plain": [
       "<IPython.core.display.HTML object>"
      ]
     },
     "metadata": {},
     "output_type": "display_data"
    }
   ],
   "source": [
    "raw = Table.read_table('ucdp-term-dyadic-2015.csv') # read in the dataset\n",
    "raw.show(5)"
   ]
  },
  {
   "cell_type": "markdown",
   "metadata": {},
   "source": [
    "As you can see, there are many columns in the dataset. We have cleaned the dataset by removing wars that were not civil wars, removing some columns, and making the values more readable. The cleaned dataset has 12 columns."
   ]
  },
  {
   "cell_type": "code",
   "execution_count": 5,
   "metadata": {},
   "outputs": [
    {
     "data": {
      "text/html": [
       "<table border=\"1\" class=\"dataframe\">\n",
       "    <thead>\n",
       "        <tr>\n",
       "            <th>ConflictId</th> <th>DyadId</th> <th>Location</th> <th>SideA</th> <th>SideB</th> <th>DisagreementOver</th> <th>IntensityLevel</th> <th>TypeOfConflict</th> <th>StartDate</th> <th>EndDate</th> <th>Outcome</th> <th>Region</th>\n",
       "        </tr>\n",
       "    </thead>\n",
       "    <tbody>\n",
       "        <tr>\n",
       "            <td>1-191     </td> <td>1     </td> <td>Algeria </td> <td>Government of Algeria</td> <td>AIS              </td> <td>Government      </td> <td>Minor (between 25 and 999 battle-related deaths)</td> <td>Internal armed conflict</td> <td>08/27/1985</td> <td>10/01/1997</td> <td>Ceasefire                                </td> <td>Africa</td>\n",
       "        </tr>\n",
       "        <tr>\n",
       "            <td>1-191     </td> <td>2     </td> <td>Algeria </td> <td>Government of Algeria</td> <td>Takfir wa'l Hijra</td> <td>Government      </td> <td>Minor (between 25 and 999 battle-related deaths)</td> <td>Internal armed conflict</td> <td>12/20/1990</td> <td>12/31/1991</td> <td>Actor ceases to exist                    </td> <td>Africa</td>\n",
       "        </tr>\n",
       "        <tr>\n",
       "            <td>1-191     </td> <td>3     </td> <td>Algeria </td> <td>Government of Algeria</td> <td>GIA              </td> <td>Government      </td> <td>Minor (between 25 and 999 battle-related deaths)</td> <td>Internal armed conflict</td> <td>02/10/1992</td> <td>12/31/2003</td> <td>Low activity (less than 25 battle-deaths)</td> <td>Africa</td>\n",
       "        </tr>\n",
       "        <tr>\n",
       "            <td>1-131     </td> <td>7     </td> <td>Angola  </td> <td>Government of Angola </td> <td>UNITA            </td> <td>Government      </td> <td>Minor (between 25 and 999 battle-related deaths)</td> <td>Internal armed conflict</td> <td>11/11/1975</td> <td>12/24/1995</td> <td>Low activity (less than 25 battle-deaths)</td> <td>Africa</td>\n",
       "        </tr>\n",
       "        <tr>\n",
       "            <td>1-90      </td> <td>11    </td> <td>Burundi </td> <td>Government of Burundi</td> <td>Palipehutu       </td> <td>Government      </td> <td>Minor (between 25 and 999 battle-related deaths)</td> <td>Internal armed conflict</td> <td>11/23/1991</td> <td>04/14/1992</td> <td>Low activity (less than 25 battle-deaths)</td> <td>Africa</td>\n",
       "        </tr>\n",
       "    </tbody>\n",
       "</table>\n",
       "<p>... (398 rows omitted)</p>"
      ],
      "text/plain": [
       "<IPython.core.display.HTML object>"
      ]
     },
     "metadata": {},
     "output_type": "display_data"
    }
   ],
   "source": [
    "wars = Table.read_table('oneWar.csv') # read in the dataset\n",
    "wars.show(5)"
   ]
  },
  {
   "cell_type": "markdown",
   "metadata": {},
   "source": [
    "Note that both the number of **columns** and the number of **rows** have changed. Run the cell below to compare the number of rows from the original dataset to the cleaned dataset."
   ]
  },
  {
   "cell_type": "code",
   "execution_count": 6,
   "metadata": {},
   "outputs": [
    {
     "name": "stdout",
     "output_type": "stream",
     "text": [
      "The original dataset had 2741 rows. \n",
      "After removing all non civil war rows, the dataset has 403 rows left.\n"
     ]
    }
   ],
   "source": [
    "print(\"The original dataset had {} rows. \\n\\\n",
    "After removing all non civil war rows, the dataset has {} rows left.\".format(raw.num_rows, wars.num_rows))"
   ]
  },
  {
   "cell_type": "markdown",
   "metadata": {},
   "source": [
    "Let's take a closer look at the cleaned dataset!"
   ]
  },
  {
   "cell_type": "markdown",
   "metadata": {},
   "source": [
    "<br><br><br><br><br><br><br>\n",
    "## Section 2.1 Rows <a id='1a'></a>\n"
   ]
  },
  {
   "cell_type": "markdown",
   "metadata": {},
   "source": [
    "First, let's examine what a *row* is. Here is the first row of the dataset."
   ]
  },
  {
   "cell_type": "code",
   "execution_count": 7,
   "metadata": {},
   "outputs": [
    {
     "data": {
      "text/html": [
       "<table border=\"1\" class=\"dataframe\">\n",
       "    <thead>\n",
       "        <tr>\n",
       "            <th>ConflictId</th> <th>DyadId</th> <th>Location</th> <th>SideA</th> <th>SideB</th> <th>DisagreementOver</th> <th>IntensityLevel</th> <th>TypeOfConflict</th> <th>StartDate</th> <th>EndDate</th> <th>Outcome</th> <th>Region</th>\n",
       "        </tr>\n",
       "    </thead>\n",
       "    <tbody>\n",
       "        <tr>\n",
       "            <td>1-191     </td> <td>1     </td> <td>Algeria </td> <td>Government of Algeria</td> <td>AIS  </td> <td>Government      </td> <td>Minor (between 25 and 999 battle-related deaths)</td> <td>Internal armed conflict</td> <td>08/27/1985</td> <td>10/01/1997</td> <td>Ceasefire</td> <td>Africa</td>\n",
       "        </tr>\n",
       "    </tbody>\n",
       "</table>"
      ],
      "text/plain": [
       "ConflictId | DyadId | Location | SideA                 | SideB | DisagreementOver | IntensityLevel                                   | TypeOfConflict          | StartDate  | EndDate    | Outcome   | Region\n",
       "1-191      | 1      | Algeria  | Government of Algeria | AIS   | Government       | Minor (between 25 and 999 battle-related deaths) | Internal armed conflict | 08/27/1985 | 10/01/1997 | Ceasefire | Africa"
      ]
     },
     "execution_count": 7,
     "metadata": {},
     "output_type": "execute_result"
    }
   ],
   "source": [
    "wars.take(0) # take the first row"
   ]
  },
  {
   "cell_type": "markdown",
   "metadata": {},
   "source": [
    "This row gives us information about a specific war that happened in Algeria from 1985-1997. One thing to note is that the `IntensityLevel` of the conflict is Minor. As described in the `IntensityLevel` column, a Minor conflict indicates a war where there were between 25-999 battle-related deaths. "
   ]
  },
  {
   "cell_type": "code",
   "execution_count": 8,
   "metadata": {},
   "outputs": [
    {
     "data": {
      "text/html": [
       "<table border=\"1\" class=\"dataframe\">\n",
       "    <thead>\n",
       "        <tr>\n",
       "            <th>ConflictId</th> <th>DyadId</th> <th>Location</th> <th>SideA</th> <th>SideB</th> <th>DisagreementOver</th> <th>IntensityLevel</th> <th>TypeOfConflict</th> <th>StartDate</th> <th>EndDate</th> <th>Outcome</th> <th>Region</th>\n",
       "        </tr>\n",
       "    </thead>\n",
       "    <tbody>\n",
       "        <tr>\n",
       "            <td>1-78      </td> <td>53    </td> <td>Ethiopia</td> <td>Government of Ethiopia</td> <td>EPLF </td> <td>Territory       </td> <td>War (at least 1000 battle-related deaths)</td> <td>Internal armed conflict</td> <td>09/30/1973</td> <td>05/31/1991</td> <td>Victory for Side B /Rebel Side</td> <td>Africa</td>\n",
       "        </tr>\n",
       "    </tbody>\n",
       "</table>"
      ],
      "text/plain": [
       "ConflictId | DyadId | Location | SideA                  | SideB | DisagreementOver | IntensityLevel                            | TypeOfConflict          | StartDate  | EndDate    | Outcome                        | Region\n",
       "1-78       | 53     | Ethiopia | Government of Ethiopia | EPLF  | Territory        | War (at least 1000 battle-related deaths) | Internal armed conflict | 09/30/1973 | 05/31/1991 | Victory for Side B /Rebel Side | Africa"
      ]
     },
     "execution_count": 8,
     "metadata": {},
     "output_type": "execute_result"
    }
   ],
   "source": [
    "wars.take(29) # take the 30th row"
   ]
  },
  {
   "cell_type": "markdown",
   "metadata": {},
   "source": [
    "In comparison, by looking at the 30th row of the dataset, we can see that this conflict in Ethiopia has an `IntensityLevel` of War, meaning there were at least 1000 battle-related deaths."
   ]
  },
  {
   "cell_type": "markdown",
   "metadata": {},
   "source": [
    "<br><br><br><br><br><br><br>\n",
    "## Section 2.2 Columns <a id='1b'></a>\n"
   ]
  },
  {
   "cell_type": "markdown",
   "metadata": {},
   "source": [
    "Next, we will look at some of the columns in the dataset, specifically columns that allow us to better understand the information we are seeing.\n",
    "\n",
    "### Location\n",
    "To understand what a *column* is, let's look at a few examples. First, we shall examine the `Location` column. According to the author of the dataset, \n",
    "> \"Location is defined as the government side of a conflict, and should not be interpreted as the geographical location of the conflict.\"\n",
    "\n",
    "To get an idea of what kinds of values are in the `Location` column, here are the number of occurences of the 10 most common locations."
   ]
  },
  {
   "cell_type": "code",
   "execution_count": 9,
   "metadata": {},
   "outputs": [
    {
     "data": {
      "text/html": [
       "<table border=\"1\" class=\"dataframe\">\n",
       "    <thead>\n",
       "        <tr>\n",
       "            <th>Location</th> <th>count</th>\n",
       "        </tr>\n",
       "    </thead>\n",
       "    <tbody>\n",
       "        <tr>\n",
       "            <td>Myanmar (Burma)      </td> <td>37   </td>\n",
       "        </tr>\n",
       "        <tr>\n",
       "            <td>India                </td> <td>24   </td>\n",
       "        </tr>\n",
       "        <tr>\n",
       "            <td>Chad                 </td> <td>19   </td>\n",
       "        </tr>\n",
       "        <tr>\n",
       "            <td>Ethiopia             </td> <td>18   </td>\n",
       "        </tr>\n",
       "        <tr>\n",
       "            <td>Uganda               </td> <td>14   </td>\n",
       "        </tr>\n",
       "        <tr>\n",
       "            <td>Sudan                </td> <td>14   </td>\n",
       "        </tr>\n",
       "        <tr>\n",
       "            <td>Israel               </td> <td>13   </td>\n",
       "        </tr>\n",
       "        <tr>\n",
       "            <td>Russia (Soviet Union)</td> <td>10   </td>\n",
       "        </tr>\n",
       "        <tr>\n",
       "            <td>Philippines          </td> <td>9    </td>\n",
       "        </tr>\n",
       "        <tr>\n",
       "            <td>Iraq                 </td> <td>8    </td>\n",
       "        </tr>\n",
       "    </tbody>\n",
       "</table>\n",
       "<p>... (86 rows omitted)</p>"
      ],
      "text/plain": [
       "Location              | count\n",
       "Myanmar (Burma)       | 37\n",
       "India                 | 24\n",
       "Chad                  | 19\n",
       "Ethiopia              | 18\n",
       "Uganda                | 14\n",
       "Sudan                 | 14\n",
       "Israel                | 13\n",
       "Russia (Soviet Union) | 10\n",
       "Philippines           | 9\n",
       "Iraq                  | 8\n",
       "... (86 rows omitted)"
      ]
     },
     "execution_count": 9,
     "metadata": {},
     "output_type": "execute_result"
    }
   ],
   "source": [
    "locations = wars.group('Location').sort('count', descending=True) # group by location and sort in descending order\n",
    "locations"
   ]
  },
  {
   "cell_type": "markdown",
   "metadata": {},
   "source": [
    "### Discussion 1\n",
    "\n",
    "Are any of the locations listed here surprising? Discuss with a partner. Consider factors such as geographical size and population of the location."
   ]
  },
  {
   "cell_type": "markdown",
   "metadata": {},
   "source": [
    "*WRITE YOUR RESPONSE HERE*"
   ]
  },
  {
   "cell_type": "markdown",
   "metadata": {},
   "source": [
    "<br><br><br>\n",
    "Some of the values in the `Location` column of the table are separated by hypens ('-'). This inidcates that the location is a single location. \n",
    "\n",
    "Let's look at some of the examples in the table."
   ]
  },
  {
   "cell_type": "code",
   "execution_count": 10,
   "metadata": {},
   "outputs": [
    {
     "data": {
      "text/html": [
       "<table border=\"1\" class=\"dataframe\">\n",
       "    <thead>\n",
       "        <tr>\n",
       "            <th>Location</th> <th>count</th>\n",
       "        </tr>\n",
       "    </thead>\n",
       "    <tbody>\n",
       "        <tr>\n",
       "            <td>Bosnia-Herzegovina</td> <td>5    </td>\n",
       "        </tr>\n",
       "    </tbody>\n",
       "</table>"
      ],
      "text/plain": [
       "Location           | count\n",
       "Bosnia-Herzegovina | 5"
      ]
     },
     "execution_count": 10,
     "metadata": {},
     "output_type": "execute_result"
    }
   ],
   "source": [
    "# Locations with the two sides of an interstate war\n",
    "locations.where('Location', are.containing('-'))"
   ]
  },
  {
   "cell_type": "markdown",
   "metadata": {},
   "source": [
    "We can see there is one location that is separated by a hypen ('-'), Bosnia-Herzegovina. \n"
   ]
  },
  {
   "cell_type": "markdown",
   "metadata": {},
   "source": [
    "<br><br><br>\n",
    "### Region\n",
    "Now let's look at the `Region` column. Again, first we'll look at the number of war occurrences of each region."
   ]
  },
  {
   "cell_type": "code",
   "execution_count": 11,
   "metadata": {},
   "outputs": [
    {
     "data": {
      "text/html": [
       "<table border=\"1\" class=\"dataframe\">\n",
       "    <thead>\n",
       "        <tr>\n",
       "            <th>Region</th> <th>count</th>\n",
       "        </tr>\n",
       "    </thead>\n",
       "    <tbody>\n",
       "        <tr>\n",
       "            <td>Africa     </td> <td>158  </td>\n",
       "        </tr>\n",
       "        <tr>\n",
       "            <td>Asia       </td> <td>121  </td>\n",
       "        </tr>\n",
       "        <tr>\n",
       "            <td>Americas   </td> <td>49   </td>\n",
       "        </tr>\n",
       "        <tr>\n",
       "            <td>Middle East</td> <td>42   </td>\n",
       "        </tr>\n",
       "        <tr>\n",
       "            <td>Europe     </td> <td>33   </td>\n",
       "        </tr>\n",
       "    </tbody>\n",
       "</table>"
      ],
      "text/plain": [
       "Region      | count\n",
       "Africa      | 158\n",
       "Asia        | 121\n",
       "Americas    | 49\n",
       "Middle East | 42\n",
       "Europe      | 33"
      ]
     },
     "execution_count": 11,
     "metadata": {},
     "output_type": "execute_result"
    }
   ],
   "source": [
    "regions = wars.group('Region').sort('count', descending=True) # count occurences of each region\n",
    "regions"
   ]
  },
  {
   "cell_type": "markdown",
   "metadata": {},
   "source": [
    "Above, we can see that the first row with the 'Africa' region has the highest `count`, which means that Africa has the largest number of conflicts out of any region."
   ]
  },
  {
   "cell_type": "markdown",
   "metadata": {},
   "source": [
    "<br><br><br><br><br><br><br><br><br>\n",
    "# Section 3. Civil War Analysis <a id='2'></a>\n",
    "In this section, we will do further analysis on civil war occurrences. Here is the original dataset again."
   ]
  },
  {
   "cell_type": "code",
   "execution_count": 12,
   "metadata": {},
   "outputs": [
    {
     "data": {
      "text/html": [
       "<table border=\"1\" class=\"dataframe\">\n",
       "    <thead>\n",
       "        <tr>\n",
       "            <th>ConflictId</th> <th>DyadId</th> <th>Location</th> <th>SideA</th> <th>SideB</th> <th>DisagreementOver</th> <th>IntensityLevel</th> <th>TypeOfConflict</th> <th>StartDate</th> <th>EndDate</th> <th>Outcome</th> <th>Region</th>\n",
       "        </tr>\n",
       "    </thead>\n",
       "    <tbody>\n",
       "        <tr>\n",
       "            <td>1-191     </td> <td>1     </td> <td>Algeria </td> <td>Government of Algeria</td> <td>AIS              </td> <td>Government      </td> <td>Minor (between 25 and 999 battle-related deaths)</td> <td>Internal armed conflict</td> <td>08/27/1985</td> <td>10/01/1997</td> <td>Ceasefire                                </td> <td>Africa</td>\n",
       "        </tr>\n",
       "        <tr>\n",
       "            <td>1-191     </td> <td>2     </td> <td>Algeria </td> <td>Government of Algeria</td> <td>Takfir wa'l Hijra</td> <td>Government      </td> <td>Minor (between 25 and 999 battle-related deaths)</td> <td>Internal armed conflict</td> <td>12/20/1990</td> <td>12/31/1991</td> <td>Actor ceases to exist                    </td> <td>Africa</td>\n",
       "        </tr>\n",
       "        <tr>\n",
       "            <td>1-191     </td> <td>3     </td> <td>Algeria </td> <td>Government of Algeria</td> <td>GIA              </td> <td>Government      </td> <td>Minor (between 25 and 999 battle-related deaths)</td> <td>Internal armed conflict</td> <td>02/10/1992</td> <td>12/31/2003</td> <td>Low activity (less than 25 battle-deaths)</td> <td>Africa</td>\n",
       "        </tr>\n",
       "        <tr>\n",
       "            <td>1-131     </td> <td>7     </td> <td>Angola  </td> <td>Government of Angola </td> <td>UNITA            </td> <td>Government      </td> <td>Minor (between 25 and 999 battle-related deaths)</td> <td>Internal armed conflict</td> <td>11/11/1975</td> <td>12/24/1995</td> <td>Low activity (less than 25 battle-deaths)</td> <td>Africa</td>\n",
       "        </tr>\n",
       "        <tr>\n",
       "            <td>1-90      </td> <td>11    </td> <td>Burundi </td> <td>Government of Burundi</td> <td>Palipehutu       </td> <td>Government      </td> <td>Minor (between 25 and 999 battle-related deaths)</td> <td>Internal armed conflict</td> <td>11/23/1991</td> <td>04/14/1992</td> <td>Low activity (less than 25 battle-deaths)</td> <td>Africa</td>\n",
       "        </tr>\n",
       "    </tbody>\n",
       "</table>\n",
       "<p>... (398 rows omitted)</p>"
      ],
      "text/plain": [
       "<IPython.core.display.HTML object>"
      ]
     },
     "metadata": {},
     "output_type": "display_data"
    }
   ],
   "source": [
    "wars.show(5)"
   ]
  },
  {
   "cell_type": "markdown",
   "metadata": {},
   "source": [
    "<br><br><br><br><br><br><br>\n",
    "## Section 3.1 Civil Wars Over Time <a id='2a'></a>\n",
    "\n",
    "Now let's visualize how the number of civil wars varies over time. This line graph shows the number of civil wars in each year. You'll notice the spike in the number of wars during the 1990s. In case you're curious about the wars in a particular year, here is [list of civil wars](https://en.wikipedia.org/wiki/List_of_civil_wars)."
   ]
  },
  {
   "cell_type": "code",
   "execution_count": 13,
   "metadata": {},
   "outputs": [
    {
     "data": {
      "image/png": "[encoded data removed]",
      "text/plain": [
       "<Figure size 432x288 with 1 Axes>"
      ]
     },
     "metadata": {},
     "output_type": "display_data"
    }
   ],
   "source": [
    "war_years = Table.read_table('cleanedWars.csv') # read in the dataset\n",
    "war_years.set_format('Year', formats.FunctionFormatter(lambda x: x)) # fix format of yea\n",
    "\n",
    "civil_trend = war_years.group('Year') # count number of civil wars per year\n",
    "\n",
    "civil_trend.plot('Year') # generate line graph\n",
    "plt.title(\"Number of Civil Wars over Time\") # title graph\n",
    "plt.show()"
   ]
  },
  {
   "cell_type": "markdown",
   "metadata": {},
   "source": [
    "### Discussion 2 <a id='3a'></a>\n",
    "\n",
    "We can see that there was an increasing trend in the number of civil wars between 1946 and 1990, with the highest number of civl wars occurring in the 1990s, particularly 1990 and 1991. With a partner, discuss the following question: What events are occurring around or during the years highlighted above and how might these events influence the trends we observe in the graph (above)?\n",
    "\n",
    "For some information to consider, click [here](https://www.jstor.org/stable/3118222?seq=1#page_scan_tab_contents)."
   ]
  },
  {
   "cell_type": "markdown",
   "metadata": {},
   "source": [
    "*WRITE YOUR RESPONSE HERE*"
   ]
  },
  {
   "cell_type": "markdown",
   "metadata": {},
   "source": [
    "**Solution**     \n",
    "The increase in civil wars is partly attributed to the end of the Cold War in 1991, where many civil wars were occurring in places previously under colonial rule. At the same time, 1990 and 1991 were also years where many civil wars ended, thus contributing to the spike in the 1990s. \n",
    "\n",
    "Some links relating to trends in the graph are below:\n",
    "- For a list of civil wars in the 1990s, click [here](https://en.wikipedia.org/wiki/List_of_civil_wars) and scroll to the \"Modern (1800-1945)\" and \"1945-2000\" sections.\n",
    "- For more information on the influence of the Cold War, click [here](https://en.wikipedia.org/wiki/Civil_war) and scroll to the \"Effect of the Cold War\" section.\n",
    "- For more information on the increasing trends in civil wars, click [here](http://documents.worldbank.org/curated/en/908361468779415791/310436360_20050007005532/additional/multi0page.pdf)."
   ]
  },
  {
   "cell_type": "markdown",
   "metadata": {},
   "source": [
    "<br><br><br><br><br><br><br>\n",
    "## Section 3.2 Intensity Level <a id='2b'></a>\n",
    "Let's take a closer look at the `IntensityLevel` column. \n",
    ">The intensity variable is coded in two categories:\n",
    ">1. Minor: between 25 and 999 battle-related deaths in a given year.\n",
    ">2. War: at least 1,000 battle-related deaths in a given year.\n",
    "\n",
    "Here are the number of wars for each type of intensity level, which is represented in the `count` column."
   ]
  },
  {
   "cell_type": "code",
   "execution_count": 14,
   "metadata": {},
   "outputs": [
    {
     "data": {
      "text/html": [
       "<table border=\"1\" class=\"dataframe\">\n",
       "    <thead>\n",
       "        <tr>\n",
       "            <th>IntensityLevel</th> <th>count</th>\n",
       "        </tr>\n",
       "    </thead>\n",
       "    <tbody>\n",
       "        <tr>\n",
       "            <td>Minor (between 25 and 999 battle-related deaths)</td> <td>354  </td>\n",
       "        </tr>\n",
       "        <tr>\n",
       "            <td>War (at least 1000 battle-related deaths)       </td> <td>49   </td>\n",
       "        </tr>\n",
       "    </tbody>\n",
       "</table>"
      ],
      "text/plain": [
       "IntensityLevel                                   | count\n",
       "Minor (between 25 and 999 battle-related deaths) | 354\n",
       "War (at least 1000 battle-related deaths)        | 49"
      ]
     },
     "execution_count": 14,
     "metadata": {},
     "output_type": "execute_result"
    }
   ],
   "source": [
    "wars.group('IntensityLevel') # group by IntensityLevel"
   ]
  },
  {
   "cell_type": "markdown",
   "metadata": {},
   "source": [
    "As you can see above, there is a higher count for number of \"Minor\" occurences (354 occurences) versus \"War\" occurences (49 occurences).\n",
    "\n",
    "Let's break the Intensity Level down by region. First here are the counts of each `IntensityLevel` in each region."
   ]
  },
  {
   "cell_type": "markdown",
   "metadata": {},
   "source": [
    "Let's look specifically at the Middle East. Here are the counts of every type of conflict in each Middle East location."
   ]
  },
  {
   "cell_type": "code",
   "execution_count": 15,
   "metadata": {},
   "outputs": [
    {
     "data": {
      "text/html": [
       "<table border=\"1\" class=\"dataframe\">\n",
       "    <thead>\n",
       "        <tr>\n",
       "            <th>Region</th> <th>IntensityLevel</th> <th>count</th>\n",
       "        </tr>\n",
       "    </thead>\n",
       "    <tbody>\n",
       "        <tr>\n",
       "            <td>Africa     </td> <td>Minor (between 25 and 999 battle-related deaths)</td> <td>143  </td>\n",
       "        </tr>\n",
       "        <tr>\n",
       "            <td>Asia       </td> <td>Minor (between 25 and 999 battle-related deaths)</td> <td>106  </td>\n",
       "        </tr>\n",
       "        <tr>\n",
       "            <td>Americas   </td> <td>Minor (between 25 and 999 battle-related deaths)</td> <td>44   </td>\n",
       "        </tr>\n",
       "        <tr>\n",
       "            <td>Middle East</td> <td>Minor (between 25 and 999 battle-related deaths)</td> <td>34   </td>\n",
       "        </tr>\n",
       "        <tr>\n",
       "            <td>Europe     </td> <td>Minor (between 25 and 999 battle-related deaths)</td> <td>27   </td>\n",
       "        </tr>\n",
       "        <tr>\n",
       "            <td>Asia       </td> <td>War (at least 1000 battle-related deaths)       </td> <td>15   </td>\n",
       "        </tr>\n",
       "        <tr>\n",
       "            <td>Africa     </td> <td>War (at least 1000 battle-related deaths)       </td> <td>15   </td>\n",
       "        </tr>\n",
       "        <tr>\n",
       "            <td>Middle East</td> <td>War (at least 1000 battle-related deaths)       </td> <td>8    </td>\n",
       "        </tr>\n",
       "        <tr>\n",
       "            <td>Europe     </td> <td>War (at least 1000 battle-related deaths)       </td> <td>6    </td>\n",
       "        </tr>\n",
       "        <tr>\n",
       "            <td>Americas   </td> <td>War (at least 1000 battle-related deaths)       </td> <td>5    </td>\n",
       "        </tr>\n",
       "    </tbody>\n",
       "</table>"
      ],
      "text/plain": [
       "<IPython.core.display.HTML object>"
      ]
     },
     "metadata": {},
     "output_type": "display_data"
    }
   ],
   "source": [
    "wars.group(['Region', 'IntensityLevel']).sort('count', descending=True).show() # group by Region and IntensityLevel"
   ]
  },
  {
   "cell_type": "markdown",
   "metadata": {},
   "source": [
    "We can see that each region appears twice in the `Region` column, once for each type of intensity level. \n",
    "For example, in the first row we can see that Africa had 143 wars with a \"Minor\" intensity level and in the seventh row, we can see that Africa had 15 wars with a \"War\" intensity level. "
   ]
  },
  {
   "cell_type": "code",
   "execution_count": 16,
   "metadata": {},
   "outputs": [
    {
     "data": {
      "text/html": [
       "<table border=\"1\" class=\"dataframe\">\n",
       "    <thead>\n",
       "        <tr>\n",
       "            <th>Region</th> <th>Location</th> <th>IntensityLevel</th> <th>count</th>\n",
       "        </tr>\n",
       "    </thead>\n",
       "    <tbody>\n",
       "        <tr>\n",
       "            <td>Middle East</td> <td>Israel             </td> <td>Minor (between 25 and 999 battle-related deaths)</td> <td>13   </td>\n",
       "        </tr>\n",
       "        <tr>\n",
       "            <td>Middle East</td> <td>Iraq               </td> <td>Minor (between 25 and 999 battle-related deaths)</td> <td>7    </td>\n",
       "        </tr>\n",
       "        <tr>\n",
       "            <td>Middle East</td> <td>Iran               </td> <td>Minor (between 25 and 999 battle-related deaths)</td> <td>5    </td>\n",
       "        </tr>\n",
       "        <tr>\n",
       "            <td>Middle East</td> <td>Turkey             </td> <td>Minor (between 25 and 999 battle-related deaths)</td> <td>3    </td>\n",
       "        </tr>\n",
       "        <tr>\n",
       "            <td>Middle East</td> <td>Lebanon            </td> <td>War (at least 1000 battle-related deaths)       </td> <td>3    </td>\n",
       "        </tr>\n",
       "        <tr>\n",
       "            <td>Middle East</td> <td>Yemen (North Yemen)</td> <td>War (at least 1000 battle-related deaths)       </td> <td>2    </td>\n",
       "        </tr>\n",
       "        <tr>\n",
       "            <td>Middle East</td> <td>Lebanon            </td> <td>Minor (between 25 and 999 battle-related deaths)</td> <td>2    </td>\n",
       "        </tr>\n",
       "        <tr>\n",
       "            <td>Middle East</td> <td>Yemen (North Yemen)</td> <td>Minor (between 25 and 999 battle-related deaths)</td> <td>1    </td>\n",
       "        </tr>\n",
       "        <tr>\n",
       "            <td>Middle East</td> <td>Syria              </td> <td>War (at least 1000 battle-related deaths)       </td> <td>1    </td>\n",
       "        </tr>\n",
       "        <tr>\n",
       "            <td>Middle East</td> <td>Syria              </td> <td>Minor (between 25 and 999 battle-related deaths)</td> <td>1    </td>\n",
       "        </tr>\n",
       "    </tbody>\n",
       "</table>\n",
       "<p>... (4 rows omitted)</p>"
      ],
      "text/plain": [
       "Region      | Location            | IntensityLevel                                   | count\n",
       "Middle East | Israel              | Minor (between 25 and 999 battle-related deaths) | 13\n",
       "Middle East | Iraq                | Minor (between 25 and 999 battle-related deaths) | 7\n",
       "Middle East | Iran                | Minor (between 25 and 999 battle-related deaths) | 5\n",
       "Middle East | Turkey              | Minor (between 25 and 999 battle-related deaths) | 3\n",
       "Middle East | Lebanon             | War (at least 1000 battle-related deaths)        | 3\n",
       "Middle East | Yemen (North Yemen) | War (at least 1000 battle-related deaths)        | 2\n",
       "Middle East | Lebanon             | Minor (between 25 and 999 battle-related deaths) | 2\n",
       "Middle East | Yemen (North Yemen) | Minor (between 25 and 999 battle-related deaths) | 1\n",
       "Middle East | Syria               | War (at least 1000 battle-related deaths)        | 1\n",
       "Middle East | Syria               | Minor (between 25 and 999 battle-related deaths) | 1\n",
       "... (4 rows omitted)"
      ]
     },
     "execution_count": 16,
     "metadata": {},
     "output_type": "execute_result"
    }
   ],
   "source": [
    "# filter by region, then group by location and intensity level\n",
    "m_east = wars.where('Region', 'Middle East').group(['Region', 'Location', 'IntensityLevel']).sort('count', descending=True)\n",
    "m_east"
   ]
  },
  {
   "cell_type": "markdown",
   "metadata": {},
   "source": [
    "We can see that the greatest number ‘Minor’ war occurences happened in Israel (13 in total) while the great number of ‘War’ wars happened in Lebanon (3 in total). \n",
    "\n",
    "The two rows that show this information from the dataset (above) are shown below."
   ]
  },
  {
   "cell_type": "code",
   "execution_count": 17,
   "metadata": {},
   "outputs": [
    {
     "data": {
      "text/html": [
       "<table border=\"1\" class=\"dataframe\">\n",
       "    <thead>\n",
       "        <tr>\n",
       "            <th>Region</th> <th>Location</th> <th>IntensityLevel</th> <th>count</th>\n",
       "        </tr>\n",
       "    </thead>\n",
       "    <tbody>\n",
       "        <tr>\n",
       "            <td>Middle East</td> <td>Israel  </td> <td>Minor (between 25 and 999 battle-related deaths)</td> <td>13   </td>\n",
       "        </tr>\n",
       "    </tbody>\n",
       "</table>"
      ],
      "text/plain": [
       "Region      | Location | IntensityLevel                                   | count\n",
       "Middle East | Israel   | Minor (between 25 and 999 battle-related deaths) | 13"
      ]
     },
     "execution_count": 17,
     "metadata": {},
     "output_type": "execute_result"
    }
   ],
   "source": [
    "m_east.take(0) # first row of the dataset, above"
   ]
  },
  {
   "cell_type": "code",
   "execution_count": 18,
   "metadata": {},
   "outputs": [
    {
     "data": {
      "text/html": [
       "<table border=\"1\" class=\"dataframe\">\n",
       "    <thead>\n",
       "        <tr>\n",
       "            <th>Region</th> <th>Location</th> <th>IntensityLevel</th> <th>count</th>\n",
       "        </tr>\n",
       "    </thead>\n",
       "    <tbody>\n",
       "        <tr>\n",
       "            <td>Middle East</td> <td>Lebanon </td> <td>War (at least 1000 battle-related deaths)</td> <td>3    </td>\n",
       "        </tr>\n",
       "    </tbody>\n",
       "</table>"
      ],
      "text/plain": [
       "Region      | Location | IntensityLevel                            | count\n",
       "Middle East | Lebanon  | War (at least 1000 battle-related deaths) | 3"
      ]
     },
     "execution_count": 18,
     "metadata": {},
     "output_type": "execute_result"
    }
   ],
   "source": [
    "m_east.take(4) # fifth row of the dataset, above"
   ]
  },
  {
   "cell_type": "markdown",
   "metadata": {},
   "source": [
    "Lastly, here are the Middle East locations with the most wars."
   ]
  },
  {
   "cell_type": "code",
   "execution_count": 19,
   "metadata": {},
   "outputs": [
    {
     "data": {
      "text/html": [
       "<table border=\"1\" class=\"dataframe\">\n",
       "    <thead>\n",
       "        <tr>\n",
       "            <th>Region</th> <th>Location</th> <th>IntensityLevel</th> <th>count</th>\n",
       "        </tr>\n",
       "    </thead>\n",
       "    <tbody>\n",
       "        <tr>\n",
       "            <td>Middle East</td> <td>Lebanon            </td> <td>War (at least 1000 battle-related deaths)</td> <td>3    </td>\n",
       "        </tr>\n",
       "        <tr>\n",
       "            <td>Middle East</td> <td>Yemen (North Yemen)</td> <td>War (at least 1000 battle-related deaths)</td> <td>2    </td>\n",
       "        </tr>\n",
       "        <tr>\n",
       "            <td>Middle East</td> <td>Syria              </td> <td>War (at least 1000 battle-related deaths)</td> <td>1    </td>\n",
       "        </tr>\n",
       "        <tr>\n",
       "            <td>Middle East</td> <td>South Yemen        </td> <td>War (at least 1000 battle-related deaths)</td> <td>1    </td>\n",
       "        </tr>\n",
       "        <tr>\n",
       "            <td>Middle East</td> <td>Iraq               </td> <td>War (at least 1000 battle-related deaths)</td> <td>1    </td>\n",
       "        </tr>\n",
       "    </tbody>\n",
       "</table>"
      ],
      "text/plain": [
       "Region      | Location            | IntensityLevel                            | count\n",
       "Middle East | Lebanon             | War (at least 1000 battle-related deaths) | 3\n",
       "Middle East | Yemen (North Yemen) | War (at least 1000 battle-related deaths) | 2\n",
       "Middle East | Syria               | War (at least 1000 battle-related deaths) | 1\n",
       "Middle East | South Yemen         | War (at least 1000 battle-related deaths) | 1\n",
       "Middle East | Iraq                | War (at least 1000 battle-related deaths) | 1"
      ]
     },
     "execution_count": 19,
     "metadata": {},
     "output_type": "execute_result"
    }
   ],
   "source": [
    "m_east.where('IntensityLevel', are.containing('War')) # filter to just show war rows"
   ]
  },
  {
   "cell_type": "markdown",
   "metadata": {},
   "source": [
    "Again, we can see that the greatest number of war occurences with a 'War' intensity level was Lebanon, followed by Yemen (North Yemen), and so forth.  "
   ]
  },
  {
   "cell_type": "markdown",
   "metadata": {},
   "source": [
    "<br><br><br><br><br><br><br>\n",
    "## Section 3.3 Outcome <a id='2c'></a>\n",
    "\n",
    "Next, let's examine the `Outcome` of the civil wars. Here are all the possible values in the `Outcome` column. An `Outcome` is defined as how a conflict ends."
   ]
  },
  {
   "cell_type": "code",
   "execution_count": 20,
   "metadata": {},
   "outputs": [
    {
     "data": {
      "text/plain": [
       "['Actor ceases to exist',\n",
       " 'Ceasefire',\n",
       " 'Victory for Side A /Government Side',\n",
       " 'Victory for Side B /Rebel Side',\n",
       " 'Peace agreement',\n",
       " 'Low activity (less than 25 battle-deaths)']"
      ]
     },
     "execution_count": 20,
     "metadata": {},
     "output_type": "execute_result"
    }
   ],
   "source": [
    "list(set(wars.column('Outcome')))"
   ]
  },
  {
   "cell_type": "markdown",
   "metadata": {},
   "source": [
    "A summary of what each outcome means is below: \n",
    "\n",
    "| Outcome | Description |\n",
    "|-------------------------------------------|--------------------------------------------------------------------------------------------------------------------------------------------------------------------------------------------------------------------------------------------------------------------------------------------------------------------------------------------------------------------|\n",
    "| Actor ceases to exist | War activity continues with at least one party no longer existing or becoming a different type of party. For states, this means that the state became part of another country or a central government was no longer obvious. For rebel organizations, this means that the organization changed their name along with altering their alliances or territorial goals. |\n",
    "| Ceasefire | Fighting stops, but not necessarily with any resolution. |\n",
    "| Low activity (less than 25 battle-deaths) | War activity may continue, but fatality rates are below the fatality level defined by the authors of the dataset. |\n",
    "| Peace agreement | An agreement signed by opposing sides to formally end the war. |\n",
    "| Victory for Side A/Government Side | The government side of the war wins and the rebel side loses. |\n",
    "| Victory for Side A/Rebel Side | The rebel side wins and the government side loses."
   ]
  },
  {
   "cell_type": "markdown",
   "metadata": {},
   "source": [
    "Here are the number of occurances of each Outcome."
   ]
  },
  {
   "cell_type": "code",
   "execution_count": 21,
   "metadata": {},
   "outputs": [
    {
     "data": {
      "image/png": "[encoded data removed]",
      "text/plain": [
       "<Figure size 432x288 with 1 Axes>"
      ]
     },
     "metadata": {},
     "output_type": "display_data"
    }
   ],
   "source": [
    "termination_count = wars.group('Outcome').sort('count', descending=True) # count number of each outcome\n",
    "termination_count.bar('Outcome') # generate bar graph\n",
    "plt.xticks(rotation=90) # make x axis labels vertical\n",
    "plt.title(\"Number of Each Outcome\") # title graph\n",
    "plt.show()"
   ]
  },
  {
   "cell_type": "markdown",
   "metadata": {},
   "source": [
    "We can see that the greatest type of wars terminated are Low activity conflicts. "
   ]
  },
  {
   "cell_type": "markdown",
   "metadata": {},
   "source": [
    "### Discussion 3\n",
    "\n",
    "How often are rebels successful in civil wars? Given that we discussed terrorism and civil war, what are similarities between outcomes and regions? What hypothesis can you draw? Analyze Asia and Africa. (We are showing you the top 2 regions with the most civil wars and only show those two regions)"
   ]
  },
  {
   "cell_type": "code",
   "execution_count": 22,
   "metadata": {},
   "outputs": [
    {
     "data": {
      "text/html": [
       "<table border=\"1\" class=\"dataframe\">\n",
       "    <thead>\n",
       "        <tr>\n",
       "            <th>Region</th> <th>Outcome</th> <th>count</th>\n",
       "        </tr>\n",
       "    </thead>\n",
       "    <tbody>\n",
       "        <tr>\n",
       "            <td>Africa</td> <td>Low activity (less than 25 battle-deaths)</td> <td>48   </td>\n",
       "        </tr>\n",
       "        <tr>\n",
       "            <td>Africa</td> <td>Victory for Side A /Government Side      </td> <td>36   </td>\n",
       "        </tr>\n",
       "        <tr>\n",
       "            <td>Africa</td> <td>Peace agreement                          </td> <td>32   </td>\n",
       "        </tr>\n",
       "        <tr>\n",
       "            <td>Africa</td> <td>Victory for Side B /Rebel Side           </td> <td>18   </td>\n",
       "        </tr>\n",
       "        <tr>\n",
       "            <td>Africa</td> <td>Actor ceases to exist                    </td> <td>15   </td>\n",
       "        </tr>\n",
       "        <tr>\n",
       "            <td>Africa</td> <td>Ceasefire                                </td> <td>9    </td>\n",
       "        </tr>\n",
       "        <tr>\n",
       "            <td>Asia  </td> <td>Low activity (less than 25 battle-deaths)</td> <td>48   </td>\n",
       "        </tr>\n",
       "        <tr>\n",
       "            <td>Asia  </td> <td>Victory for Side A /Government Side      </td> <td>27   </td>\n",
       "        </tr>\n",
       "        <tr>\n",
       "            <td>Asia  </td> <td>Ceasefire                                </td> <td>18   </td>\n",
       "        </tr>\n",
       "        <tr>\n",
       "            <td>Asia  </td> <td>Actor ceases to exist                    </td> <td>14   </td>\n",
       "        </tr>\n",
       "        <tr>\n",
       "            <td>Asia  </td> <td>Peace agreement                          </td> <td>9    </td>\n",
       "        </tr>\n",
       "        <tr>\n",
       "            <td>Asia  </td> <td>Victory for Side B /Rebel Side           </td> <td>5    </td>\n",
       "        </tr>\n",
       "    </tbody>\n",
       "</table>"
      ],
      "text/plain": [
       "<IPython.core.display.HTML object>"
      ]
     },
     "metadata": {},
     "output_type": "display_data"
    }
   ],
   "source": [
    "wars.group(['Region', 'Outcome']).where('Region', are.containing('Asia') | are.containing('Africa')).sort(\n",
    "    'count', descending=True).sort('Region').show()"
   ]
  },
  {
   "cell_type": "markdown",
   "metadata": {},
   "source": [
    "Let's make a bar graph of the `IntensityLevel` for a particular year. Run the cell below, then use the dropdown menu to select a year. After selecting a year, the graph will show the number of conflicts of each intensity level in the previous 5 years."
   ]
  },
  {
   "cell_type": "code",
   "execution_count": 23,
   "metadata": {},
   "outputs": [
    {
     "data": {
      "application/vnd.jupyter.widget-view+json": {
       "model_id": "a81c3aae44bf4fa6a99b905cdbd19b40",
       "version_major": 2,
       "version_minor": 0
      },
      "text/plain": [
       "interactive(children=(Dropdown(description='year', options=(1945, 1950, 1955, 1960, 1965, 1970, 1975, 1980, 19…"
      ]
     },
     "metadata": {},
     "output_type": "display_data"
    }
   ],
   "source": [
    "@interact(year=np.arange(1945, 2011, 5))\n",
    "def year_graph(year):\n",
    "    # filter data by chosen year and group by intensity level\n",
    "    five_year = war_years.with_column('Fifth Year', (war_years.column('Year') // 5) * 5) # add column of year rounded to nearest 5\n",
    "    one_year = five_year.where('Fifth Year', year).group('IntensityLevel').sort('IntensityLevel') # filter and sort by selected year\n",
    "    plt.bar(one_year.column('IntensityLevel'), one_year.column('count')) # create bar graph\n",
    "    plt.xticks((0, 1), ('Minor War', 'Major War')) # set x axis labels to be Minor and War\n",
    "    plt.ylabel(\"Count\") # set y axis label\n",
    "    plt.title('Number of Conflicts of Each Intensity Level from {} to {}'.format(year, year + 4)) # set title of graph\n",
    "    plt.show()"
   ]
  },
  {
   "cell_type": "markdown",
   "metadata": {},
   "source": [
    "You should be able to see two bars in the plot above, one for the \"Minor\" and one for the \"War\" intensity levels, for the year you chose."
   ]
  },
  {
   "cell_type": "markdown",
   "metadata": {},
   "source": [
    "<br><br><br><br><br><br><br><br><br>\n",
    "# Section 4. Choose a Conflict  <a id='3'></a>\n",
    "\n",
    "Run the cell below and select a location in the dropdown menu. We can use this to view only the rows that correspond to the chosen location."
   ]
  },
  {
   "cell_type": "code",
   "execution_count": 24,
   "metadata": {},
   "outputs": [
    {
     "data": {
      "application/vnd.jupyter.widget-view+json": {
       "model_id": "ce7d505f2a224204bd45dc7b71035206",
       "version_major": 2,
       "version_minor": 0
      },
      "text/plain": [
       "interactive(children=(Dropdown(description='location', options=('Afghanistan', 'Algeria', 'Angola', 'Argentina…"
      ]
     },
     "metadata": {},
     "output_type": "display_data"
    }
   ],
   "source": [
    "locations = np.sort(list(set(wars.column('Location'))))\n",
    "@interact(location=locations)\n",
    "def location_filter(location):\n",
    "    wars.where('Location', location).show()"
   ]
  },
  {
   "cell_type": "markdown",
   "metadata": {},
   "source": [
    "Use the cells above to choose a conflict that looks the most interesting to you. Once you find one, write down the `DyadId`. In the cell below, replace the `...` with the `DyadId` you chose. This will display the rows in the table that have the `DyadId` of your choice."
   ]
  },
  {
   "cell_type": "code",
   "execution_count": 26,
   "metadata": {},
   "outputs": [
    {
     "data": {
      "text/html": [
       "<table border=\"1\" class=\"dataframe\">\n",
       "    <thead>\n",
       "        <tr>\n",
       "            <th>ConflictId</th> <th>DyadId</th> <th>Location</th> <th>SideA</th> <th>SideB</th> <th>DisagreementOver</th> <th>IntensityLevel</th> <th>TypeOfConflict</th> <th>StartDate</th> <th>EndDate</th> <th>Outcome</th> <th>Region</th>\n",
       "        </tr>\n",
       "    </thead>\n",
       "    <tbody>\n",
       "        <tr>\n",
       "            <td>1-137     </td> <td>476   </td> <td>Afghanistan</td> <td>Government of Afghanistan</td> <td>Military faction (forces of Shahnawaz Tanay)</td> <td>Government      </td> <td>Minor (between 25 and 999 battle-related deaths)</td> <td>Internal armed conflict</td> <td>03/06/1990</td> <td>03/08/1990</td> <td>Victory for Side A /Government Side</td> <td>Asia  </td>\n",
       "        </tr>\n",
       "    </tbody>\n",
       "</table>"
      ],
      "text/plain": [
       "ConflictId | DyadId | Location    | SideA                     | SideB                                        | DisagreementOver | IntensityLevel                                   | TypeOfConflict          | StartDate  | EndDate    | Outcome                             | Region\n",
       "1-137      | 476    | Afghanistan | Government of Afghanistan | Military faction (forces of Shahnawaz Tanay) | Government       | Minor (between 25 and 999 battle-related deaths) | Internal armed conflict | 03/06/1990 | 03/08/1990 | Victory for Side A /Government Side | Asia"
      ]
     },
     "execution_count": 26,
     "metadata": {},
     "output_type": "execute_result"
    }
   ],
   "source": [
    "dyadid = 476  # replace the ... with a DyadId\n",
    "wars.where('DyadId', dyadid)"
   ]
  },
  {
   "cell_type": "markdown",
   "metadata": {},
   "source": []
  },
  {
   "cell_type": "markdown",
   "metadata": {},
   "source": []
  },
  {
   "cell_type": "markdown",
   "metadata": {},
   "source": []
  },
  {
   "cell_type": "markdown",
   "metadata": {},
   "source": []
  },
  {
   "cell_type": "markdown",
   "metadata": {},
   "source": []
  },
  {
   "cell_type": "markdown",
   "metadata": {},
   "source": []
  },
  {
   "cell_type": "markdown",
   "metadata": {},
   "source": [
    "We hope you enjoyed this notebook and learned a few things! In case you wish to explore the dataset more on your own, here is the link to download the dataset: https://ucdp.uu.se/downloads/#d5."
   ]
  },
  {
   "cell_type": "markdown",
   "metadata": {},
   "source": [
    "<br><br><br><br><br><br><br><br><br>\n",
    "# Data Science Opportunities at UC Berkeley <a id='4'></a>"
   ]
  },
  {
   "cell_type": "markdown",
   "metadata": {},
   "source": [
    "If you are interested in data science, we offer several courses and even a major / minor here at UC Berkeley. Some great courses to start out are Data 8 and some 2 unit connector courses like History 88 and Demography 88. For the full list of courses we offer, click [here](https://data.berkeley.edu/academics/undergraduate-programs/data-science-offerings)."
   ]
  },
  {
   "cell_type": "markdown",
   "metadata": {},
   "source": [
    "# Bibliography <a id='5'></a>\n",
    "* Kreutz, Joakim, 2010. How and When Armed Conflicts End: Introducing the UCDP Conflict Termination Dataset. *Journal of Peace Research* 47(2): 243-250."
   ]
  },
  {
   "cell_type": "code",
   "execution_count": null,
   "metadata": {},
   "outputs": [],
   "source": []
  }
 ],
 "metadata": {
  "kernelspec": {
   "display_name": "Python 3",
   "language": "python",
   "name": "python3"
  },
  "language_info": {
   "codemirror_mode": {
    "name": "ipython",
    "version": 3
   },
   "file_extension": ".py",
   "mimetype": "text/x-python",
   "name": "python",
   "nbconvert_exporter": "python",
   "pygments_lexer": "ipython3",
   "version": "3.6.8"
  }
 },
 "nbformat": 4,
 "nbformat_minor": 2
}
