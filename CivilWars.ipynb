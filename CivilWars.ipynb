{
 "cells": [
  {
   "cell_type": "markdown",
   "metadata": {},
   "source": [
    "# [POLSCI 5] Civil Wars\n",
    "\n",
    "Estimated Time: 30-40 Minutes <br>\n",
    "Created by: Lauren Hom, Ravi Singhal\n",
    "\n",
    "Today we will be examining a dataset (i.e. a table) on civil wars around the world from 1946-2013. The data, which contains information on various types of wars, comes from the Uppsala Conflict Data Program (UCDP). We will be exploring what rows and columns represent in the dataset as well as analyzing some trends in the types of conflicts over time.\n",
    "\n",
    "\n",
    "### Table of Contents \n",
    "* [Jupyter Introduction ](#0) <br>\n",
    "* [The Dataset](#1)<br>\n",
    "    * [Rows](#1a)<br>\n",
    "    * [Columns](#1b)<br>\n",
    "* [Civil War Analysis](#2)<br>\n",
    "* [Visualize the Data](#3)<br>\n",
    "    * [Discussion](#3a)<br>\n",
    "* [Choose a Conflict](#4)\n",
    "* [Data Science Opportunities at UC Berkeley](#5)<br>\n",
    "* [Bibliography](#6)\n"
   ]
  },
  {
   "cell_type": "markdown",
   "metadata": {},
   "source": [
    "# Jupyter Introduction <a id='0'></a>\n",
    "\n",
    "This webpage is a Jupyter Notebook. We will use this notebook to analyze the Uppsala Conflict Data Program (UCDP) Conflict Termination Dataset. Jupyter Notebooks are composed of both regular text and code cells. Code cells have a gray background. In order to run a code cell, click the cell and press `Shift + Enter` while the cell is selected or hit the `▶| Run` button in the toolbar at the top. An example of a code cell is below. Try running it. If everything works properly, the word \"Success\" should be printed under the cell."
   ]
  },
  {
   "cell_type": "code",
   "execution_count": 19,
   "metadata": {},
   "outputs": [
    {
     "name": "stdout",
     "output_type": "stream",
     "text": [
      "Success!\n"
     ]
    }
   ],
   "source": [
    "# This cell sets up the notebook. Just run this cell.\n",
    "from datascience import *\n",
    "import numpy as np\n",
    "from ipywidgets import interact, interactive, fixed, interact_manual\n",
    "import ipywidgets as widgets\n",
    "%matplotlib inline\n",
    "import matplotlib.pyplot as plt\n",
    "plt.style.use('fivethirtyeight')\n",
    "\n",
    "print(\"Success!\")"
   ]
  },
  {
   "cell_type": "markdown",
   "metadata": {},
   "source": [
    "# The Dataset <a id='1'></a>\n",
    "\n",
    "The dataset we will look at contains information about conflicts around world from 1946-2013. A **dataset** is a table with rows and columns that contain values. Here is the description of dateset by the author, Joadim Kreutz.\n",
    "\n",
    "> \"Armed conflict is defined by Uppsala Conflict Data Program (UCDP) \\[as\\] a contested incompatibility that concerns government and/or territory where the use of armed force between two parties, of which at least one is the government of a state, results in at least 25 battle-related deaths in a calender-year.\"\n",
    "\n",
    "> \"A conflict episode, thus, is defined as the a continuous period of active conflict years in the UCDP-PRIO armed conflict dataset. A conflict episode ends when an active year is followed by a year in which there are fewer than 25 battle-related deaths.\"\n",
    "\n",
    "\n",
    "<br>If you want to read more about the dataset, click [here](https://www.pcr.uu.se/research/ucdp/).\n",
    "\n",
    "<br>Here are the first 5 rows of the dataset. You can scroll horizontally when hovering over the table to see the whole data set. There are 2741 rows and 33 columns"
   ]
  },
  {
   "cell_type": "code",
   "execution_count": 2,
   "metadata": {},
   "outputs": [
    {
     "data": {
      "text/html": [
       "<table border=\"1\" class=\"dataframe\">\n",
       "    <thead>\n",
       "        <tr>\n",
       "            <th>ConflictId</th> <th>DyadId</th> <th>DyadEp</th> <th>Year</th> <th>Location</th> <th>SideA</th> <th>SideA2nd</th> <th>SideB</th> <th>SideBID</th> <th>SideB2nd</th> <th>Incompatibility</th> <th>TerritoryName</th> <th>IntensityLevel</th> <th>TypeOfConflict</th> <th>Type2</th> <th>StartDate</th> <th>StartPrec</th> <th>StartDate2</th> <th>StartPrec2</th> <th>Dyadterm</th> <th>EpEndDate</th> <th>EpEndPrec</th> <th>Outcome_early</th> <th>Outcome</th> <th>CfireDate</th> <th>PeAgDate</th> <th>GWNoA</th> <th>GWNoA2nd</th> <th>GWNoB</th> <th>GWNoB2nd</th> <th>GWNoLoc</th> <th>Region</th> <th>Version</th>\n",
       "        </tr>\n",
       "    </thead>\n",
       "    <tbody>\n",
       "        <tr>\n",
       "            <td>1-191     </td> <td>1     </td> <td>101   </td> <td>1992</td> <td>Algeria </td> <td>Government of Algeria</td> <td>nan     </td> <td>AIS  </td> <td>1389   </td> <td>nan     </td> <td>2              </td> <td>nan          </td> <td>1             </td> <td>3             </td> <td>3    </td> <td>1985-08-27</td> <td>1        </td> <td>1992-03-10</td> <td>5         </td> <td>0       </td> <td>nan      </td> <td>nan      </td> <td>nan          </td> <td>nan    </td> <td>nan      </td> <td>nan     </td> <td>615  </td> <td>nan     </td> <td>nan  </td> <td>nan     </td> <td>615    </td> <td>4     </td> <td>2.0-2015</td>\n",
       "        </tr>\n",
       "        <tr>\n",
       "            <td>1-191     </td> <td>1     </td> <td>101   </td> <td>1993</td> <td>Algeria </td> <td>Government of Algeria</td> <td>nan     </td> <td>AIS  </td> <td>1389   </td> <td>nan     </td> <td>2              </td> <td>nan          </td> <td>1             </td> <td>3             </td> <td>3    </td> <td>1985-08-27</td> <td>1        </td> <td>1992-03-10</td> <td>5         </td> <td>0       </td> <td>nan      </td> <td>nan      </td> <td>nan          </td> <td>nan    </td> <td>nan      </td> <td>nan     </td> <td>615  </td> <td>nan     </td> <td>nan  </td> <td>nan     </td> <td>615    </td> <td>4     </td> <td>2.0-2015</td>\n",
       "        </tr>\n",
       "        <tr>\n",
       "            <td>1-191     </td> <td>1     </td> <td>101   </td> <td>1994</td> <td>Algeria </td> <td>Government of Algeria</td> <td>nan     </td> <td>AIS  </td> <td>1389   </td> <td>nan     </td> <td>2              </td> <td>nan          </td> <td>2             </td> <td>3             </td> <td>3    </td> <td>1985-08-27</td> <td>1        </td> <td>1992-03-10</td> <td>5         </td> <td>0       </td> <td>nan      </td> <td>nan      </td> <td>nan          </td> <td>nan    </td> <td>nan      </td> <td>nan     </td> <td>615  </td> <td>nan     </td> <td>nan  </td> <td>nan     </td> <td>615    </td> <td>4     </td> <td>2.0-2015</td>\n",
       "        </tr>\n",
       "        <tr>\n",
       "            <td>1-191     </td> <td>1     </td> <td>101   </td> <td>1995</td> <td>Algeria </td> <td>Government of Algeria</td> <td>nan     </td> <td>AIS  </td> <td>1389   </td> <td>nan     </td> <td>2              </td> <td>nan          </td> <td>1             </td> <td>3             </td> <td>3    </td> <td>1985-08-27</td> <td>1        </td> <td>1992-03-10</td> <td>5         </td> <td>0       </td> <td>nan      </td> <td>nan      </td> <td>nan          </td> <td>nan    </td> <td>nan      </td> <td>nan     </td> <td>615  </td> <td>nan     </td> <td>nan  </td> <td>nan     </td> <td>615    </td> <td>4     </td> <td>2.0-2015</td>\n",
       "        </tr>\n",
       "        <tr>\n",
       "            <td>1-191     </td> <td>1     </td> <td>101   </td> <td>1996</td> <td>Algeria </td> <td>Government of Algeria</td> <td>nan     </td> <td>AIS  </td> <td>1389   </td> <td>nan     </td> <td>2              </td> <td>nan          </td> <td>1             </td> <td>3             </td> <td>3    </td> <td>1985-08-27</td> <td>1        </td> <td>1992-03-10</td> <td>5         </td> <td>0       </td> <td>nan      </td> <td>nan      </td> <td>nan          </td> <td>nan    </td> <td>nan      </td> <td>nan     </td> <td>615  </td> <td>nan     </td> <td>nan  </td> <td>nan     </td> <td>615    </td> <td>4     </td> <td>2.0-2015</td>\n",
       "        </tr>\n",
       "    </tbody>\n",
       "</table>\n",
       "<p>... (2736 rows omitted)</p>"
      ],
      "text/plain": [
       "<IPython.core.display.HTML object>"
      ]
     },
     "metadata": {},
     "output_type": "display_data"
    }
   ],
   "source": [
    "raw = Table.read_table('ucdp-term-dyadic-2015.csv') # read in the dataset\n",
    "raw.show(5)"
   ]
  },
  {
   "cell_type": "markdown",
   "metadata": {},
   "source": [
    "As you can see, there are many columns in the dataset. We have cleaned the dataset by removing wars that were not civil wars, removing some columns, and making the values more readable. The cleaned dataset has 12 columns."
   ]
  },
  {
   "cell_type": "code",
   "execution_count": 3,
   "metadata": {},
   "outputs": [
    {
     "data": {
      "text/html": [
       "<table border=\"1\" class=\"dataframe\">\n",
       "    <thead>\n",
       "        <tr>\n",
       "            <th>ConflictId</th> <th>DyadId</th> <th>Location</th> <th>SideA</th> <th>SideB</th> <th>DisagreementOver</th> <th>IntensityLevel</th> <th>TypeOfConflict</th> <th>StartDate</th> <th>EndDate</th> <th>Outcome</th> <th>Region</th>\n",
       "        </tr>\n",
       "    </thead>\n",
       "    <tbody>\n",
       "        <tr>\n",
       "            <td>1-191     </td> <td>1     </td> <td>Algeria </td> <td>Government of Algeria</td> <td>AIS              </td> <td>Government      </td> <td>Minor (between 25 and 999 battle-related deaths)</td> <td>Internal armed conflict</td> <td>08/27/1985</td> <td>10/01/1997</td> <td>Ceasefire                                </td> <td>Africa</td>\n",
       "        </tr>\n",
       "        <tr>\n",
       "            <td>1-191     </td> <td>2     </td> <td>Algeria </td> <td>Government of Algeria</td> <td>Takfir wa'l Hijra</td> <td>Government      </td> <td>Minor (between 25 and 999 battle-related deaths)</td> <td>Internal armed conflict</td> <td>12/20/1990</td> <td>12/31/1991</td> <td>Actor ceases to exist                    </td> <td>Africa</td>\n",
       "        </tr>\n",
       "        <tr>\n",
       "            <td>1-191     </td> <td>3     </td> <td>Algeria </td> <td>Government of Algeria</td> <td>GIA              </td> <td>Government      </td> <td>Minor (between 25 and 999 battle-related deaths)</td> <td>Internal armed conflict</td> <td>02/10/1992</td> <td>12/31/2003</td> <td>Low activity (less than 25 battle-deaths)</td> <td>Africa</td>\n",
       "        </tr>\n",
       "        <tr>\n",
       "            <td>1-131     </td> <td>7     </td> <td>Angola  </td> <td>Government of Angola </td> <td>UNITA            </td> <td>Government      </td> <td>Minor (between 25 and 999 battle-related deaths)</td> <td>Internal armed conflict</td> <td>11/11/1975</td> <td>12/24/1995</td> <td>Low activity (less than 25 battle-deaths)</td> <td>Africa</td>\n",
       "        </tr>\n",
       "        <tr>\n",
       "            <td>1-90      </td> <td>11    </td> <td>Burundi </td> <td>Government of Burundi</td> <td>Palipehutu       </td> <td>Government      </td> <td>Minor (between 25 and 999 battle-related deaths)</td> <td>Internal armed conflict</td> <td>11/23/1991</td> <td>04/14/1992</td> <td>Low activity (less than 25 battle-deaths)</td> <td>Africa</td>\n",
       "        </tr>\n",
       "    </tbody>\n",
       "</table>\n",
       "<p>... (398 rows omitted)</p>"
      ],
      "text/plain": [
       "<IPython.core.display.HTML object>"
      ]
     },
     "metadata": {},
     "output_type": "display_data"
    }
   ],
   "source": [
    "wars = Table.read_table('oneWar.csv') # read in the dataset\n",
    "wars.show(5)"
   ]
  },
  {
   "cell_type": "markdown",
   "metadata": {},
   "source": [
    "Note that both the number of **columns** and the number of **rows** have changed. Run the cell below to compare the number of rows from the original dataset to the cleaned dataset."
   ]
  },
  {
   "cell_type": "code",
   "execution_count": 4,
   "metadata": {},
   "outputs": [
    {
     "name": "stdout",
     "output_type": "stream",
     "text": [
      "The original dataset had 2741 rows. \n",
      "After removing all non civil war rows, the dataset has 403 rows left.\n"
     ]
    }
   ],
   "source": [
    "print(\"The original dataset had {} rows. \\n\\\n",
    "After removing all non civil war rows, the dataset has {} rows left.\".format(raw.num_rows, wars.num_rows))"
   ]
  },
  {
   "cell_type": "markdown",
   "metadata": {},
   "source": [
    "Let's take a closer look at the cleaned dataset!"
   ]
  },
  {
   "cell_type": "markdown",
   "metadata": {},
   "source": [
    "## Rows <a id='1a'></a>\n"
   ]
  },
  {
   "cell_type": "markdown",
   "metadata": {},
   "source": [
    "First, let's examine what a *row* is. Here is the first row of the dataset."
   ]
  },
  {
   "cell_type": "code",
   "execution_count": 5,
   "metadata": {},
   "outputs": [
    {
     "data": {
      "text/html": [
       "<table border=\"1\" class=\"dataframe\">\n",
       "    <thead>\n",
       "        <tr>\n",
       "            <th>ConflictId</th> <th>DyadId</th> <th>Location</th> <th>SideA</th> <th>SideB</th> <th>DisagreementOver</th> <th>IntensityLevel</th> <th>TypeOfConflict</th> <th>StartDate</th> <th>EndDate</th> <th>Outcome</th> <th>Region</th>\n",
       "        </tr>\n",
       "    </thead>\n",
       "    <tbody>\n",
       "        <tr>\n",
       "            <td>1-191     </td> <td>1     </td> <td>Algeria </td> <td>Government of Algeria</td> <td>AIS  </td> <td>Government      </td> <td>Minor (between 25 and 999 battle-related deaths)</td> <td>Internal armed conflict</td> <td>08/27/1985</td> <td>10/01/1997</td> <td>Ceasefire</td> <td>Africa</td>\n",
       "        </tr>\n",
       "    </tbody>\n",
       "</table>"
      ],
      "text/plain": [
       "ConflictId | DyadId | Location | SideA                 | SideB | DisagreementOver | IntensityLevel                                   | TypeOfConflict          | StartDate  | EndDate    | Outcome   | Region\n",
       "1-191      | 1      | Algeria  | Government of Algeria | AIS   | Government       | Minor (between 25 and 999 battle-related deaths) | Internal armed conflict | 08/27/1985 | 10/01/1997 | Ceasefire | Africa"
      ]
     },
     "execution_count": 5,
     "metadata": {},
     "output_type": "execute_result"
    }
   ],
   "source": [
    "wars.take(0) # take the first row"
   ]
  },
  {
   "cell_type": "markdown",
   "metadata": {},
   "source": [
    "This row gives us information about a specific war that happened in Algeria from 1985-1997. One thing to note is that the `IntensityLevel` of the conflict is Minor. As described in the `IntensityLevel` column, a Minor conflict indicates a war where there were between 25-999 battle-related deaths. "
   ]
  },
  {
   "cell_type": "code",
   "execution_count": 6,
   "metadata": {},
   "outputs": [
    {
     "data": {
      "text/html": [
       "<table border=\"1\" class=\"dataframe\">\n",
       "    <thead>\n",
       "        <tr>\n",
       "            <th>ConflictId</th> <th>DyadId</th> <th>Location</th> <th>SideA</th> <th>SideB</th> <th>DisagreementOver</th> <th>IntensityLevel</th> <th>TypeOfConflict</th> <th>StartDate</th> <th>EndDate</th> <th>Outcome</th> <th>Region</th>\n",
       "        </tr>\n",
       "    </thead>\n",
       "    <tbody>\n",
       "        <tr>\n",
       "            <td>1-78      </td> <td>53    </td> <td>Ethiopia</td> <td>Government of Ethiopia</td> <td>EPLF </td> <td>Territory       </td> <td>War (at least 1000 battle-related deaths)</td> <td>Internal armed conflict</td> <td>09/30/1973</td> <td>05/31/1991</td> <td>Victory for Side B /Rebel Side</td> <td>Africa</td>\n",
       "        </tr>\n",
       "    </tbody>\n",
       "</table>"
      ],
      "text/plain": [
       "ConflictId | DyadId | Location | SideA                  | SideB | DisagreementOver | IntensityLevel                            | TypeOfConflict          | StartDate  | EndDate    | Outcome                        | Region\n",
       "1-78       | 53     | Ethiopia | Government of Ethiopia | EPLF  | Territory        | War (at least 1000 battle-related deaths) | Internal armed conflict | 09/30/1973 | 05/31/1991 | Victory for Side B /Rebel Side | Africa"
      ]
     },
     "execution_count": 6,
     "metadata": {},
     "output_type": "execute_result"
    }
   ],
   "source": [
    "wars.take(29) # take the third row"
   ]
  },
  {
   "cell_type": "markdown",
   "metadata": {},
   "source": [
    "In comparison, by looking at the 29th row of the dataset, we can see that this conflict in Ethiopia has an `IntensityLevel` of War, meaning there were at least 1000 battle-related deaths."
   ]
  },
  {
   "cell_type": "markdown",
   "metadata": {},
   "source": [
    "## Columns <a id='1b'></a>\n"
   ]
  },
  {
   "cell_type": "markdown",
   "metadata": {},
   "source": [
    "Next, we will look at some of the columns in the dataset, specifically columns that allow us to better understand the information we are seeing.\n",
    "\n",
    "### Location\n",
    "To understand what a *column* is, let's look at a few examples. First, we shall examine the `Location` column. According to the author of the dataset, \n",
    "> \"Location is defined as the government side of a conflict, and should not be interpreted as the geographical location of the conflict.\"\n",
    "\n",
    "To get an idea of what kinds of values are in the `Location` column, here are the number of occurences of the 10 most common locations."
   ]
  },
  {
   "cell_type": "code",
   "execution_count": 7,
   "metadata": {},
   "outputs": [
    {
     "data": {
      "text/html": [
       "<table border=\"1\" class=\"dataframe\">\n",
       "    <thead>\n",
       "        <tr>\n",
       "            <th>Location</th> <th>count</th>\n",
       "        </tr>\n",
       "    </thead>\n",
       "    <tbody>\n",
       "        <tr>\n",
       "            <td>Myanmar (Burma)      </td> <td>37   </td>\n",
       "        </tr>\n",
       "        <tr>\n",
       "            <td>India                </td> <td>24   </td>\n",
       "        </tr>\n",
       "        <tr>\n",
       "            <td>Chad                 </td> <td>19   </td>\n",
       "        </tr>\n",
       "        <tr>\n",
       "            <td>Ethiopia             </td> <td>18   </td>\n",
       "        </tr>\n",
       "        <tr>\n",
       "            <td>Uganda               </td> <td>14   </td>\n",
       "        </tr>\n",
       "        <tr>\n",
       "            <td>Sudan                </td> <td>14   </td>\n",
       "        </tr>\n",
       "        <tr>\n",
       "            <td>Israel               </td> <td>13   </td>\n",
       "        </tr>\n",
       "        <tr>\n",
       "            <td>Russia (Soviet Union)</td> <td>10   </td>\n",
       "        </tr>\n",
       "        <tr>\n",
       "            <td>Philippines          </td> <td>9    </td>\n",
       "        </tr>\n",
       "        <tr>\n",
       "            <td>Iraq                 </td> <td>8    </td>\n",
       "        </tr>\n",
       "    </tbody>\n",
       "</table>\n",
       "<p>... (86 rows omitted)</p>"
      ],
      "text/plain": [
       "Location              | count\n",
       "Myanmar (Burma)       | 37\n",
       "India                 | 24\n",
       "Chad                  | 19\n",
       "Ethiopia              | 18\n",
       "Uganda                | 14\n",
       "Sudan                 | 14\n",
       "Israel                | 13\n",
       "Russia (Soviet Union) | 10\n",
       "Philippines           | 9\n",
       "Iraq                  | 8\n",
       "... (86 rows omitted)"
      ]
     },
     "execution_count": 7,
     "metadata": {},
     "output_type": "execute_result"
    }
   ],
   "source": [
    "locations = wars.group('Location').sort('count', descending=True) # group by location and sort in descending order\n",
    "locations"
   ]
  },
  {
   "cell_type": "markdown",
   "metadata": {},
   "source": [
    "Some of the values in the `Location` column of the table are separated by hypens ('-'). This inidcates that the location is a single location. \n",
    "\n",
    "Let's look at some of the examples in the table."
   ]
  },
  {
   "cell_type": "code",
   "execution_count": 8,
   "metadata": {},
   "outputs": [
    {
     "data": {
      "text/html": [
       "<table border=\"1\" class=\"dataframe\">\n",
       "    <thead>\n",
       "        <tr>\n",
       "            <th>Location</th> <th>count</th>\n",
       "        </tr>\n",
       "    </thead>\n",
       "    <tbody>\n",
       "        <tr>\n",
       "            <td>Bosnia-Herzegovina</td> <td>5    </td>\n",
       "        </tr>\n",
       "    </tbody>\n",
       "</table>"
      ],
      "text/plain": [
       "Location           | count\n",
       "Bosnia-Herzegovina | 5"
      ]
     },
     "execution_count": 8,
     "metadata": {},
     "output_type": "execute_result"
    }
   ],
   "source": [
    "# Locations with the two sides of an interstate war\n",
    "locations.where('Location', are.containing('-'))"
   ]
  },
  {
   "cell_type": "markdown",
   "metadata": {},
   "source": [
    "We can see there is one location that is separated by a hypen ('-'), Bosnia-Herzegovina. \n"
   ]
  },
  {
   "cell_type": "markdown",
   "metadata": {},
   "source": [
    "### Region\n",
    "Now let's look at the `Region` column. Again, first we'll look at the number of war occurrences of each region."
   ]
  },
  {
   "cell_type": "code",
   "execution_count": 9,
   "metadata": {},
   "outputs": [
    {
     "data": {
      "text/html": [
       "<table border=\"1\" class=\"dataframe\">\n",
       "    <thead>\n",
       "        <tr>\n",
       "            <th>Region</th> <th>count</th>\n",
       "        </tr>\n",
       "    </thead>\n",
       "    <tbody>\n",
       "        <tr>\n",
       "            <td>Africa     </td> <td>158  </td>\n",
       "        </tr>\n",
       "        <tr>\n",
       "            <td>Asia       </td> <td>121  </td>\n",
       "        </tr>\n",
       "        <tr>\n",
       "            <td>Americas   </td> <td>49   </td>\n",
       "        </tr>\n",
       "        <tr>\n",
       "            <td>Middle East</td> <td>42   </td>\n",
       "        </tr>\n",
       "        <tr>\n",
       "            <td>Europe     </td> <td>33   </td>\n",
       "        </tr>\n",
       "    </tbody>\n",
       "</table>"
      ],
      "text/plain": [
       "Region      | count\n",
       "Africa      | 158\n",
       "Asia        | 121\n",
       "Americas    | 49\n",
       "Middle East | 42\n",
       "Europe      | 33"
      ]
     },
     "execution_count": 9,
     "metadata": {},
     "output_type": "execute_result"
    }
   ],
   "source": [
    "regions = wars.group('Region').sort('count', descending=True) # count occurences of each region\n",
    "regions"
   ]
  },
  {
   "cell_type": "markdown",
   "metadata": {},
   "source": [
    "Above, we can see that the first row with the 'Africa' region has the highest `count`, which means that Africa has the largest number of war occurrences in their region."
   ]
  },
  {
   "cell_type": "markdown",
   "metadata": {},
   "source": [
    "### Intensity Level\n",
    "Lastly, we'll look at the `IntensityLevel` column. \n",
    ">The intensity variable is coded in two categories:\n",
    ">1. Minor: between 25 and 999 battle-related deaths in a given year.\n",
    ">2. War: at least 1,000 battle-related deaths in a given year.\n",
    "\n",
    "Here are the number of wars for each type of intensity level, which is represented in the `count` column."
   ]
  },
  {
   "cell_type": "code",
   "execution_count": 10,
   "metadata": {},
   "outputs": [
    {
     "data": {
      "text/html": [
       "<table border=\"1\" class=\"dataframe\">\n",
       "    <thead>\n",
       "        <tr>\n",
       "            <th>IntensityLevel</th> <th>count</th>\n",
       "        </tr>\n",
       "    </thead>\n",
       "    <tbody>\n",
       "        <tr>\n",
       "            <td>Minor (between 25 and 999 battle-related deaths)</td> <td>354  </td>\n",
       "        </tr>\n",
       "        <tr>\n",
       "            <td>War (at least 1000 battle-related deaths)       </td> <td>49   </td>\n",
       "        </tr>\n",
       "    </tbody>\n",
       "</table>"
      ],
      "text/plain": [
       "IntensityLevel                                   | count\n",
       "Minor (between 25 and 999 battle-related deaths) | 354\n",
       "War (at least 1000 battle-related deaths)        | 49"
      ]
     },
     "execution_count": 10,
     "metadata": {},
     "output_type": "execute_result"
    }
   ],
   "source": [
    "wars.group('IntensityLevel') # group by IntensityLevel"
   ]
  },
  {
   "cell_type": "markdown",
   "metadata": {},
   "source": [
    "As you can see above, there is a higher count for number of \"Minor\" occurences (354 occurences) versus \"War\" occurences (49 occurences).\n",
    "\n",
    "Let's break the Intensity Level down by region. First here are the counts of each `IntensityLevel` in each region."
   ]
  },
  {
   "cell_type": "code",
   "execution_count": 11,
   "metadata": {},
   "outputs": [
    {
     "data": {
      "text/html": [
       "<table border=\"1\" class=\"dataframe\">\n",
       "    <thead>\n",
       "        <tr>\n",
       "            <th>Region</th> <th>IntensityLevel</th> <th>count</th>\n",
       "        </tr>\n",
       "    </thead>\n",
       "    <tbody>\n",
       "        <tr>\n",
       "            <td>Africa     </td> <td>Minor (between 25 and 999 battle-related deaths)</td> <td>143  </td>\n",
       "        </tr>\n",
       "        <tr>\n",
       "            <td>Asia       </td> <td>Minor (between 25 and 999 battle-related deaths)</td> <td>106  </td>\n",
       "        </tr>\n",
       "        <tr>\n",
       "            <td>Americas   </td> <td>Minor (between 25 and 999 battle-related deaths)</td> <td>44   </td>\n",
       "        </tr>\n",
       "        <tr>\n",
       "            <td>Middle East</td> <td>Minor (between 25 and 999 battle-related deaths)</td> <td>34   </td>\n",
       "        </tr>\n",
       "        <tr>\n",
       "            <td>Europe     </td> <td>Minor (between 25 and 999 battle-related deaths)</td> <td>27   </td>\n",
       "        </tr>\n",
       "        <tr>\n",
       "            <td>Asia       </td> <td>War (at least 1000 battle-related deaths)       </td> <td>15   </td>\n",
       "        </tr>\n",
       "        <tr>\n",
       "            <td>Africa     </td> <td>War (at least 1000 battle-related deaths)       </td> <td>15   </td>\n",
       "        </tr>\n",
       "        <tr>\n",
       "            <td>Middle East</td> <td>War (at least 1000 battle-related deaths)       </td> <td>8    </td>\n",
       "        </tr>\n",
       "        <tr>\n",
       "            <td>Europe     </td> <td>War (at least 1000 battle-related deaths)       </td> <td>6    </td>\n",
       "        </tr>\n",
       "        <tr>\n",
       "            <td>Americas   </td> <td>War (at least 1000 battle-related deaths)       </td> <td>5    </td>\n",
       "        </tr>\n",
       "    </tbody>\n",
       "</table>"
      ],
      "text/plain": [
       "<IPython.core.display.HTML object>"
      ]
     },
     "metadata": {},
     "output_type": "display_data"
    }
   ],
   "source": [
    "wars.group(['Region', 'IntensityLevel']).sort('count', descending=True).show() # group by Region and IntensityLevel"
   ]
  },
  {
   "cell_type": "markdown",
   "metadata": {},
   "source": [
    "We can see that each region appears twice in the `Region` column, once for each type of intensity level. \n",
    "For example, in the first row we can see that Africa had 143 wars with a \"Minor\" intensity level and in the seventh row, we can see that Africa had 15 wars with a \"War\" intensity level. "
   ]
  },
  {
   "cell_type": "markdown",
   "metadata": {},
   "source": [
    "Let's look specifically at the Middle East. Here are the counts of every type of conflict in each Middle East location."
   ]
  },
  {
   "cell_type": "code",
   "execution_count": 12,
   "metadata": {},
   "outputs": [
    {
     "data": {
      "text/html": [
       "<table border=\"1\" class=\"dataframe\">\n",
       "    <thead>\n",
       "        <tr>\n",
       "            <th>Region</th> <th>Location</th> <th>IntensityLevel</th> <th>count</th>\n",
       "        </tr>\n",
       "    </thead>\n",
       "    <tbody>\n",
       "        <tr>\n",
       "            <td>Middle East</td> <td>Israel             </td> <td>Minor (between 25 and 999 battle-related deaths)</td> <td>13   </td>\n",
       "        </tr>\n",
       "        <tr>\n",
       "            <td>Middle East</td> <td>Iraq               </td> <td>Minor (between 25 and 999 battle-related deaths)</td> <td>7    </td>\n",
       "        </tr>\n",
       "        <tr>\n",
       "            <td>Middle East</td> <td>Iran               </td> <td>Minor (between 25 and 999 battle-related deaths)</td> <td>5    </td>\n",
       "        </tr>\n",
       "        <tr>\n",
       "            <td>Middle East</td> <td>Turkey             </td> <td>Minor (between 25 and 999 battle-related deaths)</td> <td>3    </td>\n",
       "        </tr>\n",
       "        <tr>\n",
       "            <td>Middle East</td> <td>Lebanon            </td> <td>War (at least 1000 battle-related deaths)       </td> <td>3    </td>\n",
       "        </tr>\n",
       "        <tr>\n",
       "            <td>Middle East</td> <td>Yemen (North Yemen)</td> <td>War (at least 1000 battle-related deaths)       </td> <td>2    </td>\n",
       "        </tr>\n",
       "        <tr>\n",
       "            <td>Middle East</td> <td>Lebanon            </td> <td>Minor (between 25 and 999 battle-related deaths)</td> <td>2    </td>\n",
       "        </tr>\n",
       "        <tr>\n",
       "            <td>Middle East</td> <td>Yemen (North Yemen)</td> <td>Minor (between 25 and 999 battle-related deaths)</td> <td>1    </td>\n",
       "        </tr>\n",
       "        <tr>\n",
       "            <td>Middle East</td> <td>Syria              </td> <td>War (at least 1000 battle-related deaths)       </td> <td>1    </td>\n",
       "        </tr>\n",
       "        <tr>\n",
       "            <td>Middle East</td> <td>Syria              </td> <td>Minor (between 25 and 999 battle-related deaths)</td> <td>1    </td>\n",
       "        </tr>\n",
       "    </tbody>\n",
       "</table>\n",
       "<p>... (4 rows omitted)</p>"
      ],
      "text/plain": [
       "Region      | Location            | IntensityLevel                                   | count\n",
       "Middle East | Israel              | Minor (between 25 and 999 battle-related deaths) | 13\n",
       "Middle East | Iraq                | Minor (between 25 and 999 battle-related deaths) | 7\n",
       "Middle East | Iran                | Minor (between 25 and 999 battle-related deaths) | 5\n",
       "Middle East | Turkey              | Minor (between 25 and 999 battle-related deaths) | 3\n",
       "Middle East | Lebanon             | War (at least 1000 battle-related deaths)        | 3\n",
       "Middle East | Yemen (North Yemen) | War (at least 1000 battle-related deaths)        | 2\n",
       "Middle East | Lebanon             | Minor (between 25 and 999 battle-related deaths) | 2\n",
       "Middle East | Yemen (North Yemen) | Minor (between 25 and 999 battle-related deaths) | 1\n",
       "Middle East | Syria               | War (at least 1000 battle-related deaths)        | 1\n",
       "Middle East | Syria               | Minor (between 25 and 999 battle-related deaths) | 1\n",
       "... (4 rows omitted)"
      ]
     },
     "execution_count": 12,
     "metadata": {},
     "output_type": "execute_result"
    }
   ],
   "source": [
    "# filter by region, then group by location and intensity level\n",
    "m_east = wars.where('Region', 'Middle East').group(['Region', 'Location', 'IntensityLevel']).sort(\n",
    "    'count', descending=True)\n",
    "m_east"
   ]
  },
  {
   "cell_type": "markdown",
   "metadata": {},
   "source": [
    "We can see that the greatest number ‘Minor’ war occurences happened in Israel (13 in total) while the great number of ‘War’ wars happened in Lebanon (3 in total). \n",
    "\n",
    "The two rows that show this information from the dataset (above) are shown below."
   ]
  },
  {
   "cell_type": "code",
   "execution_count": 13,
   "metadata": {},
   "outputs": [
    {
     "data": {
      "text/html": [
       "<table border=\"1\" class=\"dataframe\">\n",
       "    <thead>\n",
       "        <tr>\n",
       "            <th>Region</th> <th>Location</th> <th>IntensityLevel</th> <th>count</th>\n",
       "        </tr>\n",
       "    </thead>\n",
       "    <tbody>\n",
       "        <tr>\n",
       "            <td>Middle East</td> <td>Israel  </td> <td>Minor (between 25 and 999 battle-related deaths)</td> <td>13   </td>\n",
       "        </tr>\n",
       "    </tbody>\n",
       "</table>"
      ],
      "text/plain": [
       "Region      | Location | IntensityLevel                                   | count\n",
       "Middle East | Israel   | Minor (between 25 and 999 battle-related deaths) | 13"
      ]
     },
     "execution_count": 13,
     "metadata": {},
     "output_type": "execute_result"
    }
   ],
   "source": [
    "m_east.take(0) #first row of the dataset, above"
   ]
  },
  {
   "cell_type": "code",
   "execution_count": 14,
   "metadata": {},
   "outputs": [
    {
     "data": {
      "text/html": [
       "<table border=\"1\" class=\"dataframe\">\n",
       "    <thead>\n",
       "        <tr>\n",
       "            <th>Region</th> <th>Location</th> <th>IntensityLevel</th> <th>count</th>\n",
       "        </tr>\n",
       "    </thead>\n",
       "    <tbody>\n",
       "        <tr>\n",
       "            <td>Middle East</td> <td>Lebanon </td> <td>War (at least 1000 battle-related deaths)</td> <td>3    </td>\n",
       "        </tr>\n",
       "    </tbody>\n",
       "</table>"
      ],
      "text/plain": [
       "Region      | Location | IntensityLevel                            | count\n",
       "Middle East | Lebanon  | War (at least 1000 battle-related deaths) | 3"
      ]
     },
     "execution_count": 14,
     "metadata": {},
     "output_type": "execute_result"
    }
   ],
   "source": [
    "m_east.take(4) #fifth row of the dataset, above"
   ]
  },
  {
   "cell_type": "markdown",
   "metadata": {},
   "source": [
    "Lastly, here are the Middle East locations with the most wars."
   ]
  },
  {
   "cell_type": "code",
   "execution_count": 15,
   "metadata": {},
   "outputs": [
    {
     "data": {
      "text/html": [
       "<table border=\"1\" class=\"dataframe\">\n",
       "    <thead>\n",
       "        <tr>\n",
       "            <th>Region</th> <th>Location</th> <th>IntensityLevel</th> <th>count</th>\n",
       "        </tr>\n",
       "    </thead>\n",
       "    <tbody>\n",
       "        <tr>\n",
       "            <td>Middle East</td> <td>Lebanon            </td> <td>War (at least 1000 battle-related deaths)</td> <td>3    </td>\n",
       "        </tr>\n",
       "        <tr>\n",
       "            <td>Middle East</td> <td>Yemen (North Yemen)</td> <td>War (at least 1000 battle-related deaths)</td> <td>2    </td>\n",
       "        </tr>\n",
       "        <tr>\n",
       "            <td>Middle East</td> <td>Syria              </td> <td>War (at least 1000 battle-related deaths)</td> <td>1    </td>\n",
       "        </tr>\n",
       "        <tr>\n",
       "            <td>Middle East</td> <td>South Yemen        </td> <td>War (at least 1000 battle-related deaths)</td> <td>1    </td>\n",
       "        </tr>\n",
       "        <tr>\n",
       "            <td>Middle East</td> <td>Iraq               </td> <td>War (at least 1000 battle-related deaths)</td> <td>1    </td>\n",
       "        </tr>\n",
       "    </tbody>\n",
       "</table>"
      ],
      "text/plain": [
       "Region      | Location            | IntensityLevel                            | count\n",
       "Middle East | Lebanon             | War (at least 1000 battle-related deaths) | 3\n",
       "Middle East | Yemen (North Yemen) | War (at least 1000 battle-related deaths) | 2\n",
       "Middle East | Syria               | War (at least 1000 battle-related deaths) | 1\n",
       "Middle East | South Yemen         | War (at least 1000 battle-related deaths) | 1\n",
       "Middle East | Iraq                | War (at least 1000 battle-related deaths) | 1"
      ]
     },
     "execution_count": 15,
     "metadata": {},
     "output_type": "execute_result"
    }
   ],
   "source": [
    "m_east.where('IntensityLevel', are.containing('War')) # filter to just show war rows"
   ]
  },
  {
   "cell_type": "markdown",
   "metadata": {},
   "source": [
    "Again, we can see that the greatest number of war occurences with a 'War' intensity level was Lebanon, followed by Yemen (North Yemen), and so forth.  "
   ]
  },
  {
   "cell_type": "markdown",
   "metadata": {},
   "source": [
    "# Civil War Analysis <a id='2'></a>\n",
    "In this section, we will do further analysis on civil war occurrences. Here is the original dataset again."
   ]
  },
  {
   "cell_type": "code",
   "execution_count": 16,
   "metadata": {},
   "outputs": [
    {
     "data": {
      "text/html": [
       "<table border=\"1\" class=\"dataframe\">\n",
       "    <thead>\n",
       "        <tr>\n",
       "            <th>ConflictId</th> <th>DyadId</th> <th>Location</th> <th>SideA</th> <th>SideB</th> <th>DisagreementOver</th> <th>IntensityLevel</th> <th>TypeOfConflict</th> <th>StartDate</th> <th>EndDate</th> <th>Outcome</th> <th>Region</th>\n",
       "        </tr>\n",
       "    </thead>\n",
       "    <tbody>\n",
       "        <tr>\n",
       "            <td>1-191     </td> <td>1     </td> <td>Algeria </td> <td>Government of Algeria</td> <td>AIS              </td> <td>Government      </td> <td>Minor (between 25 and 999 battle-related deaths)</td> <td>Internal armed conflict</td> <td>08/27/1985</td> <td>10/01/1997</td> <td>Ceasefire                                </td> <td>Africa</td>\n",
       "        </tr>\n",
       "        <tr>\n",
       "            <td>1-191     </td> <td>2     </td> <td>Algeria </td> <td>Government of Algeria</td> <td>Takfir wa'l Hijra</td> <td>Government      </td> <td>Minor (between 25 and 999 battle-related deaths)</td> <td>Internal armed conflict</td> <td>12/20/1990</td> <td>12/31/1991</td> <td>Actor ceases to exist                    </td> <td>Africa</td>\n",
       "        </tr>\n",
       "        <tr>\n",
       "            <td>1-191     </td> <td>3     </td> <td>Algeria </td> <td>Government of Algeria</td> <td>GIA              </td> <td>Government      </td> <td>Minor (between 25 and 999 battle-related deaths)</td> <td>Internal armed conflict</td> <td>02/10/1992</td> <td>12/31/2003</td> <td>Low activity (less than 25 battle-deaths)</td> <td>Africa</td>\n",
       "        </tr>\n",
       "        <tr>\n",
       "            <td>1-131     </td> <td>7     </td> <td>Angola  </td> <td>Government of Angola </td> <td>UNITA            </td> <td>Government      </td> <td>Minor (between 25 and 999 battle-related deaths)</td> <td>Internal armed conflict</td> <td>11/11/1975</td> <td>12/24/1995</td> <td>Low activity (less than 25 battle-deaths)</td> <td>Africa</td>\n",
       "        </tr>\n",
       "        <tr>\n",
       "            <td>1-90      </td> <td>11    </td> <td>Burundi </td> <td>Government of Burundi</td> <td>Palipehutu       </td> <td>Government      </td> <td>Minor (between 25 and 999 battle-related deaths)</td> <td>Internal armed conflict</td> <td>11/23/1991</td> <td>04/14/1992</td> <td>Low activity (less than 25 battle-deaths)</td> <td>Africa</td>\n",
       "        </tr>\n",
       "    </tbody>\n",
       "</table>\n",
       "<p>... (398 rows omitted)</p>"
      ],
      "text/plain": [
       "<IPython.core.display.HTML object>"
      ]
     },
     "metadata": {},
     "output_type": "display_data"
    }
   ],
   "source": [
    "wars.show(5)"
   ]
  },
  {
   "cell_type": "markdown",
   "metadata": {},
   "source": [
    "First, let's find which years had the most civil wars. In case you're curious about the wars in a particular year, here is [list of civil wars](https://en.wikipedia.org/wiki/List_of_civil_wars).\n",
    "In order to do this, we will load in a cleaned data set, which shows one row for each year a civil war occurred."
   ]
  },
  {
   "cell_type": "code",
   "execution_count": 17,
   "metadata": {},
   "outputs": [
    {
     "data": {
      "text/html": [
       "<table border=\"1\" class=\"dataframe\">\n",
       "    <thead>\n",
       "        <tr>\n",
       "            <th>Year</th> <th>ConflictId</th> <th>DyadId</th> <th>Location</th> <th>SideA</th> <th>SideA_Ally</th> <th>SideB</th> <th>SideB_Ally</th> <th>DisagreementOver</th> <th>TerritoryName</th> <th>IntensityLevel</th> <th>TypeOfConflict</th> <th>StartDate</th> <th>EndDate</th> <th>Outcome</th> <th>CeasefireDate</th> <th>PeaceAgreementDate</th> <th>Region</th>\n",
       "        </tr>\n",
       "    </thead>\n",
       "    <tbody>\n",
       "        <tr>\n",
       "            <td>1992</td> <td>1-191     </td> <td>1     </td> <td>Algeria </td> <td>Government of Algeria</td> <td>nan       </td> <td>AIS  </td> <td>nan       </td> <td>Government      </td> <td>nan          </td> <td>Minor (between 25 and 999 battle-related deaths)</td> <td>Internal armed conflict</td> <td>1985-08-27</td> <td>nan    </td> <td>nan    </td> <td>nan          </td> <td>nan               </td> <td>Africa</td>\n",
       "        </tr>\n",
       "        <tr>\n",
       "            <td>1993</td> <td>1-191     </td> <td>1     </td> <td>Algeria </td> <td>Government of Algeria</td> <td>nan       </td> <td>AIS  </td> <td>nan       </td> <td>Government      </td> <td>nan          </td> <td>Minor (between 25 and 999 battle-related deaths)</td> <td>Internal armed conflict</td> <td>1985-08-27</td> <td>nan    </td> <td>nan    </td> <td>nan          </td> <td>nan               </td> <td>Africa</td>\n",
       "        </tr>\n",
       "        <tr>\n",
       "            <td>1994</td> <td>1-191     </td> <td>1     </td> <td>Algeria </td> <td>Government of Algeria</td> <td>nan       </td> <td>AIS  </td> <td>nan       </td> <td>Government      </td> <td>nan          </td> <td>War (at least 1000 battle-related deaths)       </td> <td>Internal armed conflict</td> <td>1985-08-27</td> <td>nan    </td> <td>nan    </td> <td>nan          </td> <td>nan               </td> <td>Africa</td>\n",
       "        </tr>\n",
       "    </tbody>\n",
       "</table>\n",
       "<p>... (2738 rows omitted)</p>"
      ],
      "text/plain": [
       "<IPython.core.display.HTML object>"
      ]
     },
     "metadata": {},
     "output_type": "display_data"
    }
   ],
   "source": [
    "war_years = Table.read_table('cleanedWars.csv') # read in the dataset\n",
    "war_years.set_format('Year', formats.FunctionFormatter(lambda x: x)) # fix format of year column\n",
    "war_years.show(3)"
   ]
  },
  {
   "cell_type": "code",
   "execution_count": 26,
   "metadata": {},
   "outputs": [
    {
     "data": {
      "text/html": [
       "<table border=\"1\" class=\"dataframe\">\n",
       "    <thead>\n",
       "        <tr>\n",
       "            <th>Year</th> <th>count</th>\n",
       "        </tr>\n",
       "    </thead>\n",
       "    <tbody>\n",
       "        <tr>\n",
       "            <td>1991</td> <td>66   </td>\n",
       "        </tr>\n",
       "        <tr>\n",
       "            <td>1990</td> <td>65   </td>\n",
       "        </tr>\n",
       "        <tr>\n",
       "            <td>1987</td> <td>63   </td>\n",
       "        </tr>\n",
       "        <tr>\n",
       "            <td>1986</td> <td>60   </td>\n",
       "        </tr>\n",
       "        <tr>\n",
       "            <td>1984</td> <td>60   </td>\n",
       "        </tr>\n",
       "        <tr>\n",
       "            <td>1992</td> <td>59   </td>\n",
       "        </tr>\n",
       "        <tr>\n",
       "            <td>1989</td> <td>59   </td>\n",
       "        </tr>\n",
       "        <tr>\n",
       "            <td>1994</td> <td>58   </td>\n",
       "        </tr>\n",
       "        <tr>\n",
       "            <td>1983</td> <td>58   </td>\n",
       "        </tr>\n",
       "        <tr>\n",
       "            <td>1982</td> <td>58   </td>\n",
       "        </tr>\n",
       "    </tbody>\n",
       "</table>\n",
       "<p>... (59 rows omitted)</p>"
      ],
      "text/plain": [
       "Year | count\n",
       "1991 | 66\n",
       "1990 | 65\n",
       "1987 | 63\n",
       "1986 | 60\n",
       "1984 | 60\n",
       "1992 | 59\n",
       "1989 | 59\n",
       "1994 | 58\n",
       "1983 | 58\n",
       "1982 | 58\n",
       "... (59 rows omitted)"
      ]
     },
     "execution_count": 26,
     "metadata": {},
     "output_type": "execute_result"
    }
   ],
   "source": [
    "years = war_years.group('Year').sort('count', descending = True) # count number of occurences of each year\n",
    "years.set_format('Year', formats.FunctionFormatter(lambda x: x)) # fix format of year column\n",
    "years"
   ]
  },
  {
   "cell_type": "markdown",
   "metadata": {},
   "source": [
    "Let's make a bar graph of the `IntensityLevel` for a particular year. Run the cell below, then use the dropdown menu to select a year. After selecting a year, the graph will show the number of conflicts of each intensity level in the chosen year."
   ]
  },
  {
   "cell_type": "code",
   "execution_count": 35,
   "metadata": {},
   "outputs": [
    {
     "data": {
      "application/vnd.jupyter.widget-view+json": {
       "model_id": "a83cd596fe4c4333bf645c9d30de527e",
       "version_major": 2,
       "version_minor": 0
      },
      "text/plain": [
       "interactive(children=(Dropdown(description='year', options=(1946, 1947, 1948, 1949, 1950, 1951, 1952, 1953, 19…"
      ]
     },
     "metadata": {},
     "output_type": "display_data"
    }
   ],
   "source": [
    "@interact(year=np.arange(1946, 2015))\n",
    "def year_graph(year):\n",
    "    # filter data by chosen year and group by intensity level\n",
    "    one_year = war_years.where('Year', year).group('IntensityLevel').sort('IntensityLevel')\n",
    "    plt.bar(one_year.column('IntensityLevel'), one_year.column('count')) # create bar graph\n",
    "    plt.xticks((0, 1), ('Minor', 'War')) # set x axis labels to be Minor and War\n",
    "    plt.ylabel(\"Count\") # set y axis label\n",
    "    plt.title('Number of Conflicts of Each Intensity Level in {}'.format(year)) # set title of graph\n",
    "    plt.show()"
   ]
  },
  {
   "cell_type": "markdown",
   "metadata": {},
   "source": [
    "In case you are curious, here is the same code as about, just without the dropdown menu. You can replace the `...` below with a year and then run the cell to generate the same graph as above."
   ]
  },
  {
   "cell_type": "code",
   "execution_count": 34,
   "metadata": {},
   "outputs": [
    {
     "data": {
      "image/png": "[encoded data removed]",
      "text/plain": [
       "<Figure size 432x288 with 1 Axes>"
      ]
     },
     "metadata": {},
     "output_type": "display_data"
    }
   ],
   "source": [
    "year = ... # replace the ... with a year, for example 1991\n",
    "\n",
    "# filter data by chosen year and group by intensity level\n",
    "one_year = war_years.where('Year', year).group('IntensityLevel').sort('IntensityLevel')\n",
    "plt.bar(one_year.column('IntensityLevel'), one_year.column('count')) # create bar graph\n",
    "plt.xticks((0, 1), ('Minor', 'War')) # set x axis labels to be Minor and War\n",
    "plt.ylabel(\"Count\") # set y axis label\n",
    "plt.title('Number of Conflicts of Each Intensity Level in {}'.format(year)) # set title of graph\n",
    "plt.show()"
   ]
  },
  {
   "cell_type": "markdown",
   "metadata": {},
   "source": [
    "You should be able to see two bars in the plot above, one for the \"Minor\" and one for the \"War\" intensity levels, for the year you chose."
   ]
  },
  {
   "cell_type": "markdown",
   "metadata": {},
   "source": [
    "Next, we're going to examine the `Outcome` of the civil wars. Here are all the possible values in the `Outcome` column."
   ]
  },
  {
   "cell_type": "code",
   "execution_count": 33,
   "metadata": {},
   "outputs": [
    {
     "data": {
      "text/plain": [
       "['Victory for Side A /Government Side',\n",
       " 'Peace agreement',\n",
       " 'Victory for Side B /Rebel Side',\n",
       " 'Actor ceases to exist',\n",
       " 'Ceasefire',\n",
       " 'Low activity (less than 25 battle-deaths)']"
      ]
     },
     "execution_count": 33,
     "metadata": {},
     "output_type": "execute_result"
    }
   ],
   "source": [
    "list(set(wars.column('Outcome')))"
   ]
  },
  {
   "cell_type": "markdown",
   "metadata": {},
   "source": [
    "A summary of what the Termination Types mean is below: \n",
    "\n",
    "- **Actor ceases to exist** -- War activity continues with at least one party no longer existing or becoming a different type of party. For states, this means that the state became part of another country or a central government was no longer obvious. For rebel organizations, this means that the organization changed their name along with altering their alliances or territorial goals\n",
    "- **Ceasefire** -- Fighting stops, but not necessarily with any resolution. \n",
    "- **Low activity (less than 25 battle-deaths)** -- War activity may continue, but fatality rates are below the fatality level defined by the authors of the dataset\n",
    "- **Peace agreement** -- An agreement signed by opposing sides to formally end the war. \n",
    "- **Victory for Side A/Government Side** -- The government side of the war wins and the rebel side loses\n",
    "- **Victory for Side A/Rebel Side** -- The rebel side wins and the government side loses "
   ]
  },
  {
   "cell_type": "markdown",
   "metadata": {},
   "source": [
    "Here are the number of occurances of each Terminatino Type."
   ]
  },
  {
   "cell_type": "code",
   "execution_count": 46,
   "metadata": {},
   "outputs": [
    {
     "data": {
      "text/html": [
       "<table border=\"1\" class=\"dataframe\">\n",
       "    <thead>\n",
       "        <tr>\n",
       "            <th>Outcome</th> <th>count</th>\n",
       "        </tr>\n",
       "    </thead>\n",
       "    <tbody>\n",
       "        <tr>\n",
       "            <td>Low activity (less than 25 battle-deaths)</td> <td>127  </td>\n",
       "        </tr>\n",
       "        <tr>\n",
       "            <td>Victory for Side A /Government Side      </td> <td>93   </td>\n",
       "        </tr>\n",
       "        <tr>\n",
       "            <td>Peace agreement                          </td> <td>50   </td>\n",
       "        </tr>\n",
       "        <tr>\n",
       "            <td>Actor ceases to exist                    </td> <td>46   </td>\n",
       "        </tr>\n",
       "        <tr>\n",
       "            <td>Victory for Side B /Rebel Side           </td> <td>44   </td>\n",
       "        </tr>\n",
       "        <tr>\n",
       "            <td>Ceasefire                                </td> <td>43   </td>\n",
       "        </tr>\n",
       "    </tbody>\n",
       "</table>"
      ],
      "text/plain": [
       "Outcome                                   | count\n",
       "Low activity (less than 25 battle-deaths) | 127\n",
       "Victory for Side A /Government Side       | 93\n",
       "Peace agreement                           | 50\n",
       "Actor ceases to exist                     | 46\n",
       "Victory for Side B /Rebel Side            | 44\n",
       "Ceasefire                                 | 43"
      ]
     },
     "execution_count": 46,
     "metadata": {},
     "output_type": "execute_result"
    }
   ],
   "source": [
    "wars.group('Outcome').sort('count', descending=True)"
   ]
  },
  {
   "cell_type": "markdown",
   "metadata": {},
   "source": [
    "And here is the Termination Type breakdown by region, sorted in order of most occurances."
   ]
  },
  {
   "cell_type": "code",
   "execution_count": 47,
   "metadata": {},
   "outputs": [
    {
     "data": {
      "text/html": [
       "<table border=\"1\" class=\"dataframe\">\n",
       "    <thead>\n",
       "        <tr>\n",
       "            <th>Region</th> <th>Outcome</th> <th>count</th>\n",
       "        </tr>\n",
       "    </thead>\n",
       "    <tbody>\n",
       "        <tr>\n",
       "            <td>Asia       </td> <td>Low activity (less than 25 battle-deaths)</td> <td>48   </td>\n",
       "        </tr>\n",
       "        <tr>\n",
       "            <td>Africa     </td> <td>Low activity (less than 25 battle-deaths)</td> <td>48   </td>\n",
       "        </tr>\n",
       "        <tr>\n",
       "            <td>Africa     </td> <td>Victory for Side A /Government Side      </td> <td>36   </td>\n",
       "        </tr>\n",
       "        <tr>\n",
       "            <td>Africa     </td> <td>Peace agreement                          </td> <td>32   </td>\n",
       "        </tr>\n",
       "        <tr>\n",
       "            <td>Asia       </td> <td>Victory for Side A /Government Side      </td> <td>27   </td>\n",
       "        </tr>\n",
       "        <tr>\n",
       "            <td>Asia       </td> <td>Ceasefire                                </td> <td>18   </td>\n",
       "        </tr>\n",
       "        <tr>\n",
       "            <td>Africa     </td> <td>Victory for Side B /Rebel Side           </td> <td>18   </td>\n",
       "        </tr>\n",
       "        <tr>\n",
       "            <td>Americas   </td> <td>Victory for Side A /Government Side      </td> <td>16   </td>\n",
       "        </tr>\n",
       "        <tr>\n",
       "            <td>Middle East</td> <td>Low activity (less than 25 battle-deaths)</td> <td>15   </td>\n",
       "        </tr>\n",
       "        <tr>\n",
       "            <td>Africa     </td> <td>Actor ceases to exist                    </td> <td>15   </td>\n",
       "        </tr>\n",
       "    </tbody>\n",
       "</table>\n",
       "<p>... (20 rows omitted)</p>"
      ],
      "text/plain": [
       "Region      | Outcome                                   | count\n",
       "Asia        | Low activity (less than 25 battle-deaths) | 48\n",
       "Africa      | Low activity (less than 25 battle-deaths) | 48\n",
       "Africa      | Victory for Side A /Government Side       | 36\n",
       "Africa      | Peace agreement                           | 32\n",
       "Asia        | Victory for Side A /Government Side       | 27\n",
       "Asia        | Ceasefire                                 | 18\n",
       "Africa      | Victory for Side B /Rebel Side            | 18\n",
       "Americas    | Victory for Side A /Government Side       | 16\n",
       "Middle East | Low activity (less than 25 battle-deaths) | 15\n",
       "Africa      | Actor ceases to exist                     | 15\n",
       "... (20 rows omitted)"
      ]
     },
     "execution_count": 47,
     "metadata": {},
     "output_type": "execute_result"
    }
   ],
   "source": [
    "wars.group(['Region', 'Outcome']).sort('count', descending=True)"
   ]
  },
  {
   "cell_type": "markdown",
   "metadata": {},
   "source": [
    "# Visualize the Data <a id='3'></a>"
   ]
  },
  {
   "cell_type": "markdown",
   "metadata": {},
   "source": [
    "Here is a bar graph of the outcomes of all the civil wars in the dataset."
   ]
  },
  {
   "cell_type": "code",
   "execution_count": 43,
   "metadata": {},
   "outputs": [
    {
     "data": {
      "image/png": "[encoded data removed]",
      "text/plain": [
       "<Figure size 432x288 with 1 Axes>"
      ]
     },
     "metadata": {},
     "output_type": "display_data"
    }
   ],
   "source": [
    "termination_count = civil_wars.group('Outcome') # count number of each termination type\n",
    "termination_count.bar('Outcome') # generate bar graph\n",
    "plt.xticks(rotation=90) # make x axis labels vertical\n",
    "plt.title(\"Number of Each Outcome\") # title graph\n",
    "plt.show()"
   ]
  },
  {
   "cell_type": "markdown",
   "metadata": {},
   "source": [
    "We can see that the greatest type of wars terminated are conflicts that did not terminate, labeled with the description you chose in the previous section. We can see the second greatest type of wars terminated are Low activity conflicts. "
   ]
  },
  {
   "cell_type": "markdown",
   "metadata": {},
   "source": [
    "Here is the same graph, but zoomed in so we can focus on the last 6 bars. Notice the change in the y axis."
   ]
  },
  {
   "cell_type": "code",
   "execution_count": 47,
   "metadata": {},
   "outputs": [
    {
     "data": {
      "image/png": "[encoded data removed]",
      "text/plain": [
       "<Figure size 432x288 with 1 Axes>"
      ]
     },
     "metadata": {},
     "output_type": "display_data"
    }
   ],
   "source": [
    "termination_count.bar('Outcome') # generate bar graph\n",
    "plt.xticks(rotation=90) # make x axis labels vertical\n",
    "plt.title(\"Number of Each Outcome\") # title graph\n",
    "plt.ylim(0, 60) # show graph from y = 0 to 250\n",
    "plt.show()"
   ]
  },
  {
   "cell_type": "markdown",
   "metadata": {},
   "source": [
    "Now let's visualize how the number of civil wars varies over time. This line graph shows the number of civil wars in each year. You'll notice the spike in the number of wars during the 1990s."
   ]
  },
  {
   "cell_type": "code",
   "execution_count": 50,
   "metadata": {},
   "outputs": [
    {
     "data": {
      "image/png": "[encoded data removed]",
      "text/plain": [
       "<Figure size 432x288 with 1 Axes>"
      ]
     },
     "metadata": {},
     "output_type": "display_data"
    }
   ],
   "source": [
    "civil_trend = war_years.group('Year') # count number of civil wars per year\n",
    "\n",
    "civil_trend.plot('Year') # generate line graph\n",
    "plt.title(\"Number of Civil Wars over Time\") # title graph\n",
    "plt.show()"
   ]
  },
  {
   "cell_type": "markdown",
   "metadata": {},
   "source": [
    "## Discussion <a id='3a'></a>"
   ]
  },
  {
   "cell_type": "markdown",
   "metadata": {},
   "source": [
    "We can see that there was an increasing trend in the number of civil wars between 1946 and 1990, with the highest number of civl wars occurring in the 1990s, particularly 1990 and 1991. \n",
    "\n",
    "With a partner, discuss the following question: **What events are occurring around or during the years highlighted above and how might these events influence the trends we observe in the graph (above)?**\n",
    "\n",
    "For some information to consider, click [here]() to read this article **Insert article listed in meeting notes once link is given**"
   ]
  },
  {
   "cell_type": "markdown",
   "metadata": {},
   "source": [
    "**Solution (only show in solution notebook??):**\n",
    "\n",
    "The increase in civil wars is partly attributed to the end of the Cold War in 1991, where many civil wars were occurring in places previously under colonial rule. At the same time, 1990 and 1991 were also years where many civil wars ended, thus contributing to the spike in the 1990s. \n",
    "\n",
    "Some links relating to trends in the graph are below:\n",
    "- For a list of civil wars in the 1990s, click [here](https://en.wikipedia.org/wiki/List_of_civil_wars) and scroll to the \"Modern (1800-1945)\" and \"1945-2000\" sections.\n",
    "- For more information on the influence of the Cold War, click [here](https://en.wikipedia.org/wiki/Civil_war) and scroll to the \"Effect of the Cold War\" section.\n",
    "- For more information on the increasing trends in civil wars, click [here](http://documents.worldbank.org/curated/en/908361468779415791/310436360_20050007005532/additional/multi0page.pdf)."
   ]
  },
  {
   "cell_type": "markdown",
   "metadata": {},
   "source": [
    "# Choose a Conflict  <a id='4'></a>\n",
    "\n",
    "Run the cell below and select a location in the dropdown menu. We can use this to view only the rows that correspond to the chosen location."
   ]
  },
  {
   "cell_type": "code",
   "execution_count": 42,
   "metadata": {},
   "outputs": [
    {
     "data": {
      "application/vnd.jupyter.widget-view+json": {
       "model_id": "e138f3b8ce0c4e6da262fbaf76cf19f0",
       "version_major": 2,
       "version_minor": 0
      },
      "text/plain": [
       "interactive(children=(Dropdown(description='location', options=('Afghanistan', 'Afghanistan, Russia (Soviet Un…"
      ]
     },
     "metadata": {},
     "output_type": "display_data"
    }
   ],
   "source": [
    "locations = np.sort(list(set(war_years.column('Location'))))\n",
    "@interact(location=locations)\n",
    "def location_filter(location):\n",
    "    war_years.where('Location', location).show()"
   ]
  },
  {
   "cell_type": "markdown",
   "metadata": {},
   "source": [
    "Use the cells above to choose a conflict that looks the most interesting to you. Once you find one, write down the `DyadId`. Use the dropdown menu below to select the `DyadId` you chose. This will display the rows in the table that have the `DyadId` of your choice."
   ]
  },
  {
   "cell_type": "code",
   "execution_count": 43,
   "metadata": {},
   "outputs": [
    {
     "data": {
      "application/vnd.jupyter.widget-view+json": {
       "model_id": "38f60b95050746fb958aa593067aff6e",
       "version_major": 2,
       "version_minor": 0
      },
      "text/plain": [
       "interactive(children=(Dropdown(description='dyadid', options=(1, 2, 3, 4, 7, 11, 12, 13, 14, 15, 16, 17, 18, 1…"
      ]
     },
     "metadata": {},
     "output_type": "display_data"
    }
   ],
   "source": [
    "dyadids = np.sort(list(set(war_years.column('DyadId'))))\n",
    "@interact(dyadid=dyadids)\n",
    "def location_filter(dyadid):\n",
    "    war_years.where('DyadId', dyadid).show()"
   ]
  },
  {
   "cell_type": "markdown",
   "metadata": {},
   "source": [
    "We hope you enjoyed this notebook and learned a few things! In case you wish to explore the dataset more on your own, here is the link to download the dataset: https://ucdp.uu.se/downloads/#d5."
   ]
  },
  {
   "cell_type": "markdown",
   "metadata": {},
   "source": [
    "# Data Science Opportunities at UC Berkeley <a id='5'></a>"
   ]
  },
  {
   "cell_type": "markdown",
   "metadata": {},
   "source": [
    "If you are interested in data science, we offer several courses and even a major / minor here at UC Berkeley. Some great courses to start out are Data 8 and some 2 unit connector courses like History 88 and Demography 88. For the full list of courses we offer, click [here](https://data.berkeley.edu/academics/undergraduate-programs/data-science-offerings)."
   ]
  },
  {
   "cell_type": "markdown",
   "metadata": {},
   "source": [
    "# Bibliography <a id='6'></a>\n",
    "* Kreutz, Joakim, 2010. How and When Armed Conflicts End: Introducing the UCDP Conflict Termination Dataset. *Journal of Peace Research* 47(2): 243-250."
   ]
  },
  {
   "cell_type": "code",
   "execution_count": null,
   "metadata": {},
   "outputs": [],
   "source": []
  }
 ],
 "metadata": {
  "kernelspec": {
   "display_name": "Python 3",
   "language": "python",
   "name": "python3"
  },
  "language_info": {
   "codemirror_mode": {
    "name": "ipython",
    "version": 3
   },
   "file_extension": ".py",
   "mimetype": "text/x-python",
   "name": "python",
   "nbconvert_exporter": "python",
   "pygments_lexer": "ipython3",
   "version": "3.5.6"
  }
 },
 "nbformat": 4,
 "nbformat_minor": 2
}
