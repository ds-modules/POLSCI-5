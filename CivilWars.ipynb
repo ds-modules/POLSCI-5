{
 "cells": [
  {
   "cell_type": "code",
   "execution_count": 4,
   "metadata": {},
   "outputs": [],
   "source": [
    "from datascience import *"
   ]
  },
  {
   "cell_type": "code",
   "execution_count": 9,
   "metadata": {},
   "outputs": [],
   "source": [
    "wars = Table.read_table('ucdp-term-dyadic-2015.csv') # read in the dataset"
   ]
  },
  {
   "cell_type": "code",
   "execution_count": 11,
   "metadata": {},
   "outputs": [
    {
     "data": {
      "text/html": [
       "<table border=\"1\" class=\"dataframe\">\n",
       "    <thead>\n",
       "        <tr>\n",
       "            <th>ConflictId</th> <th>DyadId</th> <th>DyadEp</th> <th>Year</th> <th>Location</th> <th>SideA</th> <th>SideA2nd</th> <th>SideB</th> <th>SideBID</th> <th>SideB2nd</th> <th>Incompatibility</th> <th>TerritoryName</th> <th>IntensityLevel</th> <th>TypeOfConflict</th> <th>Type2</th> <th>StartDate</th> <th>StartPrec</th> <th>StartDate2</th> <th>StartPrec2</th> <th>Dyadterm</th> <th>EpEndDate</th> <th>EpEndPrec</th> <th>Outcome_early</th> <th>Outcome</th> <th>CfireDate</th> <th>PeAgDate</th> <th>GWNoA</th> <th>GWNoA2nd</th> <th>GWNoB</th> <th>GWNoB2nd</th> <th>GWNoLoc</th> <th>Region</th> <th>Version</th>\n",
       "        </tr>\n",
       "    </thead>\n",
       "    <tbody>\n",
       "        <tr>\n",
       "            <td>1-191     </td> <td>1     </td> <td>101   </td> <td>1,992</td> <td>Algeria </td> <td>Government of Algeria</td> <td>nan     </td> <td>AIS              </td> <td>1389   </td> <td>nan     </td> <td>2              </td> <td>nan          </td> <td>1             </td> <td>3             </td> <td>3    </td> <td>1985-08-27</td> <td>1        </td> <td>1992-03-10</td> <td>5         </td> <td>0       </td> <td>nan      </td> <td>nan      </td> <td>nan          </td> <td>nan    </td> <td>nan      </td> <td>nan     </td> <td>615  </td> <td>nan     </td> <td>nan  </td> <td>nan     </td> <td>615    </td> <td>4     </td> <td>2.0-2015</td>\n",
       "        </tr>\n",
       "        <tr>\n",
       "            <td>1-191     </td> <td>1     </td> <td>101   </td> <td>1,993</td> <td>Algeria </td> <td>Government of Algeria</td> <td>nan     </td> <td>AIS              </td> <td>1389   </td> <td>nan     </td> <td>2              </td> <td>nan          </td> <td>1             </td> <td>3             </td> <td>3    </td> <td>1985-08-27</td> <td>1        </td> <td>1992-03-10</td> <td>5         </td> <td>0       </td> <td>nan      </td> <td>nan      </td> <td>nan          </td> <td>nan    </td> <td>nan      </td> <td>nan     </td> <td>615  </td> <td>nan     </td> <td>nan  </td> <td>nan     </td> <td>615    </td> <td>4     </td> <td>2.0-2015</td>\n",
       "        </tr>\n",
       "        <tr>\n",
       "            <td>1-191     </td> <td>1     </td> <td>101   </td> <td>1,994</td> <td>Algeria </td> <td>Government of Algeria</td> <td>nan     </td> <td>AIS              </td> <td>1389   </td> <td>nan     </td> <td>2              </td> <td>nan          </td> <td>2             </td> <td>3             </td> <td>3    </td> <td>1985-08-27</td> <td>1        </td> <td>1992-03-10</td> <td>5         </td> <td>0       </td> <td>nan      </td> <td>nan      </td> <td>nan          </td> <td>nan    </td> <td>nan      </td> <td>nan     </td> <td>615  </td> <td>nan     </td> <td>nan  </td> <td>nan     </td> <td>615    </td> <td>4     </td> <td>2.0-2015</td>\n",
       "        </tr>\n",
       "        <tr>\n",
       "            <td>1-191     </td> <td>1     </td> <td>101   </td> <td>1,995</td> <td>Algeria </td> <td>Government of Algeria</td> <td>nan     </td> <td>AIS              </td> <td>1389   </td> <td>nan     </td> <td>2              </td> <td>nan          </td> <td>1             </td> <td>3             </td> <td>3    </td> <td>1985-08-27</td> <td>1        </td> <td>1992-03-10</td> <td>5         </td> <td>0       </td> <td>nan      </td> <td>nan      </td> <td>nan          </td> <td>nan    </td> <td>nan      </td> <td>nan     </td> <td>615  </td> <td>nan     </td> <td>nan  </td> <td>nan     </td> <td>615    </td> <td>4     </td> <td>2.0-2015</td>\n",
       "        </tr>\n",
       "        <tr>\n",
       "            <td>1-191     </td> <td>1     </td> <td>101   </td> <td>1,996</td> <td>Algeria </td> <td>Government of Algeria</td> <td>nan     </td> <td>AIS              </td> <td>1389   </td> <td>nan     </td> <td>2              </td> <td>nan          </td> <td>1             </td> <td>3             </td> <td>3    </td> <td>1985-08-27</td> <td>1        </td> <td>1992-03-10</td> <td>5         </td> <td>0       </td> <td>nan      </td> <td>nan      </td> <td>nan          </td> <td>nan    </td> <td>nan      </td> <td>nan     </td> <td>615  </td> <td>nan     </td> <td>nan  </td> <td>nan     </td> <td>615    </td> <td>4     </td> <td>2.0-2015</td>\n",
       "        </tr>\n",
       "        <tr>\n",
       "            <td>1-191     </td> <td>1     </td> <td>101   </td> <td>1,997</td> <td>Algeria </td> <td>Government of Algeria</td> <td>nan     </td> <td>AIS              </td> <td>1389   </td> <td>nan     </td> <td>2              </td> <td>nan          </td> <td>1             </td> <td>3             </td> <td>3    </td> <td>1985-08-27</td> <td>1        </td> <td>1992-03-10</td> <td>5         </td> <td>1       </td> <td>10/1/97  </td> <td>1        </td> <td>2            </td> <td>2      </td> <td>10/1/97  </td> <td>nan     </td> <td>615  </td> <td>nan     </td> <td>nan  </td> <td>nan     </td> <td>615    </td> <td>4     </td> <td>2.0-2015</td>\n",
       "        </tr>\n",
       "        <tr>\n",
       "            <td>1-191     </td> <td>2     </td> <td>201   </td> <td>1,991</td> <td>Algeria </td> <td>Government of Algeria</td> <td>nan     </td> <td>Takfir wa'l Hijra</td> <td>1388   </td> <td>nan     </td> <td>2              </td> <td>nan          </td> <td>1             </td> <td>3             </td> <td>3    </td> <td>1990-12-20</td> <td>1        </td> <td>1991-12-09</td> <td>1         </td> <td>1       </td> <td>12/31/91 </td> <td>5        </td> <td>5            </td> <td>6      </td> <td>nan      </td> <td>nan     </td> <td>615  </td> <td>nan     </td> <td>nan  </td> <td>nan     </td> <td>615    </td> <td>4     </td> <td>2.0-2015</td>\n",
       "        </tr>\n",
       "        <tr>\n",
       "            <td>1-191     </td> <td>3     </td> <td>301   </td> <td>1,993</td> <td>Algeria </td> <td>Government of Algeria</td> <td>nan     </td> <td>GIA              </td> <td>1390   </td> <td>nan     </td> <td>2              </td> <td>nan          </td> <td>1             </td> <td>3             </td> <td>3    </td> <td>1992-02-10</td> <td>1        </td> <td>1993-12-31</td> <td>5         </td> <td>0       </td> <td>nan      </td> <td>nan      </td> <td>nan          </td> <td>nan    </td> <td>nan      </td> <td>nan     </td> <td>615  </td> <td>nan     </td> <td>nan  </td> <td>nan     </td> <td>615    </td> <td>4     </td> <td>2.0-2015</td>\n",
       "        </tr>\n",
       "        <tr>\n",
       "            <td>1-191     </td> <td>3     </td> <td>301   </td> <td>1,994</td> <td>Algeria </td> <td>Government of Algeria</td> <td>nan     </td> <td>GIA              </td> <td>1390   </td> <td>nan     </td> <td>2              </td> <td>nan          </td> <td>1             </td> <td>3             </td> <td>3    </td> <td>1992-02-10</td> <td>1        </td> <td>1993-12-31</td> <td>5         </td> <td>0       </td> <td>nan      </td> <td>nan      </td> <td>nan          </td> <td>nan    </td> <td>nan      </td> <td>nan     </td> <td>615  </td> <td>nan     </td> <td>nan  </td> <td>nan     </td> <td>615    </td> <td>4     </td> <td>2.0-2015</td>\n",
       "        </tr>\n",
       "        <tr>\n",
       "            <td>1-191     </td> <td>3     </td> <td>301   </td> <td>1,995</td> <td>Algeria </td> <td>Government of Algeria</td> <td>nan     </td> <td>GIA              </td> <td>1390   </td> <td>nan     </td> <td>2              </td> <td>nan          </td> <td>2             </td> <td>3             </td> <td>3    </td> <td>1992-02-10</td> <td>1        </td> <td>1993-12-31</td> <td>5         </td> <td>0       </td> <td>nan      </td> <td>nan      </td> <td>nan          </td> <td>nan    </td> <td>nan      </td> <td>nan     </td> <td>615  </td> <td>nan     </td> <td>nan  </td> <td>nan     </td> <td>615    </td> <td>4     </td> <td>2.0-2015</td>\n",
       "        </tr>\n",
       "    </tbody>\n",
       "</table>\n",
       "<p>... (2731 rows omitted)</p>"
      ],
      "text/plain": [
       "ConflictId | DyadId | DyadEp | Year  | Location | SideA                 | SideA2nd | SideB             | SideBID | SideB2nd | Incompatibility | TerritoryName | IntensityLevel | TypeOfConflict | Type2 | StartDate  | StartPrec | StartDate2 | StartPrec2 | Dyadterm | EpEndDate | EpEndPrec | Outcome_early | Outcome | CfireDate | PeAgDate | GWNoA | GWNoA2nd | GWNoB | GWNoB2nd | GWNoLoc | Region | Version\n",
       "1-191      | 1      | 101    | 1,992 | Algeria  | Government of Algeria | nan      | AIS               | 1389    | nan      | 2               | nan           | 1              | 3              | 3     | 1985-08-27 | 1         | 1992-03-10 | 5          | 0        | nan       | nan       | nan           | nan     | nan       | nan      | 615   | nan      | nan   | nan      | 615     | 4      | 2.0-2015\n",
       "1-191      | 1      | 101    | 1,993 | Algeria  | Government of Algeria | nan      | AIS               | 1389    | nan      | 2               | nan           | 1              | 3              | 3     | 1985-08-27 | 1         | 1992-03-10 | 5          | 0        | nan       | nan       | nan           | nan     | nan       | nan      | 615   | nan      | nan   | nan      | 615     | 4      | 2.0-2015\n",
       "1-191      | 1      | 101    | 1,994 | Algeria  | Government of Algeria | nan      | AIS               | 1389    | nan      | 2               | nan           | 2              | 3              | 3     | 1985-08-27 | 1         | 1992-03-10 | 5          | 0        | nan       | nan       | nan           | nan     | nan       | nan      | 615   | nan      | nan   | nan      | 615     | 4      | 2.0-2015\n",
       "1-191      | 1      | 101    | 1,995 | Algeria  | Government of Algeria | nan      | AIS               | 1389    | nan      | 2               | nan           | 1              | 3              | 3     | 1985-08-27 | 1         | 1992-03-10 | 5          | 0        | nan       | nan       | nan           | nan     | nan       | nan      | 615   | nan      | nan   | nan      | 615     | 4      | 2.0-2015\n",
       "1-191      | 1      | 101    | 1,996 | Algeria  | Government of Algeria | nan      | AIS               | 1389    | nan      | 2               | nan           | 1              | 3              | 3     | 1985-08-27 | 1         | 1992-03-10 | 5          | 0        | nan       | nan       | nan           | nan     | nan       | nan      | 615   | nan      | nan   | nan      | 615     | 4      | 2.0-2015\n",
       "1-191      | 1      | 101    | 1,997 | Algeria  | Government of Algeria | nan      | AIS               | 1389    | nan      | 2               | nan           | 1              | 3              | 3     | 1985-08-27 | 1         | 1992-03-10 | 5          | 1        | 10/1/97   | 1         | 2             | 2       | 10/1/97   | nan      | 615   | nan      | nan   | nan      | 615     | 4      | 2.0-2015\n",
       "1-191      | 2      | 201    | 1,991 | Algeria  | Government of Algeria | nan      | Takfir wa'l Hijra | 1388    | nan      | 2               | nan           | 1              | 3              | 3     | 1990-12-20 | 1         | 1991-12-09 | 1          | 1        | 12/31/91  | 5         | 5             | 6       | nan       | nan      | 615   | nan      | nan   | nan      | 615     | 4      | 2.0-2015\n",
       "1-191      | 3      | 301    | 1,993 | Algeria  | Government of Algeria | nan      | GIA               | 1390    | nan      | 2               | nan           | 1              | 3              | 3     | 1992-02-10 | 1         | 1993-12-31 | 5          | 0        | nan       | nan       | nan           | nan     | nan       | nan      | 615   | nan      | nan   | nan      | 615     | 4      | 2.0-2015\n",
       "1-191      | 3      | 301    | 1,994 | Algeria  | Government of Algeria | nan      | GIA               | 1390    | nan      | 2               | nan           | 1              | 3              | 3     | 1992-02-10 | 1         | 1993-12-31 | 5          | 0        | nan       | nan       | nan           | nan     | nan       | nan      | 615   | nan      | nan   | nan      | 615     | 4      | 2.0-2015\n",
       "1-191      | 3      | 301    | 1,995 | Algeria  | Government of Algeria | nan      | GIA               | 1390    | nan      | 2               | nan           | 2              | 3              | 3     | 1992-02-10 | 1         | 1993-12-31 | 5          | 0        | nan       | nan       | nan           | nan     | nan       | nan      | 615   | nan      | nan   | nan      | 615     | 4      | 2.0-2015\n",
       "... (2731 rows omitted)"
      ]
     },
     "execution_count": 11,
     "metadata": {},
     "output_type": "execute_result"
    }
   ],
   "source": [
    "wars"
   ]
  },
  {
   "cell_type": "markdown",
   "metadata": {},
   "source": [
    "# Outline\n",
    "## 1. Introduction - how to use Jupyter\n",
    "## 2. The dataset\n",
    "### a) what does a column represent\n",
    "### b) what does a row represent\n",
    "## 3. Civil wars\n",
    "### a) begin cleaning data\n",
    "#### 1. fix year column, potentially replace some codes with what they actually represent\n",
    "### b) show how # rows/columns decrease\n",
    "### c) relabel termination type???\n",
    "## 4. Visualization\n",
    "### a) maybe some graph about the entities involved or number of conflicts over time"
   ]
  },
  {
   "cell_type": "code",
   "execution_count": null,
   "metadata": {},
   "outputs": [],
   "source": []
  }
 ],
 "metadata": {
  "kernelspec": {
   "display_name": "Python 3",
   "language": "python",
   "name": "python3"
  },
  "language_info": {
   "codemirror_mode": {
    "name": "ipython",
    "version": 3
   },
   "file_extension": ".py",
   "mimetype": "text/x-python",
   "name": "python",
   "nbconvert_exporter": "python",
   "pygments_lexer": "ipython3",
   "version": "3.6.8"
  }
 },
 "nbformat": 4,
 "nbformat_minor": 2
}
