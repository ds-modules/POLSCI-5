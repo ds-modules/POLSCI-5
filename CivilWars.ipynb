{
 "cells": [
  {
   "cell_type": "markdown",
   "metadata": {},
   "source": [
    "# [POLSCI 5] Civil Wars\n",
    "\n",
    "Estimated Time: 30-40 Minutes <br>\n",
    "Created by: Lauren Hom, Ravi Singhal\n",
    "\n",
    "In this notebook, we will be exploring what rows and columns represent as well as analyzing some trends in the types of conflicts over time.\n",
    "\n",
    "### Table of Contents \n",
    "\n",
    "\n",
    "1.  <a href='#1'>Jupyter Introduction</a>\n",
    "\n",
    "2. <a href='#2'>The Dataset</a>\n",
    "\n",
    "    a. <a href='#2a'>Columns</a> \n",
    "    \n",
    "    b. <a href='#2b'>Rows</a>\n",
    "<br><br>\n",
    "3. <a href='#3'>Civil Wars</a>\n",
    "\n",
    "4. <a href = '#4'>Visualize the Data</a>\n",
    "\n",
    "5. <a href = '#5'>Data Science Opportunities at UC Berkeley</a>\n",
    "\n",
    "6. <a href = '#6'>Bibliography</a>\n"
   ]
  },
  {
   "cell_type": "markdown",
   "metadata": {},
   "source": [
    "# Jupyter Introduction <a id='1'></a>\n",
    "\n",
    "This webpage is a Jupyter Notebook. We will use this notebook to analyze the Uppsala Conflict Data Program (UCDP) Conflict Termination Dataset. Jupyter Notebooks are composed of both regular text and code cells. Code cells have a gray background. In order to run a code cell, click the cell and press `Shift + Enter` while the cell is selected or hit the `▶| Run` button in the toolbar at the top. An example of a code cell is below. Try running it. If everything works properly, the word \"Success\" should be printed under the cell."
   ]
  },
  {
   "cell_type": "code",
   "execution_count": null,
   "metadata": {},
   "outputs": [],
   "source": [
    "# This cell sets up the notebook. Just run this cell.\n",
    "from datascience import *\n",
    "import numpy as np\n",
    "\n",
    "%matplotlib inline\n",
    "import matplotlib.pyplot as plt\n",
    "plt.style.use('fivethirtyeight')\n",
    "\n",
    "print(\"Success!\")"
   ]
  },
  {
   "cell_type": "markdown",
   "metadata": {},
   "source": [
    "# The Dataset <a id='2'></a>\n",
    "\n",
    "The dataset we will look at contains information about conflicts around world from 1946-2013. A **dataset** is a table with rows and columns that contain values. Here is the description of dateset by the author, Joadim Kreutz.\n",
    "\n",
    "> \"Armed conflict is defined by Uppsala Conflict Data Program (UCDP) \\[as\\] a contested incompatibility that concerns government and/or territory where the use of armed force between two parties, of which at least one is the government of a state, results in at least 25 battle-related deaths in a calender-year.\"\n",
    "\n",
    "> \"A conflict episode, thus, is defined as the a continuous period of active conflict years in the UCDP-PRIO armed conflict dataset. A conflict episode ends when an active year is followed by a year in which there are fewer than 25 battle-related deaths.\"\n",
    "\n",
    "\n",
    "<br>If you want to read more about the dataset, click [here](https://www.pcr.uu.se/research/ucdp/).\n",
    "\n",
    "<br>Here are the first 5 rows of the dataset. You can scroll horizontally when hovering over the table to see the whole data set. There are 2741 rows and 33 columns"
   ]
  },
  {
   "cell_type": "code",
   "execution_count": null,
   "metadata": {},
   "outputs": [],
   "source": [
    "raw = Table.read_table('ucdp-term-dyadic-2015.csv') # read in the dataset\n",
    "raw.show(5)"
   ]
  },
  {
   "cell_type": "markdown",
   "metadata": {},
   "source": [
    "As you can see, there are many columns in the dataset. The value nan (not a number) indicates not applicable or missing value. We have cleaned the dataset by removing some columns and making the values more readable. The cleaned dataset has 18 columns."
   ]
  },
  {
   "cell_type": "code",
   "execution_count": null,
   "metadata": {},
   "outputs": [],
   "source": [
    "wars = Table.read_table('cleanedWars.csv') # read in the dataset\n",
    "wars.set_format('Year', formats.FunctionFormatter(lambda x: x)) # fix format of year column\n",
    "wars.show(5)"
   ]
  },
  {
   "cell_type": "markdown",
   "metadata": {},
   "source": [
    "Note that while the number of *columns* have changed in the cleaned dataset, the number of *rows* have remained the same."
   ]
  },
  {
   "cell_type": "markdown",
   "metadata": {},
   "source": [
    "## Columns <a id='2a'></a>\n"
   ]
  },
  {
   "cell_type": "markdown",
   "metadata": {},
   "source": [
    "Let's dive in!\n",
    "### Location\n",
    "To understand what a *column* is, let's look at a few examples. First, we shall examine the `Location` column. According to the author of the dataset, \n",
    "> \"Location is defined as the government side of a conflict, and should not be interpreted as the geographical location of the conflict.\"\n",
    "\n",
    "To get an idea of what kinds of values are in the `Location` column, here are the number of occurences of the 10 most common locations."
   ]
  },
  {
   "cell_type": "code",
   "execution_count": null,
   "metadata": {},
   "outputs": [],
   "source": [
    "locations = wars.group('Location').sort('count', descending=True) # group by location and sort in descending order\n",
    "locations"
   ]
  },
  {
   "cell_type": "markdown",
   "metadata": {},
   "source": [
    "If we look further down the table, we would see some values in the `Location` column separated by hyphens or commas, like Guinea-Bissau.\n",
    "\n",
    "The author also tells us,\n",
    "> \"The string is split in two ways, hyphen (‘-‘) splits the different sides in an interstate war, and comma (‘,’) splits different countries fighting together on the same side.\"\n",
    "\n",
    "A **string** is text data that shows up red in code cells. Strings are enclosed in double or single quotes. Note that numbers can appear in strings.\n",
    "\n",
    "Let's look at the two cases the author describes."
   ]
  },
  {
   "cell_type": "code",
   "execution_count": null,
   "metadata": {},
   "outputs": [],
   "source": [
    "# Locations with the two sides of an interstate war\n",
    "locations.where('Location', are.containing('-'))"
   ]
  },
  {
   "cell_type": "markdown",
   "metadata": {},
   "source": [
    "We can see there are two locations where the countries/regions are separated by a hypen ('-'). For example, the first row that contains \"Bosnia-Herzegovina\" indicates that there were interstate wars (war(s) between two states).\n",
    "\n",
    "Furthermore, we see two examples of *strings*, the 'Location' string and the '-' hypen string. \n"
   ]
  },
  {
   "cell_type": "code",
   "execution_count": null,
   "metadata": {},
   "outputs": [],
   "source": [
    "# Locations with countries that are fighting on the same side\n",
    "locations.where('Location', are.containing(','))"
   ]
  },
  {
   "cell_type": "markdown",
   "metadata": {},
   "source": [
    "Here we can see the countries/regions that are separated by a comma (','). For example, the first row that contains \"India, Pakistan\" indicates that India and Pakistan fought together on the same side during a war.\n",
    "\n",
    "Again we can see two examples of *strings*, the 'Location' string and the ',' comma string. \n"
   ]
  },
  {
   "cell_type": "markdown",
   "metadata": {},
   "source": [
    "### Region\n",
    "Now let's look at the `Region` column. Again, first we'll look at the number of war occurrences of each region."
   ]
  },
  {
   "cell_type": "code",
   "execution_count": null,
   "metadata": {},
   "outputs": [],
   "source": [
    "regions = wars.group('Region').sort('count', descending=True) # count occurences of each region\n",
    "regions"
   ]
  },
  {
   "cell_type": "markdown",
   "metadata": {},
   "source": [
    "Above, we can see that the first row with the 'Asia' region has the highest `count`, which means that Asia has the largest number of war occurrences in their region."
   ]
  },
  {
   "cell_type": "markdown",
   "metadata": {},
   "source": [
    "In case you were curious, the cell below is the row for the conflict that took place in Europe, Middle East, Asia, and Americas. This marks the beginning of the Iraq War in 2003. For more info, click [here](https://en.wikipedia.org/wiki/Iraq_War)."
   ]
  },
  {
   "cell_type": "code",
   "execution_count": null,
   "metadata": {},
   "outputs": [],
   "source": [
    "wars.where('Region', 'Europe, Middle East, Asia, Americas')"
   ]
  },
  {
   "cell_type": "markdown",
   "metadata": {},
   "source": [
    "### Intensity Level\n",
    "Lastly, we'll look at the `IntensityLevel` column. \n",
    ">The intensity variable is coded in two categories:\n",
    ">1. Minor: between 25 and 999 battle-related deaths in a given year.\n",
    ">2. War: at least 1,000 battle-related deaths in a given year.\n",
    "\n",
    "Here are the number of wars for each type of intensity level, which is represented in the `count` column."
   ]
  },
  {
   "cell_type": "code",
   "execution_count": null,
   "metadata": {},
   "outputs": [],
   "source": [
    "wars.group('IntensityLevel') # group by IntensityLevel"
   ]
  },
  {
   "cell_type": "markdown",
   "metadata": {},
   "source": [
    "Let's break it down by region. First here are the counts of each `IntensityLevel` in each region."
   ]
  },
  {
   "cell_type": "code",
   "execution_count": null,
   "metadata": {},
   "outputs": [],
   "source": [
    "wars.group(['Region', 'IntensityLevel']).sort('count', descending=True).show() # group by Region and IntensityLevel"
   ]
  },
  {
   "cell_type": "markdown",
   "metadata": {},
   "source": [
    "We can see that each region appears twice in the `Region` column, once for each type of intensity level. For example, in the first row we can see that Asia had 860 wars with a \"Minor\" intensity level and in the fourth row, we can see that Asia had 281 wars with a \"War\" intensity level. "
   ]
  },
  {
   "cell_type": "markdown",
   "metadata": {},
   "source": [
    "Let's look specifically at the Middle East. Here are the counts of every type of conflict in each Middle East location."
   ]
  },
  {
   "cell_type": "code",
   "execution_count": null,
   "metadata": {},
   "outputs": [],
   "source": [
    "# filter by region, then group by location and intensity level\n",
    "m_east = wars.where('Region', 'Middle East').group(['Region', 'Location', 'IntensityLevel']).sort(\n",
    "    'count', descending=True)\n",
    "m_east"
   ]
  },
  {
   "cell_type": "markdown",
   "metadata": {},
   "source": [
    "We can see that the greatest number ‘Minor’ war occurences happened in Israel (121 in total) while the great number of ‘war’ wars happened in Iraq (21 in total). The two rows that show this information from the dataset above are shown below."
   ]
  },
  {
   "cell_type": "code",
   "execution_count": null,
   "metadata": {},
   "outputs": [],
   "source": [
    "m_east.take(0) #first row of the dataset, above"
   ]
  },
  {
   "cell_type": "code",
   "execution_count": null,
   "metadata": {},
   "outputs": [],
   "source": [
    "m_east.take(4) #fifth row of the dataset, above"
   ]
  },
  {
   "cell_type": "markdown",
   "metadata": {},
   "source": [
    "Lastly, here are the Middle East locations with the most wars."
   ]
  },
  {
   "cell_type": "code",
   "execution_count": null,
   "metadata": {},
   "outputs": [],
   "source": [
    "m_east.where('IntensityLevel', are.containing('War')) # filter to just show war rows"
   ]
  },
  {
   "cell_type": "markdown",
   "metadata": {},
   "source": [
    "Again, we can see that the greatest number of war occurences with a 'War' intensity level was Iraq (21 in total), followed by Yemen (North Yemen), and interstate war occurences between Iran and Iraq.  "
   ]
  },
  {
   "cell_type": "markdown",
   "metadata": {},
   "source": [
    "## Rows <a id='2b'></a>\n"
   ]
  },
  {
   "cell_type": "markdown",
   "metadata": {},
   "source": [
    "Next, let's examine what a *row* is. Here is the first row of the dataset."
   ]
  },
  {
   "cell_type": "code",
   "execution_count": null,
   "metadata": {},
   "outputs": [],
   "source": [
    "wars.take(0) # take the first row"
   ]
  },
  {
   "cell_type": "markdown",
   "metadata": {},
   "source": [
    "This row gives us information about a specific conflict happening in Algeria in the year 1992. One thing to note is that the `IntensityLevel` of the conflict during this year is Minor. As described in the `IntensityLevel` column, a Minor conflict indicates a war where there were between 25-999 battle-related deaths. "
   ]
  },
  {
   "cell_type": "code",
   "execution_count": null,
   "metadata": {},
   "outputs": [],
   "source": [
    "wars.take(2) # take the third row"
   ]
  },
  {
   "cell_type": "markdown",
   "metadata": {},
   "source": [
    "In comparison, by looking at the third row of the dataset, we can see that the same conflict has now changed to have an `IntensityLevel` of War in the year 1994. We know that the first and third rows correspond to the same conflict because the `ConflictId`s are the same. Each row of this dataset describes one year of one conflict."
   ]
  },
  {
   "cell_type": "markdown",
   "metadata": {},
   "source": [
    "# Civil Wars <a id='3'></a>\n",
    "In this section, we will do further analysis on civil war occurrences. Here is the original dataset again."
   ]
  },
  {
   "cell_type": "code",
   "execution_count": null,
   "metadata": {},
   "outputs": [],
   "source": [
    "wars.show(5)"
   ]
  },
  {
   "cell_type": "markdown",
   "metadata": {},
   "source": [
    "Let's look specifically at civil wars. To do so, we will filter the dataset to select conflicts that are only internal (civil wars)."
   ]
  },
  {
   "cell_type": "code",
   "execution_count": null,
   "metadata": {},
   "outputs": [],
   "source": [
    "civil_wars = wars.where('TypeOfConflict', 'Internal armed conflict') # remove all non civil war rows\n",
    "civil_wars.show(5)"
   ]
  },
  {
   "cell_type": "markdown",
   "metadata": {},
   "source": [
    "Notice the change in the number of rows when we remove all the rows that do not correspond to civil wars."
   ]
  },
  {
   "cell_type": "code",
   "execution_count": null,
   "metadata": {},
   "outputs": [],
   "source": [
    "print(\"The original dataset has {} rows. \\n\\\n",
    "After removing all non civil war rows, the dataset has {} rows left.\".format(wars.num_rows, civil_wars.num_rows))"
   ]
  },
  {
   "cell_type": "markdown",
   "metadata": {},
   "source": [
    "First, let's find which years had the most civil wars. In case you're curious about the wars in a particular year, here is [list of civil wars](https://en.wikipedia.org/wiki/List_of_civil_wars)."
   ]
  },
  {
   "cell_type": "code",
   "execution_count": null,
   "metadata": {},
   "outputs": [],
   "source": [
    "years = civil_wars.group('Year').sort('count', descending = True) # count number of occurences of each year\n",
    "years.set_format('Year', formats.FunctionFormatter(lambda x: x)) # fix format of year column\n",
    "years"
   ]
  },
  {
   "cell_type": "markdown",
   "metadata": {},
   "source": [
    "Let's make a bar graph of the `IntensityLevel` for a particular year. Replace the `...` in the first line of the code cell below with a year."
   ]
  },
  {
   "cell_type": "code",
   "execution_count": null,
   "metadata": {},
   "outputs": [],
   "source": [
    "year = ... # replace the ... with a year, for example 1991\n",
    "\n",
    "# filter data by chosen year and group by intensity level\n",
    "one_year = civil_wars.where('Year', year).group('IntensityLevel').sort('IntensityLevel')\n",
    "plt.bar(one_year.column('IntensityLevel'), one_year.column('count')) # create bar graph\n",
    "plt.xticks((0, 1), ('Minor', 'War')) # set x axis labels to be Minor and War\n",
    "plt.ylabel(\"Count\") # set y axis label\n",
    "plt.title('Number of Conflicts of Each Intensity Level in {}'.format(year)) # set title of graph\n",
    "plt.show()"
   ]
  },
  {
   "cell_type": "markdown",
   "metadata": {},
   "source": [
    "Next, we're going to examine the `Outcome` of the civil wars. Here are all the possible values in the `Outcome` column."
   ]
  },
  {
   "cell_type": "code",
   "execution_count": null,
   "metadata": {},
   "outputs": [],
   "source": [
    "list(set(civil_wars.column('Outcome')))"
   ]
  },
  {
   "cell_type": "markdown",
   "metadata": {},
   "source": [
    "The nan value is a little confusing. Let's replace it with something more informative. In the code cell below, replace the `...` with an informative value. Remember, in this dataset, nan means the conflict did not terminate in this year.\n",
    "\n",
    "After running the cell, scroll the table all the way to the right to see the new column we created, `Termination Type`."
   ]
  },
  {
   "cell_type": "code",
   "execution_count": null,
   "metadata": {},
   "outputs": [],
   "source": [
    "# Replace the ... with a new value. leave the quotes, only replacing the ...\n",
    "# The new line should look something like this\n",
    "# new_value = 'some text'\n",
    "new_value = '...' \n",
    "\n",
    "new_column = np.where(civil_wars.column('Outcome') == 'nan', new_value, civil_wars.column('Outcome'))\n",
    "\n",
    "with_termination = civil_wars.with_column('Termination Type', new_column)\n",
    "with_termination.show(5)"
   ]
  },
  {
   "cell_type": "markdown",
   "metadata": {},
   "source": [
    "Now we can see all of the the Termination Types in the dataset, where the \"nan\" values are replaced by your  informative value."
   ]
  },
  {
   "cell_type": "code",
   "execution_count": null,
   "metadata": {},
   "outputs": [],
   "source": [
    "with_termination.group('Termination Type')"
   ]
  },
  {
   "cell_type": "markdown",
   "metadata": {},
   "source": [
    "A summary of what the remaining Termination Types mean are below: \n",
    "\n",
    "- **Actor ceases to exist** -- War activity continues with at least one party no longer existing or becoming a different type of party. For states, this means that the state became part of another country or a central government was no longer obvious. For rebel organizations, this means that the organization changed their name along with altering their alliances or territorial goals\n",
    "- **Ceasefire** -- Fighting stops, but not necessarily with any resolution. \n",
    "- **Low activity (less than 25 battle-deaths)** -- War activity may continue, but fatality rates are below the fatality level defined by the authors of the dataset\n",
    "- **Peace agreement** -- An agreement signed by opposing sides to formally end the war. \n",
    "- **Victory for Side A/Government Side** -- The government side of the war wins and the rebel side loses\n",
    "- **Victory for Side A/Rebel Side** -- The rebel side wins and the government side loses "
   ]
  },
  {
   "cell_type": "markdown",
   "metadata": {},
   "source": [
    "# Visualize the Data <a id='4'></a>"
   ]
  },
  {
   "cell_type": "markdown",
   "metadata": {},
   "source": [
    "Here is a bar graph of the outcomes of all the civil wars in the dataset."
   ]
  },
  {
   "cell_type": "code",
   "execution_count": null,
   "metadata": {},
   "outputs": [],
   "source": [
    "termination_count = with_termination.group('Termination Type') # count number of each termination type\n",
    "termination_count.bar('Termination Type') # generate bar graph\n",
    "plt.xticks(rotation=90) # make x axis labels vertical\n",
    "plt.title(\"Number of Each Termination Type\") # title graph\n",
    "plt.show()"
   ]
  },
  {
   "cell_type": "markdown",
   "metadata": {},
   "source": [
    "We can see that the greatest type of wars terminated are conflicts that did not terminate, labeled with the description you chose in the previous section. We can see the second greatest type of wars terminated are Low activity conflicts. "
   ]
  },
  {
   "cell_type": "markdown",
   "metadata": {},
   "source": [
    "Here is the same graph, but zoomed in so we can focus on the last 6 bars. Notice the change in the y axis."
   ]
  },
  {
   "cell_type": "code",
   "execution_count": null,
   "metadata": {},
   "outputs": [],
   "source": [
    "termination_count.bar('Termination Type') # generate bar graph\n",
    "plt.xticks(rotation=90) # make x axis labels vertical\n",
    "plt.title(\"Number of Each Termination Type\") # title graph\n",
    "plt.ylim(0, 250) # show graph from y = 0 to 250\n",
    "plt.show()"
   ]
  },
  {
   "cell_type": "markdown",
   "metadata": {},
   "source": [
    "Now let's visualize how the number of civil wars varies over time. This line graph shows the number of civil wars in each year. You'll notice the spike in the number of wars during the 1990s."
   ]
  },
  {
   "cell_type": "code",
   "execution_count": null,
   "metadata": {},
   "outputs": [],
   "source": [
    "civil_trend = civil_wars.group('Year') # count number of civil wars per year\n",
    "\n",
    "civil_trend.plot('Year') # generate line graph\n",
    "plt.title(\"Number of Civil Wars over Time\") # title graph\n",
    "plt.show()"
   ]
  },
  {
   "cell_type": "markdown",
   "metadata": {},
   "source": [
    "We can see that there was an increasing trend in the number of civil wars between 1946 and 1990, with the highest number of civl wars occurring in the 1990s, particularly 1990 and 1991. The increase in civil wars is partly attributed to the end of the Cold War in 1991, where many civil wars were occurring in places previously under colonial rule. At the same time, 1990 and 1991 were also years where many civil wars ended, thus contributing to the spike in the 1990s. \n",
    "\n",
    "Some links relating to trends in the graph are below:\n",
    "- For a list of civil wars in the 1990s, click [here](https://en.wikipedia.org/wiki/List_of_civil_wars) and scroll to the \"Modern (1800-1945)\" and \"1945-2000\" sections.\n",
    "- For more information on the influence of the Cold War, click [here](https://en.wikipedia.org/wiki/Civil_war) and scroll to the \"Effect of the Cold War\" section.\n",
    "- For more information on the increasing trends in civil wars, click [here](http://documents.worldbank.org/curated/en/908361468779415791/310436360_20050007005532/additional/multi0page.pdf)."
   ]
  },
  {
   "cell_type": "markdown",
   "metadata": {},
   "source": [
    "We hope you enjoyed this notebook and learned a few things! In case you wish to explore the dataset more on your own, here is the link to download the dataset: https://ucdp.uu.se/downloads/#d5."
   ]
  },
  {
   "cell_type": "markdown",
   "metadata": {},
   "source": [
    "# Data Science Opportunities at UC Berkeley <a id='5'></a>"
   ]
  },
  {
   "cell_type": "markdown",
   "metadata": {},
   "source": [
    "If you are interested in data science, we offer several courses and even a major / minor here at UC Berkeley. Some great courses to start out are Data 8 and some 2 unit connector courses like LEGALST 88 and Demography 88. For the full list of courses we offer, click [here](https://data.berkeley.edu/academics/undergraduate-programs/data-science-offerings)"
   ]
  },
  {
   "cell_type": "markdown",
   "metadata": {},
   "source": [
    "# Bibliography <a id='6'></a>\n",
    "* Kreutz, Joakim, 2010. How and When Armed Conflicts End: Introducing the UCDP Conflict Termination Dataset. *Journal of Peace Research* 47(2): 243-250."
   ]
  }
 ],
 "metadata": {
  "kernelspec": {
   "display_name": "Python 3",
   "language": "python",
   "name": "python3"
  },
  "language_info": {
   "codemirror_mode": {
    "name": "ipython",
    "version": 3
   },
   "file_extension": ".py",
   "mimetype": "text/x-python",
   "name": "python",
   "nbconvert_exporter": "python",
   "pygments_lexer": "ipython3",
   "version": "3.6.8"
  }
 },
 "nbformat": 4,
 "nbformat_minor": 2
}
