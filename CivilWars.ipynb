{
 "cells": [
  {
   "cell_type": "markdown",
   "metadata": {},
   "source": [
    "# [POLSCI 5] Civil Wars\n",
    "\n",
    "Estimated Time: 30-40 Minutes <br>\n",
    "Created by: Lauren Hom, Ravi Singhal\n",
    "\n",
    "In this notebook, we will be exploring what rows and columns represent as well as analyzing some trends in the types of conflicts over time.\n",
    "\n",
    "### Table of Contents \n",
    "1 - [Jupyter Introduction](#1) <br>\n",
    "2 - [The Dataset](#2)<br>\n",
    "3 - [Civil Wars](#3)<br>\n",
    "4 - [Visualize the Data](#4)<br>\n",
    "5 - [Bibliography](#5)"
   ]
  },
  {
   "cell_type": "markdown",
   "metadata": {},
   "source": [
    "# Jupyter Introduction <a id='1'></a>\n",
    "\n",
    "This webpage is a Jupyter Notebook. We will use this notebook to analyze the Uppsala Conflict Data Program (UCDP) Conflict Termination Dataset. Jupyter Notebooks are composed of both regular text and code cells. Code cells have a gray background. In order to run a code cell, click the cell and press `Shift + Enter` while the cell is selected or hit the `▶| Run` button in the toolbar at the top. An example of a code cell is below. Try running it. If everything works properly, the word \"Success\" should be printed under the cell."
   ]
  },
  {
   "cell_type": "code",
   "execution_count": 1,
   "metadata": {},
   "outputs": [
    {
     "name": "stdout",
     "output_type": "stream",
     "text": [
      "Success!\n"
     ]
    }
   ],
   "source": [
    "# This cell sets up the notebook. Just run this cell.\n",
    "from datascience import *\n",
    "import numpy as np\n",
    "\n",
    "%matplotlib inline\n",
    "import matplotlib.pyplot as plt\n",
    "plt.style.use('fivethirtyeight')\n",
    "\n",
    "print(\"Success!\")"
   ]
  },
  {
   "cell_type": "markdown",
   "metadata": {},
   "source": [
    "# The Dataset <a id='2'></a>\n",
    "\n",
    "The dataset we will look at contains information about conflicts around world from 1946-2013. A **dataset** is a table with rows and columns that contain values. Here is the description of dateset by the author, Joadim Kreutz.\n",
    "\n",
    "> \"Armed conflict is defined by Uppsala Conflict Data Program (UCDP) \\[as\\] a contested incompatibility that concerns government and/or territory where the use of armed force between two parties, of which at least one is the government of a state, results in at least 25 battle-related deaths in a calender-year.\"\n",
    "\n",
    "> \"A conflict episode, thus, is defined as the a continuous period of active conflict years in the UCDP-PRIO armed conflict dataset. A conflict episode ends when an active year is followed by a year in which there are fewer than 25 battle-related deaths.\"\n",
    "\n",
    "\n",
    "<br>If you want to read more about the dataset, click [here](https://www.pcr.uu.se/research/ucdp/).\n",
    "\n",
    "<br>Here are the first 5 rows of the dataset. You can scroll horizontally when hovering over the table to see the whole data set. There are 2741 rows and 33 columns"
   ]
  },
  {
   "cell_type": "code",
   "execution_count": 2,
   "metadata": {},
   "outputs": [
    {
     "data": {
      "text/html": [
       "<table border=\"1\" class=\"dataframe\">\n",
       "    <thead>\n",
       "        <tr>\n",
       "            <th>ConflictId</th> <th>DyadId</th> <th>DyadEp</th> <th>Year</th> <th>Location</th> <th>SideA</th> <th>SideA2nd</th> <th>SideB</th> <th>SideBID</th> <th>SideB2nd</th> <th>Incompatibility</th> <th>TerritoryName</th> <th>IntensityLevel</th> <th>TypeOfConflict</th> <th>Type2</th> <th>StartDate</th> <th>StartPrec</th> <th>StartDate2</th> <th>StartPrec2</th> <th>Dyadterm</th> <th>EpEndDate</th> <th>EpEndPrec</th> <th>Outcome_early</th> <th>Outcome</th> <th>CfireDate</th> <th>PeAgDate</th> <th>GWNoA</th> <th>GWNoA2nd</th> <th>GWNoB</th> <th>GWNoB2nd</th> <th>GWNoLoc</th> <th>Region</th> <th>Version</th>\n",
       "        </tr>\n",
       "    </thead>\n",
       "    <tbody>\n",
       "        <tr>\n",
       "            <td>1-191     </td> <td>1     </td> <td>101   </td> <td>1992</td> <td>Algeria </td> <td>Government of Algeria</td> <td>nan     </td> <td>AIS  </td> <td>1389   </td> <td>nan     </td> <td>2              </td> <td>nan          </td> <td>1             </td> <td>3             </td> <td>3    </td> <td>1985-08-27</td> <td>1        </td> <td>1992-03-10</td> <td>5         </td> <td>0       </td> <td>nan      </td> <td>nan      </td> <td>nan          </td> <td>nan    </td> <td>nan      </td> <td>nan     </td> <td>615  </td> <td>nan     </td> <td>nan  </td> <td>nan     </td> <td>615    </td> <td>4     </td> <td>2.0-2015</td>\n",
       "        </tr>\n",
       "        <tr>\n",
       "            <td>1-191     </td> <td>1     </td> <td>101   </td> <td>1993</td> <td>Algeria </td> <td>Government of Algeria</td> <td>nan     </td> <td>AIS  </td> <td>1389   </td> <td>nan     </td> <td>2              </td> <td>nan          </td> <td>1             </td> <td>3             </td> <td>3    </td> <td>1985-08-27</td> <td>1        </td> <td>1992-03-10</td> <td>5         </td> <td>0       </td> <td>nan      </td> <td>nan      </td> <td>nan          </td> <td>nan    </td> <td>nan      </td> <td>nan     </td> <td>615  </td> <td>nan     </td> <td>nan  </td> <td>nan     </td> <td>615    </td> <td>4     </td> <td>2.0-2015</td>\n",
       "        </tr>\n",
       "        <tr>\n",
       "            <td>1-191     </td> <td>1     </td> <td>101   </td> <td>1994</td> <td>Algeria </td> <td>Government of Algeria</td> <td>nan     </td> <td>AIS  </td> <td>1389   </td> <td>nan     </td> <td>2              </td> <td>nan          </td> <td>2             </td> <td>3             </td> <td>3    </td> <td>1985-08-27</td> <td>1        </td> <td>1992-03-10</td> <td>5         </td> <td>0       </td> <td>nan      </td> <td>nan      </td> <td>nan          </td> <td>nan    </td> <td>nan      </td> <td>nan     </td> <td>615  </td> <td>nan     </td> <td>nan  </td> <td>nan     </td> <td>615    </td> <td>4     </td> <td>2.0-2015</td>\n",
       "        </tr>\n",
       "        <tr>\n",
       "            <td>1-191     </td> <td>1     </td> <td>101   </td> <td>1995</td> <td>Algeria </td> <td>Government of Algeria</td> <td>nan     </td> <td>AIS  </td> <td>1389   </td> <td>nan     </td> <td>2              </td> <td>nan          </td> <td>1             </td> <td>3             </td> <td>3    </td> <td>1985-08-27</td> <td>1        </td> <td>1992-03-10</td> <td>5         </td> <td>0       </td> <td>nan      </td> <td>nan      </td> <td>nan          </td> <td>nan    </td> <td>nan      </td> <td>nan     </td> <td>615  </td> <td>nan     </td> <td>nan  </td> <td>nan     </td> <td>615    </td> <td>4     </td> <td>2.0-2015</td>\n",
       "        </tr>\n",
       "        <tr>\n",
       "            <td>1-191     </td> <td>1     </td> <td>101   </td> <td>1996</td> <td>Algeria </td> <td>Government of Algeria</td> <td>nan     </td> <td>AIS  </td> <td>1389   </td> <td>nan     </td> <td>2              </td> <td>nan          </td> <td>1             </td> <td>3             </td> <td>3    </td> <td>1985-08-27</td> <td>1        </td> <td>1992-03-10</td> <td>5         </td> <td>0       </td> <td>nan      </td> <td>nan      </td> <td>nan          </td> <td>nan    </td> <td>nan      </td> <td>nan     </td> <td>615  </td> <td>nan     </td> <td>nan  </td> <td>nan     </td> <td>615    </td> <td>4     </td> <td>2.0-2015</td>\n",
       "        </tr>\n",
       "    </tbody>\n",
       "</table>\n",
       "<p>... (2736 rows omitted)</p>"
      ],
      "text/plain": [
       "<IPython.core.display.HTML object>"
      ]
     },
     "metadata": {},
     "output_type": "display_data"
    }
   ],
   "source": [
    "raw = Table.read_table('ucdp-term-dyadic-2015.csv') # read in the dataset\n",
    "raw.show(5)"
   ]
  },
  {
   "cell_type": "markdown",
   "metadata": {},
   "source": [
    "As you can see, there are many columns in the dataset. The value nan (not a number) indicates not applicable or missing value. We have cleaned the dataset by removing some columns and making the values more readable. The cleaned dataset has 18 columns."
   ]
  },
  {
   "cell_type": "code",
   "execution_count": 3,
   "metadata": {},
   "outputs": [
    {
     "data": {
      "text/html": [
       "<table border=\"1\" class=\"dataframe\">\n",
       "    <thead>\n",
       "        <tr>\n",
       "            <th>Year</th> <th>ConflictId</th> <th>DyadId</th> <th>Location</th> <th>SideA</th> <th>SideA_Ally</th> <th>SideB</th> <th>SideB_Ally</th> <th>DisagreementOver</th> <th>TerritoryName</th> <th>IntensityLevel</th> <th>TypeOfConflict</th> <th>StartDate</th> <th>EndDate</th> <th>Outcome</th> <th>CeasefireDate</th> <th>PeaceAgreementDate</th> <th>Region</th>\n",
       "        </tr>\n",
       "    </thead>\n",
       "    <tbody>\n",
       "        <tr>\n",
       "            <td>1992</td> <td>1-191     </td> <td>1     </td> <td>Algeria </td> <td>Government of Algeria</td> <td>nan       </td> <td>AIS  </td> <td>nan       </td> <td>Government      </td> <td>nan          </td> <td>Minor (between 25 and 999 battle-related deaths)</td> <td>Internal armed conflict</td> <td>1985-08-27</td> <td>nan    </td> <td>nan    </td> <td>nan          </td> <td>nan               </td> <td>Africa</td>\n",
       "        </tr>\n",
       "        <tr>\n",
       "            <td>1993</td> <td>1-191     </td> <td>1     </td> <td>Algeria </td> <td>Government of Algeria</td> <td>nan       </td> <td>AIS  </td> <td>nan       </td> <td>Government      </td> <td>nan          </td> <td>Minor (between 25 and 999 battle-related deaths)</td> <td>Internal armed conflict</td> <td>1985-08-27</td> <td>nan    </td> <td>nan    </td> <td>nan          </td> <td>nan               </td> <td>Africa</td>\n",
       "        </tr>\n",
       "        <tr>\n",
       "            <td>1994</td> <td>1-191     </td> <td>1     </td> <td>Algeria </td> <td>Government of Algeria</td> <td>nan       </td> <td>AIS  </td> <td>nan       </td> <td>Government      </td> <td>nan          </td> <td>War (at least 1000 battle-related deaths)       </td> <td>Internal armed conflict</td> <td>1985-08-27</td> <td>nan    </td> <td>nan    </td> <td>nan          </td> <td>nan               </td> <td>Africa</td>\n",
       "        </tr>\n",
       "        <tr>\n",
       "            <td>1995</td> <td>1-191     </td> <td>1     </td> <td>Algeria </td> <td>Government of Algeria</td> <td>nan       </td> <td>AIS  </td> <td>nan       </td> <td>Government      </td> <td>nan          </td> <td>Minor (between 25 and 999 battle-related deaths)</td> <td>Internal armed conflict</td> <td>1985-08-27</td> <td>nan    </td> <td>nan    </td> <td>nan          </td> <td>nan               </td> <td>Africa</td>\n",
       "        </tr>\n",
       "        <tr>\n",
       "            <td>1996</td> <td>1-191     </td> <td>1     </td> <td>Algeria </td> <td>Government of Algeria</td> <td>nan       </td> <td>AIS  </td> <td>nan       </td> <td>Government      </td> <td>nan          </td> <td>Minor (between 25 and 999 battle-related deaths)</td> <td>Internal armed conflict</td> <td>1985-08-27</td> <td>nan    </td> <td>nan    </td> <td>nan          </td> <td>nan               </td> <td>Africa</td>\n",
       "        </tr>\n",
       "    </tbody>\n",
       "</table>\n",
       "<p>... (2736 rows omitted)</p>"
      ],
      "text/plain": [
       "<IPython.core.display.HTML object>"
      ]
     },
     "metadata": {},
     "output_type": "display_data"
    }
   ],
   "source": [
    "wars = Table.read_table('cleanedWars.csv') # read in the dataset\n",
    "wars.set_format('Year', formats.FunctionFormatter(lambda x: x)) # fix format of year column\n",
    "wars.show(5)"
   ]
  },
  {
   "cell_type": "markdown",
   "metadata": {},
   "source": [
    "Note that while the number of *columns* have changed in the cleaned dataset, the number of *rows* have remained the same."
   ]
  },
  {
   "cell_type": "markdown",
   "metadata": {},
   "source": [
    "## Columns\n",
    "Let's dive in! <br><br>\n",
    "### Location\n",
    "To understand what a *column* is, let's look at a few examples. First, we shall examine the `Location` column. According to the author of the dataset, \n",
    "> \"Location is defined as the government side of a conflict, and should not be interpreted as the geographical location of the conflict.\"\n",
    "\n",
    "To get an idea of what kinds of values are in the `Location` column, here are the number of occurences of the 10 most common locations."
   ]
  },
  {
   "cell_type": "code",
   "execution_count": 4,
   "metadata": {},
   "outputs": [
    {
     "data": {
      "text/html": [
       "<table border=\"1\" class=\"dataframe\">\n",
       "    <thead>\n",
       "        <tr>\n",
       "            <th>Location</th> <th>count</th>\n",
       "        </tr>\n",
       "    </thead>\n",
       "    <tbody>\n",
       "        <tr>\n",
       "            <td>Myanmar (Burma)</td> <td>314  </td>\n",
       "        </tr>\n",
       "        <tr>\n",
       "            <td>India          </td> <td>178  </td>\n",
       "        </tr>\n",
       "        <tr>\n",
       "            <td>Ethiopia       </td> <td>136  </td>\n",
       "        </tr>\n",
       "        <tr>\n",
       "            <td>Israel         </td> <td>123  </td>\n",
       "        </tr>\n",
       "        <tr>\n",
       "            <td>Philippines    </td> <td>121  </td>\n",
       "        </tr>\n",
       "        <tr>\n",
       "            <td>Afghanistan    </td> <td>120  </td>\n",
       "        </tr>\n",
       "        <tr>\n",
       "            <td>Colombia       </td> <td>93   </td>\n",
       "        </tr>\n",
       "        <tr>\n",
       "            <td>Iraq           </td> <td>80   </td>\n",
       "        </tr>\n",
       "        <tr>\n",
       "            <td>Angola         </td> <td>71   </td>\n",
       "        </tr>\n",
       "        <tr>\n",
       "            <td>Sudan          </td> <td>70   </td>\n",
       "        </tr>\n",
       "    </tbody>\n",
       "</table>\n",
       "<p>... (144 rows omitted)</p>"
      ],
      "text/plain": [
       "Location        | count\n",
       "Myanmar (Burma) | 314\n",
       "India           | 178\n",
       "Ethiopia        | 136\n",
       "Israel          | 123\n",
       "Philippines     | 121\n",
       "Afghanistan     | 120\n",
       "Colombia        | 93\n",
       "Iraq            | 80\n",
       "Angola          | 71\n",
       "Sudan           | 70\n",
       "... (144 rows omitted)"
      ]
     },
     "execution_count": 4,
     "metadata": {},
     "output_type": "execute_result"
    }
   ],
   "source": [
    "locations = wars.group('Location').sort('count', descending=True) # group by location and sort in descending order\n",
    "locations"
   ]
  },
  {
   "cell_type": "markdown",
   "metadata": {},
   "source": [
    "If we look further down the table, we would see some values in the `Location` column separated by hyphens or commas, like Guinea-Bissau.\n",
    "\n",
    "The author also tells us,\n",
    "> \"The string is split in two ways, hyphen (‘-‘) splits the different sides in an interstate war, and comma (‘,’) splits different countries fighting together on the same side.\"\n",
    "\n",
    "A **string** is text data that shows up red in code cells. Strings are enclosed in double or single quotes. Note that numbers can appear in strings.\n",
    "\n",
    "Let's look at the two cases the author describes."
   ]
  },
  {
   "cell_type": "code",
   "execution_count": 5,
   "metadata": {},
   "outputs": [
    {
     "data": {
      "text/html": [
       "<table border=\"1\" class=\"dataframe\">\n",
       "    <thead>\n",
       "        <tr>\n",
       "            <th>Location</th> <th>count</th>\n",
       "        </tr>\n",
       "    </thead>\n",
       "    <tbody>\n",
       "        <tr>\n",
       "            <td>Bosnia-Herzegovina</td> <td>15   </td>\n",
       "        </tr>\n",
       "        <tr>\n",
       "            <td>Guinea-Bissau     </td> <td>13   </td>\n",
       "        </tr>\n",
       "    </tbody>\n",
       "</table>"
      ],
      "text/plain": [
       "Location           | count\n",
       "Bosnia-Herzegovina | 15\n",
       "Guinea-Bissau      | 13"
      ]
     },
     "execution_count": 5,
     "metadata": {},
     "output_type": "execute_result"
    }
   ],
   "source": [
    "# Locations with the two sides of an interstate war\n",
    "locations.where('Location', are.containing('-'))"
   ]
  },
  {
   "cell_type": "markdown",
   "metadata": {},
   "source": [
    "We can see there are two locations where the countries/regions are separated by a hypen ('-'). For example, the first row that contains \"Bosnia-Herzegovina\" indicates that there were interstate wars (war(s) between two states).\n",
    "\n",
    "Furthermore, we see two examples of *strings*, the 'Location' string and the '-' hypen string. \n"
   ]
  },
  {
   "cell_type": "code",
   "execution_count": 6,
   "metadata": {},
   "outputs": [
    {
     "data": {
      "text/html": [
       "<table border=\"1\" class=\"dataframe\">\n",
       "    <thead>\n",
       "        <tr>\n",
       "            <th>Location</th> <th>count</th>\n",
       "        </tr>\n",
       "    </thead>\n",
       "    <tbody>\n",
       "        <tr>\n",
       "            <td>India, Pakistan                       </td> <td>19   </td>\n",
       "        </tr>\n",
       "        <tr>\n",
       "            <td>South Vietnam, Vietnam (North Vietnam)</td> <td>11   </td>\n",
       "        </tr>\n",
       "        <tr>\n",
       "            <td>Iran, Iraq                            </td> <td>10   </td>\n",
       "        </tr>\n",
       "        <tr>\n",
       "            <td>China, Vietnam (North Vietnam)        </td> <td>10   </td>\n",
       "        </tr>\n",
       "        <tr>\n",
       "            <td>North Korea, South Korea              </td> <td>5    </td>\n",
       "        </tr>\n",
       "        <tr>\n",
       "            <td>Indonesia, Malaysia                   </td> <td>4    </td>\n",
       "        </tr>\n",
       "        <tr>\n",
       "            <td>Ethiopia, Somalia                     </td> <td>4    </td>\n",
       "        </tr>\n",
       "        <tr>\n",
       "            <td>Egypt, Israel                         </td> <td>4    </td>\n",
       "        </tr>\n",
       "        <tr>\n",
       "            <td>China, Taiwan                         </td> <td>4    </td>\n",
       "        </tr>\n",
       "        <tr>\n",
       "            <td>Laos, Thailand                        </td> <td>3    </td>\n",
       "        </tr>\n",
       "    </tbody>\n",
       "</table>\n",
       "<p>... (37 rows omitted)</p>"
      ],
      "text/plain": [
       "Location                               | count\n",
       "India, Pakistan                        | 19\n",
       "South Vietnam, Vietnam (North Vietnam) | 11\n",
       "Iran, Iraq                             | 10\n",
       "China, Vietnam (North Vietnam)         | 10\n",
       "North Korea, South Korea               | 5\n",
       "Indonesia, Malaysia                    | 4\n",
       "Ethiopia, Somalia                      | 4\n",
       "Egypt, Israel                          | 4\n",
       "China, Taiwan                          | 4\n",
       "Laos, Thailand                         | 3\n",
       "... (37 rows omitted)"
      ]
     },
     "execution_count": 6,
     "metadata": {},
     "output_type": "execute_result"
    }
   ],
   "source": [
    "# Locations with countries that are fighting on the same side\n",
    "locations.where('Location', are.containing(','))"
   ]
  },
  {
   "cell_type": "markdown",
   "metadata": {},
   "source": [
    "Here we can see the countries/regions that are separated by a comma (','). For example, the first row that contains \"India, Pakistan\" indicates that India and Pakistan fought together on the same side during a war.\n",
    "\n",
    "Again we can see two examples of *strings*, the 'Location' string and the ',' comma string. \n"
   ]
  },
  {
   "cell_type": "markdown",
   "metadata": {},
   "source": [
    "### Region\n",
    "Now let's look at the `Region` column. Again, first we'll look at the number of war occurrences of each region."
   ]
  },
  {
   "cell_type": "code",
   "execution_count": 7,
   "metadata": {},
   "outputs": [
    {
     "data": {
      "text/html": [
       "<table border=\"1\" class=\"dataframe\">\n",
       "    <thead>\n",
       "        <tr>\n",
       "            <th>Region</th> <th>count</th>\n",
       "        </tr>\n",
       "    </thead>\n",
       "    <tbody>\n",
       "        <tr>\n",
       "            <td>Asia                               </td> <td>1141 </td>\n",
       "        </tr>\n",
       "        <tr>\n",
       "            <td>Africa                             </td> <td>828  </td>\n",
       "        </tr>\n",
       "        <tr>\n",
       "            <td>Middle East                        </td> <td>371  </td>\n",
       "        </tr>\n",
       "        <tr>\n",
       "            <td>Americas                           </td> <td>256  </td>\n",
       "        </tr>\n",
       "        <tr>\n",
       "            <td>Europe                             </td> <td>134  </td>\n",
       "        </tr>\n",
       "        <tr>\n",
       "            <td>Europe, Middle East                </td> <td>4    </td>\n",
       "        </tr>\n",
       "        <tr>\n",
       "            <td>Europe, Asia                       </td> <td>4    </td>\n",
       "        </tr>\n",
       "        <tr>\n",
       "            <td>Europe, Middle East, Asia, Americas</td> <td>1    </td>\n",
       "        </tr>\n",
       "        <tr>\n",
       "            <td>Europe, Americas                   </td> <td>1    </td>\n",
       "        </tr>\n",
       "        <tr>\n",
       "            <td>Europe, Africa                     </td> <td>1    </td>\n",
       "        </tr>\n",
       "    </tbody>\n",
       "</table>"
      ],
      "text/plain": [
       "Region                              | count\n",
       "Asia                                | 1141\n",
       "Africa                              | 828\n",
       "Middle East                         | 371\n",
       "Americas                            | 256\n",
       "Europe                              | 134\n",
       "Europe, Middle East                 | 4\n",
       "Europe, Asia                        | 4\n",
       "Europe, Middle East, Asia, Americas | 1\n",
       "Europe, Americas                    | 1\n",
       "Europe, Africa                      | 1"
      ]
     },
     "execution_count": 7,
     "metadata": {},
     "output_type": "execute_result"
    }
   ],
   "source": [
    "regions = wars.group('Region').sort('count', descending=True) # count occurences of each region\n",
    "regions"
   ]
  },
  {
   "cell_type": "markdown",
   "metadata": {},
   "source": [
    "Above, we can see that the first row with the 'Asia' region has the highest `count`, which means that Asia has the largest number of war occurrences in their region."
   ]
  },
  {
   "cell_type": "markdown",
   "metadata": {},
   "source": [
    "In case you were curious, the cell below is the row for the conflict that took place in Europe, Middle East, Asia, and Americas. This marks the beginning of the Iraq War in 2003. For more info, click [here](https://en.wikipedia.org/wiki/Iraq_War)."
   ]
  },
  {
   "cell_type": "code",
   "execution_count": 8,
   "metadata": {},
   "outputs": [
    {
     "data": {
      "text/html": [
       "<table border=\"1\" class=\"dataframe\">\n",
       "    <thead>\n",
       "        <tr>\n",
       "            <th>Year</th> <th>ConflictId</th> <th>DyadId</th> <th>Location</th> <th>SideA</th> <th>SideA_Ally</th> <th>SideB</th> <th>SideB_Ally</th> <th>DisagreementOver</th> <th>TerritoryName</th> <th>IntensityLevel</th> <th>TypeOfConflict</th> <th>StartDate</th> <th>EndDate</th> <th>Outcome</th> <th>CeasefireDate</th> <th>PeaceAgreementDate</th> <th>Region</th>\n",
       "        </tr>\n",
       "    </thead>\n",
       "    <tbody>\n",
       "        <tr>\n",
       "            <td>2003</td> <td>1-226     </td> <td>332   </td> <td>Iraq, Australia, United Kingdom, United States of America</td> <td>Government of Australia, Government of United Kingdom, G ...</td> <td>nan       </td> <td>Government of Iraq</td> <td>nan       </td> <td>Government      </td> <td>nan          </td> <td>War (at least 1000 battle-related deaths)</td> <td>Interstate armed conflict</td> <td>2003-03-20</td> <td>4/9/03 </td> <td>Victory for Side A /Government Side</td> <td>nan          </td> <td>nan               </td> <td>Europe, Middle East, Asia, Americas</td>\n",
       "        </tr>\n",
       "    </tbody>\n",
       "</table>"
      ],
      "text/plain": [
       "Year | ConflictId | DyadId | Location                                                  | SideA                                                        | SideA_Ally | SideB              | SideB_Ally | DisagreementOver | TerritoryName | IntensityLevel                            | TypeOfConflict            | StartDate  | EndDate | Outcome                             | CeasefireDate | PeaceAgreementDate | Region\n",
       "2003 | 1-226      | 332    | Iraq, Australia, United Kingdom, United States of America | Government of Australia, Government of United Kingdom, G ... | nan        | Government of Iraq | nan        | Government       | nan           | War (at least 1000 battle-related deaths) | Interstate armed conflict | 2003-03-20 | 4/9/03  | Victory for Side A /Government Side | nan           | nan                | Europe, Middle East, Asia, Americas"
      ]
     },
     "execution_count": 8,
     "metadata": {},
     "output_type": "execute_result"
    }
   ],
   "source": [
    "wars.where('Region', 'Europe, Middle East, Asia, Americas')"
   ]
  },
  {
   "cell_type": "markdown",
   "metadata": {},
   "source": [
    "### Intensity Level\n",
    "Lastly, we'll look at the `IntensityLevel` column. \n",
    ">The intensity variable is coded in two categories:\n",
    ">1. Minor: between 25 and 999 battle-related deaths in a given year.\n",
    ">2. War: at least 1,000 battle-related deaths in a given year.\n",
    "\n",
    "Here are the number of wars for each type of intensity level, which is represented in the `count` column."
   ]
  },
  {
   "cell_type": "code",
   "execution_count": 9,
   "metadata": {},
   "outputs": [
    {
     "data": {
      "text/html": [
       "<table border=\"1\" class=\"dataframe\">\n",
       "    <thead>\n",
       "        <tr>\n",
       "            <th>IntensityLevel</th> <th>count</th>\n",
       "        </tr>\n",
       "    </thead>\n",
       "    <tbody>\n",
       "        <tr>\n",
       "            <td>Minor (between 25 and 999 battle-related deaths)</td> <td>2121 </td>\n",
       "        </tr>\n",
       "        <tr>\n",
       "            <td>War (at least 1000 battle-related deaths)       </td> <td>620  </td>\n",
       "        </tr>\n",
       "    </tbody>\n",
       "</table>"
      ],
      "text/plain": [
       "IntensityLevel                                   | count\n",
       "Minor (between 25 and 999 battle-related deaths) | 2121\n",
       "War (at least 1000 battle-related deaths)        | 620"
      ]
     },
     "execution_count": 9,
     "metadata": {},
     "output_type": "execute_result"
    }
   ],
   "source": [
    "wars.group('IntensityLevel') # group by IntensityLevel"
   ]
  },
  {
   "cell_type": "markdown",
   "metadata": {},
   "source": [
    "Let's break it down by region. First here are the counts of each `IntensityLevel` in each region."
   ]
  },
  {
   "cell_type": "code",
   "execution_count": 10,
   "metadata": {},
   "outputs": [
    {
     "data": {
      "text/html": [
       "<table border=\"1\" class=\"dataframe\">\n",
       "    <thead>\n",
       "        <tr>\n",
       "            <th>Region</th> <th>IntensityLevel</th> <th>count</th>\n",
       "        </tr>\n",
       "    </thead>\n",
       "    <tbody>\n",
       "        <tr>\n",
       "            <td>Asia                               </td> <td>Minor (between 25 and 999 battle-related deaths)</td> <td>860  </td>\n",
       "        </tr>\n",
       "        <tr>\n",
       "            <td>Africa                             </td> <td>Minor (between 25 and 999 battle-related deaths)</td> <td>634  </td>\n",
       "        </tr>\n",
       "        <tr>\n",
       "            <td>Middle East                        </td> <td>Minor (between 25 and 999 battle-related deaths)</td> <td>298  </td>\n",
       "        </tr>\n",
       "        <tr>\n",
       "            <td>Asia                               </td> <td>War (at least 1000 battle-related deaths)       </td> <td>281  </td>\n",
       "        </tr>\n",
       "        <tr>\n",
       "            <td>Americas                           </td> <td>Minor (between 25 and 999 battle-related deaths)</td> <td>223  </td>\n",
       "        </tr>\n",
       "        <tr>\n",
       "            <td>Africa                             </td> <td>War (at least 1000 battle-related deaths)       </td> <td>194  </td>\n",
       "        </tr>\n",
       "        <tr>\n",
       "            <td>Europe                             </td> <td>Minor (between 25 and 999 battle-related deaths)</td> <td>99   </td>\n",
       "        </tr>\n",
       "        <tr>\n",
       "            <td>Middle East                        </td> <td>War (at least 1000 battle-related deaths)       </td> <td>73   </td>\n",
       "        </tr>\n",
       "        <tr>\n",
       "            <td>Europe                             </td> <td>War (at least 1000 battle-related deaths)       </td> <td>35   </td>\n",
       "        </tr>\n",
       "        <tr>\n",
       "            <td>Americas                           </td> <td>War (at least 1000 battle-related deaths)       </td> <td>33   </td>\n",
       "        </tr>\n",
       "        <tr>\n",
       "            <td>Europe, Asia                       </td> <td>Minor (between 25 and 999 battle-related deaths)</td> <td>4    </td>\n",
       "        </tr>\n",
       "        <tr>\n",
       "            <td>Europe, Middle East                </td> <td>War (at least 1000 battle-related deaths)       </td> <td>2    </td>\n",
       "        </tr>\n",
       "        <tr>\n",
       "            <td>Europe, Middle East                </td> <td>Minor (between 25 and 999 battle-related deaths)</td> <td>2    </td>\n",
       "        </tr>\n",
       "        <tr>\n",
       "            <td>Europe, Middle East, Asia, Americas</td> <td>War (at least 1000 battle-related deaths)       </td> <td>1    </td>\n",
       "        </tr>\n",
       "        <tr>\n",
       "            <td>Europe, Americas                   </td> <td>Minor (between 25 and 999 battle-related deaths)</td> <td>1    </td>\n",
       "        </tr>\n",
       "        <tr>\n",
       "            <td>Europe, Africa                     </td> <td>War (at least 1000 battle-related deaths)       </td> <td>1    </td>\n",
       "        </tr>\n",
       "    </tbody>\n",
       "</table>"
      ],
      "text/plain": [
       "<IPython.core.display.HTML object>"
      ]
     },
     "metadata": {},
     "output_type": "display_data"
    }
   ],
   "source": [
    "wars.group(['Region', 'IntensityLevel']).sort('count', descending=True).show() # group by Region and IntensityLevel"
   ]
  },
  {
   "cell_type": "markdown",
   "metadata": {},
   "source": [
    "We can see that each region appears twice in the `Region` column, once for each type of intensity level. For example, in the first row we can see that Asia had 860 wars with a \"Minor\" intensity level and in the fourth row, we can see that Asia had 281 wars with a \"War\" intensity level. "
   ]
  },
  {
   "cell_type": "markdown",
   "metadata": {},
   "source": [
    "Let's look specifically at the Middle East. Here are the counts of every type of conflict in each Middle East location."
   ]
  },
  {
   "cell_type": "code",
   "execution_count": 11,
   "metadata": {},
   "outputs": [
    {
     "data": {
      "text/html": [
       "<table border=\"1\" class=\"dataframe\">\n",
       "    <thead>\n",
       "        <tr>\n",
       "            <th>Region</th> <th>Location</th> <th>IntensityLevel</th> <th>count</th>\n",
       "        </tr>\n",
       "    </thead>\n",
       "    <tbody>\n",
       "        <tr>\n",
       "            <td>Middle East</td> <td>Israel             </td> <td>Minor (between 25 and 999 battle-related deaths)</td> <td>121  </td>\n",
       "        </tr>\n",
       "        <tr>\n",
       "            <td>Middle East</td> <td>Iraq               </td> <td>Minor (between 25 and 999 battle-related deaths)</td> <td>59   </td>\n",
       "        </tr>\n",
       "        <tr>\n",
       "            <td>Middle East</td> <td>Iran               </td> <td>Minor (between 25 and 999 battle-related deaths)</td> <td>39   </td>\n",
       "        </tr>\n",
       "        <tr>\n",
       "            <td>Middle East</td> <td>Turkey             </td> <td>Minor (between 25 and 999 battle-related deaths)</td> <td>25   </td>\n",
       "        </tr>\n",
       "        <tr>\n",
       "            <td>Middle East</td> <td>Iraq               </td> <td>War (at least 1000 battle-related deaths)       </td> <td>21   </td>\n",
       "        </tr>\n",
       "        <tr>\n",
       "            <td>Middle East</td> <td>Yemen (North Yemen)</td> <td>Minor (between 25 and 999 battle-related deaths)</td> <td>12   </td>\n",
       "        </tr>\n",
       "        <tr>\n",
       "            <td>Middle East</td> <td>Lebanon            </td> <td>Minor (between 25 and 999 battle-related deaths)</td> <td>11   </td>\n",
       "        </tr>\n",
       "        <tr>\n",
       "            <td>Middle East</td> <td>Yemen (North Yemen)</td> <td>War (at least 1000 battle-related deaths)       </td> <td>10   </td>\n",
       "        </tr>\n",
       "        <tr>\n",
       "            <td>Middle East</td> <td>Iran, Iraq         </td> <td>War (at least 1000 battle-related deaths)       </td> <td>9    </td>\n",
       "        </tr>\n",
       "        <tr>\n",
       "            <td>Middle East</td> <td>Turkey             </td> <td>War (at least 1000 battle-related deaths)       </td> <td>8    </td>\n",
       "        </tr>\n",
       "    </tbody>\n",
       "</table>\n",
       "<p>... (19 rows omitted)</p>"
      ],
      "text/plain": [
       "Region      | Location            | IntensityLevel                                   | count\n",
       "Middle East | Israel              | Minor (between 25 and 999 battle-related deaths) | 121\n",
       "Middle East | Iraq                | Minor (between 25 and 999 battle-related deaths) | 59\n",
       "Middle East | Iran                | Minor (between 25 and 999 battle-related deaths) | 39\n",
       "Middle East | Turkey              | Minor (between 25 and 999 battle-related deaths) | 25\n",
       "Middle East | Iraq                | War (at least 1000 battle-related deaths)        | 21\n",
       "Middle East | Yemen (North Yemen) | Minor (between 25 and 999 battle-related deaths) | 12\n",
       "Middle East | Lebanon             | Minor (between 25 and 999 battle-related deaths) | 11\n",
       "Middle East | Yemen (North Yemen) | War (at least 1000 battle-related deaths)        | 10\n",
       "Middle East | Iran, Iraq          | War (at least 1000 battle-related deaths)        | 9\n",
       "Middle East | Turkey              | War (at least 1000 battle-related deaths)        | 8\n",
       "... (19 rows omitted)"
      ]
     },
     "execution_count": 11,
     "metadata": {},
     "output_type": "execute_result"
    }
   ],
   "source": [
    "# filter by region, then group by location and intensity level\n",
    "m_east = wars.where('Region', 'Middle East').group(['Region', 'Location', 'IntensityLevel']).sort(\n",
    "    'count', descending=True)\n",
    "m_east"
   ]
  },
  {
   "cell_type": "markdown",
   "metadata": {},
   "source": [
    "We can see that the greatest number ‘Minor’ war occurences happened in Israel (121 in total) while the great number of ‘war’ wars happened in Iraq (21 in total). The two rows that show this information from the dataset above are shown below."
   ]
  },
  {
   "cell_type": "code",
   "execution_count": 27,
   "metadata": {},
   "outputs": [
    {
     "data": {
      "text/html": [
       "<table border=\"1\" class=\"dataframe\">\n",
       "    <thead>\n",
       "        <tr>\n",
       "            <th>Region</th> <th>Location</th> <th>IntensityLevel</th> <th>count</th>\n",
       "        </tr>\n",
       "    </thead>\n",
       "    <tbody>\n",
       "        <tr>\n",
       "            <td>Middle East</td> <td>Israel  </td> <td>Minor (between 25 and 999 battle-related deaths)</td> <td>121  </td>\n",
       "        </tr>\n",
       "    </tbody>\n",
       "</table>"
      ],
      "text/plain": [
       "Region      | Location | IntensityLevel                                   | count\n",
       "Middle East | Israel   | Minor (between 25 and 999 battle-related deaths) | 121"
      ]
     },
     "execution_count": 27,
     "metadata": {},
     "output_type": "execute_result"
    }
   ],
   "source": [
    "m_east.take(0) #first row of the dataset, above"
   ]
  },
  {
   "cell_type": "code",
   "execution_count": 28,
   "metadata": {},
   "outputs": [
    {
     "data": {
      "text/html": [
       "<table border=\"1\" class=\"dataframe\">\n",
       "    <thead>\n",
       "        <tr>\n",
       "            <th>Region</th> <th>Location</th> <th>IntensityLevel</th> <th>count</th>\n",
       "        </tr>\n",
       "    </thead>\n",
       "    <tbody>\n",
       "        <tr>\n",
       "            <td>Middle East</td> <td>Iraq    </td> <td>War (at least 1000 battle-related deaths)</td> <td>21   </td>\n",
       "        </tr>\n",
       "    </tbody>\n",
       "</table>"
      ],
      "text/plain": [
       "Region      | Location | IntensityLevel                            | count\n",
       "Middle East | Iraq     | War (at least 1000 battle-related deaths) | 21"
      ]
     },
     "execution_count": 28,
     "metadata": {},
     "output_type": "execute_result"
    }
   ],
   "source": [
    "m_east.take(4) #fifth row of the dataset, above"
   ]
  },
  {
   "cell_type": "markdown",
   "metadata": {},
   "source": [
    "Lastly, here are the Middle East locations with the most wars."
   ]
  },
  {
   "cell_type": "code",
   "execution_count": 12,
   "metadata": {},
   "outputs": [
    {
     "data": {
      "text/html": [
       "<table border=\"1\" class=\"dataframe\">\n",
       "    <thead>\n",
       "        <tr>\n",
       "            <th>Region</th> <th>Location</th> <th>IntensityLevel</th> <th>count</th>\n",
       "        </tr>\n",
       "    </thead>\n",
       "    <tbody>\n",
       "        <tr>\n",
       "            <td>Middle East</td> <td>Iraq               </td> <td>War (at least 1000 battle-related deaths)</td> <td>21   </td>\n",
       "        </tr>\n",
       "        <tr>\n",
       "            <td>Middle East</td> <td>Yemen (North Yemen)</td> <td>War (at least 1000 battle-related deaths)</td> <td>10   </td>\n",
       "        </tr>\n",
       "        <tr>\n",
       "            <td>Middle East</td> <td>Iran, Iraq         </td> <td>War (at least 1000 battle-related deaths)</td> <td>9    </td>\n",
       "        </tr>\n",
       "        <tr>\n",
       "            <td>Middle East</td> <td>Turkey             </td> <td>War (at least 1000 battle-related deaths)</td> <td>8    </td>\n",
       "        </tr>\n",
       "        <tr>\n",
       "            <td>Middle East</td> <td>Lebanon            </td> <td>War (at least 1000 battle-related deaths)</td> <td>5    </td>\n",
       "        </tr>\n",
       "        <tr>\n",
       "            <td>Middle East</td> <td>Iran               </td> <td>War (at least 1000 battle-related deaths)</td> <td>5    </td>\n",
       "        </tr>\n",
       "        <tr>\n",
       "            <td>Middle East</td> <td>Syria              </td> <td>War (at least 1000 battle-related deaths)</td> <td>4    </td>\n",
       "        </tr>\n",
       "        <tr>\n",
       "            <td>Middle East</td> <td>Israel, Syria      </td> <td>War (at least 1000 battle-related deaths)</td> <td>2    </td>\n",
       "        </tr>\n",
       "        <tr>\n",
       "            <td>Middle East</td> <td>Israel             </td> <td>War (at least 1000 battle-related deaths)</td> <td>2    </td>\n",
       "        </tr>\n",
       "        <tr>\n",
       "            <td>Middle East</td> <td>Iraq, Kuwait       </td> <td>War (at least 1000 battle-related deaths)</td> <td>2    </td>\n",
       "        </tr>\n",
       "    </tbody>\n",
       "</table>\n",
       "<p>... (4 rows omitted)</p>"
      ],
      "text/plain": [
       "Region      | Location            | IntensityLevel                            | count\n",
       "Middle East | Iraq                | War (at least 1000 battle-related deaths) | 21\n",
       "Middle East | Yemen (North Yemen) | War (at least 1000 battle-related deaths) | 10\n",
       "Middle East | Iran, Iraq          | War (at least 1000 battle-related deaths) | 9\n",
       "Middle East | Turkey              | War (at least 1000 battle-related deaths) | 8\n",
       "Middle East | Lebanon             | War (at least 1000 battle-related deaths) | 5\n",
       "Middle East | Iran                | War (at least 1000 battle-related deaths) | 5\n",
       "Middle East | Syria               | War (at least 1000 battle-related deaths) | 4\n",
       "Middle East | Israel, Syria       | War (at least 1000 battle-related deaths) | 2\n",
       "Middle East | Israel              | War (at least 1000 battle-related deaths) | 2\n",
       "Middle East | Iraq, Kuwait        | War (at least 1000 battle-related deaths) | 2\n",
       "... (4 rows omitted)"
      ]
     },
     "execution_count": 12,
     "metadata": {},
     "output_type": "execute_result"
    }
   ],
   "source": [
    "m_east.where('IntensityLevel', are.containing('War')) # filter to just show war rows"
   ]
  },
  {
   "cell_type": "markdown",
   "metadata": {},
   "source": [
    "Again, we can see that the greatest number of war occurences with a 'War' intensity level was Iraq (21 in total), followed by Yemen (North Yemen), and interstate war occurences between Iran and Iraq.  "
   ]
  },
  {
   "cell_type": "markdown",
   "metadata": {},
   "source": [
    "## Rows\n",
    "Next, let's examine what a *row* is. Here is the first row of the dataset."
   ]
  },
  {
   "cell_type": "code",
   "execution_count": 13,
   "metadata": {},
   "outputs": [
    {
     "data": {
      "text/html": [
       "<table border=\"1\" class=\"dataframe\">\n",
       "    <thead>\n",
       "        <tr>\n",
       "            <th>Year</th> <th>ConflictId</th> <th>DyadId</th> <th>Location</th> <th>SideA</th> <th>SideA_Ally</th> <th>SideB</th> <th>SideB_Ally</th> <th>DisagreementOver</th> <th>TerritoryName</th> <th>IntensityLevel</th> <th>TypeOfConflict</th> <th>StartDate</th> <th>EndDate</th> <th>Outcome</th> <th>CeasefireDate</th> <th>PeaceAgreementDate</th> <th>Region</th>\n",
       "        </tr>\n",
       "    </thead>\n",
       "    <tbody>\n",
       "        <tr>\n",
       "            <td>1992</td> <td>1-191     </td> <td>1     </td> <td>Algeria </td> <td>Government of Algeria</td> <td>nan       </td> <td>AIS  </td> <td>nan       </td> <td>Government      </td> <td>nan          </td> <td>Minor (between 25 and 999 battle-related deaths)</td> <td>Internal armed conflict</td> <td>1985-08-27</td> <td>nan    </td> <td>nan    </td> <td>nan          </td> <td>nan               </td> <td>Africa</td>\n",
       "        </tr>\n",
       "    </tbody>\n",
       "</table>"
      ],
      "text/plain": [
       "Year | ConflictId | DyadId | Location | SideA                 | SideA_Ally | SideB | SideB_Ally | DisagreementOver | TerritoryName | IntensityLevel                                   | TypeOfConflict          | StartDate  | EndDate | Outcome | CeasefireDate | PeaceAgreementDate | Region\n",
       "1992 | 1-191      | 1      | Algeria  | Government of Algeria | nan        | AIS   | nan        | Government       | nan           | Minor (between 25 and 999 battle-related deaths) | Internal armed conflict | 1985-08-27 | nan     | nan     | nan           | nan                | Africa"
      ]
     },
     "execution_count": 13,
     "metadata": {},
     "output_type": "execute_result"
    }
   ],
   "source": [
    "wars.take(0) # take the first row"
   ]
  },
  {
   "cell_type": "markdown",
   "metadata": {},
   "source": [
    "This row gives us information about a specific conflict happening in Algeria in the year 1992. One thing to note is that the `IntensityLevel` of the conflict during this year is Minor. As described in the `IntensityLevel` column, a Minor conflict indicates a war where there were between 25-999 battle-related deaths. "
   ]
  },
  {
   "cell_type": "code",
   "execution_count": 14,
   "metadata": {},
   "outputs": [
    {
     "data": {
      "text/html": [
       "<table border=\"1\" class=\"dataframe\">\n",
       "    <thead>\n",
       "        <tr>\n",
       "            <th>Year</th> <th>ConflictId</th> <th>DyadId</th> <th>Location</th> <th>SideA</th> <th>SideA_Ally</th> <th>SideB</th> <th>SideB_Ally</th> <th>DisagreementOver</th> <th>TerritoryName</th> <th>IntensityLevel</th> <th>TypeOfConflict</th> <th>StartDate</th> <th>EndDate</th> <th>Outcome</th> <th>CeasefireDate</th> <th>PeaceAgreementDate</th> <th>Region</th>\n",
       "        </tr>\n",
       "    </thead>\n",
       "    <tbody>\n",
       "        <tr>\n",
       "            <td>1994</td> <td>1-191     </td> <td>1     </td> <td>Algeria </td> <td>Government of Algeria</td> <td>nan       </td> <td>AIS  </td> <td>nan       </td> <td>Government      </td> <td>nan          </td> <td>War (at least 1000 battle-related deaths)</td> <td>Internal armed conflict</td> <td>1985-08-27</td> <td>nan    </td> <td>nan    </td> <td>nan          </td> <td>nan               </td> <td>Africa</td>\n",
       "        </tr>\n",
       "    </tbody>\n",
       "</table>"
      ],
      "text/plain": [
       "Year | ConflictId | DyadId | Location | SideA                 | SideA_Ally | SideB | SideB_Ally | DisagreementOver | TerritoryName | IntensityLevel                            | TypeOfConflict          | StartDate  | EndDate | Outcome | CeasefireDate | PeaceAgreementDate | Region\n",
       "1994 | 1-191      | 1      | Algeria  | Government of Algeria | nan        | AIS   | nan        | Government       | nan           | War (at least 1000 battle-related deaths) | Internal armed conflict | 1985-08-27 | nan     | nan     | nan           | nan                | Africa"
      ]
     },
     "execution_count": 14,
     "metadata": {},
     "output_type": "execute_result"
    }
   ],
   "source": [
    "wars.take(2) # take the third row"
   ]
  },
  {
   "cell_type": "markdown",
   "metadata": {},
   "source": [
    "In comparison, by looking at the third row of the dataset, we can see that the same conflict has now changed to have an `IntensityLevel` of War in the year 1994. We know that the first and third rows correspond to the same conflict because the `ConflictId`s are the same. Each row of this dataset describes one year of one conflict."
   ]
  },
  {
   "cell_type": "markdown",
   "metadata": {},
   "source": [
    "# Civil Wars <a id='3'></a>\n",
    "In this section, we will do further analysis on civil war occurrences. Here is the original dataset again."
   ]
  },
  {
   "cell_type": "code",
   "execution_count": 15,
   "metadata": {},
   "outputs": [
    {
     "data": {
      "text/html": [
       "<table border=\"1\" class=\"dataframe\">\n",
       "    <thead>\n",
       "        <tr>\n",
       "            <th>Year</th> <th>ConflictId</th> <th>DyadId</th> <th>Location</th> <th>SideA</th> <th>SideA_Ally</th> <th>SideB</th> <th>SideB_Ally</th> <th>DisagreementOver</th> <th>TerritoryName</th> <th>IntensityLevel</th> <th>TypeOfConflict</th> <th>StartDate</th> <th>EndDate</th> <th>Outcome</th> <th>CeasefireDate</th> <th>PeaceAgreementDate</th> <th>Region</th>\n",
       "        </tr>\n",
       "    </thead>\n",
       "    <tbody>\n",
       "        <tr>\n",
       "            <td>1992</td> <td>1-191     </td> <td>1     </td> <td>Algeria </td> <td>Government of Algeria</td> <td>nan       </td> <td>AIS  </td> <td>nan       </td> <td>Government      </td> <td>nan          </td> <td>Minor (between 25 and 999 battle-related deaths)</td> <td>Internal armed conflict</td> <td>1985-08-27</td> <td>nan    </td> <td>nan    </td> <td>nan          </td> <td>nan               </td> <td>Africa</td>\n",
       "        </tr>\n",
       "        <tr>\n",
       "            <td>1993</td> <td>1-191     </td> <td>1     </td> <td>Algeria </td> <td>Government of Algeria</td> <td>nan       </td> <td>AIS  </td> <td>nan       </td> <td>Government      </td> <td>nan          </td> <td>Minor (between 25 and 999 battle-related deaths)</td> <td>Internal armed conflict</td> <td>1985-08-27</td> <td>nan    </td> <td>nan    </td> <td>nan          </td> <td>nan               </td> <td>Africa</td>\n",
       "        </tr>\n",
       "        <tr>\n",
       "            <td>1994</td> <td>1-191     </td> <td>1     </td> <td>Algeria </td> <td>Government of Algeria</td> <td>nan       </td> <td>AIS  </td> <td>nan       </td> <td>Government      </td> <td>nan          </td> <td>War (at least 1000 battle-related deaths)       </td> <td>Internal armed conflict</td> <td>1985-08-27</td> <td>nan    </td> <td>nan    </td> <td>nan          </td> <td>nan               </td> <td>Africa</td>\n",
       "        </tr>\n",
       "        <tr>\n",
       "            <td>1995</td> <td>1-191     </td> <td>1     </td> <td>Algeria </td> <td>Government of Algeria</td> <td>nan       </td> <td>AIS  </td> <td>nan       </td> <td>Government      </td> <td>nan          </td> <td>Minor (between 25 and 999 battle-related deaths)</td> <td>Internal armed conflict</td> <td>1985-08-27</td> <td>nan    </td> <td>nan    </td> <td>nan          </td> <td>nan               </td> <td>Africa</td>\n",
       "        </tr>\n",
       "        <tr>\n",
       "            <td>1996</td> <td>1-191     </td> <td>1     </td> <td>Algeria </td> <td>Government of Algeria</td> <td>nan       </td> <td>AIS  </td> <td>nan       </td> <td>Government      </td> <td>nan          </td> <td>Minor (between 25 and 999 battle-related deaths)</td> <td>Internal armed conflict</td> <td>1985-08-27</td> <td>nan    </td> <td>nan    </td> <td>nan          </td> <td>nan               </td> <td>Africa</td>\n",
       "        </tr>\n",
       "    </tbody>\n",
       "</table>\n",
       "<p>... (2736 rows omitted)</p>"
      ],
      "text/plain": [
       "<IPython.core.display.HTML object>"
      ]
     },
     "metadata": {},
     "output_type": "display_data"
    }
   ],
   "source": [
    "wars.show(5)"
   ]
  },
  {
   "cell_type": "markdown",
   "metadata": {},
   "source": [
    "Let's look specifically at civil wars. To do so, we will filter the dataset to select conflicts that are only internal (civil wars)."
   ]
  },
  {
   "cell_type": "code",
   "execution_count": 16,
   "metadata": {},
   "outputs": [
    {
     "data": {
      "text/html": [
       "<table border=\"1\" class=\"dataframe\">\n",
       "    <thead>\n",
       "        <tr>\n",
       "            <th>Year</th> <th>ConflictId</th> <th>DyadId</th> <th>Location</th> <th>SideA</th> <th>SideA_Ally</th> <th>SideB</th> <th>SideB_Ally</th> <th>DisagreementOver</th> <th>TerritoryName</th> <th>IntensityLevel</th> <th>TypeOfConflict</th> <th>StartDate</th> <th>EndDate</th> <th>Outcome</th> <th>CeasefireDate</th> <th>PeaceAgreementDate</th> <th>Region</th>\n",
       "        </tr>\n",
       "    </thead>\n",
       "    <tbody>\n",
       "        <tr>\n",
       "            <td>1992</td> <td>1-191     </td> <td>1     </td> <td>Algeria </td> <td>Government of Algeria</td> <td>nan       </td> <td>AIS  </td> <td>nan       </td> <td>Government      </td> <td>nan          </td> <td>Minor (between 25 and 999 battle-related deaths)</td> <td>Internal armed conflict</td> <td>1985-08-27</td> <td>nan    </td> <td>nan    </td> <td>nan          </td> <td>nan               </td> <td>Africa</td>\n",
       "        </tr>\n",
       "        <tr>\n",
       "            <td>1993</td> <td>1-191     </td> <td>1     </td> <td>Algeria </td> <td>Government of Algeria</td> <td>nan       </td> <td>AIS  </td> <td>nan       </td> <td>Government      </td> <td>nan          </td> <td>Minor (between 25 and 999 battle-related deaths)</td> <td>Internal armed conflict</td> <td>1985-08-27</td> <td>nan    </td> <td>nan    </td> <td>nan          </td> <td>nan               </td> <td>Africa</td>\n",
       "        </tr>\n",
       "        <tr>\n",
       "            <td>1994</td> <td>1-191     </td> <td>1     </td> <td>Algeria </td> <td>Government of Algeria</td> <td>nan       </td> <td>AIS  </td> <td>nan       </td> <td>Government      </td> <td>nan          </td> <td>War (at least 1000 battle-related deaths)       </td> <td>Internal armed conflict</td> <td>1985-08-27</td> <td>nan    </td> <td>nan    </td> <td>nan          </td> <td>nan               </td> <td>Africa</td>\n",
       "        </tr>\n",
       "        <tr>\n",
       "            <td>1995</td> <td>1-191     </td> <td>1     </td> <td>Algeria </td> <td>Government of Algeria</td> <td>nan       </td> <td>AIS  </td> <td>nan       </td> <td>Government      </td> <td>nan          </td> <td>Minor (between 25 and 999 battle-related deaths)</td> <td>Internal armed conflict</td> <td>1985-08-27</td> <td>nan    </td> <td>nan    </td> <td>nan          </td> <td>nan               </td> <td>Africa</td>\n",
       "        </tr>\n",
       "        <tr>\n",
       "            <td>1996</td> <td>1-191     </td> <td>1     </td> <td>Algeria </td> <td>Government of Algeria</td> <td>nan       </td> <td>AIS  </td> <td>nan       </td> <td>Government      </td> <td>nan          </td> <td>Minor (between 25 and 999 battle-related deaths)</td> <td>Internal armed conflict</td> <td>1985-08-27</td> <td>nan    </td> <td>nan    </td> <td>nan          </td> <td>nan               </td> <td>Africa</td>\n",
       "        </tr>\n",
       "    </tbody>\n",
       "</table>\n",
       "<p>... (2086 rows omitted)</p>"
      ],
      "text/plain": [
       "<IPython.core.display.HTML object>"
      ]
     },
     "metadata": {},
     "output_type": "display_data"
    }
   ],
   "source": [
    "civil_wars = wars.where('TypeOfConflict', 'Internal armed conflict') # remove all non civil war rows\n",
    "civil_wars.show(5)"
   ]
  },
  {
   "cell_type": "markdown",
   "metadata": {},
   "source": [
    "Notice the change in the number of rows when we remove all the rows that do not correspond to civil wars."
   ]
  },
  {
   "cell_type": "code",
   "execution_count": 17,
   "metadata": {},
   "outputs": [
    {
     "name": "stdout",
     "output_type": "stream",
     "text": [
      "The original dataset has 2741 rows. \n",
      "After removing all non civil war rows, the dataset has 2091 rows left.\n"
     ]
    }
   ],
   "source": [
    "print(\"The original dataset has {} rows. \\n\\\n",
    "After removing all non civil war rows, the dataset has {} rows left.\".format(wars.num_rows, civil_wars.num_rows))"
   ]
  },
  {
   "cell_type": "markdown",
   "metadata": {},
   "source": [
    "First, let's find which years had the most civil wars. In case you're curious about the wars in a particular year, here is [list of civil wars](https://en.wikipedia.org/wiki/List_of_civil_wars)."
   ]
  },
  {
   "cell_type": "code",
   "execution_count": 18,
   "metadata": {},
   "outputs": [
    {
     "data": {
      "text/html": [
       "<table border=\"1\" class=\"dataframe\">\n",
       "    <thead>\n",
       "        <tr>\n",
       "            <th>Year</th> <th>count</th>\n",
       "        </tr>\n",
       "    </thead>\n",
       "    <tbody>\n",
       "        <tr>\n",
       "            <td>1991</td> <td>62   </td>\n",
       "        </tr>\n",
       "        <tr>\n",
       "            <td>1990</td> <td>60   </td>\n",
       "        </tr>\n",
       "        <tr>\n",
       "            <td>1994</td> <td>56   </td>\n",
       "        </tr>\n",
       "        <tr>\n",
       "            <td>1992</td> <td>52   </td>\n",
       "        </tr>\n",
       "        <tr>\n",
       "            <td>1997</td> <td>48   </td>\n",
       "        </tr>\n",
       "        <tr>\n",
       "            <td>1993</td> <td>46   </td>\n",
       "        </tr>\n",
       "        <tr>\n",
       "            <td>1996</td> <td>45   </td>\n",
       "        </tr>\n",
       "        <tr>\n",
       "            <td>1989</td> <td>45   </td>\n",
       "        </tr>\n",
       "        <tr>\n",
       "            <td>1987</td> <td>45   </td>\n",
       "        </tr>\n",
       "        <tr>\n",
       "            <td>1986</td> <td>44   </td>\n",
       "        </tr>\n",
       "    </tbody>\n",
       "</table>\n",
       "<p>... (59 rows omitted)</p>"
      ],
      "text/plain": [
       "Year | count\n",
       "1991 | 62\n",
       "1990 | 60\n",
       "1994 | 56\n",
       "1992 | 52\n",
       "1997 | 48\n",
       "1993 | 46\n",
       "1996 | 45\n",
       "1989 | 45\n",
       "1987 | 45\n",
       "1986 | 44\n",
       "... (59 rows omitted)"
      ]
     },
     "execution_count": 18,
     "metadata": {},
     "output_type": "execute_result"
    }
   ],
   "source": [
    "years = civil_wars.group('Year').sort('count', descending = True) # count number of occurences of each year\n",
    "years.set_format('Year', formats.FunctionFormatter(lambda x: x)) # fix format of year column\n",
    "years"
   ]
  },
  {
   "cell_type": "markdown",
   "metadata": {},
   "source": [
    "Let's make a bar graph of the `IntensityLevel` for a particular year. Replace the `...` in the first line of the code cell below with a year."
   ]
  },
  {
   "cell_type": "code",
   "execution_count": 26,
   "metadata": {},
   "outputs": [
    {
     "data": {
      "image/png": "[encoded data removed]",
      "text/plain": [
       "<Figure size 432x288 with 1 Axes>"
      ]
     },
     "metadata": {},
     "output_type": "display_data"
    }
   ],
   "source": [
    "year = ... # replace the ... with a year, for example 1991\n",
    "\n",
    "# filter data by chosen year and group by intensity level\n",
    "one_year = civil_wars.where('Year', year).group('IntensityLevel').sort('IntensityLevel')\n",
    "plt.bar(one_year.column('IntensityLevel'), one_year.column('count')) # create bar graph\n",
    "plt.xticks((0, 1), ('Minor', 'War')) # set x axis labels to be Minor and War\n",
    "plt.ylabel(\"Count\") # set y axis label\n",
    "plt.title('Number of Conflicts of Each Intensity Level in {}'.format(year)) # set title of graph\n",
    "plt.show()"
   ]
  },
  {
   "cell_type": "markdown",
   "metadata": {},
   "source": [
    "Next, we're going to examine the `Outcome` of the civil wars. Here are all the possible values in the `Outcome` column."
   ]
  },
  {
   "cell_type": "code",
   "execution_count": 20,
   "metadata": {},
   "outputs": [
    {
     "data": {
      "text/plain": [
       "['Peace agreement',\n",
       " 'Ceasefire',\n",
       " 'Actor ceases to exist',\n",
       " 'nan',\n",
       " 'Low activity (less than 25 battle-deaths)',\n",
       " 'Victory for Side B /Rebel Side',\n",
       " 'Victory for Side A /Government Side']"
      ]
     },
     "execution_count": 20,
     "metadata": {},
     "output_type": "execute_result"
    }
   ],
   "source": [
    "list(set(civil_wars.column('Outcome')))"
   ]
  },
  {
   "cell_type": "markdown",
   "metadata": {},
   "source": [
    "The nan value is a little confusing. Let's replace it with something more informative. In the code cell below, replace the `...` with an informative value. Remember, in this dataset, nan means the conflict did not terminate in this year.\n",
    "\n",
    "After running the cell, scroll the table all the way to the right to see the new column we created, `Termination Type`."
   ]
  },
  {
   "cell_type": "code",
   "execution_count": 30,
   "metadata": {},
   "outputs": [
    {
     "data": {
      "text/html": [
       "<table border=\"1\" class=\"dataframe\">\n",
       "    <thead>\n",
       "        <tr>\n",
       "            <th>Year</th> <th>ConflictId</th> <th>DyadId</th> <th>Location</th> <th>SideA</th> <th>SideA_Ally</th> <th>SideB</th> <th>SideB_Ally</th> <th>DisagreementOver</th> <th>TerritoryName</th> <th>IntensityLevel</th> <th>TypeOfConflict</th> <th>StartDate</th> <th>EndDate</th> <th>Outcome</th> <th>CeasefireDate</th> <th>PeaceAgreementDate</th> <th>Region</th> <th>Termination Type</th>\n",
       "        </tr>\n",
       "    </thead>\n",
       "    <tbody>\n",
       "        <tr>\n",
       "            <td>1992</td> <td>1-191     </td> <td>1     </td> <td>Algeria </td> <td>Government of Algeria</td> <td>nan       </td> <td>AIS  </td> <td>nan       </td> <td>Government      </td> <td>nan          </td> <td>Minor (between 25 and 999 battle-related deaths)</td> <td>Internal armed conflict</td> <td>1985-08-27</td> <td>nan    </td> <td>nan    </td> <td>nan          </td> <td>nan               </td> <td>Africa</td> <td>...             </td>\n",
       "        </tr>\n",
       "        <tr>\n",
       "            <td>1993</td> <td>1-191     </td> <td>1     </td> <td>Algeria </td> <td>Government of Algeria</td> <td>nan       </td> <td>AIS  </td> <td>nan       </td> <td>Government      </td> <td>nan          </td> <td>Minor (between 25 and 999 battle-related deaths)</td> <td>Internal armed conflict</td> <td>1985-08-27</td> <td>nan    </td> <td>nan    </td> <td>nan          </td> <td>nan               </td> <td>Africa</td> <td>...             </td>\n",
       "        </tr>\n",
       "        <tr>\n",
       "            <td>1994</td> <td>1-191     </td> <td>1     </td> <td>Algeria </td> <td>Government of Algeria</td> <td>nan       </td> <td>AIS  </td> <td>nan       </td> <td>Government      </td> <td>nan          </td> <td>War (at least 1000 battle-related deaths)       </td> <td>Internal armed conflict</td> <td>1985-08-27</td> <td>nan    </td> <td>nan    </td> <td>nan          </td> <td>nan               </td> <td>Africa</td> <td>...             </td>\n",
       "        </tr>\n",
       "        <tr>\n",
       "            <td>1995</td> <td>1-191     </td> <td>1     </td> <td>Algeria </td> <td>Government of Algeria</td> <td>nan       </td> <td>AIS  </td> <td>nan       </td> <td>Government      </td> <td>nan          </td> <td>Minor (between 25 and 999 battle-related deaths)</td> <td>Internal armed conflict</td> <td>1985-08-27</td> <td>nan    </td> <td>nan    </td> <td>nan          </td> <td>nan               </td> <td>Africa</td> <td>...             </td>\n",
       "        </tr>\n",
       "        <tr>\n",
       "            <td>1996</td> <td>1-191     </td> <td>1     </td> <td>Algeria </td> <td>Government of Algeria</td> <td>nan       </td> <td>AIS  </td> <td>nan       </td> <td>Government      </td> <td>nan          </td> <td>Minor (between 25 and 999 battle-related deaths)</td> <td>Internal armed conflict</td> <td>1985-08-27</td> <td>nan    </td> <td>nan    </td> <td>nan          </td> <td>nan               </td> <td>Africa</td> <td>...             </td>\n",
       "        </tr>\n",
       "    </tbody>\n",
       "</table>\n",
       "<p>... (2086 rows omitted)</p>"
      ],
      "text/plain": [
       "<IPython.core.display.HTML object>"
      ]
     },
     "metadata": {},
     "output_type": "display_data"
    }
   ],
   "source": [
    "# Replace the ... with a new value. leave the quotes, only replacing the ...\n",
    "# The new line should look something like this\n",
    "# new_value = 'some text'\n",
    "new_value = '...' \n",
    "\n",
    "new_column = np.where(civil_wars.column('Outcome') == 'nan', new_value, civil_wars.column('Outcome'))\n",
    "\n",
    "with_termination = civil_wars.with_column('Termination Type', new_column)\n",
    "with_termination.show(5)"
   ]
  },
  {
   "cell_type": "markdown",
   "metadata": {},
   "source": [
    "Now we can see all of the the Termination Types in the dataset, where the \"nan\" values are replaced by your  informative value."
   ]
  },
  {
   "cell_type": "code",
   "execution_count": 33,
   "metadata": {},
   "outputs": [
    {
     "data": {
      "text/html": [
       "<table border=\"1\" class=\"dataframe\">\n",
       "    <thead>\n",
       "        <tr>\n",
       "            <th>Termination Type</th> <th>count</th>\n",
       "        </tr>\n",
       "    </thead>\n",
       "    <tbody>\n",
       "        <tr>\n",
       "            <td>...                                      </td> <td>1533 </td>\n",
       "        </tr>\n",
       "        <tr>\n",
       "            <td>Actor ceases to exist                    </td> <td>50   </td>\n",
       "        </tr>\n",
       "        <tr>\n",
       "            <td>Ceasefire                                </td> <td>64   </td>\n",
       "        </tr>\n",
       "        <tr>\n",
       "            <td>Low activity (less than 25 battle-deaths)</td> <td>232  </td>\n",
       "        </tr>\n",
       "        <tr>\n",
       "            <td>Peace agreement                          </td> <td>62   </td>\n",
       "        </tr>\n",
       "        <tr>\n",
       "            <td>Victory for Side A /Government Side      </td> <td>105  </td>\n",
       "        </tr>\n",
       "        <tr>\n",
       "            <td>Victory for Side B /Rebel Side           </td> <td>45   </td>\n",
       "        </tr>\n",
       "    </tbody>\n",
       "</table>"
      ],
      "text/plain": [
       "Termination Type                          | count\n",
       "...                                       | 1533\n",
       "Actor ceases to exist                     | 50\n",
       "Ceasefire                                 | 64\n",
       "Low activity (less than 25 battle-deaths) | 232\n",
       "Peace agreement                           | 62\n",
       "Victory for Side A /Government Side       | 105\n",
       "Victory for Side B /Rebel Side            | 45"
      ]
     },
     "execution_count": 33,
     "metadata": {},
     "output_type": "execute_result"
    }
   ],
   "source": [
    "with_termination.group('Termination Type')"
   ]
  },
  {
   "cell_type": "markdown",
   "metadata": {},
   "source": [
    "A summary of what the remaining Termination Types mean are below: \n",
    "\n",
    "- **Actor ceases to exist** -- War activity continues with at least one party no longer existing or becoming a different type of party. For states, this means that the state became part of another country or a central government was no longer obvious. For rebel organizations, this means that the organization changed their name along with altering their alliances or territorial goals\n",
    "- **Ceasefire** -- Fighting stops, but not necessarily with any resolution. \n",
    "- **Low activity (less than 25 battle-deaths)** -- War activity may continue, but fatality rates are below the fatality level defined by the authors of the dataset\n",
    "- **Peace agreement** -- An agreement signed by opposing sides to formally end the war. \n",
    "- **Victory for Side A/Government Side** -- The government side of the war wins and the rebel side loses\n",
    "- **Victory for Side A/Rebel Side** -- The rebel side wins and the government side loses "
   ]
  },
  {
   "cell_type": "markdown",
   "metadata": {},
   "source": [
    "# Visualize the Data <a id='4'></a>"
   ]
  },
  {
   "cell_type": "markdown",
   "metadata": {},
   "source": [
    "Here is a bar graph of the outcomes of all the civil wars in the dataset."
   ]
  },
  {
   "cell_type": "code",
   "execution_count": 22,
   "metadata": {},
   "outputs": [
    {
     "data": {
      "image/png": "[encoded data removed]",
      "text/plain": [
       "<Figure size 432x288 with 1 Axes>"
      ]
     },
     "metadata": {},
     "output_type": "display_data"
    }
   ],
   "source": [
    "termination_count = with_termination.group('Termination Type') # count number of each termination type\n",
    "termination_count.bar('Termination Type') # generate bar graph\n",
    "plt.xticks(rotation=90) # make x axis labels vertical\n",
    "plt.title(\"Number of Each Termination Type\") # title graph\n",
    "plt.show()"
   ]
  },
  {
   "cell_type": "markdown",
   "metadata": {},
   "source": [
    "Here is the same graph, but zoomed in so we can focus on the last 6 bars. Notice the change in the y axis."
   ]
  },
  {
   "cell_type": "code",
   "execution_count": 23,
   "metadata": {},
   "outputs": [
    {
     "data": {
      "image/png": "[encoded data removed]",
      "text/plain": [
       "<Figure size 432x288 with 1 Axes>"
      ]
     },
     "metadata": {},
     "output_type": "display_data"
    }
   ],
   "source": [
    "termination_count.bar('Termination Type') # generate bar graph\n",
    "plt.xticks(rotation=90) # make x axis labels vertical\n",
    "plt.title(\"Number of Each Termination Type\") # title graph\n",
    "plt.ylim(0, 250) # show graph from y = 0 to 250\n",
    "plt.show()"
   ]
  },
  {
   "cell_type": "markdown",
   "metadata": {},
   "source": [
    "Now let's visualize how the number of civil wars varies over time. This line graph shows the number of civil wars in each year. You'll notice the spike in the number of wars during the 1990s."
   ]
  },
  {
   "cell_type": "code",
   "execution_count": 24,
   "metadata": {},
   "outputs": [
    {
     "data": {
      "image/png": "[encoded data removed]",
      "text/plain": [
       "<Figure size 432x288 with 1 Axes>"
      ]
     },
     "metadata": {},
     "output_type": "display_data"
    }
   ],
   "source": [
    "civil_trend = civil_wars.group('Year') # count number of civil wars per year\n",
    "\n",
    "civil_trend.plot('Year') # generate line graph\n",
    "plt.title(\"Number of Civil Wars over Time\") # title graph\n",
    "plt.show()"
   ]
  },
  {
   "cell_type": "markdown",
   "metadata": {},
   "source": [
    "We hope you enjoyed this notebook and learned a few things! In case you wish to explore the dataset more on your own, here is the link to download the dataset: https://ucdp.uu.se/downloads/#d5."
   ]
  },
  {
   "cell_type": "markdown",
   "metadata": {},
   "source": [
    "# Bibliography <a id='5'></a>\n",
    "* Kreutz, Joakim, 2010. How and When Armed Conflicts End: Introducing the UCDP Conflict Termination Dataset. *Journal of Peace Research* 47(2): 243-250."
   ]
  }
 ],
 "metadata": {
  "kernelspec": {
   "display_name": "Python 3",
   "language": "python",
   "name": "python3"
  },
  "language_info": {
   "codemirror_mode": {
    "name": "ipython",
    "version": 3
   },
   "file_extension": ".py",
   "mimetype": "text/x-python",
   "name": "python",
   "nbconvert_exporter": "python",
   "pygments_lexer": "ipython3",
   "version": "3.6.8"
  }
 },
 "nbformat": 4,
 "nbformat_minor": 2
}
