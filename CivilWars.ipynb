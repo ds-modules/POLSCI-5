{
 "cells": [
  {
   "cell_type": "markdown",
   "metadata": {},
   "source": [
    "# [POLSCI 5] Civil Wars\n",
    "\n",
    "Estimated Time: 30-40 Minutes <br>\n",
    "Created by: Lauren Hom, Ravi Singhal\n",
    "\n",
    "In this notebook, we will be TO DO\n",
    "\n",
    "### Table of Contents \n",
    "1 - [Jupyter Introduction](#1) <br>\n",
    "2 - [The Dataset](#2)<br>\n",
    "3 - [Civil Wars](#3)<br>\n",
    "4 - [Visualize the Data](#4)<br>\n",
    "5 - [Bibliography](#5)"
   ]
  },
  {
   "cell_type": "markdown",
   "metadata": {},
   "source": [
    "# Jupyter Introduction <a id='1'></a>\n",
    "\n",
    "This webpage is a Jupyter Notebook. We will use this notebook to analyze a UCDP Conflict Termination Dataset. Jupyter Notebooks are composed of both regular text and code cells. Code cells have a gray background. In order to run a code cell, click the cell and press `Shift + Enter` while the cell is selected or hit the `▶| Run` button in the toolbar at the top. An example of a code cell is below. Try running it. If everything works properly, the word \"Success\" should be printed under the cell."
   ]
  },
  {
   "cell_type": "code",
   "execution_count": 2,
   "metadata": {},
   "outputs": [
    {
     "name": "stdout",
     "output_type": "stream",
     "text": [
      "Success!\n"
     ]
    }
   ],
   "source": [
    "# This cell sets up the notebook. Just run this cell.\n",
    "from datascience import *\n",
    "import numpy as np\n",
    "\n",
    "%matplotlib inline\n",
    "import matplotlib.pyplot as plt\n",
    "plt.style.use('fivethirtyeight')\n",
    "\n",
    "print(\"Success!\")"
   ]
  },
  {
   "cell_type": "markdown",
   "metadata": {},
   "source": [
    "# The Dataset <a id='2'></a>\n",
    "\n",
    "This dataset contains information about conflicts around world from 1946-2013. Here is the description of dateset by the author, Joadim Kreutz.\n",
    "\n",
    "> \"Armed conflict is defined by Uppsala Conflict Data Program (UCDP) a contested incompatibility that concerns government and/or territory where the use of armed force between two parties, of which at least one is the government of a state, results in at least 25 battle-related deaths in a calender-year.\"\n",
    "\n",
    "> \"A conflict episode, thus, is defined as the a continuous period of active conflict years in the UCDP-PRIO armed conflict dataset. A conflict episode ends when an active year is followed by a year in which there are fewer than 25 battle-related deaths.\"\n",
    "\n",
    "\n",
    "<br>If you want to read more about the dataset, click [here](https://www.pcr.uu.se/research/ucdp/).\n",
    "\n",
    "<br>Here are the first 5 rows of the dataset. You can scroll horizontally when hovering over the table to see the whole data set. There are 2741 rows and 33 columns"
   ]
  },
  {
   "cell_type": "code",
   "execution_count": 35,
   "metadata": {},
   "outputs": [
    {
     "data": {
      "text/html": [
       "<table border=\"1\" class=\"dataframe\">\n",
       "    <thead>\n",
       "        <tr>\n",
       "            <th>ConflictId</th> <th>DyadId</th> <th>DyadEp</th> <th>Year</th> <th>Location</th> <th>SideA</th> <th>SideA2nd</th> <th>SideB</th> <th>SideBID</th> <th>SideB2nd</th> <th>Incompatibility</th> <th>TerritoryName</th> <th>IntensityLevel</th> <th>TypeOfConflict</th> <th>Type2</th> <th>StartDate</th> <th>StartPrec</th> <th>StartDate2</th> <th>StartPrec2</th> <th>Dyadterm</th> <th>EpEndDate</th> <th>EpEndPrec</th> <th>Outcome_early</th> <th>Outcome</th> <th>CfireDate</th> <th>PeAgDate</th> <th>GWNoA</th> <th>GWNoA2nd</th> <th>GWNoB</th> <th>GWNoB2nd</th> <th>GWNoLoc</th> <th>Region</th> <th>Version</th>\n",
       "        </tr>\n",
       "    </thead>\n",
       "    <tbody>\n",
       "        <tr>\n",
       "            <td>1-191     </td> <td>1     </td> <td>101   </td> <td>1,992</td> <td>Algeria </td> <td>Government of Algeria</td> <td>nan     </td> <td>AIS  </td> <td>1389   </td> <td>nan     </td> <td>2              </td> <td>nan          </td> <td>1             </td> <td>3             </td> <td>3    </td> <td>1985-08-27</td> <td>1        </td> <td>1992-03-10</td> <td>5         </td> <td>0       </td> <td>nan      </td> <td>nan      </td> <td>nan          </td> <td>nan    </td> <td>nan      </td> <td>nan     </td> <td>615  </td> <td>nan     </td> <td>nan  </td> <td>nan     </td> <td>615    </td> <td>4     </td> <td>2.0-2015</td>\n",
       "        </tr>\n",
       "        <tr>\n",
       "            <td>1-191     </td> <td>1     </td> <td>101   </td> <td>1,993</td> <td>Algeria </td> <td>Government of Algeria</td> <td>nan     </td> <td>AIS  </td> <td>1389   </td> <td>nan     </td> <td>2              </td> <td>nan          </td> <td>1             </td> <td>3             </td> <td>3    </td> <td>1985-08-27</td> <td>1        </td> <td>1992-03-10</td> <td>5         </td> <td>0       </td> <td>nan      </td> <td>nan      </td> <td>nan          </td> <td>nan    </td> <td>nan      </td> <td>nan     </td> <td>615  </td> <td>nan     </td> <td>nan  </td> <td>nan     </td> <td>615    </td> <td>4     </td> <td>2.0-2015</td>\n",
       "        </tr>\n",
       "        <tr>\n",
       "            <td>1-191     </td> <td>1     </td> <td>101   </td> <td>1,994</td> <td>Algeria </td> <td>Government of Algeria</td> <td>nan     </td> <td>AIS  </td> <td>1389   </td> <td>nan     </td> <td>2              </td> <td>nan          </td> <td>2             </td> <td>3             </td> <td>3    </td> <td>1985-08-27</td> <td>1        </td> <td>1992-03-10</td> <td>5         </td> <td>0       </td> <td>nan      </td> <td>nan      </td> <td>nan          </td> <td>nan    </td> <td>nan      </td> <td>nan     </td> <td>615  </td> <td>nan     </td> <td>nan  </td> <td>nan     </td> <td>615    </td> <td>4     </td> <td>2.0-2015</td>\n",
       "        </tr>\n",
       "        <tr>\n",
       "            <td>1-191     </td> <td>1     </td> <td>101   </td> <td>1,995</td> <td>Algeria </td> <td>Government of Algeria</td> <td>nan     </td> <td>AIS  </td> <td>1389   </td> <td>nan     </td> <td>2              </td> <td>nan          </td> <td>1             </td> <td>3             </td> <td>3    </td> <td>1985-08-27</td> <td>1        </td> <td>1992-03-10</td> <td>5         </td> <td>0       </td> <td>nan      </td> <td>nan      </td> <td>nan          </td> <td>nan    </td> <td>nan      </td> <td>nan     </td> <td>615  </td> <td>nan     </td> <td>nan  </td> <td>nan     </td> <td>615    </td> <td>4     </td> <td>2.0-2015</td>\n",
       "        </tr>\n",
       "        <tr>\n",
       "            <td>1-191     </td> <td>1     </td> <td>101   </td> <td>1,996</td> <td>Algeria </td> <td>Government of Algeria</td> <td>nan     </td> <td>AIS  </td> <td>1389   </td> <td>nan     </td> <td>2              </td> <td>nan          </td> <td>1             </td> <td>3             </td> <td>3    </td> <td>1985-08-27</td> <td>1        </td> <td>1992-03-10</td> <td>5         </td> <td>0       </td> <td>nan      </td> <td>nan      </td> <td>nan          </td> <td>nan    </td> <td>nan      </td> <td>nan     </td> <td>615  </td> <td>nan     </td> <td>nan  </td> <td>nan     </td> <td>615    </td> <td>4     </td> <td>2.0-2015</td>\n",
       "        </tr>\n",
       "    </tbody>\n",
       "</table>\n",
       "<p>... (2736 rows omitted)</p>"
      ],
      "text/plain": [
       "<IPython.core.display.HTML object>"
      ]
     },
     "metadata": {},
     "output_type": "display_data"
    }
   ],
   "source": [
    "raw = Table.read_table('ucdp-term-dyadic-2015.csv') # read in the dataset\n",
    "raw.show(5)"
   ]
  },
  {
   "cell_type": "markdown",
   "metadata": {},
   "source": [
    "As you can see, there are quite a few columns and many missing values (nan) in the dataset. We have cleaned the dataset by removing some columns and making the values more readable. The cleaned dataset has 16 columns."
   ]
  },
  {
   "cell_type": "code",
   "execution_count": 53,
   "metadata": {},
   "outputs": [
    {
     "data": {
      "text/html": [
       "<table border=\"1\" class=\"dataframe\">\n",
       "    <thead>\n",
       "        <tr>\n",
       "            <th>Year</th> <th>Location</th> <th>SideA</th> <th>SideA_Ally</th> <th>SideB</th> <th>SideB_Ally</th> <th>DisagreementOver</th> <th>TerritoryName</th> <th>IntensityLevel</th> <th>TypeOfConflict</th> <th>StartDate</th> <th>EndDate</th> <th>Outcome</th> <th>CeasefireDate</th> <th>PeaceAgreementDate</th> <th>Region</th>\n",
       "        </tr>\n",
       "    </thead>\n",
       "    <tbody>\n",
       "        <tr>\n",
       "            <td>1992</td> <td>Algeria </td> <td>Government of Algeria</td> <td>nan       </td> <td>AIS  </td> <td>nan       </td> <td>Government      </td> <td>nan          </td> <td>Minor (between 25 and 999 battle-related deaths)</td> <td>Internal armed conflict</td> <td>1985-08-27</td> <td>nan    </td> <td>nan    </td> <td>nan          </td> <td>nan               </td> <td>Africa</td>\n",
       "        </tr>\n",
       "        <tr>\n",
       "            <td>1993</td> <td>Algeria </td> <td>Government of Algeria</td> <td>nan       </td> <td>AIS  </td> <td>nan       </td> <td>Government      </td> <td>nan          </td> <td>Minor (between 25 and 999 battle-related deaths)</td> <td>Internal armed conflict</td> <td>1985-08-27</td> <td>nan    </td> <td>nan    </td> <td>nan          </td> <td>nan               </td> <td>Africa</td>\n",
       "        </tr>\n",
       "        <tr>\n",
       "            <td>1994</td> <td>Algeria </td> <td>Government of Algeria</td> <td>nan       </td> <td>AIS  </td> <td>nan       </td> <td>Government      </td> <td>nan          </td> <td>War (at least 1000 battle-related deaths)       </td> <td>Internal armed conflict</td> <td>1985-08-27</td> <td>nan    </td> <td>nan    </td> <td>nan          </td> <td>nan               </td> <td>Africa</td>\n",
       "        </tr>\n",
       "        <tr>\n",
       "            <td>1995</td> <td>Algeria </td> <td>Government of Algeria</td> <td>nan       </td> <td>AIS  </td> <td>nan       </td> <td>Government      </td> <td>nan          </td> <td>Minor (between 25 and 999 battle-related deaths)</td> <td>Internal armed conflict</td> <td>1985-08-27</td> <td>nan    </td> <td>nan    </td> <td>nan          </td> <td>nan               </td> <td>Africa</td>\n",
       "        </tr>\n",
       "        <tr>\n",
       "            <td>1996</td> <td>Algeria </td> <td>Government of Algeria</td> <td>nan       </td> <td>AIS  </td> <td>nan       </td> <td>Government      </td> <td>nan          </td> <td>Minor (between 25 and 999 battle-related deaths)</td> <td>Internal armed conflict</td> <td>1985-08-27</td> <td>nan    </td> <td>nan    </td> <td>nan          </td> <td>nan               </td> <td>Africa</td>\n",
       "        </tr>\n",
       "    </tbody>\n",
       "</table>\n",
       "<p>... (2736 rows omitted)</p>"
      ],
      "text/plain": [
       "<IPython.core.display.HTML object>"
      ]
     },
     "metadata": {},
     "output_type": "display_data"
    }
   ],
   "source": [
    "wars = Table.read_table('cleanedWars.csv') # read in the dataset\n",
    "wars.set_format('Year', formats.FunctionFormatter(lambda x: x)) # fix format of year column\n",
    "wars.show(5)"
   ]
  },
  {
   "cell_type": "markdown",
   "metadata": {},
   "source": [
    "## Rows\n",
    "Let's dive in! <br><br>\n",
    "\n",
    "First, let's examine what a *row* is. Here is the first row of the dataset."
   ]
  },
  {
   "cell_type": "code",
   "execution_count": 54,
   "metadata": {},
   "outputs": [
    {
     "data": {
      "text/html": [
       "<table border=\"1\" class=\"dataframe\">\n",
       "    <thead>\n",
       "        <tr>\n",
       "            <th>Year</th> <th>Location</th> <th>SideA</th> <th>SideA_Ally</th> <th>SideB</th> <th>SideB_Ally</th> <th>DisagreementOver</th> <th>TerritoryName</th> <th>IntensityLevel</th> <th>TypeOfConflict</th> <th>StartDate</th> <th>EndDate</th> <th>Outcome</th> <th>CeasefireDate</th> <th>PeaceAgreementDate</th> <th>Region</th>\n",
       "        </tr>\n",
       "    </thead>\n",
       "    <tbody>\n",
       "        <tr>\n",
       "            <td>1992</td> <td>Algeria </td> <td>Government of Algeria</td> <td>nan       </td> <td>AIS  </td> <td>nan       </td> <td>Government      </td> <td>nan          </td> <td>Minor (between 25 and 999 battle-related deaths)</td> <td>Internal armed conflict</td> <td>1985-08-27</td> <td>nan    </td> <td>nan    </td> <td>nan          </td> <td>nan               </td> <td>Africa</td>\n",
       "        </tr>\n",
       "    </tbody>\n",
       "</table>"
      ],
      "text/plain": [
       "Year | Location | SideA                 | SideA_Ally | SideB | SideB_Ally | DisagreementOver | TerritoryName | IntensityLevel                                   | TypeOfConflict          | StartDate  | EndDate | Outcome | CeasefireDate | PeaceAgreementDate | Region\n",
       "1992 | Algeria  | Government of Algeria | nan        | AIS   | nan        | Government       | nan           | Minor (between 25 and 999 battle-related deaths) | Internal armed conflict | 1985-08-27 | nan     | nan     | nan           | nan                | Africa"
      ]
     },
     "execution_count": 54,
     "metadata": {},
     "output_type": "execute_result"
    }
   ],
   "source": [
    "wars.take(0) # take the first row"
   ]
  },
  {
   "cell_type": "markdown",
   "metadata": {},
   "source": [
    "This row gives us information about a specific conflict happening in Algeria in the year 1992. One thing to note is that the `IntensityLevel` of the conflict during this year is Minor."
   ]
  },
  {
   "cell_type": "code",
   "execution_count": 55,
   "metadata": {},
   "outputs": [
    {
     "data": {
      "text/html": [
       "<table border=\"1\" class=\"dataframe\">\n",
       "    <thead>\n",
       "        <tr>\n",
       "            <th>Year</th> <th>Location</th> <th>SideA</th> <th>SideA_Ally</th> <th>SideB</th> <th>SideB_Ally</th> <th>DisagreementOver</th> <th>TerritoryName</th> <th>IntensityLevel</th> <th>TypeOfConflict</th> <th>StartDate</th> <th>EndDate</th> <th>Outcome</th> <th>CeasefireDate</th> <th>PeaceAgreementDate</th> <th>Region</th>\n",
       "        </tr>\n",
       "    </thead>\n",
       "    <tbody>\n",
       "        <tr>\n",
       "            <td>1994</td> <td>Algeria </td> <td>Government of Algeria</td> <td>nan       </td> <td>AIS  </td> <td>nan       </td> <td>Government      </td> <td>nan          </td> <td>War (at least 1000 battle-related deaths)</td> <td>Internal armed conflict</td> <td>1985-08-27</td> <td>nan    </td> <td>nan    </td> <td>nan          </td> <td>nan               </td> <td>Africa</td>\n",
       "        </tr>\n",
       "    </tbody>\n",
       "</table>"
      ],
      "text/plain": [
       "Year | Location | SideA                 | SideA_Ally | SideB | SideB_Ally | DisagreementOver | TerritoryName | IntensityLevel                            | TypeOfConflict          | StartDate  | EndDate | Outcome | CeasefireDate | PeaceAgreementDate | Region\n",
       "1994 | Algeria  | Government of Algeria | nan        | AIS   | nan        | Government       | nan           | War (at least 1000 battle-related deaths) | Internal armed conflict | 1985-08-27 | nan     | nan     | nan           | nan                | Africa"
      ]
     },
     "execution_count": 55,
     "metadata": {},
     "output_type": "execute_result"
    }
   ],
   "source": [
    "wars.take(2) # take the third row"
   ]
  },
  {
   "cell_type": "markdown",
   "metadata": {},
   "source": [
    "In comparison, by looking at the third row of the dataset, we can see that the same conflict has now changed to have an `IntensityLevel` of War in the year 1994. Each row of this dataset describes one year of one conflict."
   ]
  },
  {
   "cell_type": "markdown",
   "metadata": {},
   "source": [
    "## Columns\n",
    "### Location\n",
    "To understand what a *column* is, let's look at a few examples. First, we shall examine the `Location` column. According to the author of the dataset, \n",
    "> \"Location is defined as the government side of a conflict, and should not be interpreted as the geographical location of the conflict.\"\n",
    "\n",
    "To get an idea of what kinds of values are in the `Location` column, here are the number of occurences of the 10 most common locations."
   ]
  },
  {
   "cell_type": "code",
   "execution_count": 56,
   "metadata": {},
   "outputs": [
    {
     "data": {
      "text/html": [
       "<table border=\"1\" class=\"dataframe\">\n",
       "    <thead>\n",
       "        <tr>\n",
       "            <th>Location</th> <th>count</th>\n",
       "        </tr>\n",
       "    </thead>\n",
       "    <tbody>\n",
       "        <tr>\n",
       "            <td>Myanmar (Burma)</td> <td>314  </td>\n",
       "        </tr>\n",
       "        <tr>\n",
       "            <td>India          </td> <td>178  </td>\n",
       "        </tr>\n",
       "        <tr>\n",
       "            <td>Ethiopia       </td> <td>136  </td>\n",
       "        </tr>\n",
       "        <tr>\n",
       "            <td>Israel         </td> <td>123  </td>\n",
       "        </tr>\n",
       "        <tr>\n",
       "            <td>Philippines    </td> <td>121  </td>\n",
       "        </tr>\n",
       "        <tr>\n",
       "            <td>Afghanistan    </td> <td>120  </td>\n",
       "        </tr>\n",
       "        <tr>\n",
       "            <td>Colombia       </td> <td>93   </td>\n",
       "        </tr>\n",
       "        <tr>\n",
       "            <td>Iraq           </td> <td>80   </td>\n",
       "        </tr>\n",
       "        <tr>\n",
       "            <td>Angola         </td> <td>71   </td>\n",
       "        </tr>\n",
       "        <tr>\n",
       "            <td>Sudan          </td> <td>70   </td>\n",
       "        </tr>\n",
       "    </tbody>\n",
       "</table>\n",
       "<p>... (144 rows omitted)</p>"
      ],
      "text/plain": [
       "Location        | count\n",
       "Myanmar (Burma) | 314\n",
       "India           | 178\n",
       "Ethiopia        | 136\n",
       "Israel          | 123\n",
       "Philippines     | 121\n",
       "Afghanistan     | 120\n",
       "Colombia        | 93\n",
       "Iraq            | 80\n",
       "Angola          | 71\n",
       "Sudan           | 70\n",
       "... (144 rows omitted)"
      ]
     },
     "execution_count": 56,
     "metadata": {},
     "output_type": "execute_result"
    }
   ],
   "source": [
    "locations = wars.group('Location').sort('count', descending=True) # group by location and sort in descending order\n",
    "locations"
   ]
  },
  {
   "cell_type": "markdown",
   "metadata": {},
   "source": [
    "The author also tells us,\n",
    "> The string is split in two ways, hyphen (‘-‘) splits the different sides in an interstate war, and comma (‘,’) splits different countries fighting together on the same side.\n",
    "\n",
    "Let's look at these two cases."
   ]
  },
  {
   "cell_type": "code",
   "execution_count": 57,
   "metadata": {},
   "outputs": [
    {
     "data": {
      "text/html": [
       "<table border=\"1\" class=\"dataframe\">\n",
       "    <thead>\n",
       "        <tr>\n",
       "            <th>Location</th> <th>count</th>\n",
       "        </tr>\n",
       "    </thead>\n",
       "    <tbody>\n",
       "        <tr>\n",
       "            <td>Bosnia-Herzegovina</td> <td>15   </td>\n",
       "        </tr>\n",
       "        <tr>\n",
       "            <td>Guinea-Bissau     </td> <td>13   </td>\n",
       "        </tr>\n",
       "    </tbody>\n",
       "</table>"
      ],
      "text/plain": [
       "Location           | count\n",
       "Bosnia-Herzegovina | 15\n",
       "Guinea-Bissau      | 13"
      ]
     },
     "execution_count": 57,
     "metadata": {},
     "output_type": "execute_result"
    }
   ],
   "source": [
    "# Locations with the two sides of an interstate war\n",
    "locations.where('Location', are.containing('-'))"
   ]
  },
  {
   "cell_type": "code",
   "execution_count": 58,
   "metadata": {},
   "outputs": [
    {
     "data": {
      "text/html": [
       "<table border=\"1\" class=\"dataframe\">\n",
       "    <thead>\n",
       "        <tr>\n",
       "            <th>Location</th> <th>count</th>\n",
       "        </tr>\n",
       "    </thead>\n",
       "    <tbody>\n",
       "        <tr>\n",
       "            <td>India, Pakistan                       </td> <td>19   </td>\n",
       "        </tr>\n",
       "        <tr>\n",
       "            <td>South Vietnam, Vietnam (North Vietnam)</td> <td>11   </td>\n",
       "        </tr>\n",
       "        <tr>\n",
       "            <td>Iran, Iraq                            </td> <td>10   </td>\n",
       "        </tr>\n",
       "        <tr>\n",
       "            <td>China, Vietnam (North Vietnam)        </td> <td>10   </td>\n",
       "        </tr>\n",
       "        <tr>\n",
       "            <td>North Korea, South Korea              </td> <td>5    </td>\n",
       "        </tr>\n",
       "        <tr>\n",
       "            <td>Indonesia, Malaysia                   </td> <td>4    </td>\n",
       "        </tr>\n",
       "        <tr>\n",
       "            <td>Ethiopia, Somalia                     </td> <td>4    </td>\n",
       "        </tr>\n",
       "        <tr>\n",
       "            <td>Egypt, Israel                         </td> <td>4    </td>\n",
       "        </tr>\n",
       "        <tr>\n",
       "            <td>China, Taiwan                         </td> <td>4    </td>\n",
       "        </tr>\n",
       "        <tr>\n",
       "            <td>Laos, Thailand                        </td> <td>3    </td>\n",
       "        </tr>\n",
       "    </tbody>\n",
       "</table>\n",
       "<p>... (37 rows omitted)</p>"
      ],
      "text/plain": [
       "Location                               | count\n",
       "India, Pakistan                        | 19\n",
       "South Vietnam, Vietnam (North Vietnam) | 11\n",
       "Iran, Iraq                             | 10\n",
       "China, Vietnam (North Vietnam)         | 10\n",
       "North Korea, South Korea               | 5\n",
       "Indonesia, Malaysia                    | 4\n",
       "Ethiopia, Somalia                      | 4\n",
       "Egypt, Israel                          | 4\n",
       "China, Taiwan                          | 4\n",
       "Laos, Thailand                         | 3\n",
       "... (37 rows omitted)"
      ]
     },
     "execution_count": 58,
     "metadata": {},
     "output_type": "execute_result"
    }
   ],
   "source": [
    "# Locations with countries that are fighting on the same side\n",
    "locations.where('Location', are.containing(','))"
   ]
  },
  {
   "cell_type": "markdown",
   "metadata": {},
   "source": [
    "### Region\n",
    "Now let's look at the `Region` column. Again, first we'll look at the number of occurences of each region."
   ]
  },
  {
   "cell_type": "code",
   "execution_count": 59,
   "metadata": {},
   "outputs": [
    {
     "data": {
      "text/html": [
       "<table border=\"1\" class=\"dataframe\">\n",
       "    <thead>\n",
       "        <tr>\n",
       "            <th>Region</th> <th>count</th>\n",
       "        </tr>\n",
       "    </thead>\n",
       "    <tbody>\n",
       "        <tr>\n",
       "            <td>Asia                               </td> <td>1,141</td>\n",
       "        </tr>\n",
       "        <tr>\n",
       "            <td>Africa                             </td> <td>828  </td>\n",
       "        </tr>\n",
       "        <tr>\n",
       "            <td>Middle East                        </td> <td>371  </td>\n",
       "        </tr>\n",
       "        <tr>\n",
       "            <td>Americas                           </td> <td>256  </td>\n",
       "        </tr>\n",
       "        <tr>\n",
       "            <td>Europe                             </td> <td>134  </td>\n",
       "        </tr>\n",
       "        <tr>\n",
       "            <td>Europe, Middle East                </td> <td>4    </td>\n",
       "        </tr>\n",
       "        <tr>\n",
       "            <td>Europe, Asia                       </td> <td>4    </td>\n",
       "        </tr>\n",
       "        <tr>\n",
       "            <td>Europe, Middle East, Asia, Americas</td> <td>1    </td>\n",
       "        </tr>\n",
       "        <tr>\n",
       "            <td>Europe, Americas                   </td> <td>1    </td>\n",
       "        </tr>\n",
       "        <tr>\n",
       "            <td>Europe, Africa                     </td> <td>1    </td>\n",
       "        </tr>\n",
       "    </tbody>\n",
       "</table>"
      ],
      "text/plain": [
       "Region                              | count\n",
       "Asia                                | 1,141\n",
       "Africa                              | 828\n",
       "Middle East                         | 371\n",
       "Americas                            | 256\n",
       "Europe                              | 134\n",
       "Europe, Middle East                 | 4\n",
       "Europe, Asia                        | 4\n",
       "Europe, Middle East, Asia, Americas | 1\n",
       "Europe, Americas                    | 1\n",
       "Europe, Africa                      | 1"
      ]
     },
     "execution_count": 59,
     "metadata": {},
     "output_type": "execute_result"
    }
   ],
   "source": [
    "regions = wars.group('Region').sort('count', descending=True) # count occurences of each region\n",
    "regions"
   ]
  },
  {
   "cell_type": "markdown",
   "metadata": {},
   "source": [
    "In case you were curious, here is the row that took place in Europe, Middle East, Asia, and Americas. This marks the beginning of the Iraq War in 2003. For more info, click [here](https://en.wikipedia.org/wiki/Iraq_War)."
   ]
  },
  {
   "cell_type": "code",
   "execution_count": 60,
   "metadata": {},
   "outputs": [
    {
     "data": {
      "text/html": [
       "<table border=\"1\" class=\"dataframe\">\n",
       "    <thead>\n",
       "        <tr>\n",
       "            <th>Year</th> <th>Location</th> <th>SideA</th> <th>SideA_Ally</th> <th>SideB</th> <th>SideB_Ally</th> <th>DisagreementOver</th> <th>TerritoryName</th> <th>IntensityLevel</th> <th>TypeOfConflict</th> <th>StartDate</th> <th>EndDate</th> <th>Outcome</th> <th>CeasefireDate</th> <th>PeaceAgreementDate</th> <th>Region</th>\n",
       "        </tr>\n",
       "    </thead>\n",
       "    <tbody>\n",
       "        <tr>\n",
       "            <td>2003</td> <td>Iraq, Australia, United Kingdom, United States of America</td> <td>Government of Australia, Government of United Kingdom, G ...</td> <td>nan       </td> <td>Government of Iraq</td> <td>nan       </td> <td>Government      </td> <td>nan          </td> <td>War (at least 1000 battle-related deaths)</td> <td>Interstate armed conflict</td> <td>2003-03-20</td> <td>4/9/03 </td> <td>Victory for Side A /Government Side</td> <td>nan          </td> <td>nan               </td> <td>Europe, Middle East, Asia, Americas</td>\n",
       "        </tr>\n",
       "    </tbody>\n",
       "</table>"
      ],
      "text/plain": [
       "Year | Location                                                  | SideA                                                        | SideA_Ally | SideB              | SideB_Ally | DisagreementOver | TerritoryName | IntensityLevel                            | TypeOfConflict            | StartDate  | EndDate | Outcome                             | CeasefireDate | PeaceAgreementDate | Region\n",
       "2003 | Iraq, Australia, United Kingdom, United States of America | Government of Australia, Government of United Kingdom, G ... | nan        | Government of Iraq | nan        | Government       | nan           | War (at least 1000 battle-related deaths) | Interstate armed conflict | 2003-03-20 | 4/9/03  | Victory for Side A /Government Side | nan           | nan                | Europe, Middle East, Asia, Americas"
      ]
     },
     "execution_count": 60,
     "metadata": {},
     "output_type": "execute_result"
    }
   ],
   "source": [
    "wars.where('Region', 'Europe, Middle East, Asia, Americas')"
   ]
  },
  {
   "cell_type": "markdown",
   "metadata": {},
   "source": [
    "### Intensity Level\n",
    "Lastly, we'll look at the `IntensityLevel` column. \n",
    ">The intensity variable is coded in two categories:\n",
    ">1. Minor: between 25 and 999 battle-related deaths in a given year.\n",
    ">2. War: at least 1,000 battle-related deaths in a given year.\n",
    "\n",
    "Here are the counts of each type."
   ]
  },
  {
   "cell_type": "code",
   "execution_count": 61,
   "metadata": {},
   "outputs": [
    {
     "data": {
      "text/html": [
       "<table border=\"1\" class=\"dataframe\">\n",
       "    <thead>\n",
       "        <tr>\n",
       "            <th>IntensityLevel</th> <th>count</th>\n",
       "        </tr>\n",
       "    </thead>\n",
       "    <tbody>\n",
       "        <tr>\n",
       "            <td>Minor (between 25 and 999 battle-related deaths)</td> <td>2,121</td>\n",
       "        </tr>\n",
       "        <tr>\n",
       "            <td>War (at least 1000 battle-related deaths)       </td> <td>620  </td>\n",
       "        </tr>\n",
       "    </tbody>\n",
       "</table>"
      ],
      "text/plain": [
       "IntensityLevel                                   | count\n",
       "Minor (between 25 and 999 battle-related deaths) | 2,121\n",
       "War (at least 1000 battle-related deaths)        | 620"
      ]
     },
     "execution_count": 61,
     "metadata": {},
     "output_type": "execute_result"
    }
   ],
   "source": [
    "wars.group('IntensityLevel') # group by IntensityLevel"
   ]
  },
  {
   "cell_type": "markdown",
   "metadata": {},
   "source": [
    "Let's break it down by region. First let's look at the counts of each `IntensityLevel` in each region."
   ]
  },
  {
   "cell_type": "code",
   "execution_count": 75,
   "metadata": {},
   "outputs": [
    {
     "data": {
      "text/html": [
       "<table border=\"1\" class=\"dataframe\">\n",
       "    <thead>\n",
       "        <tr>\n",
       "            <th>Region</th> <th>IntensityLevel</th> <th>count</th>\n",
       "        </tr>\n",
       "    </thead>\n",
       "    <tbody>\n",
       "        <tr>\n",
       "            <td>Asia                               </td> <td>Minor (between 25 and 999 battle-related deaths)</td> <td>860  </td>\n",
       "        </tr>\n",
       "        <tr>\n",
       "            <td>Africa                             </td> <td>Minor (between 25 and 999 battle-related deaths)</td> <td>634  </td>\n",
       "        </tr>\n",
       "        <tr>\n",
       "            <td>Middle East                        </td> <td>Minor (between 25 and 999 battle-related deaths)</td> <td>298  </td>\n",
       "        </tr>\n",
       "        <tr>\n",
       "            <td>Asia                               </td> <td>War (at least 1000 battle-related deaths)       </td> <td>281  </td>\n",
       "        </tr>\n",
       "        <tr>\n",
       "            <td>Americas                           </td> <td>Minor (between 25 and 999 battle-related deaths)</td> <td>223  </td>\n",
       "        </tr>\n",
       "        <tr>\n",
       "            <td>Africa                             </td> <td>War (at least 1000 battle-related deaths)       </td> <td>194  </td>\n",
       "        </tr>\n",
       "        <tr>\n",
       "            <td>Europe                             </td> <td>Minor (between 25 and 999 battle-related deaths)</td> <td>99   </td>\n",
       "        </tr>\n",
       "        <tr>\n",
       "            <td>Middle East                        </td> <td>War (at least 1000 battle-related deaths)       </td> <td>73   </td>\n",
       "        </tr>\n",
       "        <tr>\n",
       "            <td>Europe                             </td> <td>War (at least 1000 battle-related deaths)       </td> <td>35   </td>\n",
       "        </tr>\n",
       "        <tr>\n",
       "            <td>Americas                           </td> <td>War (at least 1000 battle-related deaths)       </td> <td>33   </td>\n",
       "        </tr>\n",
       "        <tr>\n",
       "            <td>Europe, Asia                       </td> <td>Minor (between 25 and 999 battle-related deaths)</td> <td>4    </td>\n",
       "        </tr>\n",
       "        <tr>\n",
       "            <td>Europe, Middle East                </td> <td>War (at least 1000 battle-related deaths)       </td> <td>2    </td>\n",
       "        </tr>\n",
       "        <tr>\n",
       "            <td>Europe, Middle East                </td> <td>Minor (between 25 and 999 battle-related deaths)</td> <td>2    </td>\n",
       "        </tr>\n",
       "        <tr>\n",
       "            <td>Europe, Middle East, Asia, Americas</td> <td>War (at least 1000 battle-related deaths)       </td> <td>1    </td>\n",
       "        </tr>\n",
       "        <tr>\n",
       "            <td>Europe, Americas                   </td> <td>Minor (between 25 and 999 battle-related deaths)</td> <td>1    </td>\n",
       "        </tr>\n",
       "        <tr>\n",
       "            <td>Europe, Africa                     </td> <td>War (at least 1000 battle-related deaths)       </td> <td>1    </td>\n",
       "        </tr>\n",
       "    </tbody>\n",
       "</table>"
      ],
      "text/plain": [
       "<IPython.core.display.HTML object>"
      ]
     },
     "metadata": {},
     "output_type": "display_data"
    }
   ],
   "source": [
    "wars.group(['Region', 'IntensityLevel']).sort('count', descending=True).show() # group by Region and IntensityLevel"
   ]
  },
  {
   "cell_type": "markdown",
   "metadata": {},
   "source": [
    "Let's look specifically at the Middle East. Here are the counts of each type of conflict in each Middle East location."
   ]
  },
  {
   "cell_type": "code",
   "execution_count": 77,
   "metadata": {},
   "outputs": [
    {
     "data": {
      "text/html": [
       "<table border=\"1\" class=\"dataframe\">\n",
       "    <thead>\n",
       "        <tr>\n",
       "            <th>Location</th> <th>IntensityLevel</th> <th>count</th>\n",
       "        </tr>\n",
       "    </thead>\n",
       "    <tbody>\n",
       "        <tr>\n",
       "            <td>Israel             </td> <td>Minor (between 25 and 999 battle-related deaths)</td> <td>121  </td>\n",
       "        </tr>\n",
       "        <tr>\n",
       "            <td>Iraq               </td> <td>Minor (between 25 and 999 battle-related deaths)</td> <td>59   </td>\n",
       "        </tr>\n",
       "        <tr>\n",
       "            <td>Iran               </td> <td>Minor (between 25 and 999 battle-related deaths)</td> <td>39   </td>\n",
       "        </tr>\n",
       "        <tr>\n",
       "            <td>Turkey             </td> <td>Minor (between 25 and 999 battle-related deaths)</td> <td>25   </td>\n",
       "        </tr>\n",
       "        <tr>\n",
       "            <td>Iraq               </td> <td>War (at least 1000 battle-related deaths)       </td> <td>21   </td>\n",
       "        </tr>\n",
       "        <tr>\n",
       "            <td>Yemen (North Yemen)</td> <td>Minor (between 25 and 999 battle-related deaths)</td> <td>12   </td>\n",
       "        </tr>\n",
       "        <tr>\n",
       "            <td>Lebanon            </td> <td>Minor (between 25 and 999 battle-related deaths)</td> <td>11   </td>\n",
       "        </tr>\n",
       "        <tr>\n",
       "            <td>Yemen (North Yemen)</td> <td>War (at least 1000 battle-related deaths)       </td> <td>10   </td>\n",
       "        </tr>\n",
       "        <tr>\n",
       "            <td>Iran, Iraq         </td> <td>War (at least 1000 battle-related deaths)       </td> <td>9    </td>\n",
       "        </tr>\n",
       "        <tr>\n",
       "            <td>Turkey             </td> <td>War (at least 1000 battle-related deaths)       </td> <td>8    </td>\n",
       "        </tr>\n",
       "    </tbody>\n",
       "</table>\n",
       "<p>... (19 rows omitted)</p>"
      ],
      "text/plain": [
       "Location            | IntensityLevel                                   | count\n",
       "Israel              | Minor (between 25 and 999 battle-related deaths) | 121\n",
       "Iraq                | Minor (between 25 and 999 battle-related deaths) | 59\n",
       "Iran                | Minor (between 25 and 999 battle-related deaths) | 39\n",
       "Turkey              | Minor (between 25 and 999 battle-related deaths) | 25\n",
       "Iraq                | War (at least 1000 battle-related deaths)        | 21\n",
       "Yemen (North Yemen) | Minor (between 25 and 999 battle-related deaths) | 12\n",
       "Lebanon             | Minor (between 25 and 999 battle-related deaths) | 11\n",
       "Yemen (North Yemen) | War (at least 1000 battle-related deaths)        | 10\n",
       "Iran, Iraq          | War (at least 1000 battle-related deaths)        | 9\n",
       "Turkey              | War (at least 1000 battle-related deaths)        | 8\n",
       "... (19 rows omitted)"
      ]
     },
     "execution_count": 77,
     "metadata": {},
     "output_type": "execute_result"
    }
   ],
   "source": [
    "# filter by region, then group by location and intensity level\n",
    "m_east = wars.where('Region', 'Middle East').group(['Location', 'IntensityLevel']).sort('count', descending=True)\n",
    "m_east"
   ]
  },
  {
   "cell_type": "markdown",
   "metadata": {},
   "source": [
    "Lastly, here are the Middle East locations with the most wars."
   ]
  },
  {
   "cell_type": "code",
   "execution_count": 78,
   "metadata": {},
   "outputs": [
    {
     "data": {
      "text/html": [
       "<table border=\"1\" class=\"dataframe\">\n",
       "    <thead>\n",
       "        <tr>\n",
       "            <th>Location</th> <th>IntensityLevel</th> <th>count</th>\n",
       "        </tr>\n",
       "    </thead>\n",
       "    <tbody>\n",
       "        <tr>\n",
       "            <td>Iraq               </td> <td>War (at least 1000 battle-related deaths)</td> <td>21   </td>\n",
       "        </tr>\n",
       "        <tr>\n",
       "            <td>Yemen (North Yemen)</td> <td>War (at least 1000 battle-related deaths)</td> <td>10   </td>\n",
       "        </tr>\n",
       "        <tr>\n",
       "            <td>Iran, Iraq         </td> <td>War (at least 1000 battle-related deaths)</td> <td>9    </td>\n",
       "        </tr>\n",
       "        <tr>\n",
       "            <td>Turkey             </td> <td>War (at least 1000 battle-related deaths)</td> <td>8    </td>\n",
       "        </tr>\n",
       "        <tr>\n",
       "            <td>Lebanon            </td> <td>War (at least 1000 battle-related deaths)</td> <td>5    </td>\n",
       "        </tr>\n",
       "        <tr>\n",
       "            <td>Iran               </td> <td>War (at least 1000 battle-related deaths)</td> <td>5    </td>\n",
       "        </tr>\n",
       "        <tr>\n",
       "            <td>Syria              </td> <td>War (at least 1000 battle-related deaths)</td> <td>4    </td>\n",
       "        </tr>\n",
       "        <tr>\n",
       "            <td>Israel, Syria      </td> <td>War (at least 1000 battle-related deaths)</td> <td>2    </td>\n",
       "        </tr>\n",
       "        <tr>\n",
       "            <td>Israel             </td> <td>War (at least 1000 battle-related deaths)</td> <td>2    </td>\n",
       "        </tr>\n",
       "        <tr>\n",
       "            <td>Iraq, Kuwait       </td> <td>War (at least 1000 battle-related deaths)</td> <td>2    </td>\n",
       "        </tr>\n",
       "    </tbody>\n",
       "</table>\n",
       "<p>... (4 rows omitted)</p>"
      ],
      "text/plain": [
       "Location            | IntensityLevel                            | count\n",
       "Iraq                | War (at least 1000 battle-related deaths) | 21\n",
       "Yemen (North Yemen) | War (at least 1000 battle-related deaths) | 10\n",
       "Iran, Iraq          | War (at least 1000 battle-related deaths) | 9\n",
       "Turkey              | War (at least 1000 battle-related deaths) | 8\n",
       "Lebanon             | War (at least 1000 battle-related deaths) | 5\n",
       "Iran                | War (at least 1000 battle-related deaths) | 5\n",
       "Syria               | War (at least 1000 battle-related deaths) | 4\n",
       "Israel, Syria       | War (at least 1000 battle-related deaths) | 2\n",
       "Israel              | War (at least 1000 battle-related deaths) | 2\n",
       "Iraq, Kuwait        | War (at least 1000 battle-related deaths) | 2\n",
       "... (4 rows omitted)"
      ]
     },
     "execution_count": 78,
     "metadata": {},
     "output_type": "execute_result"
    }
   ],
   "source": [
    "m_east.where('IntensityLevel', are.containing('War')) # filter to just show war rows"
   ]
  },
  {
   "cell_type": "markdown",
   "metadata": {},
   "source": [
    "# Civil Wars <a id='3'></a>\n",
    "Here is the original dataset again."
   ]
  },
  {
   "cell_type": "code",
   "execution_count": 79,
   "metadata": {},
   "outputs": [
    {
     "data": {
      "text/html": [
       "<table border=\"1\" class=\"dataframe\">\n",
       "    <thead>\n",
       "        <tr>\n",
       "            <th>Year</th> <th>Location</th> <th>SideA</th> <th>SideA_Ally</th> <th>SideB</th> <th>SideB_Ally</th> <th>DisagreementOver</th> <th>TerritoryName</th> <th>IntensityLevel</th> <th>TypeOfConflict</th> <th>StartDate</th> <th>EndDate</th> <th>Outcome</th> <th>CeasefireDate</th> <th>PeaceAgreementDate</th> <th>Region</th>\n",
       "        </tr>\n",
       "    </thead>\n",
       "    <tbody>\n",
       "        <tr>\n",
       "            <td>1992</td> <td>Algeria </td> <td>Government of Algeria</td> <td>nan       </td> <td>AIS  </td> <td>nan       </td> <td>Government      </td> <td>nan          </td> <td>Minor (between 25 and 999 battle-related deaths)</td> <td>Internal armed conflict</td> <td>1985-08-27</td> <td>nan    </td> <td>nan    </td> <td>nan          </td> <td>nan               </td> <td>Africa</td>\n",
       "        </tr>\n",
       "        <tr>\n",
       "            <td>1993</td> <td>Algeria </td> <td>Government of Algeria</td> <td>nan       </td> <td>AIS  </td> <td>nan       </td> <td>Government      </td> <td>nan          </td> <td>Minor (between 25 and 999 battle-related deaths)</td> <td>Internal armed conflict</td> <td>1985-08-27</td> <td>nan    </td> <td>nan    </td> <td>nan          </td> <td>nan               </td> <td>Africa</td>\n",
       "        </tr>\n",
       "        <tr>\n",
       "            <td>1994</td> <td>Algeria </td> <td>Government of Algeria</td> <td>nan       </td> <td>AIS  </td> <td>nan       </td> <td>Government      </td> <td>nan          </td> <td>War (at least 1000 battle-related deaths)       </td> <td>Internal armed conflict</td> <td>1985-08-27</td> <td>nan    </td> <td>nan    </td> <td>nan          </td> <td>nan               </td> <td>Africa</td>\n",
       "        </tr>\n",
       "        <tr>\n",
       "            <td>1995</td> <td>Algeria </td> <td>Government of Algeria</td> <td>nan       </td> <td>AIS  </td> <td>nan       </td> <td>Government      </td> <td>nan          </td> <td>Minor (between 25 and 999 battle-related deaths)</td> <td>Internal armed conflict</td> <td>1985-08-27</td> <td>nan    </td> <td>nan    </td> <td>nan          </td> <td>nan               </td> <td>Africa</td>\n",
       "        </tr>\n",
       "        <tr>\n",
       "            <td>1996</td> <td>Algeria </td> <td>Government of Algeria</td> <td>nan       </td> <td>AIS  </td> <td>nan       </td> <td>Government      </td> <td>nan          </td> <td>Minor (between 25 and 999 battle-related deaths)</td> <td>Internal armed conflict</td> <td>1985-08-27</td> <td>nan    </td> <td>nan    </td> <td>nan          </td> <td>nan               </td> <td>Africa</td>\n",
       "        </tr>\n",
       "    </tbody>\n",
       "</table>\n",
       "<p>... (2736 rows omitted)</p>"
      ],
      "text/plain": [
       "<IPython.core.display.HTML object>"
      ]
     },
     "metadata": {},
     "output_type": "display_data"
    }
   ],
   "source": [
    "wars.show(5)"
   ]
  },
  {
   "cell_type": "markdown",
   "metadata": {},
   "source": [
    "Let's look specifically at civil wars."
   ]
  },
  {
   "cell_type": "code",
   "execution_count": 81,
   "metadata": {},
   "outputs": [
    {
     "data": {
      "text/html": [
       "<table border=\"1\" class=\"dataframe\">\n",
       "    <thead>\n",
       "        <tr>\n",
       "            <th>Year</th> <th>Location</th> <th>SideA</th> <th>SideA_Ally</th> <th>SideB</th> <th>SideB_Ally</th> <th>DisagreementOver</th> <th>TerritoryName</th> <th>IntensityLevel</th> <th>TypeOfConflict</th> <th>StartDate</th> <th>EndDate</th> <th>Outcome</th> <th>CeasefireDate</th> <th>PeaceAgreementDate</th> <th>Region</th>\n",
       "        </tr>\n",
       "    </thead>\n",
       "    <tbody>\n",
       "        <tr>\n",
       "            <td>1992</td> <td>Algeria </td> <td>Government of Algeria</td> <td>nan       </td> <td>AIS  </td> <td>nan       </td> <td>Government      </td> <td>nan          </td> <td>Minor (between 25 and 999 battle-related deaths)</td> <td>Internal armed conflict</td> <td>1985-08-27</td> <td>nan    </td> <td>nan    </td> <td>nan          </td> <td>nan               </td> <td>Africa</td>\n",
       "        </tr>\n",
       "        <tr>\n",
       "            <td>1993</td> <td>Algeria </td> <td>Government of Algeria</td> <td>nan       </td> <td>AIS  </td> <td>nan       </td> <td>Government      </td> <td>nan          </td> <td>Minor (between 25 and 999 battle-related deaths)</td> <td>Internal armed conflict</td> <td>1985-08-27</td> <td>nan    </td> <td>nan    </td> <td>nan          </td> <td>nan               </td> <td>Africa</td>\n",
       "        </tr>\n",
       "        <tr>\n",
       "            <td>1994</td> <td>Algeria </td> <td>Government of Algeria</td> <td>nan       </td> <td>AIS  </td> <td>nan       </td> <td>Government      </td> <td>nan          </td> <td>War (at least 1000 battle-related deaths)       </td> <td>Internal armed conflict</td> <td>1985-08-27</td> <td>nan    </td> <td>nan    </td> <td>nan          </td> <td>nan               </td> <td>Africa</td>\n",
       "        </tr>\n",
       "        <tr>\n",
       "            <td>1995</td> <td>Algeria </td> <td>Government of Algeria</td> <td>nan       </td> <td>AIS  </td> <td>nan       </td> <td>Government      </td> <td>nan          </td> <td>Minor (between 25 and 999 battle-related deaths)</td> <td>Internal armed conflict</td> <td>1985-08-27</td> <td>nan    </td> <td>nan    </td> <td>nan          </td> <td>nan               </td> <td>Africa</td>\n",
       "        </tr>\n",
       "        <tr>\n",
       "            <td>1996</td> <td>Algeria </td> <td>Government of Algeria</td> <td>nan       </td> <td>AIS  </td> <td>nan       </td> <td>Government      </td> <td>nan          </td> <td>Minor (between 25 and 999 battle-related deaths)</td> <td>Internal armed conflict</td> <td>1985-08-27</td> <td>nan    </td> <td>nan    </td> <td>nan          </td> <td>nan               </td> <td>Africa</td>\n",
       "        </tr>\n",
       "    </tbody>\n",
       "</table>\n",
       "<p>... (2086 rows omitted)</p>"
      ],
      "text/plain": [
       "<IPython.core.display.HTML object>"
      ]
     },
     "metadata": {},
     "output_type": "display_data"
    }
   ],
   "source": [
    "civil_wars = wars.where('TypeOfConflict', 'Internal armed conflict') # remove all non civil war rows\n",
    "civil_wars.show(5)"
   ]
  },
  {
   "cell_type": "markdown",
   "metadata": {},
   "source": [
    "Notice the change in the number of rows when we remove all the rows that do not correspond to civil wars."
   ]
  },
  {
   "cell_type": "code",
   "execution_count": 84,
   "metadata": {},
   "outputs": [
    {
     "name": "stdout",
     "output_type": "stream",
     "text": [
      "The original dataset has 2741 rows. \n",
      "After removing all non civil war rows, the dataset has 2091 rows left.\n"
     ]
    }
   ],
   "source": [
    "print(\"The original dataset has {} rows. \\n\\\n",
    "After removing all non civil war rows, the dataset has {} rows left.\".format(wars.num_rows, civil_wars.num_rows))"
   ]
  },
  {
   "cell_type": "markdown",
   "metadata": {},
   "source": [
    "First, let's find which years had the most civil wars."
   ]
  },
  {
   "cell_type": "code",
   "execution_count": 88,
   "metadata": {},
   "outputs": [
    {
     "data": {
      "text/html": [
       "<table border=\"1\" class=\"dataframe\">\n",
       "    <thead>\n",
       "        <tr>\n",
       "            <th>Year</th> <th>count</th>\n",
       "        </tr>\n",
       "    </thead>\n",
       "    <tbody>\n",
       "        <tr>\n",
       "            <td>1991</td> <td>62   </td>\n",
       "        </tr>\n",
       "        <tr>\n",
       "            <td>1990</td> <td>60   </td>\n",
       "        </tr>\n",
       "        <tr>\n",
       "            <td>1994</td> <td>56   </td>\n",
       "        </tr>\n",
       "        <tr>\n",
       "            <td>1992</td> <td>52   </td>\n",
       "        </tr>\n",
       "        <tr>\n",
       "            <td>1997</td> <td>48   </td>\n",
       "        </tr>\n",
       "        <tr>\n",
       "            <td>1993</td> <td>46   </td>\n",
       "        </tr>\n",
       "        <tr>\n",
       "            <td>1996</td> <td>45   </td>\n",
       "        </tr>\n",
       "        <tr>\n",
       "            <td>1989</td> <td>45   </td>\n",
       "        </tr>\n",
       "        <tr>\n",
       "            <td>1987</td> <td>45   </td>\n",
       "        </tr>\n",
       "        <tr>\n",
       "            <td>1986</td> <td>44   </td>\n",
       "        </tr>\n",
       "    </tbody>\n",
       "</table>\n",
       "<p>... (59 rows omitted)</p>"
      ],
      "text/plain": [
       "Year | count\n",
       "1991 | 62\n",
       "1990 | 60\n",
       "1994 | 56\n",
       "1992 | 52\n",
       "1997 | 48\n",
       "1993 | 46\n",
       "1996 | 45\n",
       "1989 | 45\n",
       "1987 | 45\n",
       "1986 | 44\n",
       "... (59 rows omitted)"
      ]
     },
     "execution_count": 88,
     "metadata": {},
     "output_type": "execute_result"
    }
   ],
   "source": [
    "years = civil_wars.group('Year').sort('count', descending = True) # count number of occurences of each year\n",
    "years.set_format('Year', formats.FunctionFormatter(lambda x: x)) # fix format of year column\n",
    "years"
   ]
  },
  {
   "cell_type": "markdown",
   "metadata": {},
   "source": [
    "# Outline\n",
    "## 1. Introduction - how to use Jupyter\n",
    "## 2. The dataset\n",
    "### a) Context of the dataset \n",
    "\"This dataset provide information on specific start- and end- dates for conflict activity and means of termination for each conflict episode. The data is available as a conflict-level dataset which correspond with the UCDP/PRIO Armed Conflict Dataset v4 – 2015, and a dyad-level dataset which correspond with the UCDP Dyadic Dataset v1 – 2015\"\n",
    "\n",
    "Citation: Kreutz, Joakim. 2010. “How and When Armed Conflicts End: Introducing the UCDP Conflict Termination Dataset,\" Journal of Peace Research 47(2): 243-250.\n",
    "\n",
    "State that dataset includes wars from 1946 - 2017 (unless you want to show this in the dataset using code commands)\n",
    "Explain how there's a code book that went along with it for reading the data?\n",
    "\n",
    "### b) what does a column represent\n",
    "\n",
    "Explaining the main columns, especially those where the title of the columns can be misleading (e.g. Location)\n",
    "Explaining the columns which require looking at codebook to understand values in column \n",
    "\n",
    "If we don't clean the data beforehand, should we explain those columns too or just summarize them in groups?\n",
    "\n",
    "### c) what does a row represent\n",
    "\n",
    "Isolating a row -- possibly a row that shows the year a war started and a year within a war (i.e. not a year that a war started) \n",
    "\n",
    "## 3. Civil wars\n",
    "### a) begin cleaning data\n",
    "#### 1. fix year column, potentially replace some codes with what they actually represent\n",
    " (See section below on \"Data Cleaning\" for specifics) \n",
    "\n",
    "### b) show how # rows/columns decrease\n",
    "### c) relabel termination type???\n",
    "## 4. Visualization\n",
    "### a) maybe some graph about the entities involved or number of conflicts over time"
   ]
  },
  {
   "cell_type": "markdown",
   "metadata": {},
   "source": [
    "## Type of Conflict \n",
    "\"The coding of outcomes are based on the final year of activity and first\n",
    "year of non-activity. While the dataset include some information (i.e. ceasefires\n",
    "and peace agreements) outside this window, it does not follow warring party\n",
    "development beyond this time period.\"\n",
    "\n",
    "**Attempt to summarize in own words:**\n",
    "\n",
    "\n",
    "The result of the war determined by the final year of the war and the first year of no war activity. It does not account for any type of war or violence that occurred after this time frame.\n",
    "\n",
    "(???) Difference between Type of Conflict and Outcome?\n",
    "\n",
    "## Type of Conflict Key \n",
    "- 1= Peace agreement\n",
    "- 2= Ceasefire agreement\n",
    "- 3= Victory for government side/Side A\n",
    "- 4= Victory for rebel side/Side B\n",
    "\n",
    "## Type 2 Key\n",
    "\"The same conflict episode, or dyadic conflict episode, may include both years\n",
    "where neither side receive secondary support and years when they do. Type\n",
    "2 thus combine the categories of internal armed conflict and internationalized\n",
    "armed conflict described above.\n",
    "1. Extrasystemic armed conflict.\n",
    "2. Interstate armed conflict.\n",
    "3. Intrastate armed conflict.\"\n",
    "\n"
   ]
  },
  {
   "cell_type": "markdown",
   "metadata": {},
   "source": [
    "# Civil Wars"
   ]
  },
  {
   "cell_type": "code",
   "execution_count": 82,
   "metadata": {},
   "outputs": [
    {
     "data": {
      "text/html": [
       "<table border=\"1\" class=\"dataframe\">\n",
       "    <thead>\n",
       "        <tr>\n",
       "            <th>ConflictId</th> <th>DyadId</th> <th>DyadEp</th> <th>Year</th> <th>Location</th> <th>SideA</th> <th>SideA2nd</th> <th>SideB</th> <th>SideBID</th> <th>SideB2nd</th> <th>Incompatibility</th> <th>TerritoryName</th> <th>IntensityLevel</th> <th>TypeOfConflict</th> <th>Type2</th> <th>StartDate</th> <th>StartPrec</th> <th>StartDate2</th> <th>StartPrec2</th> <th>Dyadterm</th> <th>EpEndDate</th> <th>EpEndPrec</th> <th>Outcome_early</th> <th>Outcome</th> <th>CfireDate</th> <th>PeAgDate</th> <th>GWNoA</th> <th>GWNoA2nd</th> <th>GWNoB</th> <th>GWNoB2nd</th> <th>GWNoLoc</th> <th>Region</th> <th>Version</th>\n",
       "        </tr>\n",
       "    </thead>\n",
       "    <tbody>\n",
       "        <tr>\n",
       "            <td>1-191     </td> <td>1     </td> <td>101   </td> <td>1,992</td> <td>Algeria </td> <td>Government of Algeria</td> <td>nan     </td> <td>AIS              </td> <td>1389   </td> <td>nan     </td> <td>2              </td> <td>nan          </td> <td>1             </td> <td>3             </td> <td>3    </td> <td>1985-08-27</td> <td>1        </td> <td>1992-03-10</td> <td>5         </td> <td>0       </td> <td>nan      </td> <td>nan      </td> <td>nan          </td> <td>nan    </td> <td>nan      </td> <td>nan     </td> <td>615  </td> <td>nan     </td> <td>nan  </td> <td>nan     </td> <td>615    </td> <td>4     </td> <td>2.0-2015</td>\n",
       "        </tr>\n",
       "        <tr>\n",
       "            <td>1-191     </td> <td>1     </td> <td>101   </td> <td>1,993</td> <td>Algeria </td> <td>Government of Algeria</td> <td>nan     </td> <td>AIS              </td> <td>1389   </td> <td>nan     </td> <td>2              </td> <td>nan          </td> <td>1             </td> <td>3             </td> <td>3    </td> <td>1985-08-27</td> <td>1        </td> <td>1992-03-10</td> <td>5         </td> <td>0       </td> <td>nan      </td> <td>nan      </td> <td>nan          </td> <td>nan    </td> <td>nan      </td> <td>nan     </td> <td>615  </td> <td>nan     </td> <td>nan  </td> <td>nan     </td> <td>615    </td> <td>4     </td> <td>2.0-2015</td>\n",
       "        </tr>\n",
       "        <tr>\n",
       "            <td>1-191     </td> <td>1     </td> <td>101   </td> <td>1,994</td> <td>Algeria </td> <td>Government of Algeria</td> <td>nan     </td> <td>AIS              </td> <td>1389   </td> <td>nan     </td> <td>2              </td> <td>nan          </td> <td>2             </td> <td>3             </td> <td>3    </td> <td>1985-08-27</td> <td>1        </td> <td>1992-03-10</td> <td>5         </td> <td>0       </td> <td>nan      </td> <td>nan      </td> <td>nan          </td> <td>nan    </td> <td>nan      </td> <td>nan     </td> <td>615  </td> <td>nan     </td> <td>nan  </td> <td>nan     </td> <td>615    </td> <td>4     </td> <td>2.0-2015</td>\n",
       "        </tr>\n",
       "        <tr>\n",
       "            <td>1-191     </td> <td>1     </td> <td>101   </td> <td>1,995</td> <td>Algeria </td> <td>Government of Algeria</td> <td>nan     </td> <td>AIS              </td> <td>1389   </td> <td>nan     </td> <td>2              </td> <td>nan          </td> <td>1             </td> <td>3             </td> <td>3    </td> <td>1985-08-27</td> <td>1        </td> <td>1992-03-10</td> <td>5         </td> <td>0       </td> <td>nan      </td> <td>nan      </td> <td>nan          </td> <td>nan    </td> <td>nan      </td> <td>nan     </td> <td>615  </td> <td>nan     </td> <td>nan  </td> <td>nan     </td> <td>615    </td> <td>4     </td> <td>2.0-2015</td>\n",
       "        </tr>\n",
       "        <tr>\n",
       "            <td>1-191     </td> <td>1     </td> <td>101   </td> <td>1,996</td> <td>Algeria </td> <td>Government of Algeria</td> <td>nan     </td> <td>AIS              </td> <td>1389   </td> <td>nan     </td> <td>2              </td> <td>nan          </td> <td>1             </td> <td>3             </td> <td>3    </td> <td>1985-08-27</td> <td>1        </td> <td>1992-03-10</td> <td>5         </td> <td>0       </td> <td>nan      </td> <td>nan      </td> <td>nan          </td> <td>nan    </td> <td>nan      </td> <td>nan     </td> <td>615  </td> <td>nan     </td> <td>nan  </td> <td>nan     </td> <td>615    </td> <td>4     </td> <td>2.0-2015</td>\n",
       "        </tr>\n",
       "        <tr>\n",
       "            <td>1-191     </td> <td>1     </td> <td>101   </td> <td>1,997</td> <td>Algeria </td> <td>Government of Algeria</td> <td>nan     </td> <td>AIS              </td> <td>1389   </td> <td>nan     </td> <td>2              </td> <td>nan          </td> <td>1             </td> <td>3             </td> <td>3    </td> <td>1985-08-27</td> <td>1        </td> <td>1992-03-10</td> <td>5         </td> <td>1       </td> <td>10/1/97  </td> <td>1        </td> <td>2            </td> <td>2      </td> <td>10/1/97  </td> <td>nan     </td> <td>615  </td> <td>nan     </td> <td>nan  </td> <td>nan     </td> <td>615    </td> <td>4     </td> <td>2.0-2015</td>\n",
       "        </tr>\n",
       "        <tr>\n",
       "            <td>1-191     </td> <td>2     </td> <td>201   </td> <td>1,991</td> <td>Algeria </td> <td>Government of Algeria</td> <td>nan     </td> <td>Takfir wa'l Hijra</td> <td>1388   </td> <td>nan     </td> <td>2              </td> <td>nan          </td> <td>1             </td> <td>3             </td> <td>3    </td> <td>1990-12-20</td> <td>1        </td> <td>1991-12-09</td> <td>1         </td> <td>1       </td> <td>12/31/91 </td> <td>5        </td> <td>5            </td> <td>6      </td> <td>nan      </td> <td>nan     </td> <td>615  </td> <td>nan     </td> <td>nan  </td> <td>nan     </td> <td>615    </td> <td>4     </td> <td>2.0-2015</td>\n",
       "        </tr>\n",
       "        <tr>\n",
       "            <td>1-191     </td> <td>3     </td> <td>301   </td> <td>1,993</td> <td>Algeria </td> <td>Government of Algeria</td> <td>nan     </td> <td>GIA              </td> <td>1390   </td> <td>nan     </td> <td>2              </td> <td>nan          </td> <td>1             </td> <td>3             </td> <td>3    </td> <td>1992-02-10</td> <td>1        </td> <td>1993-12-31</td> <td>5         </td> <td>0       </td> <td>nan      </td> <td>nan      </td> <td>nan          </td> <td>nan    </td> <td>nan      </td> <td>nan     </td> <td>615  </td> <td>nan     </td> <td>nan  </td> <td>nan     </td> <td>615    </td> <td>4     </td> <td>2.0-2015</td>\n",
       "        </tr>\n",
       "        <tr>\n",
       "            <td>1-191     </td> <td>3     </td> <td>301   </td> <td>1,994</td> <td>Algeria </td> <td>Government of Algeria</td> <td>nan     </td> <td>GIA              </td> <td>1390   </td> <td>nan     </td> <td>2              </td> <td>nan          </td> <td>1             </td> <td>3             </td> <td>3    </td> <td>1992-02-10</td> <td>1        </td> <td>1993-12-31</td> <td>5         </td> <td>0       </td> <td>nan      </td> <td>nan      </td> <td>nan          </td> <td>nan    </td> <td>nan      </td> <td>nan     </td> <td>615  </td> <td>nan     </td> <td>nan  </td> <td>nan     </td> <td>615    </td> <td>4     </td> <td>2.0-2015</td>\n",
       "        </tr>\n",
       "        <tr>\n",
       "            <td>1-191     </td> <td>3     </td> <td>301   </td> <td>1,995</td> <td>Algeria </td> <td>Government of Algeria</td> <td>nan     </td> <td>GIA              </td> <td>1390   </td> <td>nan     </td> <td>2              </td> <td>nan          </td> <td>2             </td> <td>3             </td> <td>3    </td> <td>1992-02-10</td> <td>1        </td> <td>1993-12-31</td> <td>5         </td> <td>0       </td> <td>nan      </td> <td>nan      </td> <td>nan          </td> <td>nan    </td> <td>nan      </td> <td>nan     </td> <td>615  </td> <td>nan     </td> <td>nan  </td> <td>nan     </td> <td>615    </td> <td>4     </td> <td>2.0-2015</td>\n",
       "        </tr>\n",
       "    </tbody>\n",
       "</table>\n",
       "<p>... (2081 rows omitted)</p>"
      ],
      "text/plain": [
       "ConflictId | DyadId | DyadEp | Year  | Location | SideA                 | SideA2nd | SideB             | SideBID | SideB2nd | Incompatibility | TerritoryName | IntensityLevel | TypeOfConflict | Type2 | StartDate  | StartPrec | StartDate2 | StartPrec2 | Dyadterm | EpEndDate | EpEndPrec | Outcome_early | Outcome | CfireDate | PeAgDate | GWNoA | GWNoA2nd | GWNoB | GWNoB2nd | GWNoLoc | Region | Version\n",
       "1-191      | 1      | 101    | 1,992 | Algeria  | Government of Algeria | nan      | AIS               | 1389    | nan      | 2               | nan           | 1              | 3              | 3     | 1985-08-27 | 1         | 1992-03-10 | 5          | 0        | nan       | nan       | nan           | nan     | nan       | nan      | 615   | nan      | nan   | nan      | 615     | 4      | 2.0-2015\n",
       "1-191      | 1      | 101    | 1,993 | Algeria  | Government of Algeria | nan      | AIS               | 1389    | nan      | 2               | nan           | 1              | 3              | 3     | 1985-08-27 | 1         | 1992-03-10 | 5          | 0        | nan       | nan       | nan           | nan     | nan       | nan      | 615   | nan      | nan   | nan      | 615     | 4      | 2.0-2015\n",
       "1-191      | 1      | 101    | 1,994 | Algeria  | Government of Algeria | nan      | AIS               | 1389    | nan      | 2               | nan           | 2              | 3              | 3     | 1985-08-27 | 1         | 1992-03-10 | 5          | 0        | nan       | nan       | nan           | nan     | nan       | nan      | 615   | nan      | nan   | nan      | 615     | 4      | 2.0-2015\n",
       "1-191      | 1      | 101    | 1,995 | Algeria  | Government of Algeria | nan      | AIS               | 1389    | nan      | 2               | nan           | 1              | 3              | 3     | 1985-08-27 | 1         | 1992-03-10 | 5          | 0        | nan       | nan       | nan           | nan     | nan       | nan      | 615   | nan      | nan   | nan      | 615     | 4      | 2.0-2015\n",
       "1-191      | 1      | 101    | 1,996 | Algeria  | Government of Algeria | nan      | AIS               | 1389    | nan      | 2               | nan           | 1              | 3              | 3     | 1985-08-27 | 1         | 1992-03-10 | 5          | 0        | nan       | nan       | nan           | nan     | nan       | nan      | 615   | nan      | nan   | nan      | 615     | 4      | 2.0-2015\n",
       "1-191      | 1      | 101    | 1,997 | Algeria  | Government of Algeria | nan      | AIS               | 1389    | nan      | 2               | nan           | 1              | 3              | 3     | 1985-08-27 | 1         | 1992-03-10 | 5          | 1        | 10/1/97   | 1         | 2             | 2       | 10/1/97   | nan      | 615   | nan      | nan   | nan      | 615     | 4      | 2.0-2015\n",
       "1-191      | 2      | 201    | 1,991 | Algeria  | Government of Algeria | nan      | Takfir wa'l Hijra | 1388    | nan      | 2               | nan           | 1              | 3              | 3     | 1990-12-20 | 1         | 1991-12-09 | 1          | 1        | 12/31/91  | 5         | 5             | 6       | nan       | nan      | 615   | nan      | nan   | nan      | 615     | 4      | 2.0-2015\n",
       "1-191      | 3      | 301    | 1,993 | Algeria  | Government of Algeria | nan      | GIA               | 1390    | nan      | 2               | nan           | 1              | 3              | 3     | 1992-02-10 | 1         | 1993-12-31 | 5          | 0        | nan       | nan       | nan           | nan     | nan       | nan      | 615   | nan      | nan   | nan      | 615     | 4      | 2.0-2015\n",
       "1-191      | 3      | 301    | 1,994 | Algeria  | Government of Algeria | nan      | GIA               | 1390    | nan      | 2               | nan           | 1              | 3              | 3     | 1992-02-10 | 1         | 1993-12-31 | 5          | 0        | nan       | nan       | nan           | nan     | nan       | nan      | 615   | nan      | nan   | nan      | 615     | 4      | 2.0-2015\n",
       "1-191      | 3      | 301    | 1,995 | Algeria  | Government of Algeria | nan      | GIA               | 1390    | nan      | 2               | nan           | 2              | 3              | 3     | 1992-02-10 | 1         | 1993-12-31 | 5          | 0        | nan       | nan       | nan           | nan     | nan       | nan      | 615   | nan      | nan   | nan      | 615     | 4      | 2.0-2015\n",
       "... (2081 rows omitted)"
      ]
     },
     "execution_count": 82,
     "metadata": {},
     "output_type": "execute_result"
    }
   ],
   "source": [
    "civil = wars.where('TypeOfConflict', are.equal_to(3))\n",
    "civil"
   ]
  },
  {
   "cell_type": "code",
   "execution_count": 83,
   "metadata": {},
   "outputs": [
    {
     "name": "stdout",
     "output_type": "stream",
     "text": [
      "there are: 2741 rows in the whole dataset\n",
      "the are: 2091 rows that represent civil wars\n"
     ]
    }
   ],
   "source": [
    "wars_rows = wars.num_rows\n",
    "civil_rows = civil.num_rows\n",
    "\n",
    "print('there are:', wars_rows, 'rows in the whole dataset' )\n",
    "print('the are:', civil_rows, 'rows that represent civil wars' )"
   ]
  },
  {
   "cell_type": "code",
   "execution_count": 84,
   "metadata": {},
   "outputs": [
    {
     "data": {
      "text/html": [
       "<table border=\"1\" class=\"dataframe\">\n",
       "    <thead>\n",
       "        <tr>\n",
       "            <th>Year</th> <th>count</th>\n",
       "        </tr>\n",
       "    </thead>\n",
       "    <tbody>\n",
       "        <tr>\n",
       "            <td>1,991</td> <td>62   </td>\n",
       "        </tr>\n",
       "        <tr>\n",
       "            <td>1,990</td> <td>60   </td>\n",
       "        </tr>\n",
       "        <tr>\n",
       "            <td>1,994</td> <td>56   </td>\n",
       "        </tr>\n",
       "        <tr>\n",
       "            <td>1,992</td> <td>52   </td>\n",
       "        </tr>\n",
       "        <tr>\n",
       "            <td>1,997</td> <td>48   </td>\n",
       "        </tr>\n",
       "        <tr>\n",
       "            <td>1,993</td> <td>46   </td>\n",
       "        </tr>\n",
       "        <tr>\n",
       "            <td>1,996</td> <td>45   </td>\n",
       "        </tr>\n",
       "        <tr>\n",
       "            <td>1,989</td> <td>45   </td>\n",
       "        </tr>\n",
       "        <tr>\n",
       "            <td>1,987</td> <td>45   </td>\n",
       "        </tr>\n",
       "        <tr>\n",
       "            <td>1,986</td> <td>44   </td>\n",
       "        </tr>\n",
       "    </tbody>\n",
       "</table>\n",
       "<p>... (59 rows omitted)</p>"
      ],
      "text/plain": [
       "Year  | count\n",
       "1,991 | 62\n",
       "1,990 | 60\n",
       "1,994 | 56\n",
       "1,992 | 52\n",
       "1,997 | 48\n",
       "1,993 | 46\n",
       "1,996 | 45\n",
       "1,989 | 45\n",
       "1,987 | 45\n",
       "1,986 | 44\n",
       "... (59 rows omitted)"
      ]
     },
     "execution_count": 84,
     "metadata": {},
     "output_type": "execute_result"
    }
   ],
   "source": [
    "civil.group('Year').sort('count', descending = True)"
   ]
  },
  {
   "cell_type": "code",
   "execution_count": 85,
   "metadata": {},
   "outputs": [
    {
     "data": {
      "text/html": [
       "<table border=\"1\" class=\"dataframe\">\n",
       "    <thead>\n",
       "        <tr>\n",
       "            <th>Location</th> <th>count</th>\n",
       "        </tr>\n",
       "    </thead>\n",
       "    <tbody>\n",
       "        <tr>\n",
       "            <td>Myanmar (Burma)</td> <td>314  </td>\n",
       "        </tr>\n",
       "        <tr>\n",
       "            <td>India          </td> <td>178  </td>\n",
       "        </tr>\n",
       "        <tr>\n",
       "            <td>Ethiopia       </td> <td>123  </td>\n",
       "        </tr>\n",
       "        <tr>\n",
       "            <td>Philippines    </td> <td>121  </td>\n",
       "        </tr>\n",
       "        <tr>\n",
       "            <td>Israel         </td> <td>120  </td>\n",
       "        </tr>\n",
       "        <tr>\n",
       "            <td>Colombia       </td> <td>93   </td>\n",
       "        </tr>\n",
       "        <tr>\n",
       "            <td>Sudan          </td> <td>68   </td>\n",
       "        </tr>\n",
       "        <tr>\n",
       "            <td>Iraq           </td> <td>60   </td>\n",
       "        </tr>\n",
       "        <tr>\n",
       "            <td>Indonesia      </td> <td>50   </td>\n",
       "        </tr>\n",
       "        <tr>\n",
       "            <td>Guatemala      </td> <td>50   </td>\n",
       "        </tr>\n",
       "    </tbody>\n",
       "</table>\n",
       "<p>... (89 rows omitted)</p>"
      ],
      "text/plain": [
       "Location        | count\n",
       "Myanmar (Burma) | 314\n",
       "India           | 178\n",
       "Ethiopia        | 123\n",
       "Philippines     | 121\n",
       "Israel          | 120\n",
       "Colombia        | 93\n",
       "Sudan           | 68\n",
       "Iraq            | 60\n",
       "Indonesia       | 50\n",
       "Guatemala       | 50\n",
       "... (89 rows omitted)"
      ]
     },
     "execution_count": 85,
     "metadata": {},
     "output_type": "execute_result"
    }
   ],
   "source": [
    "civil.group('Location').sort('count', descending = True)"
   ]
  },
  {
   "cell_type": "code",
   "execution_count": 86,
   "metadata": {},
   "outputs": [
    {
     "data": {
      "text/html": [
       "<table border=\"1\" class=\"dataframe\">\n",
       "    <thead>\n",
       "        <tr>\n",
       "            <th>SideA</th> <th>count</th>\n",
       "        </tr>\n",
       "    </thead>\n",
       "    <tbody>\n",
       "        <tr>\n",
       "            <td>Government of Myanmar (Burma)</td> <td>314  </td>\n",
       "        </tr>\n",
       "        <tr>\n",
       "            <td>Government of India          </td> <td>178  </td>\n",
       "        </tr>\n",
       "        <tr>\n",
       "            <td>Government of Ethiopia       </td> <td>123  </td>\n",
       "        </tr>\n",
       "        <tr>\n",
       "            <td>Government of Philippines    </td> <td>121  </td>\n",
       "        </tr>\n",
       "        <tr>\n",
       "            <td>Government of Israel         </td> <td>120  </td>\n",
       "        </tr>\n",
       "        <tr>\n",
       "            <td>Government of Colombia       </td> <td>93   </td>\n",
       "        </tr>\n",
       "        <tr>\n",
       "            <td>Government of Sudan          </td> <td>68   </td>\n",
       "        </tr>\n",
       "        <tr>\n",
       "            <td>Government of Iraq           </td> <td>60   </td>\n",
       "        </tr>\n",
       "        <tr>\n",
       "            <td>Government of Indonesia      </td> <td>50   </td>\n",
       "        </tr>\n",
       "        <tr>\n",
       "            <td>Government of Guatemala      </td> <td>50   </td>\n",
       "        </tr>\n",
       "    </tbody>\n",
       "</table>\n",
       "<p>... (89 rows omitted)</p>"
      ],
      "text/plain": [
       "SideA                         | count\n",
       "Government of Myanmar (Burma) | 314\n",
       "Government of India           | 178\n",
       "Government of Ethiopia        | 123\n",
       "Government of Philippines     | 121\n",
       "Government of Israel          | 120\n",
       "Government of Colombia        | 93\n",
       "Government of Sudan           | 68\n",
       "Government of Iraq            | 60\n",
       "Government of Indonesia       | 50\n",
       "Government of Guatemala       | 50\n",
       "... (89 rows omitted)"
      ]
     },
     "execution_count": 86,
     "metadata": {},
     "output_type": "execute_result"
    }
   ],
   "source": [
    "civil.group('SideA').sort('count', descending = True)"
   ]
  },
  {
   "cell_type": "code",
   "execution_count": 87,
   "metadata": {},
   "outputs": [
    {
     "data": {
      "text/html": [
       "<table border=\"1\" class=\"dataframe\">\n",
       "    <thead>\n",
       "        <tr>\n",
       "            <th>SideB</th> <th>count</th>\n",
       "        </tr>\n",
       "    </thead>\n",
       "    <tbody>\n",
       "        <tr>\n",
       "            <td>FARC              </td> <td>48   </td>\n",
       "        </tr>\n",
       "        <tr>\n",
       "            <td>CPP               </td> <td>44   </td>\n",
       "        </tr>\n",
       "        <tr>\n",
       "            <td>KNU               </td> <td>43   </td>\n",
       "        </tr>\n",
       "        <tr>\n",
       "            <td>CPB               </td> <td>41   </td>\n",
       "        </tr>\n",
       "        <tr>\n",
       "            <td>KIO               </td> <td>36   </td>\n",
       "        </tr>\n",
       "        <tr>\n",
       "            <td>ELN               </td> <td>32   </td>\n",
       "        </tr>\n",
       "        <tr>\n",
       "            <td>OLF               </td> <td>31   </td>\n",
       "        </tr>\n",
       "        <tr>\n",
       "            <td>PKK               </td> <td>30   </td>\n",
       "        </tr>\n",
       "        <tr>\n",
       "            <td>KNUP              </td> <td>27   </td>\n",
       "        </tr>\n",
       "        <tr>\n",
       "            <td>Kashmir insurgents</td> <td>25   </td>\n",
       "        </tr>\n",
       "    </tbody>\n",
       "</table>\n",
       "<p>... (414 rows omitted)</p>"
      ],
      "text/plain": [
       "SideB              | count\n",
       "FARC               | 48\n",
       "CPP                | 44\n",
       "KNU                | 43\n",
       "CPB                | 41\n",
       "KIO                | 36\n",
       "ELN                | 32\n",
       "OLF                | 31\n",
       "PKK                | 30\n",
       "KNUP               | 27\n",
       "Kashmir insurgents | 25\n",
       "... (414 rows omitted)"
      ]
     },
     "execution_count": 87,
     "metadata": {},
     "output_type": "execute_result"
    }
   ],
   "source": [
    "civil.group('SideB').sort('count', descending = True)"
   ]
  },
  {
   "cell_type": "markdown",
   "metadata": {},
   "source": [
    "# Visualize the Data <a id='4'></a>\n",
    "\n",
    "Visualization of the number of civil wars over time "
   ]
  },
  {
   "cell_type": "code",
   "execution_count": 91,
   "metadata": {},
   "outputs": [
    {
     "data": {
      "image/png": "[encoded data removed]",
      "text/plain": [
       "<Figure size 432x288 with 1 Axes>"
      ]
     },
     "metadata": {},
     "output_type": "display_data"
    }
   ],
   "source": [
    "civil_trend = civil.group('Year')\n",
    "\n",
    "civil_trend.plot('Year')"
   ]
  },
  {
   "cell_type": "markdown",
   "metadata": {},
   "source": [
    "# Bibliography <a id='5'></a>\n",
    "* Kreutz, Joakim, 2010. How and When Armed Conflicts End: Introducing the UCDP Conflict Termination Dataset. *Journal of Peace Research* 47(2): 243-250."
   ]
  },
  {
   "cell_type": "code",
   "execution_count": null,
   "metadata": {},
   "outputs": [],
   "source": []
  }
 ],
 "metadata": {
  "kernelspec": {
   "display_name": "Python [conda env:datahub] *",
   "language": "python",
   "name": "conda-env-datahub-py"
  },
  "language_info": {
   "codemirror_mode": {
    "name": "ipython",
    "version": 3
   },
   "file_extension": ".py",
   "mimetype": "text/x-python",
   "name": "python",
   "nbconvert_exporter": "python",
   "pygments_lexer": "ipython3",
   "version": "3.6.8"
  }
 },
 "nbformat": 4,
 "nbformat_minor": 2
}
