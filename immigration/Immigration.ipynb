{
 "cells": [
  {
   "cell_type": "markdown",
   "metadata": {
    "#student": true
   },
   "source": [
    "# [POLSCI 5] Immigration Databook\n",
    "\n",
    "Estimated Time: 30-40 minutes <br>\n",
    "\n",
    "Databook created by Lauren Hom and Ravi Singhal in collaboration with Professor Aila Matanock and Head GSI Alex Stephenson for Political Science 5: Introduction to International Relations\n",
    "\n",
    "Today we will be examining official data on immigration to the United States, collected by the U.S. Department of Homeland Security. Using these data, we will analyze economic and immigration patterns in North and Central America and tie them to events taking place at the time."
   ]
  },
  {
   "cell_type": "markdown",
   "metadata": {
    "#student": false
   },
   "source": [
    "### Table of Contents \n",
    "1. [Jupyter Introduction ](#0) <br>\n",
    "2. [The Datasets](#1)<br>\n",
    "3. [Dataset 1: Immigrants to the U.S.](#2)<br>\n",
    "    3.1 [Rows](#2b)<br>\n",
    "    3.2 [Columns](#2a)<br>\n",
    "    3.3 [Mexico](#2c)<br>\n",
    "4. [Dataset 2: Immigration by Class of Admission](#4)<br>\n",
    "    4.1 [Rows](#4b)<br>\n",
    "    4.2 [Columns](#4a)<br>\n",
    "    4.3 [Exploration of Central America](#4c)<br>\n",
    "5. [Homework](#5)<br>\n",
    "\n",
    "[Data Science Resources at Berkeley](#6)<br>\n",
    "\n",
    "[Bibliography](#7)<br>"
   ]
  },
  {
   "cell_type": "markdown",
   "metadata": {
    "#student": false
   },
   "source": [
    "<br>\n",
    "\n",
    "# 1. Jupyter Introduction <a id='0'></a>"
   ]
  },
  {
   "cell_type": "markdown",
   "metadata": {
    "#student": false
   },
   "source": [
    "This file, displayed in your browser, is a Jupyter Notebook. Jupyter Notebooks provide an interactive interface through which students and professionals can write text and work with computer code- in this case, the Python programming language. We will be using this application to analyze the United States Department of Homeland Security's Yearbook of Immigration Statistics (DHS, 2017).\n",
    "\n",
    "Jupyter Notebooks are composed of both regular text and *code cells*. Code cells have a gray background, as seen in the cell below. In order to run a code cell, click into the cell and press `Shift + Enter` or hit the `▶| Run` button in the toolbar at the top.\n",
    "\n",
    "Try running the code cell below. If done correctly, the word \"Success\" will be printed below the cell."
   ]
  },
  {
   "cell_type": "code",
   "execution_count": null,
   "metadata": {
    "#student": false
   },
   "outputs": [],
   "source": [
    "# This cell sets up the notebook. Just run this cell.\n",
    "from datascience import * # Loads a python library that will be used to analyze the data\n",
    "import numpy as np # Loads a python library that allows for math functionality\n",
    "\n",
    "%matplotlib inline\n",
    "import matplotlib.pyplot as plt # Loads a python library that allows for the creation of plots\n",
    "plt.style.use('fivethirtyeight')\n",
    "\n",
    "print(\"Success!\")"
   ]
  },
  {
   "cell_type": "markdown",
   "metadata": {
    "#student": false
   },
   "source": [
    "Congratulations, you just ran your first code cell! Now that we've installed some important Python libraries to be used later in the notebook, let's start exploring the data."
   ]
  },
  {
   "cell_type": "markdown",
   "metadata": {
    "#student": false
   },
   "source": [
    "<br>\n",
    "\n",
    "# 2. The Datasets <a id='1'></a>"
   ]
  },
  {
   "cell_type": "markdown",
   "metadata": {
    "#student": false
   },
   "source": [
    "The Yearbook of Immigration Statistics (DHS, 2017) contains information about immigration to the United States. Below is a description of the data from the Department of Homeland Security (DHS) website:\n",
    "\n",
    "> \"The 2017 Yearbook of Immigration Statistics is a compendium of tables that provide data on foreign nationals who are granted lawful permanent residence (i.e., immigrants who receive a “green card”), admitted as temporary nonimmigrants, granted asylum or refugee status, or are naturalized. The Yearbook also presents data on immigration enforcement actions, including apprehensions and arrests, removals, and returns.\"\n",
    "\n",
    "This databook will explore two datasets from the Yearbook of Immigration Statistics (DHS, 2017), containing information about:\n",
    "\n",
    "* Foreign nationals granted lawful permanent residence (i.e., immigrants who receive a \"green card\"), and\n",
    "* Immigrants by classes of admission\n",
    "\n",
    "**Note:** The data are collected by *fiscal years*, which differ from calendar years. A fiscal year is a 12-month period of time used by the U.S. government for accounting purposes. For each of the years used in this databook's analysis, the fiscal year began on October 1st of the year before and ended on September 30th of that year (for example, the 1996 fiscal year began on October 1, 1995 and ended on September 30, 1996).\n",
    "\n",
    "To read more about the Yearbook of Immigration Statistics (DHS, 2017), click [here](https://www.dhs.gov/immigration-statistics/yearbook/2017).\n"
   ]
  },
  {
   "cell_type": "markdown",
   "metadata": {
    "#student": false
   },
   "source": [
    "<br>\n",
    "\n",
    "# 3. Dataset 1: Immigrants to the U.S. <a id='2'></a>"
   ]
  },
  {
   "cell_type": "markdown",
   "metadata": {
    "#student": false
   },
   "source": [
    "The first dataset we will explore contains data on the number of immigrants who obtained lawful permanent residence or received conditional resident status to stay in the U.S. between 1995 and 2017 for any given country. Run the code cell below to load the data and display, as an example, the first five fiscal years for immigrants from Cuba."
   ]
  },
  {
   "cell_type": "code",
   "execution_count": null,
   "metadata": {
    "#student": false
   },
   "outputs": [],
   "source": [
    "# read in the dataset\n",
    "birth_country = Table.read_table('ImmigrantsRegionCountry.csv').where('fiscal_year', are.above(1995))\n",
    "birth_country.set_format('fiscal_year', formats.FunctionFormatter(lambda x: x)) # fix format of year column\n",
    "birth_country.where('country', 'Cuba').show(5)"
   ]
  },
  {
   "cell_type": "markdown",
   "metadata": {
    "#student": false
   },
   "source": [
    "The quantity seen in the `total` column of the table describes the number of people who were born in the specified country and immigrated to the United States. Note: immigrants are described as \"born\" in a given country rather than being \"from\" that country. Despite being born in the listed country, they might have most recently lived or stayed in a different country."
   ]
  },
  {
   "cell_type": "markdown",
   "metadata": {
    "#student": true
   },
   "source": [
    "### Discussion A\n",
    "\n",
    "These data are on lawful permanent residents (green card holders), which are a subset of all documented immigrants. They contain information that can be collected by embassies and border guards. This information may be flawed- for example, people might falsely report their country of origin. \n",
    "\n",
    "Discuss the following questions with a partner: \n",
    "\n",
    "* Why might someone want to falsify their country of origin?\n",
    "\n",
    "Write a short response to this question in the following cell. Edit the cell by clicking on the bolded text twice, then replace the text with your answer.\n"
   ]
  },
  {
   "cell_type": "markdown",
   "metadata": {
    "#student": true
   },
   "source": [
    "**_Write your response here!_**"
   ]
  },
  {
   "cell_type": "markdown",
   "metadata": {
    "#student": true
   },
   "source": [
    "### Discussion B\n",
    "\n",
    "Discuss the following questions with a partner:\n",
    "\n",
    "* What other types of immigration might occur?\n",
    "* How would you measure undocumented immigrants in the United States?\n",
    "\n",
    "Write a short response to these questions in the following cell. Edit the cell by clicking on the bolded text twice, then replace the text with your answer.\n"
   ]
  },
  {
   "cell_type": "markdown",
   "metadata": {
    "#student": true
   },
   "source": [
    "**_Write your response here!_**"
   ]
  },
  {
   "cell_type": "markdown",
   "metadata": {
    "#student": false
   },
   "source": [
    "<br>\n",
    "\n",
    "## 3.1 Rows <a id='2b'></a>\n",
    "\n",
    "Each row in this dataset displays the total number of immigrants admitted during a given fiscal year and born in a given country. Consider a subset of the data: the rows describing immigrants born in Cuba. Run the code cell below to take a look."
   ]
  },
  {
   "cell_type": "code",
   "execution_count": null,
   "metadata": {
    "#student": false
   },
   "outputs": [],
   "source": [
    "# show the total numbers of immigrants born in Cuba admitted per fiscal year\n",
    "birth_country.where('country', 'Cuba').show()"
   ]
  },
  {
   "cell_type": "markdown",
   "metadata": {
    "#student": false
   },
   "source": [
    "If we look at the first row, we see that in fiscal year 1996 (October 1, 1995 through September 30, 1996), there were 26,466 immigrants born in Cuba who were granted lawful permanent residence."
   ]
  },
  {
   "cell_type": "markdown",
   "metadata": {
    "#student": false
   },
   "source": [
    "<br>\n",
    "\n",
    "## 3.2 Columns <a id='2a'></a>\n",
    "\n",
    "There are a total of 3 columns in this dataset:\n",
    "- `fiscal_year` which includes years ranging from 1996 to 2017\n",
    "- `country` which lists the country/territory where immigrants reported they were born\n",
    "- `total` which represents the total number of immigrants from the given country for the given fiscal year\n",
    "\n",
    "The next cell displays the first five rows of dataset 1:"
   ]
  },
  {
   "cell_type": "code",
   "execution_count": null,
   "metadata": {
    "#student": false
   },
   "outputs": [],
   "source": [
    "# Show the first five rows of immigration data by fiscal year and birth country\n",
    "birth_country.show(5)"
   ]
  },
  {
   "cell_type": "markdown",
   "metadata": {
    "#student": false
   },
   "source": [
    "There are a total of 237 countries and territories represented in the data. Run the code cell below to see the number of occurrences of each country in the dataset:"
   ]
  },
  {
   "cell_type": "code",
   "execution_count": null,
   "metadata": {
    "#student": false
   },
   "outputs": [],
   "source": [
    "# Calculate the number of occurrences of each location in the birth_country data\n",
    "countries_regions = birth_country.group('country')\n",
    "# Display the counts for the first 10 countries and regions\n",
    "countries_regions.show(10)"
   ]
  },
  {
   "cell_type": "markdown",
   "metadata": {
    "#student": false
   },
   "source": [
    "Now that we've identified the rows and columns in dataset 1, let's use the data to look more deeply at a single country."
   ]
  },
  {
   "cell_type": "markdown",
   "metadata": {
    "#student": false
   },
   "source": [
    "<br>\n",
    "\n",
    "## 3.3 Mexico Analysis <a id='2c'></a>"
   ]
  },
  {
   "cell_type": "markdown",
   "metadata": {
    "#student": false
   },
   "source": [
    "In this section, we examine data for Mexico, paying particular attention to the `total` column before and after 2008. Our goal is to examine the total number of immigrants granted green cards in each fiscal year.\n",
    "\n",
    "First, let's filter the dataset to only contains immigration count for people born in Mexico."
   ]
  },
  {
   "cell_type": "code",
   "execution_count": null,
   "metadata": {
    "#student": false
   },
   "outputs": [],
   "source": [
    "# Shows only the data for country Mexico \n",
    "mexico = birth_country.where('country', 'Mexico')\n",
    "mexico.show()"
   ]
  },
  {
   "cell_type": "markdown",
   "metadata": {
    "#student": false
   },
   "source": [
    "We will use this subset of the data as the basis for our analysis."
   ]
  },
  {
   "cell_type": "markdown",
   "metadata": {
    "#student": false
   },
   "source": [
    "### Visualize the Data "
   ]
  },
  {
   "cell_type": "markdown",
   "metadata": {
    "#student": false
   },
   "source": [
    "When looking at trends in total number of immigrants granted green cards, it might interest us to know the minimum and maximum total numbers of immigrants as well as the years corresponding with those quantities. \n",
    "\n",
    "Run the cell below to identify the minimum and the corresponding year."
   ]
  },
  {
   "cell_type": "code",
   "execution_count": null,
   "metadata": {
    "#student": false
   },
   "outputs": [],
   "source": [
    "# Row with the MINIMUM total immigration\n",
    "lowest_total = min(mexico.column('total')) \n",
    "mexico.where('total', lowest_total)"
   ]
  },
  {
   "cell_type": "markdown",
   "metadata": {
    "#student": false
   },
   "source": [
    "In comparison, run the cell below to identify the maximum and the corresponding year."
   ]
  },
  {
   "cell_type": "code",
   "execution_count": null,
   "metadata": {
    "#student": false
   },
   "outputs": [],
   "source": [
    "# Row with the MAXIMUM total immigration in Mexico\n",
    "highest_total = max(mexico.column('total'))\n",
    "mexico.where('total', highest_total)"
   ]
  },
  {
   "cell_type": "markdown",
   "metadata": {
    "#student": false
   },
   "source": [
    "Here are the data showing the total number of immigrants granted green cards between 2008 and 2017:"
   ]
  },
  {
   "cell_type": "code",
   "execution_count": null,
   "metadata": {
    "#student": false
   },
   "outputs": [],
   "source": [
    "# total numbers of immigrants, 2008-17\n",
    "mexico.where('fiscal_year', are.between_or_equal_to(2008, 2017))"
   ]
  },
  {
   "cell_type": "markdown",
   "metadata": {
    "#student": false
   },
   "source": [
    "A visualization may make it easier to compare the number of immigrants granted green cards between 1995 and 2017. Run the following cell to generate a line plot. The vertical axis shows the number of immigrants, while the horizontal axis shows the year."
   ]
  },
  {
   "cell_type": "code",
   "execution_count": null,
   "metadata": {
    "#student": false
   },
   "outputs": [],
   "source": [
    "mexico.plot('fiscal_year', 'total') # Generates the line plot with fiscal_year on the x-axis and total on the y-axis\n",
    "plt.title('Number of Immigrants Born in Mexico Granted LPR Status') # Titles the plot\n",
    "plt.ylabel('Total') # Creates label for the x-axis\n",
    "plt.xlabel('Fiscal Year') # Creates label for the y-axis\n",
    "plt.show()"
   ]
  },
  {
   "cell_type": "markdown",
   "metadata": {
    "#student": true
   },
   "source": [
    "### Discussion C\n",
    "\n",
    "#### Important IPE events affecting Mexico:\n",
    "\n",
    "* January 1, 1994: the North American Free Trade Agreement, or [NAFTA](https://ustr.gov/trade-agreements/free-trade-agreements/north-american-free-trade-agreement-nafta), goes into effect\n",
    "* December 1994: the sudden devaluation of Mexican currency sparks the [Mexican Peso Crisis](https://www.oxfordscholarship.com/view/10.1093/acprof:oso/9780198296867.001.0001/acprof-9780198296867-chapter-7)\n",
    "* 2001: the United States experiences an [economic recession](https://www.nber.org/cycles/november2001/recessnov.html)\n",
    "* 2008: the United States experiences the [Great Recession](https://irle.berkeley.edu/what-really-caused-the-great-recession/)\n",
    "\n",
    "Discuss the following questions with a partner:\n",
    "\n",
    "1. How does the graph change in each of those years?\n",
    "2. Why might economic shocks account for the changes in the graph?\n",
    "\n",
    "Write a short response to these questions in the following cell. Edit the cell by clicking on the bolded text twice, then replace the text with your answer.\n"
   ]
  },
  {
   "cell_type": "markdown",
   "metadata": {
    "#student": true
   },
   "source": [
    "**_Write your response here!_**"
   ]
  },
  {
   "cell_type": "markdown",
   "metadata": {
    "#student": false
   },
   "source": [
    "<br>\n",
    "\n",
    "# 4. Dataset 2: Immigrants by Class of Admission <a id='4'></a>"
   ]
  },
  {
   "cell_type": "markdown",
   "metadata": {
    "#student": false
   },
   "source": [
    "The other dataset we will explore from the same source provides information on the type of admission (class) under which immigrants were granted lawful permanent residence. The Department of Homeland Security describes the Immigrant Classes of Admissions below:\n",
    "\n",
    "> \"A lawful permanent resident (LPR) or “green card” recipient may live and work anywhere in the United States and may apply to become U.S. citizens if they meet certain eligibility and admissibility requirements. The Immigration and Nationality Act (INA) provides several broad classes of admission for foreign nationals to gain LPR status, the largest of which focuses on admitting immigrants for the purpose of family reunification. Other major categories include economic and humanitarian immigrants, as well as immigrants from countries with relatively low levels of immigration to the United States.\" ([DHS 2017](https://www.dhs.gov/immigration-statistics/lawful-permanent-residents/ImmigrantCOA))\n",
    "\n",
    "Here are the first 5 rows of the dataset. There are 20,907 rows and 4 columns in total."
   ]
  },
  {
   "cell_type": "code",
   "execution_count": null,
   "metadata": {
    "#student": false
   },
   "outputs": [],
   "source": [
    "class_admission = Table.read_table('immigrants-class-perm.csv') # read in the dataset\n",
    "class_admission.set_format('fiscal_year', formats.FunctionFormatter(lambda x: x)) # fix format of year column\n",
    "class_admission.show(5)"
   ]
  },
  {
   "cell_type": "markdown",
   "metadata": {
    "#student": false
   },
   "source": [
    "<br>\n",
    "\n",
    "## 4.1. Rows <a id='4b'></a>\n",
    "\n",
    "Each *row* in the dataset gives the total number of immigrants admitted under the stated class for a given country in a particular fiscal year. \n",
    "\n",
    "For example, here is the 70th row of the dataset. This row shows that there were 376 immigrants from Afghanistan who were granted lawful permanent residence in 2008 as immediate relatives of U.S. citizens. "
   ]
  },
  {
   "cell_type": "code",
   "execution_count": null,
   "metadata": {
    "#student": false
   },
   "outputs": [],
   "source": [
    "class_admission.take(70) # takes the 70th row of the table"
   ]
  },
  {
   "cell_type": "markdown",
   "metadata": {
    "#student": false
   },
   "source": [
    "<br>\n",
    "\n",
    "## 4.2. Columns <a id='4a'></a>\n",
    "The `type` column refers to the class under which immigrants were granted lawful permanent residence. There are a total of 9 types or classes in the table."
   ]
  },
  {
   "cell_type": "code",
   "execution_count": null,
   "metadata": {
    "#student": false
   },
   "outputs": [],
   "source": [
    "# Run this cell to display all of the \"types\" of classes in the table, \n",
    "# sorted by the type with the most occurrences \n",
    "types = class_admission.group('type').sort('count', descending = True) \n",
    "types"
   ]
  },
  {
   "cell_type": "markdown",
   "metadata": {
    "#student": true
   },
   "source": [
    "### Discussion D\n",
    "\n",
    "With a partner, choose two types that you are unsure about. Each partner should look up one of the types [here](https://www.dhs.gov/immigration-statistics/lawful-permanent-residents/ImmigrantCOA). Briefly discuss what the types mean. List the two types and a short description of each in the following cell. Edit the cell by clicking on the bolded text twice, then replace the text with your answer.\n"
   ]
  },
  {
   "cell_type": "markdown",
   "metadata": {
    "#student": true
   },
   "source": [
    "**_Write your response here!_**"
   ]
  },
  {
   "cell_type": "markdown",
   "metadata": {
    "#student": false
   },
   "source": [
    "<br>\n",
    "\n",
    "## 4.3. Exploration of Central America <a id='4c'></a>"
   ]
  },
  {
   "cell_type": "markdown",
   "metadata": {
    "#student": false
   },
   "source": [
    "Finally, we will look at the number of immigrants admitted under the \"Refugees and Asylees\" class for Honduras, El Salvador, and Guatemala."
   ]
  },
  {
   "cell_type": "code",
   "execution_count": null,
   "metadata": {
    "#student": false
   },
   "outputs": [],
   "source": [
    "# Filter data by country\n",
    "guatemala_refugee = class_admission.where('country', 'Guatemala').where('type', 'Refugees and asylees').drop(0, 1).relabel('total', 'Guatemala total')\n",
    "honduras_refugee = class_admission.where('country', 'Honduras').where('type', 'Refugees and asylees').drop(0, 1).relabel('total', 'Honduras total')\n",
    "elsalvador_refugee = class_admission.where('country', 'El Salvador').where('type', 'Refugees and asylees').drop(0, 1).relabel('total', 'El Salvador total')\n",
    "\n",
    "# Show the first five rows of El Salvador data\n",
    "elsalvador_refugee.show(5)"
   ]
  },
  {
   "cell_type": "markdown",
   "metadata": {
    "#student": false
   },
   "source": [
    "The subset of data for El Salvador is displayed above.\n",
    "\n",
    "Run the next cell to subset to the data for those three countries into one table."
   ]
  },
  {
   "cell_type": "code",
   "execution_count": null,
   "metadata": {
    "#student": false
   },
   "outputs": [],
   "source": [
    "# Combine the data for Honduras, El Salvador, and Guatemala into one table\n",
    "latin_refugees = honduras_refugee.join('fiscal_year', elsalvador_refugee).join('fiscal_year', guatemala_refugee)\n",
    "latin_refugees.show(5)"
   ]
  },
  {
   "cell_type": "markdown",
   "metadata": {
    "#student": false
   },
   "source": [
    "Now we can create the line plot of the total number of immigrants admitted under the \"Refugees and Asylees\" class from 1997 to 2017 by country."
   ]
  },
  {
   "cell_type": "code",
   "execution_count": null,
   "metadata": {
    "#student": false
   },
   "outputs": [],
   "source": [
    "# Create a line plot for each of the three countries\n",
    "latin_refugees.plot('fiscal_year')\n",
    "plt.title('Immigrants Admitted by Refugees and Asylees Class by Country')\n",
    "plt.ylabel(\"Number of Immigrants\")\n",
    "plt.xlabel('Fiscal Year')\n",
    "plt.show()"
   ]
  },
  {
   "cell_type": "markdown",
   "metadata": {
    "#student": true
   },
   "source": [
    "### Discussion E\n",
    "\n",
    "Central America experienced several important conflict events during this time span:\n",
    "\n",
    "#### Conflict Events in Central America\n",
    "\n",
    "* The El Salvador Gang Truce (https://www.tandfonline.com/doi/full/10.1080/1057610X.2018.1430654) \n",
    "\n",
    "* The Mexican Drug War (https://www.cfr.org/backgrounder/mexicos-drug-war) \n",
    "\n",
    "Compare the trend of each country to each other. Discuss the following questions with a partner:\n",
    "\n",
    "* Do the three lines follow a similar trend? \n",
    "* Why might this be the case? \n",
    "\n",
    "Write a short response to these questions in the following cell. Edit the cell by clicking on the bolded text twice, then replace the text with your answer.\n"
   ]
  },
  {
   "cell_type": "markdown",
   "metadata": {
    "#student": true
   },
   "source": [
    "**_Write your response here!_**"
   ]
  },
  {
   "cell_type": "markdown",
   "metadata": {
    "#student": true
   },
   "source": [
    "<br>\n",
    "\n",
    "---\n",
    "\n",
    "# Homework <a id='5'></a>"
   ]
  },
  {
   "cell_type": "markdown",
   "metadata": {
    "#student": false
   },
   "source": [
    "\n",
    "---\n",
    "\n",
    "Choose one of the following datasets to examine:\n",
    "\n",
    "1) [International Migration Stock. United Nations Population Division.](https://www.un.org/en/development/desa/population/migration/data/estimates2/estimates19.asp)\n",
    "\n",
    "> Contains estimates of international migrant by age, sex and origin for 1990, 1995, 2000, 2005, 2010, 2015 and 2019 for all countries and areas of the world.\n",
    "\n",
    "> NOTE: For the assignment, click on link above, then click on the top link on that page that says “[total international migrant stock.](https://www.un.org/en/development/desa/population/migration/data/estimates2/data/UN_MigrantStockTotal_2019.xlsx)”  In the spreadsheet that opens, click on the tab at the bottom for “table 3”, which shows immigrants as a percent of the total population, for many categories.  Look at rows 14 through 20, which show the percentages for world regions.\n",
    "\n",
    "2) [OECD International Migration Statistics Database. Organization for Economic Cooperation and Development.](https://www-oecd-ilibrary-org.libproxy.berkeley.edu/social-issues-migration-health/data/oecd-international-migration-statistics_mig-data-en)\n",
    "\n",
    "> Contains data on foreign and foreign-born population, migration flows, naturalizations and labor market outcomes. Drill into the database to change indicators, time periods, and countries.\n",
    "\n",
    "> NOTE: For the assignment, click on the link above (be sure to use this link, since this is a dataset from the library, and be sure to be logged into your library account!).  Then, click on the purple cube to the right of the top link, “International Migration Database”.  Once in the spreadsheet, you can look at any of the three data tables linked in the top left (international migration database, or, the two tables on employment).\n",
    "\n",
    "3) [Estimated Unauthorized Immigrant Population by State  Pew Research Center, 2016](https://www.pewresearch.org/hispanic/wp-content/uploads/sites/5/2019/02/Pew-Research-Center_U-S-Unauthorized-Immigrant-Population-By-State-Tables-2016_2019-02-05.xlsx)\n",
    "\n",
    "> Contains data estimates on numbers of unauthorized immigrants by state, with change over time, and data on occupation and industry.  A report using the dataset, including methodology, can be found [here](https://www.pewresearch.org/hispanic/2018/11/27/u-s-unauthorized-immigrant-total-dips-to-lowest-level-in-a-decade/).\n",
    "\n",
    "4) BONUS!! Get to know ICPSR (13,000 datasets, available to UC Berkeley community, requires account)\n",
    "\n",
    "> [ICPSR (Intra-university Consortium for Political and Social Research)](https://www.icpsr.umich.edu/icpsrweb/) is a huge and respected collection of social science data sets, of which Berkeley is a member.  You can search for data sets related to immigration, and either download them and analyze them or analyze them right in your browser, after setting up an ICPSR account related to your Berkeley affiliation.\n",
    "\n",
    "> The option to do analysis right in your browser is called online analysis and is available for some datasets.  This means you don’t have to download the data and do anything to them in order to get the answers you want.  Try this:\n",
    "\n",
    "> From the ICPSR home page, under Find Data, select Find Data. In the search box, enter immigration as your search term. On the next screen, under “Data Format”, select “online analysis”.  One of the top results (#8 as of 11-13-19) is “Children of Immigrants Longitudinal Study”.  Click on the link with that title. Now you are in that dataset!  You can download it, and you’ll also see the tab for Data & Documentation.  But for now, click on the bar that says “Analyze Online”, and select “Full Analysis Capabilities” in the pop-up window.\n",
    "\n",
    "> Once you get past the login and permissions screens, click on the plus button to the left of the 2005 Youth Adaptation and Growth Questionnaire.  This will take you to that subsection of the study.\n",
    "\n",
    "> Now, by clicking on the plus buttons, you can see the questions asked in that year.  See if you can set up an analysis!  First, open the respondent demographics section, click on “State Current Residence”, and then on the top left, click on “Row” where it says “Copy To”.  Repeat this for the section called “Civil Status and Political Preference”, selecting the variable “Respondent Citizenship Status” and then on the buttons above clicking on “Column” next to “Copy To”.   On the right side of the screen, you will now be able to give your table a title (“Test” is fine!) and click on the “Run the Table” button.   The table you get will be a little confusing—What is ae and ap in the list of states? (you will need to look at documentation)  Why are there so many cells with small numbers, but lots for California and Florida? (look at the title of the study)  So many questions!  This is the world of data! \n",
    "\n",
    "Library Resources for Data:\n",
    "Many of the datasets you may use at Berkeley are provided by the library (such as #2 above and a portion of ICPSR).  For more information, [here are some pages from the library’s research guides](https://guides.lib.berkeley.edu/?b=s), and you can always [talk with the librarian for your subject](https://www.lib.berkeley.edu/help/subject-specialists)!\n",
    "\n",
    "* [Political Science Data](https://guides.lib.berkeley.edu/Intro-to-Political-Science-Research/)\n",
    "* [Economics Data](https://guides.lib.berkeley.edu/c.php?g=4395&p=15528)\n",
    "* [Sociology Data](https://guides.lib.berkeley.edu/c.php?g=935472&p=6811880)"
   ]
  },
  {
   "cell_type": "markdown",
   "metadata": {
    "#student": true
   },
   "source": [
    "### Question 1:\n",
    "\n",
    "Which dataset did you choose? Describe in your own words what the dataset is. (2-5 sentences)\n"
   ]
  },
  {
   "cell_type": "markdown",
   "metadata": {
    "#student": true
   },
   "source": [
    "**_Write your response here!_**"
   ]
  },
  {
   "cell_type": "markdown",
   "metadata": {
    "#student": true
   },
   "source": [
    "### Question 2:\n",
    "\n",
    "What are the rows in this dataset? What are the columns in this dataset? (2+ sentences)\n"
   ]
  },
  {
   "cell_type": "markdown",
   "metadata": {
    "#student": true
   },
   "source": [
    "**_Write your response here!_**"
   ]
  },
  {
   "cell_type": "markdown",
   "metadata": {
    "#student": true
   },
   "source": [
    "### Question 3:\n",
    "\n",
    "Choose any column, look at it, and describe in your own words (1) what the variable is, (2) what its minimum and maximum values are, and (3) what values it takes in a couple of notable rows. (3+ sentences)\n"
   ]
  },
  {
   "cell_type": "markdown",
   "metadata": {
    "#student": true
   },
   "source": [
    "**_Write your response here!_**"
   ]
  },
  {
   "cell_type": "markdown",
   "metadata": {
    "#student": true
   },
   "source": [
    "### Question 4:\n",
    "\n",
    "What kind of question could you use the data in this column to analyze? Is there related data that you would want to also see on this question? Think creatively. (3-5 sentences)\n",
    "<br>"
   ]
  },
  {
   "cell_type": "markdown",
   "metadata": {
    "#student": true
   },
   "source": [
    "**_Write your response here!_**"
   ]
  },
  {
   "cell_type": "markdown",
   "metadata": {
    "#student": false
   },
   "source": [
    "<br>\n",
    "\n",
    "---\n",
    "\n",
    "<br>\n",
    "\n",
    "## Submitting your work\n",
    "To convert your work to a pdf:\n",
    "- run the following cell\n",
    "- right-click the link that says \"Download this and submit to gradescope\"\n",
    "- click \"save link as\" to save the pdf\n",
    "\n",
    "<div class=\"alert alert-warning\">\n",
    "NOTE: the link will say \"Submit to Gradescope\", but please follow your professor's instructions on where to submit the pdf \n",
    "</div>\n",
    "\n",
    "<div class=\"alert alert-warning\">\n",
    "NOTE II: if you're having trouble downloading the databook, make sure you're <b>right-clicking</b> the link and selecting \"save link as\"\n",
    "</div>"
   ]
  },
  {
   "cell_type": "code",
   "execution_count": null,
   "metadata": {
    "#student": false
   },
   "outputs": [],
   "source": [
    "!pip install gsExport -q\n",
    "import gsExport\n",
    "gsExport.generateSubmission(\"Immigration.ipynb\")"
   ]
  },
  {
   "cell_type": "markdown",
   "metadata": {
    "#student": false
   },
   "source": [
    "<br>\n",
    "\n",
    "# Data Science Resources at UC Berkeley <a id='6'></a>\n",
    "If you need assistance with this notebook, our peer advisors are happy to help. You can find their drop-in hours [here](https://data.berkeley.edu/academics/resources/peer-consulting). You can also email ds-peer-consulting@berkeley.edu to book an appointment if the times conflict with your schedule.\n",
    "\n",
    "If you are interested in data science, a great course to start with is Data 8, designed for students with no previous programming or statistics experience. For the full list of courses and degree programs we offer, click [here](https://data.berkeley.edu/academics/undergraduate-programs/data-science-offerings)."
   ]
  },
  {
   "cell_type": "markdown",
   "metadata": {
    "#student": false
   },
   "source": [
    "# Bibliography <a id='7'></a>\n",
    "1. United States. Department of Homeland Security. *Yearbook of Immigration Statistics: 2017*. Washington,  D.C.: U.S. Department of Homeland Security, Office of Immigration Statistics, 2017. https://www.dhs.gov/immigration-statistics/yearbook/2017"
   ]
  }
 ],
 "metadata": {
  "checksums": [
   "2ef6e384e683a20492c0574dc8a9ad79",
   "185614fef2cffbfbf2c812b2ac00ffe0",
   "5c79bc3d7299d1480fcb93ed1fcabeef",
   "50ab41bcb0ca0533687ccc4a16dcb47d",
   "bdc56ac14c6e527708d5294c70552fc1",
   "9dc05e2eb00fea7d28e53841d08640bb",
   "addd9076f5924c8228debf05c1b09ebe",
   "484cbc869fe90c5f3daedbbc1fab1928",
   "1746973f77b7c56f0b80338fd87d6221",
   "8df2a631cd44ab380d40804aa5d24436",
   "a21b3ff469353e839009e942683c1315",
   "0dc71e29aeeb21a4048e21700d7f1a79",
   "8d03df119b9199105f741218b240b81e",
   "05bc745e424226bc01f540d55137e0f9",
   "6ad7377a8d432cf96adae790924c5a66",
   "05bc745e424226bc01f540d55137e0f9",
   "2d204a07f4b939fabad747b61ffcdcbc",
   "ccf97b0cb204dc170c3aa23000eb4c98",
   "2f337006ec9cdf76815c73fdec5775cf",
   "b788bd9cf7326d3c5df36aa333e2c67e",
   "22a6c067a8e328099b6221c7c024f44f",
   "fd6dc23f585ba3024178518c3ba9c0e8",
   "46d7696635afa9263d6c66c095ce8817",
   "7088f5e4316775b765105ea380449b25",
   "0ac0133d1acacca27b25fb1614a8e089",
   "a4c9eadd5411031d93a84b2b34b83d80",
   "78248701373313e1607a207b940f7e2b",
   "f557f8a31652fe3844bd41461da967e4",
   "7f9dc23422a086c1815910056fff4fcb",
   "37d0c0b3a445e23dd6b487fc9690ffd8",
   "23f8a9bca1ee0a705ff5b892ddefa751",
   "ff7c004ff3cd8481a7a14062768846eb",
   "64d7da6ae843fac18e5de0b72fc9a84a",
   "fff2d6e80b8a269a677a73e0c4273789",
   "dd96189c0ce9df6eb1e9babcc7d2f7ae",
   "e8ee6106ef959636bcf570de2b980828",
   "174014bd6342409af454a84eebd9d98b",
   "4f3e6e0cb0e4e29b1c4da5c9eb557abd",
   "05bc745e424226bc01f540d55137e0f9",
   "1b41775ca818654922b9a3de886a83f0",
   "af87a37624cc5343c9a468881e217b78",
   "f63726a10de71ea7c2ce4c8531e6103b",
   "7772c6af32d0ac6612cff8b33395ea83",
   "e95e81b1e6a8fd7aa80a451c4fb3f96a",
   "07dfa8ae84b381ca9c819b7908d2debe",
   "e0388d9ad95864db7137b24daa0e6143",
   "0edddc9285753c7fe7313cecfcf202b0",
   "05bc745e424226bc01f540d55137e0f9",
   "54ff4e8c9716128a6ab8aab13a8ee08a",
   "4e1d647a0d0e0c348a11135cf04e7ecc",
   "8de7c12d67b04fd45357078a164cadf7",
   "ccde1d8a79a91acdbfa5d7c3a26df12d",
   "73ff87ea004a76be141a800bb620713b",
   "ba2121b2bf9ece0f23a7cf68838185eb",
   "7ea0de6d23597c5aeae905c4a0df2ebb",
   "63fa0a3817654cf872f1aa1e9a92acb5",
   "05bc745e424226bc01f540d55137e0f9",
   "5c2b3b7e468c1458fb30bbc586513349",
   "b27e2f7e73aadded19f0873ae3fa752e",
   "abe427977b916d5e63a2478ac0401202",
   "05bc745e424226bc01f540d55137e0f9",
   "46d713597f7e31ca06572acbf42063f6",
   "05bc745e424226bc01f540d55137e0f9",
   "42717d3e527670d6311f0f1c88761ca9",
   "05bc745e424226bc01f540d55137e0f9",
   "f75fc0046dfb7168fdf28671af8fefa3",
   "05bc745e424226bc01f540d55137e0f9",
   "006db3cbf814beda00f476ca82993e9a",
   "591835c9036b888979ea8da2db6e6f96",
   "e0bfb3fcca5414cce4392073ebfaf339",
   "1004da5b24fb3d4247a8f52c81fbcb90"
  ],
  "kernelspec": {
   "display_name": "Python 3",
   "language": "python",
   "name": "python3"
  },
  "language_info": {
   "codemirror_mode": {
    "name": "ipython",
    "version": 3
   },
   "file_extension": ".py",
   "mimetype": "text/x-python",
   "name": "python",
   "nbconvert_exporter": "python",
   "pygments_lexer": "ipython3",
   "version": "3.6.8"
  },
  "number_of_pagebreaks": 0
 },
 "nbformat": 4,
 "nbformat_minor": 2
}
