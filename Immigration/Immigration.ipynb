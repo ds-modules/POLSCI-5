{
 "cells": [
  {
   "cell_type": "markdown",
   "metadata": {},
   "source": [
    "# [POLSCI-5] Immigration\n",
    "\n",
    "Estimated Time: 30-40 minutes <br>\n",
    "Created by: Lauren Hom, Ravi Singhal\n",
    "\n",
    "Today we will be examining two data sets on immigration to the United States, where these datasets were created from data collected by the United States Department of Homeland Security. We are going to analyze ecomomic and immigration patterns in North and South America and tie them to the events that were taking place at that time.\n",
    "\n",
    "### Table of Contents \n",
    "* [Jupyter Introduction ](#0) <br>\n",
    "* [The Datasets](#1)<br>\n",
    "* [Table 1: Immigrants to the U.S.](#2)<br>\n",
    "    * [Rows](#2b)<br>\n",
    "    * [Columns](#2a)<br>\n",
    "    * [Mexico](#2c)<br>\n",
    "* [Table 2: Immigration by Class of Admission](#4)<br>\n",
    "    * [Rows](#4b)<br>\n",
    "    * [Columns](#4a)<br>\n",
    "    * [Exploration of Central America](#4c)<br>\n",
    "    * [Policy Response](#4d)<br>\n",
    "* [Homework](#5)<br>\n",
    "* [Data Science Opportunities at Berkeley](#6)<br>\n",
    "* [Bibliography](#7)<br>"
   ]
  },
  {
   "cell_type": "markdown",
   "metadata": {},
   "source": [
    "# Section 1. Jupyter Introduction <a id='0'></a>"
   ]
  },
  {
   "cell_type": "markdown",
   "metadata": {},
   "source": [
    "This webpage is a Jupyter Notebook. We will use this notebook to analyze the United States Department of Homeland Security Dataset. Jupyter Notebooks are composed of both regular text and code cells. Code cells have a gray background. In order to run a code cell, click the cell and press `Shift + Enter` while the cell is selected or hit the `▶| Run` button in the toolbar at the top. An example of a code cell is below. Try running it. If everything works properly, the word \"Success\" should be printed under the cell."
   ]
  },
  {
   "cell_type": "code",
   "execution_count": 18,
   "metadata": {},
   "outputs": [
    {
     "name": "stdout",
     "output_type": "stream",
     "text": [
      "Success!\n"
     ]
    }
   ],
   "source": [
    "# This cell sets up the notebook. Just run this cell.\n",
    "from datascience import *\n",
    "import numpy as np\n",
    "\n",
    "%matplotlib inline\n",
    "import matplotlib.pyplot as plt\n",
    "plt.style.use('fivethirtyeight')\n",
    "\n",
    "print(\"Success!\")"
   ]
  },
  {
   "cell_type": "markdown",
   "metadata": {},
   "source": [
    "<br><br><br>\n",
    "# Section 2. The Datasets <a id='1'></a>"
   ]
  },
  {
   "cell_type": "markdown",
   "metadata": {},
   "source": [
    "The two tables (datasets) contain information about immigration to the United States. Here is a description of the data as stated on the United States Department of Homeland Security:\n",
    "\n",
    "> \"The 2017 Yearbook of Immigration Statistics is a compendium of tables that provide data on foreign nationals who are granted lawful permanent residence (i.e., immigrants who receive a “green card”), admitted as temporary nonimmigrants, granted asylum or refugee status, or are naturalized. The Yearbook also presents data on immigration enforcement actions, including apprehensions and arrests, removals, and returns\"\n",
    "\n",
    "The two datasets we will be looking at contain data on:\n",
    "- Foreign nationals granted lawful permanent residence (i.e., immigrants who receive a “green card”) \n",
    "- Immigration enforcement actions \n",
    "\n",
    "**Note:** The data used for analysis will be based on **fiscal years**, a period that a government uses for accounting purposes. Therefore, each year in the data represents the year prior (e.g. 1996 fiscal year might represent 1995).\n",
    "\n",
    "<br>If you want to read more about the dataset, click [here](https://www.dhs.gov/immigration-statistics/yearbook/2017).\n"
   ]
  },
  {
   "cell_type": "markdown",
   "metadata": {},
   "source": [
    "<br><br><br>\n",
    "# Section 3. Immigrants to the U.S. <a id='2'></a>"
   ]
  },
  {
   "cell_type": "markdown",
   "metadata": {},
   "source": [
    "The first table we will explore contains data on the number of immigrants who obtained lawful permanent residence or received a \"green card\" to the U.S. on a temporary basis between 1995-2017 for a given country. The people represented in total numbers are people who were **born** in the specified country. One important thing to note is that this table only includes data on \"authorized immigration\", meaning only documented immigrants are counted.\n",
    "\n",
    "Here are the first 5 fiscal years for Cuba:"
   ]
  },
  {
   "cell_type": "code",
   "execution_count": 19,
   "metadata": {},
   "outputs": [
    {
     "data": {
      "text/html": [
       "<table border=\"1\" class=\"dataframe\">\n",
       "    <thead>\n",
       "        <tr>\n",
       "            <th>fiscal_year</th> <th>country</th> <th>total</th>\n",
       "        </tr>\n",
       "    </thead>\n",
       "    <tbody>\n",
       "        <tr>\n",
       "            <td>1996       </td> <td>Cuba   </td> <td>26466</td>\n",
       "        </tr>\n",
       "        <tr>\n",
       "            <td>1997       </td> <td>Cuba   </td> <td>33587</td>\n",
       "        </tr>\n",
       "        <tr>\n",
       "            <td>1998       </td> <td>Cuba   </td> <td>17375</td>\n",
       "        </tr>\n",
       "        <tr>\n",
       "            <td>1999       </td> <td>Cuba   </td> <td>14132</td>\n",
       "        </tr>\n",
       "        <tr>\n",
       "            <td>2000       </td> <td>Cuba   </td> <td>18960</td>\n",
       "        </tr>\n",
       "    </tbody>\n",
       "</table>\n",
       "<p>... (17 rows omitted)</p>"
      ],
      "text/plain": [
       "<IPython.core.display.HTML object>"
      ]
     },
     "metadata": {},
     "output_type": "display_data"
    }
   ],
   "source": [
    "# read in the dataset\n",
    "birth_country = Table.read_table('ImmigrantsRegionCountry.csv').where('fiscal_year', are.above(1995))\n",
    "birth_country.set_format('fiscal_year', formats.FunctionFormatter(lambda x: x)) # fix format of year column\n",
    "birth_country.where('country', 'Cuba').show(5)"
   ]
  },
  {
   "cell_type": "markdown",
   "metadata": {},
   "source": [
    "### Discussion A\n",
    "\n",
    "This table presents data on lawful permanent residence or received a \"green card\" holders. What other types of immigration might occur? Related, this table presents only a subset of documented immigration. It relies on information that can be researched by embassies and border guards. One important thing to consider when looking at this dataset is if there is any bias. For example, one source of bias in this table is people falsifying which country they were born in. Can you think of any reasons why people might do this? Discuss with a partner and write a couple of sentences."
   ]
  },
  {
   "cell_type": "markdown",
   "metadata": {},
   "source": [
    "*WRITE YOUR RESPONSE HERE*"
   ]
  },
  {
   "cell_type": "markdown",
   "metadata": {},
   "source": [
    "<br><br><br><br><br>\n",
    "## Section 3.1. Rows <a id='2b'></a>\n",
    "\n",
    "The rows in this dataset gives the total number of immigrants admitted during the specific fiscal year for a given country.\n",
    "\n",
    "For example, let's look at the first row of the table representing the country Cuba. This row shows that there were 26,466 immigrants who were granted lawful permanent residence from Cuba in 1996."
   ]
  },
  {
   "cell_type": "code",
   "execution_count": 20,
   "metadata": {},
   "outputs": [
    {
     "data": {
      "text/html": [
       "<table border=\"1\" class=\"dataframe\">\n",
       "    <thead>\n",
       "        <tr>\n",
       "            <th>fiscal_year</th> <th>country</th> <th>total</th>\n",
       "        </tr>\n",
       "    </thead>\n",
       "    <tbody>\n",
       "        <tr>\n",
       "            <td>1996       </td> <td>Cuba   </td> <td>26466</td>\n",
       "        </tr>\n",
       "        <tr>\n",
       "            <td>1997       </td> <td>Cuba   </td> <td>33587</td>\n",
       "        </tr>\n",
       "        <tr>\n",
       "            <td>1998       </td> <td>Cuba   </td> <td>17375</td>\n",
       "        </tr>\n",
       "        <tr>\n",
       "            <td>1999       </td> <td>Cuba   </td> <td>14132</td>\n",
       "        </tr>\n",
       "        <tr>\n",
       "            <td>2000       </td> <td>Cuba   </td> <td>18960</td>\n",
       "        </tr>\n",
       "        <tr>\n",
       "            <td>2001       </td> <td>Cuba   </td> <td>27453</td>\n",
       "        </tr>\n",
       "        <tr>\n",
       "            <td>2002       </td> <td>Cuba   </td> <td>28182</td>\n",
       "        </tr>\n",
       "        <tr>\n",
       "            <td>2003       </td> <td>Cuba   </td> <td>9262 </td>\n",
       "        </tr>\n",
       "        <tr>\n",
       "            <td>2004       </td> <td>Cuba   </td> <td>20488</td>\n",
       "        </tr>\n",
       "        <tr>\n",
       "            <td>2005       </td> <td>Cuba   </td> <td>36261</td>\n",
       "        </tr>\n",
       "        <tr>\n",
       "            <td>2006       </td> <td>Cuba   </td> <td>45614</td>\n",
       "        </tr>\n",
       "        <tr>\n",
       "            <td>2007       </td> <td>Cuba   </td> <td>29104</td>\n",
       "        </tr>\n",
       "        <tr>\n",
       "            <td>2008       </td> <td>Cuba   </td> <td>49500</td>\n",
       "        </tr>\n",
       "        <tr>\n",
       "            <td>2009       </td> <td>Cuba   </td> <td>38954</td>\n",
       "        </tr>\n",
       "        <tr>\n",
       "            <td>2010       </td> <td>Cuba   </td> <td>33573</td>\n",
       "        </tr>\n",
       "        <tr>\n",
       "            <td>2011       </td> <td>Cuba   </td> <td>36452</td>\n",
       "        </tr>\n",
       "        <tr>\n",
       "            <td>2012       </td> <td>Cuba   </td> <td>32820</td>\n",
       "        </tr>\n",
       "        <tr>\n",
       "            <td>2013       </td> <td>Cuba   </td> <td>32219</td>\n",
       "        </tr>\n",
       "        <tr>\n",
       "            <td>2014       </td> <td>Cuba   </td> <td>46679</td>\n",
       "        </tr>\n",
       "        <tr>\n",
       "            <td>2015       </td> <td>Cuba   </td> <td>54396</td>\n",
       "        </tr>\n",
       "        <tr>\n",
       "            <td>2016       </td> <td>Cuba   </td> <td>66516</td>\n",
       "        </tr>\n",
       "        <tr>\n",
       "            <td>2017       </td> <td>Cuba   </td> <td>65028</td>\n",
       "        </tr>\n",
       "    </tbody>\n",
       "</table>"
      ],
      "text/plain": [
       "<IPython.core.display.HTML object>"
      ]
     },
     "metadata": {},
     "output_type": "display_data"
    }
   ],
   "source": [
    "birth_country.where('country', 'Cuba').show()"
   ]
  },
  {
   "cell_type": "markdown",
   "metadata": {},
   "source": [
    "<br><br><br><br><br>\n",
    "## Section 3.2. Columns <a id='2a'></a>\n",
    "\n",
    "Second, let's examine the columns of this dataset. There are a total of 3 columns in this table:\n",
    "- `fiscal_year` - years range from 1995-2017\n",
    "- `country` - country/region where immigrants came from\n",
    "- `total` - the total number of immigrants for a given fiscal year"
   ]
  },
  {
   "cell_type": "code",
   "execution_count": 21,
   "metadata": {},
   "outputs": [
    {
     "data": {
      "text/html": [
       "<table border=\"1\" class=\"dataframe\">\n",
       "    <thead>\n",
       "        <tr>\n",
       "            <th>fiscal_year</th> <th>country</th> <th>total</th>\n",
       "        </tr>\n",
       "    </thead>\n",
       "    <tbody>\n",
       "        <tr>\n",
       "            <td>1996       </td> <td>Afghanistan   </td> <td>1263 </td>\n",
       "        </tr>\n",
       "        <tr>\n",
       "            <td>1996       </td> <td>Albania       </td> <td>4007 </td>\n",
       "        </tr>\n",
       "        <tr>\n",
       "            <td>1996       </td> <td>Algeria       </td> <td>1059 </td>\n",
       "        </tr>\n",
       "        <tr>\n",
       "            <td>1996       </td> <td>American Samoa</td> <td>2    </td>\n",
       "        </tr>\n",
       "        <tr>\n",
       "            <td>1996       </td> <td>Andorra       </td> <td>5    </td>\n",
       "        </tr>\n",
       "    </tbody>\n",
       "</table>\n",
       "<p>... (4481 rows omitted)</p>"
      ],
      "text/plain": [
       "<IPython.core.display.HTML object>"
      ]
     },
     "metadata": {},
     "output_type": "display_data"
    }
   ],
   "source": [
    "birth_country.show(5)"
   ]
  },
  {
   "cell_type": "markdown",
   "metadata": {},
   "source": [
    "Here are some of the countries and regions in the table. There are a total of 237 countries and regions represented in the table. The table below shows the number of occurances of each country in the original table."
   ]
  },
  {
   "cell_type": "code",
   "execution_count": 22,
   "metadata": {},
   "outputs": [
    {
     "data": {
      "text/html": [
       "<table border=\"1\" class=\"dataframe\">\n",
       "    <thead>\n",
       "        <tr>\n",
       "            <th>country</th> <th>count</th>\n",
       "        </tr>\n",
       "    </thead>\n",
       "    <tbody>\n",
       "        <tr>\n",
       "            <td>Afghanistan    </td> <td>22   </td>\n",
       "        </tr>\n",
       "        <tr>\n",
       "            <td>Albania        </td> <td>22   </td>\n",
       "        </tr>\n",
       "        <tr>\n",
       "            <td>Algeria        </td> <td>22   </td>\n",
       "        </tr>\n",
       "        <tr>\n",
       "            <td>American Samoa </td> <td>14   </td>\n",
       "        </tr>\n",
       "        <tr>\n",
       "            <td>Andorra        </td> <td>2    </td>\n",
       "        </tr>\n",
       "        <tr>\n",
       "            <td>Angola         </td> <td>22   </td>\n",
       "        </tr>\n",
       "        <tr>\n",
       "            <td>Anguilla       </td> <td>22   </td>\n",
       "        </tr>\n",
       "        <tr>\n",
       "            <td>Antigua-Barbuda</td> <td>22   </td>\n",
       "        </tr>\n",
       "        <tr>\n",
       "            <td>Argentina      </td> <td>22   </td>\n",
       "        </tr>\n",
       "        <tr>\n",
       "            <td>Armenia        </td> <td>22   </td>\n",
       "        </tr>\n",
       "    </tbody>\n",
       "</table>\n",
       "<p>... (227 rows omitted)</p>"
      ],
      "text/plain": [
       "<IPython.core.display.HTML object>"
      ]
     },
     "metadata": {},
     "output_type": "display_data"
    }
   ],
   "source": [
    "# Run this cell to display the first 10 countries and regions in the table\n",
    "countries_regions = birth_country.group('country')\n",
    "countries_regions.show(10)"
   ]
  },
  {
   "cell_type": "markdown",
   "metadata": {},
   "source": [
    "Let's look at the data more closely for a specific country."
   ]
  },
  {
   "cell_type": "markdown",
   "metadata": {},
   "source": [
    "<br><br><br><br><br>\n",
    "## Section 3.3. Mexico Analysis <a id='2b'></a>"
   ]
  },
  {
   "cell_type": "markdown",
   "metadata": {},
   "source": [
    "We will specifically look at data for Mexico, paying particular attention to the total before and after 2008. We are going to examine the LPR (Persons Obtaining Lawful Permanent Resident Status).\n",
    "\n",
    "First, let's filter the overall table so that we only have a subset of the data-- data on only Mexico."
   ]
  },
  {
   "cell_type": "code",
   "execution_count": 23,
   "metadata": {},
   "outputs": [
    {
     "data": {
      "text/html": [
       "<table border=\"1\" class=\"dataframe\">\n",
       "    <thead>\n",
       "        <tr>\n",
       "            <th>fiscal_year</th> <th>country</th> <th>total</th>\n",
       "        </tr>\n",
       "    </thead>\n",
       "    <tbody>\n",
       "        <tr>\n",
       "            <td>1996       </td> <td>Mexico </td> <td>163572</td>\n",
       "        </tr>\n",
       "        <tr>\n",
       "            <td>1997       </td> <td>Mexico </td> <td>146865</td>\n",
       "        </tr>\n",
       "        <tr>\n",
       "            <td>1998       </td> <td>Mexico </td> <td>131575</td>\n",
       "        </tr>\n",
       "        <tr>\n",
       "            <td>1999       </td> <td>Mexico </td> <td>147573</td>\n",
       "        </tr>\n",
       "        <tr>\n",
       "            <td>2000       </td> <td>Mexico </td> <td>173493</td>\n",
       "        </tr>\n",
       "        <tr>\n",
       "            <td>2001       </td> <td>Mexico </td> <td>205560</td>\n",
       "        </tr>\n",
       "        <tr>\n",
       "            <td>2002       </td> <td>Mexico </td> <td>218822</td>\n",
       "        </tr>\n",
       "        <tr>\n",
       "            <td>2003       </td> <td>Mexico </td> <td>115585</td>\n",
       "        </tr>\n",
       "        <tr>\n",
       "            <td>2004       </td> <td>Mexico </td> <td>175411</td>\n",
       "        </tr>\n",
       "        <tr>\n",
       "            <td>2005       </td> <td>Mexico </td> <td>161445</td>\n",
       "        </tr>\n",
       "        <tr>\n",
       "            <td>2006       </td> <td>Mexico </td> <td>173749</td>\n",
       "        </tr>\n",
       "        <tr>\n",
       "            <td>2007       </td> <td>Mexico </td> <td>148640</td>\n",
       "        </tr>\n",
       "        <tr>\n",
       "            <td>2008       </td> <td>Mexico </td> <td>189989</td>\n",
       "        </tr>\n",
       "        <tr>\n",
       "            <td>2009       </td> <td>Mexico </td> <td>164920</td>\n",
       "        </tr>\n",
       "        <tr>\n",
       "            <td>2010       </td> <td>Mexico </td> <td>139120</td>\n",
       "        </tr>\n",
       "        <tr>\n",
       "            <td>2011       </td> <td>Mexico </td> <td>143446</td>\n",
       "        </tr>\n",
       "        <tr>\n",
       "            <td>2012       </td> <td>Mexico </td> <td>146406</td>\n",
       "        </tr>\n",
       "        <tr>\n",
       "            <td>2013       </td> <td>Mexico </td> <td>135028</td>\n",
       "        </tr>\n",
       "        <tr>\n",
       "            <td>2014       </td> <td>Mexico </td> <td>134052</td>\n",
       "        </tr>\n",
       "        <tr>\n",
       "            <td>2015       </td> <td>Mexico </td> <td>158619</td>\n",
       "        </tr>\n",
       "        <tr>\n",
       "            <td>2016       </td> <td>Mexico </td> <td>174534</td>\n",
       "        </tr>\n",
       "        <tr>\n",
       "            <td>2017       </td> <td>Mexico </td> <td>170581</td>\n",
       "        </tr>\n",
       "    </tbody>\n",
       "</table>"
      ],
      "text/plain": [
       "<IPython.core.display.HTML object>"
      ]
     },
     "metadata": {},
     "output_type": "display_data"
    }
   ],
   "source": [
    "# Shows only the data for the country Mexico \n",
    "mexico = birth_country.where('country', 'Mexico')\n",
    "mexico.show()"
   ]
  },
  {
   "cell_type": "markdown",
   "metadata": {},
   "source": [
    "The table above shows just the rows that have Mexico in them, allowing us to see the trend in LPR over time much easier."
   ]
  },
  {
   "cell_type": "markdown",
   "metadata": {},
   "source": [
    "### Visualize the Data "
   ]
  },
  {
   "cell_type": "markdown",
   "metadata": {},
   "source": [
    "Let's take a look at the highest and lowest points that appear in the graph. "
   ]
  },
  {
   "cell_type": "code",
   "execution_count": 24,
   "metadata": {},
   "outputs": [
    {
     "data": {
      "text/html": [
       "<table border=\"1\" class=\"dataframe\">\n",
       "    <thead>\n",
       "        <tr>\n",
       "            <th>fiscal_year</th> <th>country</th> <th>total</th>\n",
       "        </tr>\n",
       "    </thead>\n",
       "    <tbody>\n",
       "        <tr>\n",
       "            <td>2003       </td> <td>Mexico </td> <td>115585</td>\n",
       "        </tr>\n",
       "    </tbody>\n",
       "</table>"
      ],
      "text/plain": [
       "fiscal_year | country | total\n",
       "2003        | Mexico  | 115585"
      ]
     },
     "execution_count": 24,
     "metadata": {},
     "output_type": "execute_result"
    }
   ],
   "source": [
    "# Row with the MINIMUM total immigration in Mexico\n",
    "lowest_total = min(mexico.column('total')) \n",
    "mexico.where('total', lowest_total)"
   ]
  },
  {
   "cell_type": "markdown",
   "metadata": {},
   "source": [
    "The table above shows the one row with the lowest number of immigrants granted LPR in Mexico. \n",
    "\n",
    "In comparison, table below shows one row with the highest number of immigrants granted LPR. By comparing the two `total` values with the data shown in the plot above, we can see that the highest total seems to be significantly higher than most of the other data points."
   ]
  },
  {
   "cell_type": "code",
   "execution_count": 25,
   "metadata": {},
   "outputs": [
    {
     "data": {
      "text/html": [
       "<table border=\"1\" class=\"dataframe\">\n",
       "    <thead>\n",
       "        <tr>\n",
       "            <th>fiscal_year</th> <th>country</th> <th>total</th>\n",
       "        </tr>\n",
       "    </thead>\n",
       "    <tbody>\n",
       "        <tr>\n",
       "            <td>2002       </td> <td>Mexico </td> <td>218822</td>\n",
       "        </tr>\n",
       "    </tbody>\n",
       "</table>"
      ],
      "text/plain": [
       "fiscal_year | country | total\n",
       "2002        | Mexico  | 218822"
      ]
     },
     "execution_count": 25,
     "metadata": {},
     "output_type": "execute_result"
    }
   ],
   "source": [
    "# Row with the MAXIMUM total immigration in Mexico\n",
    "highest_total = max(mexico.column('total'))\n",
    "mexico.where('total', highest_total)"
   ]
  },
  {
   "cell_type": "markdown",
   "metadata": {},
   "source": [
    "Here is the data from the table showing the total number of immigrants granted lawful permanent status between 2008-2017:"
   ]
  },
  {
   "cell_type": "code",
   "execution_count": 26,
   "metadata": {},
   "outputs": [
    {
     "data": {
      "text/html": [
       "<table border=\"1\" class=\"dataframe\">\n",
       "    <thead>\n",
       "        <tr>\n",
       "            <th>fiscal_year</th> <th>country</th> <th>total</th>\n",
       "        </tr>\n",
       "    </thead>\n",
       "    <tbody>\n",
       "        <tr>\n",
       "            <td>2008       </td> <td>Mexico </td> <td>189989</td>\n",
       "        </tr>\n",
       "        <tr>\n",
       "            <td>2009       </td> <td>Mexico </td> <td>164920</td>\n",
       "        </tr>\n",
       "        <tr>\n",
       "            <td>2010       </td> <td>Mexico </td> <td>139120</td>\n",
       "        </tr>\n",
       "        <tr>\n",
       "            <td>2011       </td> <td>Mexico </td> <td>143446</td>\n",
       "        </tr>\n",
       "        <tr>\n",
       "            <td>2012       </td> <td>Mexico </td> <td>146406</td>\n",
       "        </tr>\n",
       "        <tr>\n",
       "            <td>2013       </td> <td>Mexico </td> <td>135028</td>\n",
       "        </tr>\n",
       "        <tr>\n",
       "            <td>2014       </td> <td>Mexico </td> <td>134052</td>\n",
       "        </tr>\n",
       "        <tr>\n",
       "            <td>2015       </td> <td>Mexico </td> <td>158619</td>\n",
       "        </tr>\n",
       "        <tr>\n",
       "            <td>2016       </td> <td>Mexico </td> <td>174534</td>\n",
       "        </tr>\n",
       "        <tr>\n",
       "            <td>2017       </td> <td>Mexico </td> <td>170581</td>\n",
       "        </tr>\n",
       "    </tbody>\n",
       "</table>"
      ],
      "text/plain": [
       "fiscal_year | country | total\n",
       "2008        | Mexico  | 189989\n",
       "2009        | Mexico  | 164920\n",
       "2010        | Mexico  | 139120\n",
       "2011        | Mexico  | 143446\n",
       "2012        | Mexico  | 146406\n",
       "2013        | Mexico  | 135028\n",
       "2014        | Mexico  | 134052\n",
       "2015        | Mexico  | 158619\n",
       "2016        | Mexico  | 174534\n",
       "2017        | Mexico  | 170581"
      ]
     },
     "execution_count": 26,
     "metadata": {},
     "output_type": "execute_result"
    }
   ],
   "source": [
    "mexico.where('fiscal_year', are.between_or_equal_to(2008, 2017))"
   ]
  },
  {
   "cell_type": "markdown",
   "metadata": {},
   "source": [
    "Using the data above, we can take a look at the change in the number of immigrants by plotting it over time from 1995-2017."
   ]
  },
  {
   "cell_type": "code",
   "execution_count": 39,
   "metadata": {},
   "outputs": [
    {
     "data": {
      "image/png": "[encoded data removed]",
      "text/plain": [
       "<Figure size 432x288 with 1 Axes>"
      ]
     },
     "metadata": {},
     "output_type": "display_data"
    }
   ],
   "source": [
    "mexico.plot('fiscal_year', 'total') # generates the line plot with fiscal_year on the x-axis and total on the y-axis\n",
    "plt.title('Number of Immigrants born in Mexico Granted LPR Status') # titles the plot\n",
    "plt.ylabel('Total')\n",
    "plt.xlabel('Fiscal Year')\n",
    "plt.show()"
   ]
  },
  {
   "cell_type": "markdown",
   "metadata": {},
   "source": [
    "### Discussion B\n",
    "\n",
    "In 1995, the [Mexican Peso Crisis](https://en.wikipedia.org/wiki/Mexican_peso_crisis) occured. In 1997, [NAFTA](https://en.wikipedia.org/wiki/North_American_Free_Trade_Agreement) was agreed on. There was an [economic recession](https://en.wikipedia.org/wiki/Early_2000s_recession) in 2001. Observe how the graph changes in each of these years. We also see a drop in 2008. Why would economic shocks affect this graph? What happened in 2008 and how would this affect immigration? Discuss with a partner and write a couple of sentences."
   ]
  },
  {
   "cell_type": "markdown",
   "metadata": {},
   "source": [
    "*WRITE YOUR RESPONSE HERE*"
   ]
  },
  {
   "cell_type": "markdown",
   "metadata": {},
   "source": [
    "<br><br><br><br><br><br><br><br><br>\n",
    "# Section 4. Immigration by Class of Admission <a id='4'></a>"
   ]
  },
  {
   "cell_type": "markdown",
   "metadata": {},
   "source": [
    "The final table we will explore provides information on the type of admission (class) immigrants granted lawful permanent residence received. The Department of Homeland Security describes the Immigrant Classes of Admissions, below:\n",
    "\n",
    "> \"A lawful permanent resident (LPR) or “green card” recipient may live and work anywhere in the United States and may apply to become U.S. citizens if they meet certain eligibility and admissibility requirements. The Immigration and Nationality Act (INA) provides several broad classes of admission for foreign nationals to gain LPR status, the largest of which focuses on admitting immigrants for the purpose of family reunification. Other major categories include economic and humanitarian immigrants, as well as immigrants from countries with relatively low levels of immigration to the United States.\" ([U.S. Department of Homeland Security](https://www.dhs.gov/immigration-statistics/lawful-permanent-residents/ImmigrantCOA))\n",
    "\n",
    "Here are the first 5 rows of the table. There are 20,907 rows and 4 columns."
   ]
  },
  {
   "cell_type": "code",
   "execution_count": 28,
   "metadata": {},
   "outputs": [
    {
     "data": {
      "text/html": [
       "<table border=\"1\" class=\"dataframe\">\n",
       "    <thead>\n",
       "        <tr>\n",
       "            <th>country</th> <th>type</th> <th>fiscal_year</th> <th>total</th>\n",
       "        </tr>\n",
       "    </thead>\n",
       "    <tbody>\n",
       "        <tr>\n",
       "            <td>Afghanistan</td> <td>Cancellation of Removal</td> <td>1999       </td> <td>6    </td>\n",
       "        </tr>\n",
       "        <tr>\n",
       "            <td>Afghanistan</td> <td>Cancellation of Removal</td> <td>2000       </td> <td>7    </td>\n",
       "        </tr>\n",
       "        <tr>\n",
       "            <td>Afghanistan</td> <td>Cancellation of Removal</td> <td>2001       </td> <td>3    </td>\n",
       "        </tr>\n",
       "        <tr>\n",
       "            <td>Afghanistan</td> <td>Cancellation of Removal</td> <td>2002       </td> <td>1    </td>\n",
       "        </tr>\n",
       "        <tr>\n",
       "            <td>Afghanistan</td> <td>Cancellation of Removal</td> <td>2004       </td> <td>5    </td>\n",
       "        </tr>\n",
       "    </tbody>\n",
       "</table>\n",
       "<p>... (20902 rows omitted)</p>"
      ],
      "text/plain": [
       "<IPython.core.display.HTML object>"
      ]
     },
     "metadata": {},
     "output_type": "display_data"
    }
   ],
   "source": [
    "class_admission = Table.read_table('immigrants-class-perm.csv') # read in the dataset\n",
    "class_admission.set_format('fiscal_year', formats.FunctionFormatter(lambda x: x)) # fix format of year column\n",
    "class_admission.show(5)"
   ]
  },
  {
   "cell_type": "markdown",
   "metadata": {},
   "source": [
    "<br><br><br><br><br>\n",
    "## Section 4.1. Rows <a id='4b'></a>\n",
    "\n",
    "Each *row* in the table gives the total number of immigrants admitted under the stated class for a given country in a particular fiscal year. \n",
    "\n",
    "For example, here is the first row of the dataset. This row shows that there were 6 immigrants who were granted lawful permanent residence from Afghanistan in 1999 for the \"Cancelation of Removal\" class. "
   ]
  },
  {
   "cell_type": "code",
   "execution_count": 29,
   "metadata": {},
   "outputs": [
    {
     "data": {
      "text/html": [
       "<table border=\"1\" class=\"dataframe\">\n",
       "    <thead>\n",
       "        <tr>\n",
       "            <th>country</th> <th>type</th> <th>fiscal_year</th> <th>total</th>\n",
       "        </tr>\n",
       "    </thead>\n",
       "    <tbody>\n",
       "        <tr>\n",
       "            <td>Afghanistan</td> <td>Cancellation of Removal</td> <td>1999       </td> <td>6    </td>\n",
       "        </tr>\n",
       "    </tbody>\n",
       "</table>"
      ],
      "text/plain": [
       "country     | type                    | fiscal_year | total\n",
       "Afghanistan | Cancellation of Removal | 1999        | 6"
      ]
     },
     "execution_count": 29,
     "metadata": {},
     "output_type": "execute_result"
    }
   ],
   "source": [
    "class_admission.take(0) #takes the first row of the table"
   ]
  },
  {
   "cell_type": "markdown",
   "metadata": {},
   "source": [
    "<br><br><br><br><br>\n",
    "## Section 4.2. Columns <a id='4a'></a>\n",
    "There is an additional column in this table: `type`. The `type` refers to the class immigrants were admitted with to be granted lawful permanent residence. There are a total of 9 types or classes in the table."
   ]
  },
  {
   "cell_type": "code",
   "execution_count": 30,
   "metadata": {},
   "outputs": [
    {
     "data": {
      "text/html": [
       "<table border=\"1\" class=\"dataframe\">\n",
       "    <thead>\n",
       "        <tr>\n",
       "            <th>type</th> <th>count</th>\n",
       "        </tr>\n",
       "    </thead>\n",
       "    <tbody>\n",
       "        <tr>\n",
       "            <td>Immediate relatives of U.S. citizens</td> <td>4046 </td>\n",
       "        </tr>\n",
       "        <tr>\n",
       "            <td>Employment-based preferences        </td> <td>3594 </td>\n",
       "        </tr>\n",
       "        <tr>\n",
       "            <td>Family-sponsored preferences        </td> <td>3418 </td>\n",
       "        </tr>\n",
       "        <tr>\n",
       "            <td>Diversity                           </td> <td>3179 </td>\n",
       "        </tr>\n",
       "        <tr>\n",
       "            <td>Refugees and asylees                </td> <td>3115 </td>\n",
       "        </tr>\n",
       "        <tr>\n",
       "            <td>Other                               </td> <td>2673 </td>\n",
       "        </tr>\n",
       "        <tr>\n",
       "            <td>Cancellation of Removal             </td> <td>658  </td>\n",
       "        </tr>\n",
       "        <tr>\n",
       "            <td>IRCA legalization                   </td> <td>131  </td>\n",
       "        </tr>\n",
       "        <tr>\n",
       "            <td>Suspension of Deportation           </td> <td>93   </td>\n",
       "        </tr>\n",
       "    </tbody>\n",
       "</table>"
      ],
      "text/plain": [
       "type                                 | count\n",
       "Immediate relatives of U.S. citizens | 4046\n",
       "Employment-based preferences         | 3594\n",
       "Family-sponsored preferences         | 3418\n",
       "Diversity                            | 3179\n",
       "Refugees and asylees                 | 3115\n",
       "Other                                | 2673\n",
       "Cancellation of Removal              | 658\n",
       "IRCA legalization                    | 131\n",
       "Suspension of Deportation            | 93"
      ]
     },
     "execution_count": 30,
     "metadata": {},
     "output_type": "execute_result"
    }
   ],
   "source": [
    "# Run this cell to display all of the \"types\" of classes in the table, sorted by the type with the most occurences \n",
    "types = class_admission.group('type').sort('count', descending = True) \n",
    "types"
   ]
  },
  {
   "cell_type": "markdown",
   "metadata": {},
   "source": [
    "### Discussion C\n",
    "\n",
    "With a partner, choose two types that you are unsure about. Each partner should look up one of the types [here](https://www.dhs.gov/immigration-statistics/lawful-permanent-residents/ImmigrantCOA). Briefly discuss what the types mean."
   ]
  },
  {
   "cell_type": "markdown",
   "metadata": {},
   "source": [
    "*WRITE YOUR RESPONSE HERE*"
   ]
  },
  {
   "cell_type": "markdown",
   "metadata": {},
   "source": [
    "<br><br><br><br><br>\n",
    "## Section 4.3. Exploration of Central America <a id='4c'></a>"
   ]
  },
  {
   "cell_type": "markdown",
   "metadata": {},
   "source": [
    "Finally, we will look at the number of immigrants admitted under the \"Refugees and asylees\" class for Honduras, El Salvador, and Guatemala."
   ]
  },
  {
   "cell_type": "code",
   "execution_count": 31,
   "metadata": {},
   "outputs": [
    {
     "data": {
      "text/html": [
       "<table border=\"1\" class=\"dataframe\">\n",
       "    <thead>\n",
       "        <tr>\n",
       "            <th>fiscal_year</th> <th>El Salvador total</th>\n",
       "        </tr>\n",
       "    </thead>\n",
       "    <tbody>\n",
       "        <tr>\n",
       "            <td>1997       </td> <td>263              </td>\n",
       "        </tr>\n",
       "        <tr>\n",
       "            <td>1998       </td> <td>127              </td>\n",
       "        </tr>\n",
       "        <tr>\n",
       "            <td>1999       </td> <td>46               </td>\n",
       "        </tr>\n",
       "        <tr>\n",
       "            <td>2000       </td> <td>76               </td>\n",
       "        </tr>\n",
       "        <tr>\n",
       "            <td>2001       </td> <td>192              </td>\n",
       "        </tr>\n",
       "    </tbody>\n",
       "</table>\n",
       "<p>... (14 rows omitted)</p>"
      ],
      "text/plain": [
       "<IPython.core.display.HTML object>"
      ]
     },
     "metadata": {},
     "output_type": "display_data"
    }
   ],
   "source": [
    "# filter data by country\n",
    "guatemala_refugee = class_admission.where('country', 'Guatemala').where('type', 'Refugees and asylees').drop(0, 1).relabel('total', 'Guatemala total')\n",
    "honduras_refugee = class_admission.where('country', 'Honduras').where('type', 'Refugees and asylees').drop(0, 1).relabel('total', 'Honduras total')\n",
    "elsalvador_refugee = class_admission.where('country', 'El Salvador').where('type', 'Refugees and asylees').drop(0, 1).relabel('total', 'El Salvador total')\n",
    "elsalvador_refugee.show(5)"
   ]
  },
  {
   "cell_type": "markdown",
   "metadata": {},
   "source": [
    "The final table for the subset of data for El Salvador is displayed above.\n",
    "\n",
    "Let's combine all the data for each country into one table to make it easier to compare the values across countries."
   ]
  },
  {
   "cell_type": "code",
   "execution_count": 32,
   "metadata": {},
   "outputs": [
    {
     "data": {
      "text/html": [
       "<table border=\"1\" class=\"dataframe\">\n",
       "    <thead>\n",
       "        <tr>\n",
       "            <th>fiscal_year</th> <th>Honduras total</th> <th>El Salvador total</th> <th>Guatemala total</th>\n",
       "        </tr>\n",
       "    </thead>\n",
       "    <tbody>\n",
       "        <tr>\n",
       "            <td>1997       </td> <td>121           </td> <td>263              </td> <td>234            </td>\n",
       "        </tr>\n",
       "        <tr>\n",
       "            <td>1998       </td> <td>107           </td> <td>127              </td> <td>261            </td>\n",
       "        </tr>\n",
       "        <tr>\n",
       "            <td>1999       </td> <td>48            </td> <td>46               </td> <td>106            </td>\n",
       "        </tr>\n",
       "        <tr>\n",
       "            <td>2000       </td> <td>62            </td> <td>76               </td> <td>139            </td>\n",
       "        </tr>\n",
       "        <tr>\n",
       "            <td>2001       </td> <td>124           </td> <td>192              </td> <td>451            </td>\n",
       "        </tr>\n",
       "    </tbody>\n",
       "</table>\n",
       "<p>... (12 rows omitted)</p>"
      ],
      "text/plain": [
       "<IPython.core.display.HTML object>"
      ]
     },
     "metadata": {},
     "output_type": "display_data"
    }
   ],
   "source": [
    "latin_refugees = honduras_refugee.join('fiscal_year', elsalvador_refugee).join('fiscal_year', guatemala_refugee)\n",
    "latin_refugees.show(5)"
   ]
  },
  {
   "cell_type": "markdown",
   "metadata": {},
   "source": [
    "Finally, we can create the line plot of the total number of immigrants admitted under the \"Refugees and Asylees\" class from 1997-2017 by country."
   ]
  },
  {
   "cell_type": "code",
   "execution_count": 37,
   "metadata": {},
   "outputs": [
    {
     "data": {
      "image/png": "[encoded data removed]",
      "text/plain": [
       "<Figure size 432x288 with 1 Axes>"
      ]
     },
     "metadata": {},
     "output_type": "display_data"
    }
   ],
   "source": [
    "latin_refugees.plot('fiscal_year')\n",
    "plt.title('Immigrants Admitted by Refugees and Asylees Class by Country')\n",
    "plt.ylabel(\"Number of Immigrants\")\n",
    "plt.xlabel('Fiscal Year')\n",
    "plt.show()"
   ]
  },
  {
   "cell_type": "markdown",
   "metadata": {},
   "source": [
    "### Discussion D\n",
    "\n",
    "Do the 3 lines tend to follow similar trends? Why might this be the case? Discuss with a partner."
   ]
  },
  {
   "cell_type": "markdown",
   "metadata": {},
   "source": [
    "*WRITE YOUR RESPONSE HERE*"
   ]
  },
  {
   "cell_type": "markdown",
   "metadata": {},
   "source": [
    "<br><br><br><br><br>\n",
    "## Section 4.4. Policy Response <a id='4d'></a>\n",
    "\n",
    "Lastly, let's analyze refugee and asylum seekers in Myanmar (Burma). Here is just the data corresponding to the country Myanmar."
   ]
  },
  {
   "cell_type": "code",
   "execution_count": 35,
   "metadata": {},
   "outputs": [
    {
     "data": {
      "text/html": [
       "<table border=\"1\" class=\"dataframe\">\n",
       "    <thead>\n",
       "        <tr>\n",
       "            <th>fiscal_year</th> <th>Myanmar total</th>\n",
       "        </tr>\n",
       "    </thead>\n",
       "    <tbody>\n",
       "        <tr>\n",
       "            <td>1997       </td> <td>68           </td>\n",
       "        </tr>\n",
       "        <tr>\n",
       "            <td>1998       </td> <td>50           </td>\n",
       "        </tr>\n",
       "        <tr>\n",
       "            <td>1999       </td> <td>27           </td>\n",
       "        </tr>\n",
       "        <tr>\n",
       "            <td>2000       </td> <td>33           </td>\n",
       "        </tr>\n",
       "        <tr>\n",
       "            <td>2001       </td> <td>96           </td>\n",
       "        </tr>\n",
       "        <tr>\n",
       "            <td>2002       </td> <td>127          </td>\n",
       "        </tr>\n",
       "        <tr>\n",
       "            <td>2003       </td> <td>151          </td>\n",
       "        </tr>\n",
       "        <tr>\n",
       "            <td>2004       </td> <td>207          </td>\n",
       "        </tr>\n",
       "        <tr>\n",
       "            <td>2005       </td> <td>490          </td>\n",
       "        </tr>\n",
       "        <tr>\n",
       "            <td>2006       </td> <td>1976         </td>\n",
       "        </tr>\n",
       "    </tbody>\n",
       "</table>\n",
       "<p>... (11 rows omitted)</p>"
      ],
      "text/plain": [
       "fiscal_year | Myanmar total\n",
       "1997        | 68\n",
       "1998        | 50\n",
       "1999        | 27\n",
       "2000        | 33\n",
       "2001        | 96\n",
       "2002        | 127\n",
       "2003        | 151\n",
       "2004        | 207\n",
       "2005        | 490\n",
       "2006        | 1976\n",
       "... (11 rows omitted)"
      ]
     },
     "execution_count": 35,
     "metadata": {},
     "output_type": "execute_result"
    }
   ],
   "source": [
    "myanmar_refugees = class_admission.where('country', 'Burma').where('type', 'Refugees and asylees').drop(0, 1).relabel('total', 'Myanmar total')\n",
    "myanmar_refugees"
   ]
  },
  {
   "cell_type": "markdown",
   "metadata": {},
   "source": [
    "Let's plot the number of refugee and asylum seekers over time."
   ]
  },
  {
   "cell_type": "code",
   "execution_count": 36,
   "metadata": {},
   "outputs": [
    {
     "data": {
      "image/png": "[encoded data removed]",
      "text/plain": [
       "<Figure size 432x288 with 1 Axes>"
      ]
     },
     "metadata": {},
     "output_type": "display_data"
    }
   ],
   "source": [
    "myanmar_refugees.plot('fiscal_year')\n",
    "plt.title('Immigrants Admitted by Refugees and Asylees Class in Myanmar')\n",
    "plt.ylabel(\"Number of Immigrants\")\n",
    "plt.show()"
   ]
  },
  {
   "cell_type": "markdown",
   "metadata": {},
   "source": [
    "### Discussion E\n",
    "\n",
    "Notice the spike in the number of refugee and asylum seekers beginning in 2006. What do you think is the cause of this significant increase in refugee and asylum seekers? Discuss with a partner."
   ]
  },
  {
   "cell_type": "markdown",
   "metadata": {},
   "source": [
    "*WRITE YOUR RESPONSE HERE*"
   ]
  },
  {
   "cell_type": "markdown",
   "metadata": {},
   "source": [
    "<br><br><br><br>\n",
    "\n",
    "## Section 5. Homework <a id='5'></a>\n",
    "<br>\n",
    "\n",
    "### Question 1:\n",
    "\n",
    "How would you measure undocumented immigrants in the United States?"
   ]
  },
  {
   "cell_type": "markdown",
   "metadata": {},
   "source": [
    "*WRITE YOUR RESPONSE HERE*"
   ]
  },
  {
   "cell_type": "markdown",
   "metadata": {},
   "source": [
    "<br><br><br><br><br><br><br><br>\n",
    "# Data Science Opportunities at UC Berkeley <a id='6'></a>\n",
    "If you are interested in data science, we offer several courses and even a major / minor here at UC Berkeley. Some great courses to start out are Data 8 and some 2 unit connector courses like History 88 and Demography 88. For the full list of courses we offer, click [here](https://data.berkeley.edu/academics/undergraduate-programs/data-science-offerings)."
   ]
  },
  {
   "cell_type": "markdown",
   "metadata": {},
   "source": [
    "# Bibliography <a id='7'></a>\n",
    "1. https://www.dhs.gov/immigration-statistics/yearbook/2017/table21"
   ]
  },
  {
   "cell_type": "code",
   "execution_count": null,
   "metadata": {},
   "outputs": [],
   "source": []
  }
 ],
 "metadata": {
  "kernelspec": {
   "display_name": "Python 3",
   "language": "python",
   "name": "python3"
  },
  "language_info": {
   "codemirror_mode": {
    "name": "ipython",
    "version": 3
   },
   "file_extension": ".py",
   "mimetype": "text/x-python",
   "name": "python",
   "nbconvert_exporter": "python",
   "pygments_lexer": "ipython3",
   "version": "3.6.8"
  }
 },
 "nbformat": 4,
 "nbformat_minor": 2
}
