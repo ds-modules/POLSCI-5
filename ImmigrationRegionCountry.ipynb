{
 "cells": [
  {
   "cell_type": "code",
   "execution_count": 1,
   "metadata": {},
   "outputs": [],
   "source": [
    "from datascience import *"
   ]
  },
  {
   "cell_type": "code",
   "execution_count": 2,
   "metadata": {},
   "outputs": [],
   "source": [
    "region_country = Table.read_table('ImmigrantsRegionCountry.csv') # read in the dataset"
   ]
  },
  {
   "cell_type": "code",
   "execution_count": 3,
   "metadata": {},
   "outputs": [
    {
     "data": {
      "text/html": [
       "<table border=\"1\" class=\"dataframe\">\n",
       "    <thead>\n",
       "        <tr>\n",
       "            <th>fiscal_year</th> <th>country</th> <th>total</th>\n",
       "        </tr>\n",
       "    </thead>\n",
       "    <tbody>\n",
       "        <tr>\n",
       "            <td>1,989      </td> <td>Afghanistan    </td> <td>3,232</td>\n",
       "        </tr>\n",
       "        <tr>\n",
       "            <td>1,989      </td> <td>Albania        </td> <td>71   </td>\n",
       "        </tr>\n",
       "        <tr>\n",
       "            <td>1,989      </td> <td>Algeria        </td> <td>230  </td>\n",
       "        </tr>\n",
       "        <tr>\n",
       "            <td>1,989      </td> <td>American Samoa </td> <td>1    </td>\n",
       "        </tr>\n",
       "        <tr>\n",
       "            <td>1,989      </td> <td>Andorra        </td> <td>4    </td>\n",
       "        </tr>\n",
       "        <tr>\n",
       "            <td>1,989      </td> <td>Angola         </td> <td>143  </td>\n",
       "        </tr>\n",
       "        <tr>\n",
       "            <td>1,989      </td> <td>Anguilla       </td> <td>43   </td>\n",
       "        </tr>\n",
       "        <tr>\n",
       "            <td>1,989      </td> <td>Antigua-Barbuda</td> <td>979  </td>\n",
       "        </tr>\n",
       "        <tr>\n",
       "            <td>1,989      </td> <td>Argentina      </td> <td>3,301</td>\n",
       "        </tr>\n",
       "        <tr>\n",
       "            <td>1,989      </td> <td>Aruba          </td> <td>73   </td>\n",
       "        </tr>\n",
       "    </tbody>\n",
       "</table>\n",
       "<p>... (5915 rows omitted)</p>"
      ],
      "text/plain": [
       "fiscal_year | country         | total\n",
       "1,989       | Afghanistan     | 3,232\n",
       "1,989       | Albania         | 71\n",
       "1,989       | Algeria         | 230\n",
       "1,989       | American Samoa  | 1\n",
       "1,989       | Andorra         | 4\n",
       "1,989       | Angola          | 143\n",
       "1,989       | Anguilla        | 43\n",
       "1,989       | Antigua-Barbuda | 979\n",
       "1,989       | Argentina       | 3,301\n",
       "1,989       | Aruba           | 73\n",
       "... (5915 rows omitted)"
      ]
     },
     "execution_count": 3,
     "metadata": {},
     "output_type": "execute_result"
    }
   ],
   "source": [
    "region_country"
   ]
  },
  {
   "cell_type": "code",
   "execution_count": 7,
   "metadata": {},
   "outputs": [
    {
     "data": {
      "text/html": [
       "<table border=\"1\" class=\"dataframe\">\n",
       "    <thead>\n",
       "        <tr>\n",
       "            <th>fiscal_year</th> <th>country</th> <th>total</th>\n",
       "        </tr>\n",
       "    </thead>\n",
       "    <tbody>\n",
       "        <tr>\n",
       "            <td>1,989      </td> <td>Mexico </td> <td>405,172</td>\n",
       "        </tr>\n",
       "        <tr>\n",
       "            <td>1,990      </td> <td>Mexico </td> <td>679,068</td>\n",
       "        </tr>\n",
       "        <tr>\n",
       "            <td>1,991      </td> <td>Mexico </td> <td>946,167</td>\n",
       "        </tr>\n",
       "        <tr>\n",
       "            <td>1,992      </td> <td>Mexico </td> <td>213,802</td>\n",
       "        </tr>\n",
       "        <tr>\n",
       "            <td>1,993      </td> <td>Mexico </td> <td>126,561</td>\n",
       "        </tr>\n",
       "        <tr>\n",
       "            <td>1,994      </td> <td>Mexico </td> <td>111,398</td>\n",
       "        </tr>\n",
       "        <tr>\n",
       "            <td>1,995      </td> <td>Mexico </td> <td>89,932 </td>\n",
       "        </tr>\n",
       "        <tr>\n",
       "            <td>1,996      </td> <td>Mexico </td> <td>163,572</td>\n",
       "        </tr>\n",
       "        <tr>\n",
       "            <td>1,997      </td> <td>Mexico </td> <td>146,865</td>\n",
       "        </tr>\n",
       "        <tr>\n",
       "            <td>1,998      </td> <td>Mexico </td> <td>131,575</td>\n",
       "        </tr>\n",
       "    </tbody>\n",
       "</table>\n",
       "<p>... (19 rows omitted)</p>"
      ],
      "text/plain": [
       "fiscal_year | country | total\n",
       "1,989       | Mexico  | 405,172\n",
       "1,990       | Mexico  | 679,068\n",
       "1,991       | Mexico  | 946,167\n",
       "1,992       | Mexico  | 213,802\n",
       "1,993       | Mexico  | 126,561\n",
       "1,994       | Mexico  | 111,398\n",
       "1,995       | Mexico  | 89,932\n",
       "1,996       | Mexico  | 163,572\n",
       "1,997       | Mexico  | 146,865\n",
       "1,998       | Mexico  | 131,575\n",
       "... (19 rows omitted)"
      ]
     },
     "execution_count": 7,
     "metadata": {},
     "output_type": "execute_result"
    }
   ],
   "source": [
    "mexico = region_country.where('country', are.containing('Mexico'))\n",
    "mexico "
   ]
  },
  {
   "cell_type": "code",
   "execution_count": null,
   "metadata": {},
   "outputs": [],
   "source": []
  },
  {
   "cell_type": "markdown",
   "metadata": {},
   "source": [
    "# Outline\n",
    "## 1. Introduction - how to use Jupyter\n",
    "## 2. The dataset\n",
    "### a) Context/background of the dataset\n",
    "### b) what does a column represent\n",
    "### c) what does a row represent\n",
    "## 3. Immigration by Region and Country\n",
    "### a) begin cleaning data\n",
    "#### 1. fix year column, potentially replace some codes with what they actually represent\n",
    "### b) show how # rows/columns decrease\n",
    "### c) relabel termination type???\n",
    "## 4. Visualization\n",
    "### a) graphs of the number of immigrants over time"
   ]
  },
  {
   "cell_type": "code",
   "execution_count": null,
   "metadata": {},
   "outputs": [],
   "source": []
  }
 ],
 "metadata": {
  "kernelspec": {
   "display_name": "Python 3",
   "language": "python",
   "name": "python3"
  },
  "language_info": {
   "codemirror_mode": {
    "name": "ipython",
    "version": 3
   },
   "file_extension": ".py",
   "mimetype": "text/x-python",
   "name": "python",
   "nbconvert_exporter": "python",
   "pygments_lexer": "ipython3",
   "version": "3.6.8"
  }
 },
 "nbformat": 4,
 "nbformat_minor": 2
}
