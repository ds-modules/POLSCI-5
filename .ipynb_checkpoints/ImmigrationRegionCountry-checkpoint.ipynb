{
 "cells": [
  {
   "cell_type": "markdown",
   "metadata": {},
   "source": [
    "# Immigration Region/Country Data -- Outline\n",
    "## 1. Introduction - how to use Jupyter\n",
    "\n",
    "## 2. The dataset\n",
    "### a) Context/background of the dataset\n",
    "\"The [2017 Yearbook of Immigration Statistics](https://www.dhs.gov/immigration-statistics/yearbook) is a compendium of tables that provide data on foreign nationals who are granted lawful permanent residence (i.e., immigrants who receive a “green card”), admitted as temporary nonimmigrants, granted asylum or refugee status, or are naturalized. The Yearbook also presents data on immigration enforcement actions, including apprehensions and arrests, removals, and returns\" (Homeland Security)\n",
    "\n",
    "\"Tables of interest are: 21, 23, 25, 26, 40, 41\" (Dev Meeting 6/19)\n",
    "\n",
    "### b) what does a column represent\n",
    "### c) what does a row represent\n",
    "\n",
    "## 3. Immigration by Region and Country\n",
    "### a) begin cleaning data \n",
    "#### 1. fix year column\n",
    "\n",
    "\n",
    "## 4. Visualization\n",
    "### a) graphs of the number of immigrants over time"
   ]
  },
  {
   "cell_type": "markdown",
   "metadata": {},
   "source": [
    "# Attempt at Reformatting the Data \n",
    "\n",
    "Attempted to put the fiscal_year column in a year format. Issue with index column when you try to use datascience library on the reformatted dataframe\n",
    "\n",
    "I tried to replace the dataframe column with the reformatted year column and it keeps converting back to the original format it was in (i.e. no changes seem to occur). I also tried using replace and also just overriding the column. \n",
    "\n",
    "Then I tried just creating a new dataframe with the original columns and the reformatted years column. \n",
    "\n",
    "Overall there probably is a better way to do all of this...but none of these attempts worked. Currently all of what I attempted is commented out"
   ]
  },
  {
   "cell_type": "code",
   "execution_count": 1,
   "metadata": {},
   "outputs": [],
   "source": [
    "#import pandas as pd"
   ]
  },
  {
   "cell_type": "code",
   "execution_count": 2,
   "metadata": {},
   "outputs": [],
   "source": [
    "#region_country = Table.read_table('ImmigrantsRegionCountry.csv') # read in the dataset"
   ]
  },
  {
   "cell_type": "code",
   "execution_count": 3,
   "metadata": {},
   "outputs": [],
   "source": [
    "#region_country"
   ]
  },
  {
   "cell_type": "code",
   "execution_count": 4,
   "metadata": {},
   "outputs": [],
   "source": [
    "# #Attempting to reformat the year\n",
    "# year_format = pd.to_datetime(region_country['fiscal_year'].astype(str), format='%Y').year\n",
    "\n",
    "# formatted_yr = pd.DataFrame(data = year_format, columns = ['year'])\n",
    "# formatted_yr.head(6)"
   ]
  },
  {
   "cell_type": "code",
   "execution_count": 5,
   "metadata": {},
   "outputs": [],
   "source": [
    "# #Trying to find a way to get the years formatted in a dataframe with the other columns in the original table\n",
    "# #I tried to replace the dataframe column with the reformatted year column and it keeps converting back to the \n",
    "# #original format it was in (i.e. no changes seem to occur). Tried using replace and also just overriding the \n",
    "# #column \n",
    "# #Also, overall there probably is a better way to do all of this\n",
    "\n",
    "# d = {'year': formatted_yr['year'], 'country': region_country['country'], 'total': region_country['total']}\n",
    "# df = pd.DataFrame(data=d)\n",
    "# df.head(10)\n",
    "# #region_country = df.style.hide_index() #This takes forever to load \n",
    "\n",
    "# region_country = df\n",
    "# region_country.head(10)"
   ]
  },
  {
   "cell_type": "markdown",
   "metadata": {},
   "source": [
    "# EDA with the Data (not using Pandas and year not reformatted)"
   ]
  },
  {
   "cell_type": "code",
   "execution_count": 54,
   "metadata": {},
   "outputs": [],
   "source": [
    "from datascience import *\n",
    "\n",
    "import numpy as np\n",
    "\n",
    "%matplotlib inline\n",
    "import matplotlib.pyplot as plots\n",
    "plots.style.use('fivethirtyeight')"
   ]
  },
  {
   "cell_type": "code",
   "execution_count": 7,
   "metadata": {},
   "outputs": [],
   "source": [
    "region_country = Table.read_table('ImmigrantsRegionCountry.csv') # read in the dataset"
   ]
  },
  {
   "cell_type": "code",
   "execution_count": 44,
   "metadata": {},
   "outputs": [
    {
     "data": {
      "text/html": [
       "<table border=\"1\" class=\"dataframe\">\n",
       "    <thead>\n",
       "        <tr>\n",
       "            <th>fiscal_year</th> <th>country</th> <th>total</th>\n",
       "        </tr>\n",
       "    </thead>\n",
       "    <tbody>\n",
       "        <tr>\n",
       "            <td>1,989      </td> <td>Afghanistan    </td> <td>3,232</td>\n",
       "        </tr>\n",
       "        <tr>\n",
       "            <td>1,989      </td> <td>Albania        </td> <td>71   </td>\n",
       "        </tr>\n",
       "        <tr>\n",
       "            <td>1,989      </td> <td>Algeria        </td> <td>230  </td>\n",
       "        </tr>\n",
       "        <tr>\n",
       "            <td>1,989      </td> <td>American Samoa </td> <td>1    </td>\n",
       "        </tr>\n",
       "        <tr>\n",
       "            <td>1,989      </td> <td>Andorra        </td> <td>4    </td>\n",
       "        </tr>\n",
       "        <tr>\n",
       "            <td>1,989      </td> <td>Angola         </td> <td>143  </td>\n",
       "        </tr>\n",
       "        <tr>\n",
       "            <td>1,989      </td> <td>Anguilla       </td> <td>43   </td>\n",
       "        </tr>\n",
       "        <tr>\n",
       "            <td>1,989      </td> <td>Antigua-Barbuda</td> <td>979  </td>\n",
       "        </tr>\n",
       "        <tr>\n",
       "            <td>1,989      </td> <td>Argentina      </td> <td>3,301</td>\n",
       "        </tr>\n",
       "        <tr>\n",
       "            <td>1,989      </td> <td>Aruba          </td> <td>73   </td>\n",
       "        </tr>\n",
       "    </tbody>\n",
       "</table>\n",
       "<p>... (5915 rows omitted)</p>"
      ],
      "text/plain": [
       "fiscal_year | country         | total\n",
       "1,989       | Afghanistan     | 3,232\n",
       "1,989       | Albania         | 71\n",
       "1,989       | Algeria         | 230\n",
       "1,989       | American Samoa  | 1\n",
       "1,989       | Andorra         | 4\n",
       "1,989       | Angola          | 143\n",
       "1,989       | Anguilla        | 43\n",
       "1,989       | Antigua-Barbuda | 979\n",
       "1,989       | Argentina       | 3,301\n",
       "1,989       | Aruba           | 73\n",
       "... (5915 rows omitted)"
      ]
     },
     "execution_count": 44,
     "metadata": {},
     "output_type": "execute_result"
    }
   ],
   "source": [
    "region_country\n",
    "\n",
    "#Need to reformat fiscal_year. Is there something similar to e.g. set_format(\"Population\", NumberFormatter) that can\n",
    "#allow for this?"
   ]
  },
  {
   "cell_type": "code",
   "execution_count": 9,
   "metadata": {},
   "outputs": [
    {
     "name": "stdout",
     "output_type": "stream",
     "text": [
      "There are 5925 in the dataset\n"
     ]
    }
   ],
   "source": [
    "num_rows = region_country.num_rows\n",
    "print('There are', num_rows, 'in the dataset')"
   ]
  },
  {
   "cell_type": "code",
   "execution_count": 10,
   "metadata": {},
   "outputs": [
    {
     "name": "stdout",
     "output_type": "stream",
     "text": [
      "There are 240 countries represented in the dataset\n"
     ]
    }
   ],
   "source": [
    "total_countries = region_country.group('country').num_rows\n",
    "total_countries\n",
    "print('There are' , total_countries, 'countries represented in the dataset')\n"
   ]
  },
  {
   "cell_type": "code",
   "execution_count": 45,
   "metadata": {},
   "outputs": [
    {
     "data": {
      "text/html": [
       "<table border=\"1\" class=\"dataframe\">\n",
       "    <thead>\n",
       "        <tr>\n",
       "            <th>fiscal_year</th> <th>country</th> <th>total</th>\n",
       "        </tr>\n",
       "    </thead>\n",
       "    <tbody>\n",
       "        <tr>\n",
       "            <td>1,989      </td> <td>American Samoa          </td> <td>1    </td>\n",
       "        </tr>\n",
       "        <tr>\n",
       "            <td>1,989      </td> <td>Bhutan                  </td> <td>1    </td>\n",
       "        </tr>\n",
       "        <tr>\n",
       "            <td>1,989      </td> <td>Central African Republic</td> <td>1    </td>\n",
       "        </tr>\n",
       "        <tr>\n",
       "            <td>1,989      </td> <td>Greenland               </td> <td>1    </td>\n",
       "        </tr>\n",
       "        <tr>\n",
       "            <td>1,989      </td> <td>Reunion                 </td> <td>1    </td>\n",
       "        </tr>\n",
       "        <tr>\n",
       "            <td>1,989      </td> <td>St. Helena              </td> <td>1    </td>\n",
       "        </tr>\n",
       "        <tr>\n",
       "            <td>1,989      </td> <td>U.S. Virgin Islands     </td> <td>1    </td>\n",
       "        </tr>\n",
       "        <tr>\n",
       "            <td>1,990      </td> <td>Bhutan                  </td> <td>1    </td>\n",
       "        </tr>\n",
       "        <tr>\n",
       "            <td>1,990      </td> <td>Falkland Islands        </td> <td>1    </td>\n",
       "        </tr>\n",
       "        <tr>\n",
       "            <td>1,990      </td> <td>Gibraltar               </td> <td>1    </td>\n",
       "        </tr>\n",
       "    </tbody>\n",
       "</table>\n",
       "<p>... (68 rows omitted)</p>"
      ],
      "text/plain": [
       "fiscal_year | country                  | total\n",
       "1,989       | American Samoa           | 1\n",
       "1,989       | Bhutan                   | 1\n",
       "1,989       | Central African Republic | 1\n",
       "1,989       | Greenland                | 1\n",
       "1,989       | Reunion                  | 1\n",
       "1,989       | St. Helena               | 1\n",
       "1,989       | U.S. Virgin Islands      | 1\n",
       "1,990       | Bhutan                   | 1\n",
       "1,990       | Falkland Islands         | 1\n",
       "1,990       | Gibraltar                | 1\n",
       "... (68 rows omitted)"
      ]
     },
     "execution_count": 45,
     "metadata": {},
     "output_type": "execute_result"
    }
   ],
   "source": [
    "#Countries with the minimum immigration total in whole dataset \n",
    "all_min = min(region_country.column('total'))\n",
    "region_country.where('total', are.equal_to(all_min))"
   ]
  },
  {
   "cell_type": "code",
   "execution_count": 46,
   "metadata": {},
   "outputs": [
    {
     "data": {
      "text/html": [
       "<table border=\"1\" class=\"dataframe\">\n",
       "    <thead>\n",
       "        <tr>\n",
       "            <th>fiscal_year</th> <th>country</th> <th>total</th>\n",
       "        </tr>\n",
       "    </thead>\n",
       "    <tbody>\n",
       "        <tr>\n",
       "            <td>1,991      </td> <td>Mexico </td> <td>946,167</td>\n",
       "        </tr>\n",
       "    </tbody>\n",
       "</table>"
      ],
      "text/plain": [
       "fiscal_year | country | total\n",
       "1,991       | Mexico  | 946,167"
      ]
     },
     "execution_count": 46,
     "metadata": {},
     "output_type": "execute_result"
    }
   ],
   "source": [
    "#Countries with the maximum immigration total in whole dataset \n",
    "all_max = max(region_country.column('total'))\n",
    "region_country.where('total', are.equal_to(all_max))"
   ]
  },
  {
   "cell_type": "code",
   "execution_count": 11,
   "metadata": {},
   "outputs": [
    {
     "data": {
      "text/html": [
       "<table border=\"1\" class=\"dataframe\">\n",
       "    <thead>\n",
       "        <tr>\n",
       "            <th>fiscal_year</th> <th>country</th> <th>total</th>\n",
       "        </tr>\n",
       "    </thead>\n",
       "    <tbody>\n",
       "        <tr>\n",
       "            <td>1,989      </td> <td>Mexico </td> <td>405,172</td>\n",
       "        </tr>\n",
       "        <tr>\n",
       "            <td>1,990      </td> <td>Mexico </td> <td>679,068</td>\n",
       "        </tr>\n",
       "        <tr>\n",
       "            <td>1,991      </td> <td>Mexico </td> <td>946,167</td>\n",
       "        </tr>\n",
       "        <tr>\n",
       "            <td>1,992      </td> <td>Mexico </td> <td>213,802</td>\n",
       "        </tr>\n",
       "        <tr>\n",
       "            <td>1,993      </td> <td>Mexico </td> <td>126,561</td>\n",
       "        </tr>\n",
       "        <tr>\n",
       "            <td>1,994      </td> <td>Mexico </td> <td>111,398</td>\n",
       "        </tr>\n",
       "        <tr>\n",
       "            <td>1,995      </td> <td>Mexico </td> <td>89,932 </td>\n",
       "        </tr>\n",
       "        <tr>\n",
       "            <td>1,996      </td> <td>Mexico </td> <td>163,572</td>\n",
       "        </tr>\n",
       "        <tr>\n",
       "            <td>1,997      </td> <td>Mexico </td> <td>146,865</td>\n",
       "        </tr>\n",
       "        <tr>\n",
       "            <td>1,998      </td> <td>Mexico </td> <td>131,575</td>\n",
       "        </tr>\n",
       "    </tbody>\n",
       "</table>\n",
       "<p>... (19 rows omitted)</p>"
      ],
      "text/plain": [
       "fiscal_year | country | total\n",
       "1,989       | Mexico  | 405,172\n",
       "1,990       | Mexico  | 679,068\n",
       "1,991       | Mexico  | 946,167\n",
       "1,992       | Mexico  | 213,802\n",
       "1,993       | Mexico  | 126,561\n",
       "1,994       | Mexico  | 111,398\n",
       "1,995       | Mexico  | 89,932\n",
       "1,996       | Mexico  | 163,572\n",
       "1,997       | Mexico  | 146,865\n",
       "1,998       | Mexico  | 131,575\n",
       "... (19 rows omitted)"
      ]
     },
     "execution_count": 11,
     "metadata": {},
     "output_type": "execute_result"
    }
   ],
   "source": [
    "mexico = region_country.where('country', are.containing('Mexico'))\n",
    "mexico "
   ]
  },
  {
   "cell_type": "code",
   "execution_count": 23,
   "metadata": {},
   "outputs": [
    {
     "name": "stdout",
     "output_type": "stream",
     "text": [
      "The immigration data on Mexico comes from years 1989 to 2017\n"
     ]
    }
   ],
   "source": [
    "oldest_yr = min(mexico.column('fiscal_year'))\n",
    "recent_yr = max(mexico.column('fiscal_year'))\n",
    "print('The immigration data on Mexico comes from years', oldest_yr, 'to', recent_yr)"
   ]
  },
  {
   "cell_type": "code",
   "execution_count": 26,
   "metadata": {},
   "outputs": [
    {
     "data": {
      "text/html": [
       "<table border=\"1\" class=\"dataframe\">\n",
       "    <thead>\n",
       "        <tr>\n",
       "            <th>fiscal_year</th> <th>country</th> <th>total</th>\n",
       "        </tr>\n",
       "    </thead>\n",
       "    <tbody>\n",
       "        <tr>\n",
       "            <td>1,995      </td> <td>Mexico </td> <td>89,932</td>\n",
       "        </tr>\n",
       "    </tbody>\n",
       "</table>"
      ],
      "text/plain": [
       "fiscal_year | country | total\n",
       "1,995       | Mexico  | 89,932"
      ]
     },
     "execution_count": 26,
     "metadata": {},
     "output_type": "execute_result"
    }
   ],
   "source": [
    "#Row with the minimum total immigration in Mexico\n",
    "min_total = min(mexico.column('total'))\n",
    "mexico.where('total', are.equal_to(min_total))\n"
   ]
  },
  {
   "cell_type": "code",
   "execution_count": 27,
   "metadata": {},
   "outputs": [
    {
     "data": {
      "text/html": [
       "<table border=\"1\" class=\"dataframe\">\n",
       "    <thead>\n",
       "        <tr>\n",
       "            <th>fiscal_year</th> <th>country</th> <th>total</th>\n",
       "        </tr>\n",
       "    </thead>\n",
       "    <tbody>\n",
       "        <tr>\n",
       "            <td>1,991      </td> <td>Mexico </td> <td>946,167</td>\n",
       "        </tr>\n",
       "    </tbody>\n",
       "</table>"
      ],
      "text/plain": [
       "fiscal_year | country | total\n",
       "1,991       | Mexico  | 946,167"
      ]
     },
     "execution_count": 27,
     "metadata": {},
     "output_type": "execute_result"
    }
   ],
   "source": [
    "#Row with the maximum total immigration in Mexico\n",
    "max_total = max(mexico.column('total'))\n",
    "mexico.where('total', are.equal_to(max_total))"
   ]
  },
  {
   "cell_type": "code",
   "execution_count": 43,
   "metadata": {},
   "outputs": [
    {
     "data": {
      "text/html": [
       "<table border=\"1\" class=\"dataframe\">\n",
       "    <thead>\n",
       "        <tr>\n",
       "            <th>fiscal_year</th> <th>country</th> <th>total</th>\n",
       "        </tr>\n",
       "    </thead>\n",
       "    <tbody>\n",
       "        <tr>\n",
       "            <td>1,991      </td> <td>Mexico </td> <td>946,167</td>\n",
       "        </tr>\n",
       "        <tr>\n",
       "            <td>1,990      </td> <td>Mexico </td> <td>679,068</td>\n",
       "        </tr>\n",
       "        <tr>\n",
       "            <td>1,989      </td> <td>Mexico </td> <td>405,172</td>\n",
       "        </tr>\n",
       "        <tr>\n",
       "            <td>2,002      </td> <td>Mexico </td> <td>218,822</td>\n",
       "        </tr>\n",
       "        <tr>\n",
       "            <td>1,992      </td> <td>Mexico </td> <td>213,802</td>\n",
       "        </tr>\n",
       "        <tr>\n",
       "            <td>2,001      </td> <td>Mexico </td> <td>205,560</td>\n",
       "        </tr>\n",
       "        <tr>\n",
       "            <td>2,008      </td> <td>Mexico </td> <td>189,989</td>\n",
       "        </tr>\n",
       "        <tr>\n",
       "            <td>2,004      </td> <td>Mexico </td> <td>175,411</td>\n",
       "        </tr>\n",
       "        <tr>\n",
       "            <td>2,016      </td> <td>Mexico </td> <td>174,534</td>\n",
       "        </tr>\n",
       "        <tr>\n",
       "            <td>2,006      </td> <td>Mexico </td> <td>173,749</td>\n",
       "        </tr>\n",
       "    </tbody>\n",
       "</table>\n",
       "<p>... (19 rows omitted)</p>"
      ],
      "text/plain": [
       "fiscal_year | country | total\n",
       "1,991       | Mexico  | 946,167\n",
       "1,990       | Mexico  | 679,068\n",
       "1,989       | Mexico  | 405,172\n",
       "2,002       | Mexico  | 218,822\n",
       "1,992       | Mexico  | 213,802\n",
       "2,001       | Mexico  | 205,560\n",
       "2,008       | Mexico  | 189,989\n",
       "2,004       | Mexico  | 175,411\n",
       "2,016       | Mexico  | 174,534\n",
       "2,006       | Mexico  | 173,749\n",
       "... (19 rows omitted)"
      ]
     },
     "execution_count": 43,
     "metadata": {},
     "output_type": "execute_result"
    }
   ],
   "source": [
    "mexico.sort('total', descending = True)"
   ]
  },
  {
   "cell_type": "code",
   "execution_count": 49,
   "metadata": {},
   "outputs": [
    {
     "data": {
      "text/html": [
       "<table border=\"1\" class=\"dataframe\">\n",
       "    <thead>\n",
       "        <tr>\n",
       "            <th>fiscal_year</th> <th>country</th> <th>total</th>\n",
       "        </tr>\n",
       "    </thead>\n",
       "    <tbody>\n",
       "        <tr>\n",
       "            <td>1,989      </td> <td>Mexico </td> <td>405,172</td>\n",
       "        </tr>\n",
       "        <tr>\n",
       "            <td>1,990      </td> <td>Mexico </td> <td>679,068</td>\n",
       "        </tr>\n",
       "        <tr>\n",
       "            <td>1,991      </td> <td>Mexico </td> <td>946,167</td>\n",
       "        </tr>\n",
       "        <tr>\n",
       "            <td>1,992      </td> <td>Mexico </td> <td>213,802</td>\n",
       "        </tr>\n",
       "        <tr>\n",
       "            <td>1,993      </td> <td>Mexico </td> <td>126,561</td>\n",
       "        </tr>\n",
       "        <tr>\n",
       "            <td>1,994      </td> <td>Mexico </td> <td>111,398</td>\n",
       "        </tr>\n",
       "        <tr>\n",
       "            <td>1,995      </td> <td>Mexico </td> <td>89,932 </td>\n",
       "        </tr>\n",
       "        <tr>\n",
       "            <td>1,996      </td> <td>Mexico </td> <td>163,572</td>\n",
       "        </tr>\n",
       "        <tr>\n",
       "            <td>1,997      </td> <td>Mexico </td> <td>146,865</td>\n",
       "        </tr>\n",
       "        <tr>\n",
       "            <td>1,998      </td> <td>Mexico </td> <td>131,575</td>\n",
       "        </tr>\n",
       "    </tbody>\n",
       "</table>\n",
       "<p>... (9 rows omitted)</p>"
      ],
      "text/plain": [
       "fiscal_year | country | total\n",
       "1,989       | Mexico  | 405,172\n",
       "1,990       | Mexico  | 679,068\n",
       "1,991       | Mexico  | 946,167\n",
       "1,992       | Mexico  | 213,802\n",
       "1,993       | Mexico  | 126,561\n",
       "1,994       | Mexico  | 111,398\n",
       "1,995       | Mexico  | 89,932\n",
       "1,996       | Mexico  | 163,572\n",
       "1,997       | Mexico  | 146,865\n",
       "1,998       | Mexico  | 131,575\n",
       "... (9 rows omitted)"
      ]
     },
     "execution_count": 49,
     "metadata": {},
     "output_type": "execute_result"
    }
   ],
   "source": [
    "pre_crisis = mexico.where('fiscal_year', are.between_or_equal_to(1989,2007))\n",
    "pre_crisis"
   ]
  },
  {
   "cell_type": "code",
   "execution_count": 55,
   "metadata": {},
   "outputs": [
    {
     "data": {
      "image/png": "[encoded data removed]",
      "text/plain": [
       "<Figure size 432x288 with 1 Axes>"
      ]
     },
     "metadata": {},
     "output_type": "display_data"
    }
   ],
   "source": [
    "pre_crisis.plot('fiscal_year', 'total')"
   ]
  },
  {
   "cell_type": "code",
   "execution_count": 62,
   "metadata": {},
   "outputs": [
    {
     "data": {
      "image/png": "[encoded data removed]",
      "text/plain": [
       "<Figure size 360x360 with 1 Axes>"
      ]
     },
     "metadata": {},
     "output_type": "display_data"
    }
   ],
   "source": [
    "pre_crisis.scatter('fiscal_year', 'total')"
   ]
  },
  {
   "cell_type": "code",
   "execution_count": 56,
   "metadata": {},
   "outputs": [
    {
     "data": {
      "text/html": [
       "<table border=\"1\" class=\"dataframe\">\n",
       "    <thead>\n",
       "        <tr>\n",
       "            <th>fiscal_year</th> <th>country</th> <th>total</th>\n",
       "        </tr>\n",
       "    </thead>\n",
       "    <tbody>\n",
       "        <tr>\n",
       "            <td>2,008      </td> <td>Mexico </td> <td>189,989</td>\n",
       "        </tr>\n",
       "        <tr>\n",
       "            <td>2,009      </td> <td>Mexico </td> <td>164,920</td>\n",
       "        </tr>\n",
       "        <tr>\n",
       "            <td>2,010      </td> <td>Mexico </td> <td>139,120</td>\n",
       "        </tr>\n",
       "        <tr>\n",
       "            <td>2,011      </td> <td>Mexico </td> <td>143,446</td>\n",
       "        </tr>\n",
       "        <tr>\n",
       "            <td>2,012      </td> <td>Mexico </td> <td>146,406</td>\n",
       "        </tr>\n",
       "        <tr>\n",
       "            <td>2,013      </td> <td>Mexico </td> <td>135,028</td>\n",
       "        </tr>\n",
       "        <tr>\n",
       "            <td>2,014      </td> <td>Mexico </td> <td>134,052</td>\n",
       "        </tr>\n",
       "        <tr>\n",
       "            <td>2,015      </td> <td>Mexico </td> <td>158,619</td>\n",
       "        </tr>\n",
       "        <tr>\n",
       "            <td>2,016      </td> <td>Mexico </td> <td>174,534</td>\n",
       "        </tr>\n",
       "        <tr>\n",
       "            <td>2,017      </td> <td>Mexico </td> <td>170,581</td>\n",
       "        </tr>\n",
       "    </tbody>\n",
       "</table>"
      ],
      "text/plain": [
       "fiscal_year | country | total\n",
       "2,008       | Mexico  | 189,989\n",
       "2,009       | Mexico  | 164,920\n",
       "2,010       | Mexico  | 139,120\n",
       "2,011       | Mexico  | 143,446\n",
       "2,012       | Mexico  | 146,406\n",
       "2,013       | Mexico  | 135,028\n",
       "2,014       | Mexico  | 134,052\n",
       "2,015       | Mexico  | 158,619\n",
       "2,016       | Mexico  | 174,534\n",
       "2,017       | Mexico  | 170,581"
      ]
     },
     "execution_count": 56,
     "metadata": {},
     "output_type": "execute_result"
    }
   ],
   "source": [
    "post_crisis = mexico.where('fiscal_year', are.between_or_equal_to(2008,2017))\n",
    "post_crisis"
   ]
  },
  {
   "cell_type": "code",
   "execution_count": 58,
   "metadata": {},
   "outputs": [
    {
     "data": {
      "image/png": "[encoded data removed]",
      "text/plain": [
       "<Figure size 432x288 with 1 Axes>"
      ]
     },
     "metadata": {},
     "output_type": "display_data"
    }
   ],
   "source": [
    "post_crisis.plot('fiscal_year', 'total')"
   ]
  },
  {
   "cell_type": "code",
   "execution_count": 61,
   "metadata": {},
   "outputs": [
    {
     "data": {
      "image/png": "[encoded data removed]",
      "text/plain": [
       "<Figure size 360x360 with 1 Axes>"
      ]
     },
     "metadata": {},
     "output_type": "display_data"
    }
   ],
   "source": [
    "post_crisis.scatter('fiscal_year', 'total')"
   ]
  },
  {
   "cell_type": "code",
   "execution_count": 65,
   "metadata": {},
   "outputs": [
    {
     "data": {
      "image/png": "[encoded data removed]",
      "text/plain": [
       "<Figure size 432x288 with 1 Axes>"
      ]
     },
     "metadata": {},
     "output_type": "display_data"
    }
   ],
   "source": [
    "pre_mill = mexico.where('fiscal_year', are.between_or_equal_to(1989,1999))\n",
    "pre_mill.plot('fiscal_year', 'total')"
   ]
  },
  {
   "cell_type": "code",
   "execution_count": 67,
   "metadata": {},
   "outputs": [
    {
     "data": {
      "image/png": "[encoded data removed]",
      "text/plain": [
       "<Figure size 432x288 with 1 Axes>"
      ]
     },
     "metadata": {},
     "output_type": "display_data"
    }
   ],
   "source": [
    "post_mill = mexico.where('fiscal_year', are.between_or_equal_to(2000,2017))\n",
    "post_mill.plot('fiscal_year', 'total')\n"
   ]
  },
  {
   "cell_type": "code",
   "execution_count": null,
   "metadata": {},
   "outputs": [],
   "source": []
  }
 ],
 "metadata": {
  "kernelspec": {
   "display_name": "Python 3",
   "language": "python",
   "name": "python3"
  },
  "language_info": {
   "codemirror_mode": {
    "name": "ipython",
    "version": 3
   },
   "file_extension": ".py",
   "mimetype": "text/x-python",
   "name": "python",
   "nbconvert_exporter": "python",
   "pygments_lexer": "ipython3",
   "version": "3.6.8"
  }
 },
 "nbformat": 4,
 "nbformat_minor": 2
}
