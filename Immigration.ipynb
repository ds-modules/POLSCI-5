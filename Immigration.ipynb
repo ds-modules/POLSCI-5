{
 "cells": [
  {
   "cell_type": "markdown",
   "metadata": {},
   "source": [
    "# [POLSCI-5] Immigration\n",
    "\n",
    "Estimated Time: 30-40 minutes <br>\n",
    "Created by: Lauren Hom, Ravi Singhal\n",
    "\n",
    "Today we will be examining three data sets on immigration to the United States, where these datasets were created from data collected by the United States Department of Homeland Security. We are going to analyze ecomomic and immigration patterns in North and South America and tie them to the events that were taking place at that time.\n",
    "\n",
    "### Table of Contents \n",
    "0 - [Jupyter Introduction ](#0) <br>\n",
    "1 - [The Datasets](#1)<br>\n",
    "2 - [Table 1](#2)<br>\n",
    "3 - [Table 2: Persons from Country of Last Permanent Resident Obtaining Lawful Permanent Residence Status](#3)<br>\n",
    "4 - [Table 3: Immigration by Class of Admission](#4)<br>"
   ]
  },
  {
   "cell_type": "markdown",
   "metadata": {},
   "source": [
    "# Jupyter Introduction <a id='0'></a>"
   ]
  },
  {
   "cell_type": "markdown",
   "metadata": {},
   "source": [
    "This webpage is a Jupyter Notebook. **Notebooks** are documents that can contain text, code, visualizations, and more. \n",
    "\n",
    "A notebook is composed of rectangular sections called **cells**. There are 2 kinds of cells: markdown and code. A **markdown cell**, such as this one, contains text. A **code cell** contains code in Python, a programming language that we will be using for the remainder of this module. You can select any cell by clicking it once. After a cell is selected, you can navigate the notebook using the up and down arrow keys.\n",
    "\n",
    "To run a code cell once it's been selected, \n",
    "- press `Shift + Enter`, or\n",
    "- click the `▶| Run` button in the toolbar at the top of the screen. \n",
    "\n",
    "If a code cell is running, you will see an asterisk (\\*) appear in the square brackets to the left of the cell. Once the cell has finished running, a number will replace the asterisk and any output from the code will appear under the cell. \n",
    "\n",
    "An example of a code cell is below. Try running it. If everything works properly, the word \"Success\" should be printed under the cell."
   ]
  },
  {
   "cell_type": "code",
   "execution_count": null,
   "metadata": {},
   "outputs": [],
   "source": [
    "# This cell sets up the notebook. Just run this cell.\n",
    "from datascience import *\n",
    "import numpy as np\n",
    "\n",
    "%matplotlib inline\n",
    "import matplotlib.pyplot as plt\n",
    "plt.style.use('fivethirtyeight')\n",
    "\n",
    "print(\"Success!\")"
   ]
  },
  {
   "cell_type": "markdown",
   "metadata": {},
   "source": [
    "# The Datasets <a id='1'></a>"
   ]
  },
  {
   "cell_type": "markdown",
   "metadata": {},
   "source": [
    "The three tables (datasets) contain information about immigration to the United States. Here is a description of the data as stated on the United States Department of Homeland Security:\n",
    "\n",
    "> \"The 2017 Yearbook of Immigration Statistics is a compendium of tables that provide data on foreign nationals who are granted lawful permanent residence (i.e., immigrants who receive a “green card”), admitted as temporary nonimmigrants, granted asylum or refugee status, or are naturalized. The Yearbook also presents data on immigration enforcement actions, including apprehensions and arrests, removals, and returns\"\n",
    "\n",
    "The three datasets we will be looking at contain data on:\n",
    "- Foreign nationals granted lawful permanent residence (i.e., immigrants who receive a “green card”) \n",
    "- Immigration enforcement actions \n",
    "\n",
    "<br>If you want to read more about the dataset, click [here](https://www.dhs.gov/immigration-statistics/yearbook/2017).\n"
   ]
  },
  {
   "cell_type": "markdown",
   "metadata": {},
   "source": [
    "# Table 1 <a id='2'></a>"
   ]
  },
  {
   "cell_type": "markdown",
   "metadata": {},
   "source": [
    "The first table we will explore contains data on the number of immigrants who obtained lawful permanent residence or received a \"green card\" to the U.S. on a temporary basis between 1989-2017 for a given country. The people represented in total numbers are people who were **born** in the specified country.\n",
    "\n",
    "Here are the first 5 rows of the table. There are 5925 rows and 3 columns."
   ]
  },
  {
   "cell_type": "code",
   "execution_count": null,
   "metadata": {},
   "outputs": [],
   "source": [
    "birth_country = Table.read_table('ImmigrantsRegionCountry.csv') # read in the dataset\n",
    "birth_country.show(5)"
   ]
  },
  {
   "cell_type": "markdown",
   "metadata": {},
   "source": [
    "### Row"
   ]
  },
  {
   "cell_type": "markdown",
   "metadata": {},
   "source": [
    "Second, let's examine what a *row* is. Each row in the table gives the total number of immigrants admitted during the specific fiscal year for a given country.\n",
    "\n",
    "For example, here is the first row of the table. This row shows that there were 3232 immigrants who were granted lawful permanent residence from Afghanistan in 1989."
   ]
  },
  {
   "cell_type": "code",
   "execution_count": null,
   "metadata": {},
   "outputs": [],
   "source": [
    "birth_country.take(0)"
   ]
  },
  {
   "cell_type": "markdown",
   "metadata": {},
   "source": [
    "### Column"
   ]
  },
  {
   "cell_type": "markdown",
   "metadata": {},
   "source": [
    "First, let's examine what a *column* is. There are a total of 3 columns in this table:\n",
    "- `fiscal_year` - years range from 1989-2017\n",
    "- `country` - country/region where immigrants came from\n",
    "- `total` - the total number of immigrants for a given fiscal year"
   ]
  },
  {
   "cell_type": "code",
   "execution_count": null,
   "metadata": {},
   "outputs": [],
   "source": [
    "birth_country.show(5)"
   ]
  },
  {
   "cell_type": "markdown",
   "metadata": {},
   "source": [
    "Here are some of the countries and regions in the table. There are a total of 240 countries and regions represented in the table. The table below shows the number of occurances of each country in the original table."
   ]
  },
  {
   "cell_type": "code",
   "execution_count": null,
   "metadata": {},
   "outputs": [],
   "source": [
    "#Run this cell to display the first 10 countries and regions in the table\n",
    "countries_regions = birth_country.group('country')\n",
    "countries_regions.show(10)"
   ]
  },
  {
   "cell_type": "markdown",
   "metadata": {},
   "source": [
    "Let's look at the data more closely for a specific country."
   ]
  },
  {
   "cell_type": "markdown",
   "metadata": {},
   "source": [
    "## Mexico"
   ]
  },
  {
   "cell_type": "markdown",
   "metadata": {},
   "source": [
    "We will specifically look at data for Mexico, paying particular attention to the total before and after 2008. We are going to examine the LPR (Persons Obtaining Lawful Permanent Resident Status).\n",
    "\n",
    "First, let's filter the overall table so that we only have a subset of the data-- data on only Mexico."
   ]
  },
  {
   "cell_type": "code",
   "execution_count": null,
   "metadata": {},
   "outputs": [],
   "source": [
    "#Shows only the data for the country Mexico \n",
    "mexico = birth_country.where('country', 'Mexico')\n",
    "mexico.show(29)"
   ]
  },
  {
   "cell_type": "markdown",
   "metadata": {},
   "source": [
    "The table above shows just the rows that have Mexico in them, allowing us to see the trend in LPR over time much easier."
   ]
  },
  {
   "cell_type": "markdown",
   "metadata": {},
   "source": [
    "### Visualize the Data "
   ]
  },
  {
   "cell_type": "markdown",
   "metadata": {},
   "source": [
    "Using the data above, we can take a look at the change in the number of immigrants by plotting it over time from 1989-2017."
   ]
  },
  {
   "cell_type": "code",
   "execution_count": null,
   "metadata": {},
   "outputs": [],
   "source": [
    "mexico.plot('fiscal_year', 'total') #generates the line plot with fiscal_year on the x-axis and total on the y-axis\n",
    "plt.title('Number of Immigrants born in Mexico Granted LPR Status') #titles the plot\n",
    "plt.show()"
   ]
  },
  {
   "cell_type": "markdown",
   "metadata": {},
   "source": [
    "Let's take a look at the highest and lowest points that appear in the graph. "
   ]
  },
  {
   "cell_type": "code",
   "execution_count": null,
   "metadata": {},
   "outputs": [],
   "source": [
    "# Row with the MINIMUM total immigration in Mexico\n",
    "lowest_total = min(mexico.column('total')) \n",
    "mexico.where('total', lowest_total)"
   ]
  },
  {
   "cell_type": "markdown",
   "metadata": {},
   "source": [
    "The table above shows the one row with the lowest number of immigrants granted LPR in Mexico. In comparison, table below shows the one row with the highest number of immigrants granted LPR. By comparing the two `total` values with the data shown in the plot above, we can see that the highest total seems to be significantly higher than most of the other data points."
   ]
  },
  {
   "cell_type": "code",
   "execution_count": null,
   "metadata": {},
   "outputs": [],
   "source": [
    "# Row with the MAXIMUM total immigration in Mexico\n",
    "highest_total = max(mexico.column('total'))\n",
    "mexico.where('total', highest_total)"
   ]
  },
  {
   "cell_type": "markdown",
   "metadata": {},
   "source": [
    "Here is the data from the table showing the total number of immigrants granted lawful permanent status between 2008-2017:"
   ]
  },
  {
   "cell_type": "code",
   "execution_count": null,
   "metadata": {},
   "outputs": [],
   "source": [
    "mexico.where('fiscal_year', are.between_or_equal_to(2008, 2017))"
   ]
  },
  {
   "cell_type": "markdown",
   "metadata": {},
   "source": [
    "### Discussion 1"
   ]
  },
  {
   "cell_type": "markdown",
   "metadata": {},
   "source": [
    "With a partner, discuss the following:\n",
    "\n",
    "What was happening in Mexico and/or internationally in 1995, 1991, and 2008? How might this explain why the total number of immigrants granted lawful permanent status followed the trends displayed in the line plot?"
   ]
  },
  {
   "cell_type": "markdown",
   "metadata": {},
   "source": [
    "**Solution**: \n",
    "\n",
    "- 1995: Mexico Peso Crisis\n",
    "- 1991: **Not actually sure what historically significantly happened here with respec to economics or other factors, if anything**\n",
    "- 2008: US Financial Crisis\n",
    "\n",
    "Answers to the second question may vary\n"
   ]
  },
  {
   "cell_type": "markdown",
   "metadata": {},
   "source": [
    "## Central American Countries"
   ]
  },
  {
   "cell_type": "markdown",
   "metadata": {},
   "source": [
    "Let's also take a look at the total number of immigrants granted lawful permanent status for Honduras, El Salvador, and Guatemala."
   ]
  },
  {
   "cell_type": "code",
   "execution_count": null,
   "metadata": {},
   "outputs": [],
   "source": [
    "honduras = birth_country.where('country', 'Honduras').relabel('total', 'Honduras total')\n",
    "\n",
    "el_salvador = birth_country.where('country', 'El Salvador').relabel('total', 'El Salvador total')\n",
    "\n",
    "guatemala = birth_country.where('country', 'Guatemala').relabel('total', 'Guatemala total')\n",
    "guatemala.show(3)"
   ]
  },
  {
   "cell_type": "markdown",
   "metadata": {},
   "source": [
    "Next we will combine the three subsets of data."
   ]
  },
  {
   "cell_type": "code",
   "execution_count": null,
   "metadata": {},
   "outputs": [],
   "source": [
    "latin_countries = honduras.join('fiscal_year', el_salvador).join('fiscal_year', guatemala)\n",
    "latin_countries = latin_countries.drop('country', 'country_2', 'country_3')\n",
    "latin_countries"
   ]
  },
  {
   "cell_type": "markdown",
   "metadata": {},
   "source": [
    "Now we can create a line plot of the number of immigrants granted lawful permanent residence for each country."
   ]
  },
  {
   "cell_type": "code",
   "execution_count": null,
   "metadata": {},
   "outputs": [],
   "source": [
    "latin_countries.plot('fiscal_year')\n",
    "plt.title('Number of Immigrants Granted LPR Status by Birth Country')\n",
    "plt.show()"
   ]
  },
  {
   "cell_type": "markdown",
   "metadata": {},
   "source": [
    "### Discussion 1.2"
   ]
  },
  {
   "cell_type": "markdown",
   "metadata": {},
   "source": [
    "With a partner discuss the following:\n",
    "\n",
    "What is similar and different about the trends in immigration between Honduras, El Salvador, and Guatemala? How do they compare with the immigration trends in Mexico? Why might these similarities and differences be occurring? \n",
    "\n",
    "**Should these questions also have an economic section?** "
   ]
  },
  {
   "cell_type": "markdown",
   "metadata": {},
   "source": [
    "# Table 2 <a id='3'></a>"
   ]
  },
  {
   "cell_type": "markdown",
   "metadata": {},
   "source": [
    "The second table we will explore also contains data on the number of immigrants who obtained lawful permanent residence or received a \"green card\" to the U.S. on a temporary basis between 1994-2017 for a given country. \n",
    "This time, the people represented in total numbers are people whose **last permanent residence** was in the given country (e.g. this could include people born in the country, people who immigrated to the given country from another country, etc.).\n",
    "\n",
    "The first 5 rows of the data are shown, below. There are 1491 rows and 4 columns."
   ]
  },
  {
   "cell_type": "code",
   "execution_count": null,
   "metadata": {},
   "outputs": [],
   "source": [
    "permanent_residence = Table.read_table('lawfulPermResidentByCountryLastResidence.csv') #read in the dataset\n",
    "permanent_residence.show(5)"
   ]
  },
  {
   "cell_type": "markdown",
   "metadata": {},
   "source": [
    "As you can see, there are two columns in the table with \"nan\" (not a number) values, meaning  indicates not applicable or missing value. We have cleaned the dataset to include only the columns needed for analysis. The cleaned dataset has 3 columns, like the previous original table. "
   ]
  },
  {
   "cell_type": "code",
   "execution_count": null,
   "metadata": {},
   "outputs": [],
   "source": [
    "permanent_residence = permanent_residence.drop('Unnamed: 3', 'Unnamed: 4') # removes the specified column lablels\n",
    "permanent_residence"
   ]
  },
  {
   "cell_type": "markdown",
   "metadata": {},
   "source": [
    "### Columns and Rows"
   ]
  },
  {
   "cell_type": "markdown",
   "metadata": {},
   "source": [
    "Like the previous table we just explored (`birth_country`), there are a total of 3 columns in this table. This table is almost the same as the first one, except that the `total` column represents the total number of immigrants granted lawful permanent resident status or a green card to the U.S."
   ]
  },
  {
   "cell_type": "markdown",
   "metadata": {},
   "source": [
    "Here are some of the countries and regions represented in this table."
   ]
  },
  {
   "cell_type": "code",
   "execution_count": null,
   "metadata": {},
   "outputs": [],
   "source": [
    "#Run this cell to display the first 15 countries and regions in the table\n",
    "permanent_residence.group('country').show(15)"
   ]
  },
  {
   "cell_type": "markdown",
   "metadata": {},
   "source": [
    "Also like the previous table, each row in the table gives the total number of immigrants admitted during the specific fiscal year for a given country.\n",
    "\n",
    "For example, here is the first row in the table. It shows that in 1994 there were a total of 2474 permanent residence in Argentina who were granted lawful permanent residence."
   ]
  },
  {
   "cell_type": "code",
   "execution_count": null,
   "metadata": {},
   "outputs": [],
   "source": [
    "permanent_residence.take(0)"
   ]
  },
  {
   "cell_type": "markdown",
   "metadata": {},
   "source": [
    "Let's explore a subset of the data again with Mexico."
   ]
  },
  {
   "cell_type": "markdown",
   "metadata": {},
   "source": [
    "## Mexico: Persons Obtaining Lawful Permanent Resident (LPR) Status"
   ]
  },
  {
   "cell_type": "markdown",
   "metadata": {},
   "source": [
    "Once again, let's look at just the rows containing information on Mexico."
   ]
  },
  {
   "cell_type": "code",
   "execution_count": null,
   "metadata": {},
   "outputs": [],
   "source": [
    "mexico_residence = permanent_residence.where('country', 'Mexico') #Shows only the data for the country Mexico \n",
    "mexico_residence.show(24)"
   ]
  },
  {
   "cell_type": "markdown",
   "metadata": {},
   "source": [
    "### Visualizing the Data"
   ]
  },
  {
   "cell_type": "markdown",
   "metadata": {},
   "source": [
    "Here is a line plot of the number of immigrants who were granted lawful permanent residence from 1994-2017."
   ]
  },
  {
   "cell_type": "code",
   "execution_count": null,
   "metadata": {},
   "outputs": [],
   "source": [
    "mexico_residence.plot('fiscal_year', 'total') #generates the line plot with fiscal_year on the x-axis and total on the y-axis\n",
    "plt.title('Number of Immigrants Residing in Mexico Granted LPR Status')\n",
    "plt.show()"
   ]
  },
  {
   "cell_type": "markdown",
   "metadata": {},
   "source": [
    "This can be compared to the previously shown lineplot of the number of immigrants born in Mexico who were granted lawful permanent residence. \n",
    "\n",
    "Here is that previous lineplot shown from 1994-2017"
   ]
  },
  {
   "cell_type": "code",
   "execution_count": null,
   "metadata": {},
   "outputs": [],
   "source": [
    "mexico.plot('fiscal_year', 'total') #generates the line plot with fiscal_year on the x-axis and total on the y-axis\n",
    "plt.title('Number of Immigrants Born in Mexico Granted LPR Status') #titles the plot\n",
    "plt.xlim(1994, 2017) #Shows the plot from x = 1994 to 2017\n",
    "plt.ylim(0, 300000) #Shows the plot from y = 0 to 300000\n",
    "plt.show()"
   ]
  },
  {
   "cell_type": "markdown",
   "metadata": {},
   "source": [
    "# Table 3 <a id='4'></a>"
   ]
  },
  {
   "cell_type": "markdown",
   "metadata": {},
   "source": [
    "The final table we will explore provides information on the type of admission (class) immigrants granted lawful permanent residence received. The Department of Homeland Security describes the Immigrant Classes of Admissions, below:\n",
    "\n",
    "> \"A lawful permanent resident (LPR) or “green card” recipient may live and work anywhere in the United States and may apply to become U.S. citizens if they meet certain eligibility and admissibility requirements. The Immigration and Nationality Act (INA) provides several broad classes of admission for foreign nationals to gain LPR status, the largest of which focuses on admitting immigrants for the purpose of family reunification. Other major categories include economic and humanitarian immigrants, as well as immigrants from countries with relatively low levels of immigration to the United States.\" ([U.S. Department of Homeland Security](https://www.dhs.gov/immigration-statistics/lawful-permanent-residents/ImmigrantCOA))\n",
    "\n",
    "Here are the first 5 rows of the table. There are 20907 rows and 4 columns."
   ]
  },
  {
   "cell_type": "code",
   "execution_count": null,
   "metadata": {},
   "outputs": [],
   "source": [
    "class_admission = Table.read_table('immigrants-class-perm.csv') # read in the dataset\n",
    "class_admission.show(5)"
   ]
  },
  {
   "cell_type": "markdown",
   "metadata": {},
   "source": [
    "### Column"
   ]
  },
  {
   "cell_type": "markdown",
   "metadata": {},
   "source": [
    "There is an additional column in this table: `type`. The `type` refers to the class immigrants were admitted with to be granted lawful permanent residence. There are a total of 9 types or classes in the table."
   ]
  },
  {
   "cell_type": "code",
   "execution_count": null,
   "metadata": {},
   "outputs": [],
   "source": [
    "# Run this cell to display all of the \"types\" of classes in the table, sorted by the type with the most occurences \n",
    "types = class_admission.group('type').sort('count', descending = True) \n",
    "types"
   ]
  },
  {
   "cell_type": "markdown",
   "metadata": {},
   "source": [
    "### Discussion 2"
   ]
  },
  {
   "cell_type": "markdown",
   "metadata": {},
   "source": [
    "With a partner, choose two types that you are unsure about. Each partner should look up one of the types [here](https://www.dhs.gov/immigration-statistics/lawful-permanent-residents/ImmigrantCOA). Then briefly discuss what the types mean.\n",
    "\n",
    "**Cancellation of removal, IRCA legalization, and Suspension of Deportation not in the link? May need to just state for them instead of having them do a discussion**"
   ]
  },
  {
   "cell_type": "markdown",
   "metadata": {},
   "source": [
    "### Row"
   ]
  },
  {
   "cell_type": "markdown",
   "metadata": {},
   "source": [
    "Finally, each *row* in the table gives the total number of immigrants admitted under the stated class for a given country in a particular year. \n",
    "\n",
    "For example, here is the first row of the dataset. This row shows that there were 6 immigrants who were granted lawful permanent residence from Afghanistan in 1999 for the \"Cancelation of Removal\" class. "
   ]
  },
  {
   "cell_type": "code",
   "execution_count": null,
   "metadata": {},
   "outputs": [],
   "source": [
    "class_admission.take(0) #takes the first row of the table"
   ]
  },
  {
   "cell_type": "markdown",
   "metadata": {},
   "source": [
    "Let's take a look at the data for Mexico again with this Class of Admission table."
   ]
  },
  {
   "cell_type": "markdown",
   "metadata": {},
   "source": [
    "## Mexico: Class by Admission"
   ]
  },
  {
   "cell_type": "markdown",
   "metadata": {},
   "source": [
    "Once again, we will take a subset of the data from the overall Class by Admission table.\n",
    "\n",
    "Run the cell below to see the subset of data of Mexico. The subset of data for Mexico shows data from 1997-2017."
   ]
  },
  {
   "cell_type": "code",
   "execution_count": null,
   "metadata": {},
   "outputs": [],
   "source": [
    "#Shows only data for the Class Admission of Mexico\n",
    "mexico_class = class_admission.where('country', 'Mexico')\n",
    "mexico_class.show(5)"
   ]
  },
  {
   "cell_type": "markdown",
   "metadata": {},
   "source": [
    "Run the cell below to see which type has the highest total of immigrants across the years 1997-2017."
   ]
  },
  {
   "cell_type": "code",
   "execution_count": null,
   "metadata": {},
   "outputs": [],
   "source": [
    "#Shows the total number of immigrants admitted under each group across the years in the table\n",
    "#First groups the types from Mexico, summing all of the remaining columns\n",
    "#Drops the columns that cannot be summed, like country and fiscal_year\n",
    "#Sorts the types by total sum\n",
    "mexico_class.group('type', sum).drop(1,2).sort('total sum', descending = True)"
   ]
  },
  {
   "cell_type": "markdown",
   "metadata": {},
   "source": [
    "### Visualize the Data"
   ]
  },
  {
   "cell_type": "markdown",
   "metadata": {},
   "source": [
    "Let's plot the total number of immigrants for the top three types: Immediate relatives of U.S. citizens, Family-sponsored references, and Employment-based preferences. To do this we will use the `where` function in order to get a subset of the data on Mexico for only one particular type.\n",
    "\n",
    "Run the cell below to extract the three subsets of data. The subset of data for Employment-based preferences should display for you."
   ]
  },
  {
   "cell_type": "code",
   "execution_count": null,
   "metadata": {},
   "outputs": [],
   "source": [
    "immediate = mexico_class.where('type', 'Immediate relatives of U.S. citizens') # all of the data on Mexico with the given type\n",
    "family = mexico_class.where('type', 'Family-sponsored preferences') # all of the data on Mexico with the given type\n",
    "employment = mexico_class.where('type', 'Employment-based preferences') # all of the data on Mexico with the given type\n",
    "employment.show(5)"
   ]
  },
  {
   "cell_type": "markdown",
   "metadata": {},
   "source": [
    "Next we will combine the three subsets of data. \n",
    "\n"
   ]
  },
  {
   "cell_type": "code",
   "execution_count": null,
   "metadata": {},
   "outputs": [],
   "source": [
    "grouped = immediate.join('fiscal_year', family).join('fiscal_year', employment) #combines our three separate subsets of data\n",
    "grouped = grouped.drop('country', 'country_2', 'country_3', 'country_4', 'type', 'type_2', 'type_3') #removes unwanted columns from our table\n",
    "grouped.relabel('total', 'Immediate relatives of U.S. citizens').relabel('total_2', 'Family-sponsored preferences').relabel('total_3', 'Employment-based preferences')\n",
    "grouped.show(21)"
   ]
  },
  {
   "cell_type": "markdown",
   "metadata": {},
   "source": [
    "Now we can visualize our combined subsetes of data. Here is a line plot of the number of immigrants granted a green card, separated by class admission"
   ]
  },
  {
   "cell_type": "code",
   "execution_count": null,
   "metadata": {},
   "outputs": [],
   "source": [
    "grouped.plot('fiscal_year') #generates the line plot with fiscal_year on the x-axis and total on the y-axis\n",
    "plt.title('Immigrants Admitted From Mexico by Top 3 Classes') #titles the plot\n",
    "plt.ylabel(\"Number of Immigrants\")\n",
    "plt.show()"
   ]
  },
  {
   "cell_type": "markdown",
   "metadata": {},
   "source": [
    "Here are the separate plots for each class, which may make it easier for you to observe trends. *Please note the differences on the y-axis for each individual plot*.\n",
    "\n",
    "**Cut these out and just show the table and combined visualization?**"
   ]
  },
  {
   "cell_type": "markdown",
   "metadata": {},
   "source": [
    "### Discussion 3"
   ]
  },
  {
   "cell_type": "markdown",
   "metadata": {},
   "source": [
    "What trends in the plots and/or table surprised you, if anything? Why might certain trends be occurring during specific time frames for different class admissions?"
   ]
  },
  {
   "cell_type": "markdown",
   "metadata": {},
   "source": [
    "## Exploration of Central American Countries and Mexico"
   ]
  },
  {
   "cell_type": "markdown",
   "metadata": {},
   "source": [
    "Finally we will look at the number of immigrants admitted under the \"Refugees and asylees\" class for Mexico, Honduras, Venezuela, and Colombia."
   ]
  },
  {
   "cell_type": "code",
   "execution_count": null,
   "metadata": {},
   "outputs": [],
   "source": [
    "mexico_refugee = class_admission.where('country', 'Mexico').where('type', 'Refugees and asylees').drop(0, 1) \n",
    "#Gets the subset of data for a specific country and only the ones with type \"Refugees and asylees\"\n",
    "mexico_refugee.relabel('total', 'Mexico total') #Relabels the column \n",
    "\n",
    "honduras_refugee = class_admission.where('country', 'Honduras').where('type', 'Refugees and asylees').drop(0, 1)\n",
    "#Gets the subset of data for a specific country and only the ones with type \"Refugees and asylees\"\n",
    "honduras_refugee.relabel('total', 'Honduras total') #Relabels the column \n",
    "\n",
    "venezuela_refugee = class_admission.where('country', 'Venezuela').where('type', 'Refugees and asylees').drop(0, 1)\n",
    "#Gets the subset of data for a specific country and only the ones with type \"Refugees and asylees\"\n",
    "venezuela_refugee.relabel('total', 'Venezuela total') #Relabels the column \n",
    "\n",
    "colombia_refugee = class_admission.where('country', 'Colombia').where('type', 'Refugees and asylees').drop(0, 1)\n",
    "#Gets the subset of data for a specific country and only the ones with type \"Refugees and asylees\"\n",
    "colombia_refugee.relabel('total', 'Colombia total') #Relabels the column \n",
    "colombia_refugee.show(5)"
   ]
  },
  {
   "cell_type": "markdown",
   "metadata": {},
   "source": [
    "The final table for the subset of data for Columbia is displayed above.\n",
    "\n",
    "Let's combine all the data for each country into one table to make it easier to compare the values across countries."
   ]
  },
  {
   "cell_type": "code",
   "execution_count": null,
   "metadata": {},
   "outputs": [],
   "source": [
    "latin_refugees = honduras_refugee.join('fiscal_year', venezuela_refugee).join(\n",
    "    'fiscal_year', colombia_refugee).join('fiscal_year', mexico_refugee)\n",
    "latin_refugees.show(5)"
   ]
  },
  {
   "cell_type": "markdown",
   "metadata": {},
   "source": [
    "Finally, we can create the line plot of the total number of immigrants admitted under the \"Refugees and Asylees\" class from 1994-2017 by country."
   ]
  },
  {
   "cell_type": "code",
   "execution_count": null,
   "metadata": {},
   "outputs": [],
   "source": [
    "latin_refugees.plot('fiscal_year')\n",
    "plt.title('Immigrants Admitted by Refugees and Asylees Class by Country')\n",
    "plt.ylabel(\"Number of Immigrants\")\n",
    "plt.show()"
   ]
  },
  {
   "cell_type": "markdown",
   "metadata": {},
   "source": [
    "Here is a closer view of the plot above."
   ]
  },
  {
   "cell_type": "code",
   "execution_count": null,
   "metadata": {},
   "outputs": [],
   "source": [
    "latin_refugees.plot('fiscal_year') #generates the line plot with fiscal_year on the x-axis and total on the y-axis\n",
    "plt.title('Immigrants Admitted by Refugees and Asylees Class by Country') # Titles the plot\n",
    "plt.ylim(0, 2700) #Shows the plot from y= 0 to 2700\n",
    "plt.show()"
   ]
  },
  {
   "cell_type": "markdown",
   "metadata": {},
   "source": [
    "# Data Science Opportunities at UC Berkeley\n",
    "If you are interested in data science, we offer several courses and even a major / minor here at UC Berkeley. Some great courses to start out are Data 8 and some 2 unit connector courses like LEGALST 88 and CogSci 88. For the full list of courses we offer, click [here](https://data.berkeley.edu/academics/undergraduate-programs/data-science-offerings)"
   ]
  },
  {
   "cell_type": "markdown",
   "metadata": {},
   "source": [
    "# Bibliography\n",
    "1. https://www.dhs.gov/immigration-statistics/yearbook/2017/table21"
   ]
  }
 ],
 "metadata": {
  "kernelspec": {
   "display_name": "Python 3",
   "language": "python",
   "name": "python3"
  },
  "language_info": {
   "codemirror_mode": {
    "name": "ipython",
    "version": 3
   },
   "file_extension": ".py",
   "mimetype": "text/x-python",
   "name": "python",
   "nbconvert_exporter": "python",
   "pygments_lexer": "ipython3",
   "version": "3.5.6"
  }
 },
 "nbformat": 4,
 "nbformat_minor": 2
}
