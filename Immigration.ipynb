{
 "cells": [
  {
   "cell_type": "markdown",
   "metadata": {},
   "source": [
    "# [POLSCI-5] Immigration\n",
    "\n",
    "Estimated Time: 30-40 minutes <br>\n",
    "Created by: Lauren Hom, Ravi Singhal \n",
    "\n",
    "Today we will be examining three data sets on immigration to the United States, where these datasets were created from data collected by the United States Department of Homeland Security... **TO DO**  \n",
    "\n",
    "### Table of Contents \n",
    "0 - [Jupyter Introduction ](#0) <br>\n",
    "1 - [The Dataset](#1)<br>\n",
    "2 - [Immigration by Region and Country](#2)<br>\n",
    "3 - [Immigration by Class and Permanent Residence](#3)<br>\n",
    "4 - [Immigration by Last Permanent Residence](#4)<br>\n",
    "5 - [Discussion](#5)<br>\n",
    "6 - [Bibliography](#6)"
   ]
  },
  {
   "cell_type": "markdown",
   "metadata": {},
   "source": [
    "# Jupyter Introduction <a id='0'></a>"
   ]
  },
  {
   "cell_type": "markdown",
   "metadata": {},
   "source": [
    "This webpage is a Jupyter notebook. We have created this specific notebook so that you can run code that we wrote in order to perform data analysis and answer questions. Cells are the boxes of text that all you to populate the notebook with code or text. To edit a cell, double click it. In order to run a cell, click the cell and press `Shift + Enter` while the cell is selected or hit the `▶| Run` button in the toolbar at the top.  An example of a code cell is below. Try running it. If everything works properly, the word \"Success\" should be printed under the cell."
   ]
  },
  {
   "cell_type": "code",
   "execution_count": 1,
   "metadata": {},
   "outputs": [
    {
     "name": "stdout",
     "output_type": "stream",
     "text": [
      "Success!\n"
     ]
    }
   ],
   "source": [
    "# This cell sets up the notebook. Just run this cell.\n",
    "from datascience import *\n",
    "import numpy as np\n",
    "\n",
    "%matplotlib inline\n",
    "import matplotlib.pyplot as plt\n",
    "plt.style.use('fivethirtyeight')\n",
    "\n",
    "print(\"Success!\")"
   ]
  },
  {
   "cell_type": "markdown",
   "metadata": {},
   "source": [
    "# The Dataset <a id='1'></a>"
   ]
  },
  {
   "cell_type": "markdown",
   "metadata": {},
   "source": [
    "The three datasets contain information about immigration to the United States. Here is a description of the data as stated on the United States Department of Homeland Security:\n",
    "\n",
    "> \"The 2017 Yearbook of Immigration Statistics is a compendium of tables that provide data on foreign nationals who are granted lawful permanent residence (i.e., immigrants who receive a “green card”), admitted as temporary nonimmigrants, granted asylum or refugee status, or are naturalized. The Yearbook also presents data on immigration enforcement actions, including apprehensions and arrests, removals, and returns\"\n",
    "\n",
    "The three datasets we will be looking at contain data on:\n",
    "- Foreign nationals admitted as temporary nonimmigrants\n",
    "- Foreign nationals granted lawful permanent residence (i.e., immigrants who receive a “green card”) \n",
    "- Immigration enforcement actions \n",
    "\n",
    "<br>If you want to read more about the dataset, click [here](https://www.dhs.gov/immigration-statistics/yearbook/2017)."
   ]
  },
  {
   "cell_type": "markdown",
   "metadata": {},
   "source": [
    "# Immigration by Region and Country Dataset <a id='2'></a>"
   ]
  },
  {
   "cell_type": "markdown",
   "metadata": {},
   "source": [
    "Here are the first 5 rows of the dataset. You can scroll horizontally when hovering over the table to see the whole data set. There are 2741 rows and 33 columns"
   ]
  }
 ],
 "metadata": {
  "kernelspec": {
   "display_name": "Python 3",
   "language": "python",
   "name": "python3"
  },
  "language_info": {
   "codemirror_mode": {
    "name": "ipython",
    "version": 3
   },
   "file_extension": ".py",
   "mimetype": "text/x-python",
   "name": "python",
   "nbconvert_exporter": "python",
   "pygments_lexer": "ipython3",
   "version": "3.6.8"
  }
 },
 "nbformat": 4,
 "nbformat_minor": 2
}
