{
 "cells": [
  {
   "cell_type": "markdown",
   "metadata": {},
   "source": [
    "# Civil Conflicts\n",
    "<br>\n",
    "\n",
    "**Estimated Time:** 30-40 Minutes. <br>\n",
    "**Databook created by:** Lauren Hom and Ravi Singhal in collaboration with Professor Aila Matanock and Head GSI Alex Stephenson for Political Science 5: Introduction to International Relations\n",
    "\n",
    "\n",
    "Today we will be examining a dataset (i.e. a table) on civil conflicts around the world from 1946-2013. The data, which contains information on various types of conflicts, comes from the Uppsala Conflict Data Program (UCDP). We will be exploring what rows and columns represent in the UCDP Conflict Temination Dataset v.2-2015 (Kreutz 2010), as well as analyzing some trends in conflict and its termination over time.\n",
    "\n",
    "\n",
    "### Table of Contents \n",
    "1. [Jupyter Introduction](#0) <br>\n",
    "1. [The Dataset](#1)<br>\n",
    "    2.1 [Rows](#1a)<br>\n",
    "    2.2 [Columns](#1b)<br>\n",
    "1. [Civil Conflict Analysis](#2)<br>\n",
    "    3.1 [Civil Conflicts Over Time](#2a)<br>\n",
    "    3.2 [Intensity Level](#2b)<br>\n",
    "    3.3 [Outcome](#2c)<br>\n",
    "1. [Choose a Conflict](#3)\n",
    "1. [Homework](#4)<br>\n",
    "1. [Data Science Opportunities at UC Berkeley](#5)<br>\n",
    "1. [Bibliography](#6)"
   ]
  },
  {
   "cell_type": "markdown",
   "metadata": {},
   "source": [
    "# 1. Jupyter Introduction <a id='0'></a>\n",
    "\n",
    "This webpage is a Jupyter Notebook. We will use this notebook to analyze the Uppsala Conflict Data Program's (UCDP) Conflict Termination Dataset v.2-2015 (Kreutz 2010). Jupyter Notebooks are composed of both regvular text and code cells. Code cells have a gray background. In order to run a code cell, click the cell and press `Shift + Enter` while the cell is selected or hit the `▶| Run` button in the toolbar at the top. An example of a code cell is below. You can also save your work using the button on the top left hand corner.\n",
    "\n",
    "This code cell imports packages and methods that will be utilized throughout for analysis (e.g. creating graphs, widgets, etc.). Try running it. If everything works properly, the word \"Success\" should be printed under the cell."
   ]
  },
  {
   "cell_type": "code",
   "execution_count": 27,
   "metadata": {},
   "outputs": [
    {
     "name": "stdout",
     "output_type": "stream",
     "text": [
      "Success!\n"
     ]
    }
   ],
   "source": [
    "# This cell sets up the notebook. Just run this cell.\n",
    "from datascience import *\n",
    "import numpy as np\n",
    "from ipywidgets import interact, interactive, fixed, interact_manual\n",
    "import ipywidgets as widgets\n",
    "%matplotlib inline\n",
    "import matplotlib.pyplot as plt\n",
    "plt.style.use('fivethirtyeight')\n",
    "\n",
    "print(\"Success!\")"
   ]
  },
  {
   "cell_type": "markdown",
   "metadata": {},
   "source": [
    "<br><br><br><br><br><br><br><br><br>\n",
    "# 2. The Dataset <a id='1'></a>\n",
    "\n",
    "The UCDP Conflict Termination Dataset v.2-2015 (Kreutz 2010) contains information about conflicts around world from 1946-2013. A **dataset** is a table with rows and columns that contain values. The dataa in this set are part of a larger collection project by UCPD, and it uses common definitions for armed conflicts, and this particular dataset focuses on their termination:\n",
    "\n",
    "> \"Armed conflict is defined by Uppsala Conflict Data Program (UCDP) \\[as\\] a contested incompatibility that concerns government and/or territory where the use of armed force between two parties, of which at least one is the government of a state, results in at least 25 battle-related deaths in a calender-year.\"\n",
    "\n",
    "> \"A conflict episode, thus, is defined as the a \\[sic] continuous period of active conflict years in the UCDP-PRIO armed conflict dataset. A conflict episode ends when an active year is followed by a year in which there are fewer than 25 battle-related deaths.\"\n",
    "\n",
    "\n",
    "<br>If you want to read more about the UCDP data, click [here](https://www.pcr.uu.se/research/ucdp/).\n",
    "\n",
    "<br>Here are the first 5 rows of the data-set. You can scroll horizontally when hovering over the table to see the whole data set."
   ]
  },
  {
   "cell_type": "code",
   "execution_count": 28,
   "metadata": {},
   "outputs": [
    {
     "data": {
      "text/html": [
       "<table border=\"1\" class=\"dataframe\">\n",
       "    <thead>\n",
       "        <tr>\n",
       "            <th>ConflictId</th> <th>DyadId</th> <th>DyadEp</th> <th>Year</th> <th>Location</th> <th>SideA</th> <th>SideA2nd</th> <th>SideB</th> <th>SideBID</th> <th>SideB2nd</th> <th>Incompatibility</th> <th>TerritoryName</th> <th>IntensityLevel</th> <th>TypeOfConflict</th> <th>Type2</th> <th>StartDate</th> <th>StartPrec</th> <th>StartDate2</th> <th>StartPrec2</th> <th>Dyadterm</th> <th>EpEndDate</th> <th>EpEndPrec</th> <th>Outcome_early</th> <th>Outcome</th> <th>CfireDate</th> <th>PeAgDate</th> <th>GWNoA</th> <th>GWNoA2nd</th> <th>GWNoB</th> <th>GWNoB2nd</th> <th>GWNoLoc</th> <th>Region</th> <th>Version</th>\n",
       "        </tr>\n",
       "    </thead>\n",
       "    <tbody>\n",
       "        <tr>\n",
       "            <td>1-191     </td> <td>1     </td> <td>101   </td> <td>1992</td> <td>Algeria </td> <td>Government of Algeria</td> <td>nan     </td> <td>AIS  </td> <td>1389   </td> <td>nan     </td> <td>2              </td> <td>nan          </td> <td>1             </td> <td>3             </td> <td>3    </td> <td>1985-08-27</td> <td>1        </td> <td>1992-03-10</td> <td>5         </td> <td>0       </td> <td>nan      </td> <td>nan      </td> <td>nan          </td> <td>nan    </td> <td>nan      </td> <td>nan     </td> <td>615  </td> <td>nan     </td> <td>nan  </td> <td>nan     </td> <td>615    </td> <td>4     </td> <td>2.0-2015</td>\n",
       "        </tr>\n",
       "        <tr>\n",
       "            <td>1-191     </td> <td>1     </td> <td>101   </td> <td>1993</td> <td>Algeria </td> <td>Government of Algeria</td> <td>nan     </td> <td>AIS  </td> <td>1389   </td> <td>nan     </td> <td>2              </td> <td>nan          </td> <td>1             </td> <td>3             </td> <td>3    </td> <td>1985-08-27</td> <td>1        </td> <td>1992-03-10</td> <td>5         </td> <td>0       </td> <td>nan      </td> <td>nan      </td> <td>nan          </td> <td>nan    </td> <td>nan      </td> <td>nan     </td> <td>615  </td> <td>nan     </td> <td>nan  </td> <td>nan     </td> <td>615    </td> <td>4     </td> <td>2.0-2015</td>\n",
       "        </tr>\n",
       "        <tr>\n",
       "            <td>1-191     </td> <td>1     </td> <td>101   </td> <td>1994</td> <td>Algeria </td> <td>Government of Algeria</td> <td>nan     </td> <td>AIS  </td> <td>1389   </td> <td>nan     </td> <td>2              </td> <td>nan          </td> <td>2             </td> <td>3             </td> <td>3    </td> <td>1985-08-27</td> <td>1        </td> <td>1992-03-10</td> <td>5         </td> <td>0       </td> <td>nan      </td> <td>nan      </td> <td>nan          </td> <td>nan    </td> <td>nan      </td> <td>nan     </td> <td>615  </td> <td>nan     </td> <td>nan  </td> <td>nan     </td> <td>615    </td> <td>4     </td> <td>2.0-2015</td>\n",
       "        </tr>\n",
       "        <tr>\n",
       "            <td>1-191     </td> <td>1     </td> <td>101   </td> <td>1995</td> <td>Algeria </td> <td>Government of Algeria</td> <td>nan     </td> <td>AIS  </td> <td>1389   </td> <td>nan     </td> <td>2              </td> <td>nan          </td> <td>1             </td> <td>3             </td> <td>3    </td> <td>1985-08-27</td> <td>1        </td> <td>1992-03-10</td> <td>5         </td> <td>0       </td> <td>nan      </td> <td>nan      </td> <td>nan          </td> <td>nan    </td> <td>nan      </td> <td>nan     </td> <td>615  </td> <td>nan     </td> <td>nan  </td> <td>nan     </td> <td>615    </td> <td>4     </td> <td>2.0-2015</td>\n",
       "        </tr>\n",
       "        <tr>\n",
       "            <td>1-191     </td> <td>1     </td> <td>101   </td> <td>1996</td> <td>Algeria </td> <td>Government of Algeria</td> <td>nan     </td> <td>AIS  </td> <td>1389   </td> <td>nan     </td> <td>2              </td> <td>nan          </td> <td>1             </td> <td>3             </td> <td>3    </td> <td>1985-08-27</td> <td>1        </td> <td>1992-03-10</td> <td>5         </td> <td>0       </td> <td>nan      </td> <td>nan      </td> <td>nan          </td> <td>nan    </td> <td>nan      </td> <td>nan     </td> <td>615  </td> <td>nan     </td> <td>nan  </td> <td>nan     </td> <td>615    </td> <td>4     </td> <td>2.0-2015</td>\n",
       "        </tr>\n",
       "    </tbody>\n",
       "</table>\n",
       "<p>... (2736 rows omitted)</p>"
      ],
      "text/plain": [
       "<IPython.core.display.HTML object>"
      ]
     },
     "metadata": {},
     "output_type": "display_data"
    }
   ],
   "source": [
    "raw = Table.read_table('ucdp-term-dyadic-2015.csv') # read in the dataset\n",
    "raw.show(5)"
   ]
  },
  {
   "cell_type": "markdown",
   "metadata": {},
   "source": [
    "As you can see, this is a large dataset. We have cleaned the dataset by removing some conflicts that were not civil conflicts, removing some features of these conflicts (removing some columns), and making the description of the features (the labels) more readable. The cleaned dataset has 12 columns."
   ]
  },
  {
   "cell_type": "code",
   "execution_count": 29,
   "metadata": {},
   "outputs": [
    {
     "data": {
      "text/html": [
       "<table border=\"1\" class=\"dataframe\">\n",
       "    <thead>\n",
       "        <tr>\n",
       "            <th>ConflictId</th> <th>DyadId</th> <th>Location</th> <th>SideA</th> <th>SideB</th> <th>DisagreementOver</th> <th>IntensityLevel</th> <th>TypeOfConflict</th> <th>StartDate</th> <th>EndDate</th> <th>Outcome</th> <th>Region</th>\n",
       "        </tr>\n",
       "    </thead>\n",
       "    <tbody>\n",
       "        <tr>\n",
       "            <td>1-191     </td> <td>1     </td> <td>Algeria </td> <td>Government of Algeria</td> <td>AIS              </td> <td>Government      </td> <td>Minor (between 25 and 999 battle-related deaths)</td> <td>Internal armed conflict</td> <td>08/27/1985</td> <td>10/01/1997</td> <td>Ceasefire                                </td> <td>Africa</td>\n",
       "        </tr>\n",
       "        <tr>\n",
       "            <td>1-191     </td> <td>2     </td> <td>Algeria </td> <td>Government of Algeria</td> <td>Takfir wa'l Hijra</td> <td>Government      </td> <td>Minor (between 25 and 999 battle-related deaths)</td> <td>Internal armed conflict</td> <td>12/20/1990</td> <td>12/31/1991</td> <td>Actor ceases to exist                    </td> <td>Africa</td>\n",
       "        </tr>\n",
       "        <tr>\n",
       "            <td>1-191     </td> <td>3     </td> <td>Algeria </td> <td>Government of Algeria</td> <td>GIA              </td> <td>Government      </td> <td>Minor (between 25 and 999 battle-related deaths)</td> <td>Internal armed conflict</td> <td>02/10/1992</td> <td>12/31/2003</td> <td>Low activity (less than 25 battle-deaths)</td> <td>Africa</td>\n",
       "        </tr>\n",
       "        <tr>\n",
       "            <td>1-131     </td> <td>7     </td> <td>Angola  </td> <td>Government of Angola </td> <td>UNITA            </td> <td>Government      </td> <td>Minor (between 25 and 999 battle-related deaths)</td> <td>Internal armed conflict</td> <td>11/11/1975</td> <td>12/24/1995</td> <td>Low activity (less than 25 battle-deaths)</td> <td>Africa</td>\n",
       "        </tr>\n",
       "        <tr>\n",
       "            <td>1-90      </td> <td>11    </td> <td>Burundi </td> <td>Government of Burundi</td> <td>Palipehutu       </td> <td>Government      </td> <td>Minor (between 25 and 999 battle-related deaths)</td> <td>Internal armed conflict</td> <td>11/23/1991</td> <td>04/14/1992</td> <td>Low activity (less than 25 battle-deaths)</td> <td>Africa</td>\n",
       "        </tr>\n",
       "    </tbody>\n",
       "</table>\n",
       "<p>... (398 rows omitted)</p>"
      ],
      "text/plain": [
       "<IPython.core.display.HTML object>"
      ]
     },
     "metadata": {},
     "output_type": "display_data"
    }
   ],
   "source": [
    "wars = Table.read_table('oneWar.csv') # read in the dataset\n",
    "wars.show(5)"
   ]
  },
  {
   "cell_type": "markdown",
   "metadata": {},
   "source": [
    "Note that both the number of **columns** and the number of **rows** have changed. Run the cell below to compare the number of rows from the original dataset to the cleaned dataset."
   ]
  },
  {
   "cell_type": "code",
   "execution_count": 30,
   "metadata": {},
   "outputs": [
    {
     "name": "stdout",
     "output_type": "stream",
     "text": [
      "The original dataset had 2741 rows. \n",
      "After removing some rows that are not civil conflicts, the dataset has 403 rows left.\n"
     ]
    }
   ],
   "source": [
    "print(\"The original dataset had {} rows. \\n\\\n",
    "After removing some rows that are not civil conflicts, the dataset has {} rows left.\".format(raw.num_rows, wars.num_rows))"
   ]
  },
  {
   "cell_type": "markdown",
   "metadata": {},
   "source": [
    "Let's take a closer look at the cleaned dataset."
   ]
  },
  {
   "cell_type": "markdown",
   "metadata": {},
   "source": [
    "<br><br><br><br><br><br><br>\n",
    "## 2.1 Rows <a id='1a'></a>\n"
   ]
  },
  {
   "cell_type": "markdown",
   "metadata": {},
   "source": [
    "First, let's examine what a *row* is. Here is the first row of the dataset."
   ]
  },
  {
   "cell_type": "code",
   "execution_count": 31,
   "metadata": {},
   "outputs": [
    {
     "data": {
      "text/html": [
       "<table border=\"1\" class=\"dataframe\">\n",
       "    <thead>\n",
       "        <tr>\n",
       "            <th>ConflictId</th> <th>DyadId</th> <th>Location</th> <th>SideA</th> <th>SideB</th> <th>DisagreementOver</th> <th>IntensityLevel</th> <th>TypeOfConflict</th> <th>StartDate</th> <th>EndDate</th> <th>Outcome</th> <th>Region</th>\n",
       "        </tr>\n",
       "    </thead>\n",
       "    <tbody>\n",
       "        <tr>\n",
       "            <td>1-191     </td> <td>1     </td> <td>Algeria </td> <td>Government of Algeria</td> <td>AIS  </td> <td>Government      </td> <td>Minor (between 25 and 999 battle-related deaths)</td> <td>Internal armed conflict</td> <td>08/27/1985</td> <td>10/01/1997</td> <td>Ceasefire</td> <td>Africa</td>\n",
       "        </tr>\n",
       "    </tbody>\n",
       "</table>"
      ],
      "text/plain": [
       "ConflictId | DyadId | Location | SideA                 | SideB | DisagreementOver | IntensityLevel                                   | TypeOfConflict          | StartDate  | EndDate    | Outcome   | Region\n",
       "1-191      | 1      | Algeria  | Government of Algeria | AIS   | Government       | Minor (between 25 and 999 battle-related deaths) | Internal armed conflict | 08/27/1985 | 10/01/1997 | Ceasefire | Africa"
      ]
     },
     "execution_count": 31,
     "metadata": {},
     "output_type": "execute_result"
    }
   ],
   "source": [
    "wars.take(0) # take the first row"
   ]
  },
  {
   "cell_type": "markdown",
   "metadata": {},
   "source": [
    "This row gives us information about a specific conflict that happened in Algeria from 1985-1997. One thing to note is that the `IntensityLevel` of the conflict is Minor. As described in the `IntensityLevel` column, Minor indicates a conflict where there were between 25-999 battle-related deaths."
   ]
  },
  {
   "cell_type": "code",
   "execution_count": 32,
   "metadata": {},
   "outputs": [
    {
     "data": {
      "text/html": [
       "<table border=\"1\" class=\"dataframe\">\n",
       "    <thead>\n",
       "        <tr>\n",
       "            <th>ConflictId</th> <th>DyadId</th> <th>Location</th> <th>SideA</th> <th>SideB</th> <th>DisagreementOver</th> <th>IntensityLevel</th> <th>TypeOfConflict</th> <th>StartDate</th> <th>EndDate</th> <th>Outcome</th> <th>Region</th>\n",
       "        </tr>\n",
       "    </thead>\n",
       "    <tbody>\n",
       "        <tr>\n",
       "            <td>1-78      </td> <td>53    </td> <td>Ethiopia</td> <td>Government of Ethiopia</td> <td>EPLF </td> <td>Territory       </td> <td>War (at least 1000 battle-related deaths)</td> <td>Internal armed conflict</td> <td>09/30/1973</td> <td>05/31/1991</td> <td>Victory for Side B /Rebel Side</td> <td>Africa</td>\n",
       "        </tr>\n",
       "    </tbody>\n",
       "</table>"
      ],
      "text/plain": [
       "ConflictId | DyadId | Location | SideA                  | SideB | DisagreementOver | IntensityLevel                            | TypeOfConflict          | StartDate  | EndDate    | Outcome                        | Region\n",
       "1-78       | 53     | Ethiopia | Government of Ethiopia | EPLF  | Territory        | War (at least 1000 battle-related deaths) | Internal armed conflict | 09/30/1973 | 05/31/1991 | Victory for Side B /Rebel Side | Africa"
      ]
     },
     "execution_count": 32,
     "metadata": {},
     "output_type": "execute_result"
    }
   ],
   "source": [
    "wars.take(29) # take the 30th row"
   ]
  },
  {
   "cell_type": "markdown",
   "metadata": {},
   "source": [
    "In comparison, by looking at the 30th row of the dataset, we can see that this conflict in Ethiopia has an `IntensityLevel` of War, meaning there were at least 1000 battle-related deaths."
   ]
  },
  {
   "cell_type": "markdown",
   "metadata": {},
   "source": [
    "<br><br><br><br><br><br><br>\n",
    "## 2.2 Columns <a id='1b'></a>\n"
   ]
  },
  {
   "cell_type": "markdown",
   "metadata": {},
   "source": [
    "Next, we will look at some of the columns in the dataset that allow us to better understand the information we are seeing.\n",
    "\n",
    "### 2.2.1 Location\n",
    "To understand what a *column* is, let's look at a few examples. First, let's examine the `Location` column. According to the codebook for the dataset (Kreutz 2010),\n",
    "> \"Location is defined as the government side of a conflict, and should not be interpreted as the geographical location of the conflict.\"\n",
    "\n",
    "Here are the number of occurences of the 10 most common locations."
   ]
  },
  {
   "cell_type": "code",
   "execution_count": 33,
   "metadata": {},
   "outputs": [
    {
     "data": {
      "text/html": [
       "<table border=\"1\" class=\"dataframe\">\n",
       "    <thead>\n",
       "        <tr>\n",
       "            <th>Location</th> <th>count</th>\n",
       "        </tr>\n",
       "    </thead>\n",
       "    <tbody>\n",
       "        <tr>\n",
       "            <td>Myanmar (Burma)      </td> <td>37   </td>\n",
       "        </tr>\n",
       "        <tr>\n",
       "            <td>India                </td> <td>24   </td>\n",
       "        </tr>\n",
       "        <tr>\n",
       "            <td>Chad                 </td> <td>19   </td>\n",
       "        </tr>\n",
       "        <tr>\n",
       "            <td>Ethiopia             </td> <td>18   </td>\n",
       "        </tr>\n",
       "        <tr>\n",
       "            <td>Uganda               </td> <td>14   </td>\n",
       "        </tr>\n",
       "        <tr>\n",
       "            <td>Sudan                </td> <td>14   </td>\n",
       "        </tr>\n",
       "        <tr>\n",
       "            <td>Israel               </td> <td>13   </td>\n",
       "        </tr>\n",
       "        <tr>\n",
       "            <td>Russia (Soviet Union)</td> <td>10   </td>\n",
       "        </tr>\n",
       "        <tr>\n",
       "            <td>Philippines          </td> <td>9    </td>\n",
       "        </tr>\n",
       "        <tr>\n",
       "            <td>Iraq                 </td> <td>8    </td>\n",
       "        </tr>\n",
       "    </tbody>\n",
       "</table>\n",
       "<p>... (86 rows omitted)</p>"
      ],
      "text/plain": [
       "Location              | count\n",
       "Myanmar (Burma)       | 37\n",
       "India                 | 24\n",
       "Chad                  | 19\n",
       "Ethiopia              | 18\n",
       "Uganda                | 14\n",
       "Sudan                 | 14\n",
       "Israel                | 13\n",
       "Russia (Soviet Union) | 10\n",
       "Philippines           | 9\n",
       "Iraq                  | 8\n",
       "... (86 rows omitted)"
      ]
     },
     "execution_count": 33,
     "metadata": {},
     "output_type": "execute_result"
    }
   ],
   "source": [
    "locations = wars.group('Location').sort('count', descending=True) # group by location and sort in descending order\n",
    "locations"
   ]
  },
  {
   "cell_type": "markdown",
   "metadata": {},
   "source": [
    "### Discussion A\n",
    "\n",
    "Discuss with a partner and together write a couple of sentences in each of your forms on the following prompt: Are any of the locations listed here are surprising? Consider factors such as geographic size and population of the location. \n",
    "\n"
   ]
  },
  {
   "cell_type": "markdown",
   "metadata": {},
   "source": [
    "*WRITE YOUR RESPONSE HERE. [NOTE: TO CHANGE THE TEXT, DOUBLE CLICK ON THE PLACEHOLDER TEXT, AND WHEN YOU ARE FINISHED, RUN THE CELL TO SAVE YOUR CHANGES]*"
   ]
  },
  {
   "cell_type": "markdown",
   "metadata": {},
   "source": [
    "<br><br><br>\n",
    "### 2.2.2 Region\n",
    "Now let's look at the `Region` column. Again, first here are the conflicts in each region."
   ]
  },
  {
   "cell_type": "code",
   "execution_count": 34,
   "metadata": {},
   "outputs": [
    {
     "data": {
      "text/html": [
       "<table border=\"1\" class=\"dataframe\">\n",
       "    <thead>\n",
       "        <tr>\n",
       "            <th>Region</th> <th>count</th>\n",
       "        </tr>\n",
       "    </thead>\n",
       "    <tbody>\n",
       "        <tr>\n",
       "            <td>Africa     </td> <td>158  </td>\n",
       "        </tr>\n",
       "        <tr>\n",
       "            <td>Asia       </td> <td>121  </td>\n",
       "        </tr>\n",
       "        <tr>\n",
       "            <td>Americas   </td> <td>49   </td>\n",
       "        </tr>\n",
       "        <tr>\n",
       "            <td>Middle East</td> <td>42   </td>\n",
       "        </tr>\n",
       "        <tr>\n",
       "            <td>Europe     </td> <td>33   </td>\n",
       "        </tr>\n",
       "    </tbody>\n",
       "</table>"
      ],
      "text/plain": [
       "Region      | count\n",
       "Africa      | 158\n",
       "Asia        | 121\n",
       "Americas    | 49\n",
       "Middle East | 42\n",
       "Europe      | 33"
      ]
     },
     "execution_count": 34,
     "metadata": {},
     "output_type": "execute_result"
    }
   ],
   "source": [
    "regions = wars.group('Region').sort('count', descending=True) # count occurences of each region\n",
    "regions"
   ]
  },
  {
   "cell_type": "markdown",
   "metadata": {},
   "source": [
    "Above, we can see that Africa is the region coded as having the highest `count`, which means that Africa has the largest number of conflicts out of any region."
   ]
  },
  {
   "cell_type": "markdown",
   "metadata": {},
   "source": [
    "<br><br><br><br><br><br><br><br><br>\n",
    "# 3. Civil Conflict Analysis <a id='2'></a>\n",
    "In this section, we will do further analysis on civil conflict occurrences. Here is the original dataset again."
   ]
  },
  {
   "cell_type": "code",
   "execution_count": 35,
   "metadata": {},
   "outputs": [
    {
     "data": {
      "text/html": [
       "<table border=\"1\" class=\"dataframe\">\n",
       "    <thead>\n",
       "        <tr>\n",
       "            <th>ConflictId</th> <th>DyadId</th> <th>Location</th> <th>SideA</th> <th>SideB</th> <th>DisagreementOver</th> <th>IntensityLevel</th> <th>TypeOfConflict</th> <th>StartDate</th> <th>EndDate</th> <th>Outcome</th> <th>Region</th>\n",
       "        </tr>\n",
       "    </thead>\n",
       "    <tbody>\n",
       "        <tr>\n",
       "            <td>1-191     </td> <td>1     </td> <td>Algeria </td> <td>Government of Algeria</td> <td>AIS              </td> <td>Government      </td> <td>Minor (between 25 and 999 battle-related deaths)</td> <td>Internal armed conflict</td> <td>08/27/1985</td> <td>10/01/1997</td> <td>Ceasefire                                </td> <td>Africa</td>\n",
       "        </tr>\n",
       "        <tr>\n",
       "            <td>1-191     </td> <td>2     </td> <td>Algeria </td> <td>Government of Algeria</td> <td>Takfir wa'l Hijra</td> <td>Government      </td> <td>Minor (between 25 and 999 battle-related deaths)</td> <td>Internal armed conflict</td> <td>12/20/1990</td> <td>12/31/1991</td> <td>Actor ceases to exist                    </td> <td>Africa</td>\n",
       "        </tr>\n",
       "        <tr>\n",
       "            <td>1-191     </td> <td>3     </td> <td>Algeria </td> <td>Government of Algeria</td> <td>GIA              </td> <td>Government      </td> <td>Minor (between 25 and 999 battle-related deaths)</td> <td>Internal armed conflict</td> <td>02/10/1992</td> <td>12/31/2003</td> <td>Low activity (less than 25 battle-deaths)</td> <td>Africa</td>\n",
       "        </tr>\n",
       "        <tr>\n",
       "            <td>1-131     </td> <td>7     </td> <td>Angola  </td> <td>Government of Angola </td> <td>UNITA            </td> <td>Government      </td> <td>Minor (between 25 and 999 battle-related deaths)</td> <td>Internal armed conflict</td> <td>11/11/1975</td> <td>12/24/1995</td> <td>Low activity (less than 25 battle-deaths)</td> <td>Africa</td>\n",
       "        </tr>\n",
       "        <tr>\n",
       "            <td>1-90      </td> <td>11    </td> <td>Burundi </td> <td>Government of Burundi</td> <td>Palipehutu       </td> <td>Government      </td> <td>Minor (between 25 and 999 battle-related deaths)</td> <td>Internal armed conflict</td> <td>11/23/1991</td> <td>04/14/1992</td> <td>Low activity (less than 25 battle-deaths)</td> <td>Africa</td>\n",
       "        </tr>\n",
       "    </tbody>\n",
       "</table>\n",
       "<p>... (398 rows omitted)</p>"
      ],
      "text/plain": [
       "<IPython.core.display.HTML object>"
      ]
     },
     "metadata": {},
     "output_type": "display_data"
    }
   ],
   "source": [
    "wars.show(5)"
   ]
  },
  {
   "cell_type": "markdown",
   "metadata": {},
   "source": [
    "<br><br><br><br><br><br><br>\n",
    "## 3.1 Civil Conflicts Over Time <a id='2a'></a>\n",
    "\n",
    "Now, let's visualize how the number of civil conflicts varies over time. This line graph shows the number of civil conflicts in each year."
   ]
  },
  {
   "cell_type": "code",
   "execution_count": 36,
   "metadata": {},
   "outputs": [
    {
     "data": {
      "image/png": "[encoded data removed]",
      "text/plain": [
       "<Figure size 432x288 with 1 Axes>"
      ]
     },
     "metadata": {},
     "output_type": "display_data"
    }
   ],
   "source": [
    "war_years = Table.read_table('cleanedWars.csv') # read in the dataset\n",
    "war_years.set_format('Year', formats.FunctionFormatter(lambda x: x)) # fix format of year\n",
    "\n",
    "civil_trend = war_years.group('Year') # count number of civil conflicts per year\n",
    "\n",
    "civil_trend.plot('Year') # generate line graph\n",
    "plt.title(\"Number of Civil Conflicts over Time\") # title graph\n",
    "plt.show()"
   ]
  },
  {
   "cell_type": "markdown",
   "metadata": {},
   "source": [
    "### Discussion B <a id='3a'></a>\n",
    "\n",
    "Discuss with a partner and together write a couple of sentences in each of your forms on the following prompt: Notice the spike in the number of conflicts during the 1990s, and, related an increasing trend in the number of total civil conflicts between 1946 and 1990. Then, what events are occurring around, and how might these events influence the trends we observe in the graph (above)? For some information to consider, think back to Fearon and Laitin 2003."
   ]
  },
  {
   "cell_type": "markdown",
   "metadata": {},
   "source": [
    "*WRITE YOUR RESPONSE HERE. [NOTE: TO CHANGE THE TEXT, DOUBLE CLICK ON THE PLACEHOLDER TEXT, AND WHEN YOU ARE FINISHED, RUN THE CELL TO SAVE YOUR CHANGES]*"
   ]
  },
  {
   "cell_type": "markdown",
   "metadata": {},
   "source": [
    "<br><br><br><br><br><br><br>\n",
    "## 3.2 Intensity Level <a id='2b'></a>\n",
    "Let's take a closer look at the `IntensityLevel` column. \n",
    ">The intensity variable is coded in two categories (Kreutz 2010):\n",
    ">1. Minor: between 25 and 999 battle-related deaths in a given year.\n",
    ">2. War: at least 1,000 battle-related deaths in a given year.\n",
    "\n",
    "Here are the number of conflicts for each type of intensity level, which is represented in the `count` column."
   ]
  },
  {
   "cell_type": "code",
   "execution_count": 37,
   "metadata": {},
   "outputs": [
    {
     "data": {
      "text/html": [
       "<table border=\"1\" class=\"dataframe\">\n",
       "    <thead>\n",
       "        <tr>\n",
       "            <th>IntensityLevel</th> <th>count</th>\n",
       "        </tr>\n",
       "    </thead>\n",
       "    <tbody>\n",
       "        <tr>\n",
       "            <td>Minor (between 25 and 999 battle-related deaths)</td> <td>354  </td>\n",
       "        </tr>\n",
       "        <tr>\n",
       "            <td>War (at least 1000 battle-related deaths)       </td> <td>49   </td>\n",
       "        </tr>\n",
       "    </tbody>\n",
       "</table>"
      ],
      "text/plain": [
       "IntensityLevel                                   | count\n",
       "Minor (between 25 and 999 battle-related deaths) | 354\n",
       "War (at least 1000 battle-related deaths)        | 49"
      ]
     },
     "execution_count": 37,
     "metadata": {},
     "output_type": "execute_result"
    }
   ],
   "source": [
    "wars.group('IntensityLevel') # group by IntensityLevel"
   ]
  },
  {
   "cell_type": "markdown",
   "metadata": {},
   "source": [
    "As you can see above, there are more \"Minor\" conflicts (354 occurences) versus \"War\" conflicts (49 occurences)."
   ]
  },
  {
   "cell_type": "markdown",
   "metadata": {},
   "source": [
    "Each region now appears twice in the `Region` column: once for each type of intensity level. \n",
    "For example, in the first row, we can see that Africa had 143 \"Minor\" conflicts and, in the seventh row, we can see that Africa had 15 \"War\" conflicts. "
   ]
  },
  {
   "cell_type": "code",
   "execution_count": 38,
   "metadata": {},
   "outputs": [
    {
     "data": {
      "text/html": [
       "<table border=\"1\" class=\"dataframe\">\n",
       "    <thead>\n",
       "        <tr>\n",
       "            <th>Region</th> <th>IntensityLevel</th> <th>count</th>\n",
       "        </tr>\n",
       "    </thead>\n",
       "    <tbody>\n",
       "        <tr>\n",
       "            <td>Africa     </td> <td>Minor (between 25 and 999 battle-related deaths)</td> <td>143  </td>\n",
       "        </tr>\n",
       "        <tr>\n",
       "            <td>Asia       </td> <td>Minor (between 25 and 999 battle-related deaths)</td> <td>106  </td>\n",
       "        </tr>\n",
       "        <tr>\n",
       "            <td>Americas   </td> <td>Minor (between 25 and 999 battle-related deaths)</td> <td>44   </td>\n",
       "        </tr>\n",
       "        <tr>\n",
       "            <td>Middle East</td> <td>Minor (between 25 and 999 battle-related deaths)</td> <td>34   </td>\n",
       "        </tr>\n",
       "        <tr>\n",
       "            <td>Europe     </td> <td>Minor (between 25 and 999 battle-related deaths)</td> <td>27   </td>\n",
       "        </tr>\n",
       "        <tr>\n",
       "            <td>Asia       </td> <td>War (at least 1000 battle-related deaths)       </td> <td>15   </td>\n",
       "        </tr>\n",
       "        <tr>\n",
       "            <td>Africa     </td> <td>War (at least 1000 battle-related deaths)       </td> <td>15   </td>\n",
       "        </tr>\n",
       "        <tr>\n",
       "            <td>Middle East</td> <td>War (at least 1000 battle-related deaths)       </td> <td>8    </td>\n",
       "        </tr>\n",
       "        <tr>\n",
       "            <td>Europe     </td> <td>War (at least 1000 battle-related deaths)       </td> <td>6    </td>\n",
       "        </tr>\n",
       "        <tr>\n",
       "            <td>Americas   </td> <td>War (at least 1000 battle-related deaths)       </td> <td>5    </td>\n",
       "        </tr>\n",
       "    </tbody>\n",
       "</table>"
      ],
      "text/plain": [
       "<IPython.core.display.HTML object>"
      ]
     },
     "metadata": {},
     "output_type": "display_data"
    }
   ],
   "source": [
    "wars.group(['Region', 'IntensityLevel']).sort('count', descending=True).show() # group by Region and IntensityLevel"
   ]
  },
  {
   "cell_type": "markdown",
   "metadata": {},
   "source": [
    "Let's look specifically at the Middle East. Here are the counts of every type of conflict in each Middle East location."
   ]
  },
  {
   "cell_type": "code",
   "execution_count": 39,
   "metadata": {},
   "outputs": [
    {
     "data": {
      "text/html": [
       "<table border=\"1\" class=\"dataframe\">\n",
       "    <thead>\n",
       "        <tr>\n",
       "            <th>Region</th> <th>Location</th> <th>IntensityLevel</th> <th>count</th>\n",
       "        </tr>\n",
       "    </thead>\n",
       "    <tbody>\n",
       "        <tr>\n",
       "            <td>Middle East</td> <td>Israel             </td> <td>Minor (between 25 and 999 battle-related deaths)</td> <td>13   </td>\n",
       "        </tr>\n",
       "        <tr>\n",
       "            <td>Middle East</td> <td>Iraq               </td> <td>Minor (between 25 and 999 battle-related deaths)</td> <td>7    </td>\n",
       "        </tr>\n",
       "        <tr>\n",
       "            <td>Middle East</td> <td>Iran               </td> <td>Minor (between 25 and 999 battle-related deaths)</td> <td>5    </td>\n",
       "        </tr>\n",
       "        <tr>\n",
       "            <td>Middle East</td> <td>Turkey             </td> <td>Minor (between 25 and 999 battle-related deaths)</td> <td>3    </td>\n",
       "        </tr>\n",
       "        <tr>\n",
       "            <td>Middle East</td> <td>Lebanon            </td> <td>Minor (between 25 and 999 battle-related deaths)</td> <td>2    </td>\n",
       "        </tr>\n",
       "        <tr>\n",
       "            <td>Middle East</td> <td>Yemen (North Yemen)</td> <td>Minor (between 25 and 999 battle-related deaths)</td> <td>1    </td>\n",
       "        </tr>\n",
       "        <tr>\n",
       "            <td>Middle East</td> <td>Syria              </td> <td>Minor (between 25 and 999 battle-related deaths)</td> <td>1    </td>\n",
       "        </tr>\n",
       "        <tr>\n",
       "            <td>Middle East</td> <td>Saudi Arabia       </td> <td>Minor (between 25 and 999 battle-related deaths)</td> <td>1    </td>\n",
       "        </tr>\n",
       "        <tr>\n",
       "            <td>Middle East</td> <td>Egypt              </td> <td>Minor (between 25 and 999 battle-related deaths)</td> <td>1    </td>\n",
       "        </tr>\n",
       "        <tr>\n",
       "            <td>Middle East</td> <td>Lebanon            </td> <td>War (at least 1000 battle-related deaths)       </td> <td>3    </td>\n",
       "        </tr>\n",
       "        <tr>\n",
       "            <td>Middle East</td> <td>Yemen (North Yemen)</td> <td>War (at least 1000 battle-related deaths)       </td> <td>2    </td>\n",
       "        </tr>\n",
       "        <tr>\n",
       "            <td>Middle East</td> <td>Syria              </td> <td>War (at least 1000 battle-related deaths)       </td> <td>1    </td>\n",
       "        </tr>\n",
       "        <tr>\n",
       "            <td>Middle East</td> <td>South Yemen        </td> <td>War (at least 1000 battle-related deaths)       </td> <td>1    </td>\n",
       "        </tr>\n",
       "        <tr>\n",
       "            <td>Middle East</td> <td>Iraq               </td> <td>War (at least 1000 battle-related deaths)       </td> <td>1    </td>\n",
       "        </tr>\n",
       "    </tbody>\n",
       "</table>"
      ],
      "text/plain": [
       "<IPython.core.display.HTML object>"
      ]
     },
     "metadata": {},
     "output_type": "display_data"
    }
   ],
   "source": [
    "# filter by region, then group by location and intensity level\n",
    "m_east = wars.where('Region', 'Middle East').group(['Region', 'Location', 'IntensityLevel']).sort('count', descending=True).sort('IntensityLevel', descending=False)\n",
    "m_east.show()"
   ]
  },
  {
   "cell_type": "markdown",
   "metadata": {},
   "source": [
    "We can see that the greatest number `Minor` conflicts happened in Israel (13 in total) while the great number of `War` conflicts happened in Lebanon (3 in total). \n",
    "\n",
    "The two rows that show this information from the data (above) are shown below."
   ]
  },
  {
   "cell_type": "code",
   "execution_count": 40,
   "metadata": {},
   "outputs": [
    {
     "data": {
      "text/html": [
       "<table border=\"1\" class=\"dataframe\">\n",
       "    <thead>\n",
       "        <tr>\n",
       "            <th>Region</th> <th>Location</th> <th>IntensityLevel</th> <th>count</th>\n",
       "        </tr>\n",
       "    </thead>\n",
       "    <tbody>\n",
       "        <tr>\n",
       "            <td>Middle East</td> <td>Israel  </td> <td>Minor (between 25 and 999 battle-related deaths)</td> <td>13   </td>\n",
       "        </tr>\n",
       "    </tbody>\n",
       "</table>"
      ],
      "text/plain": [
       "Region      | Location | IntensityLevel                                   | count\n",
       "Middle East | Israel   | Minor (between 25 and 999 battle-related deaths) | 13"
      ]
     },
     "execution_count": 40,
     "metadata": {},
     "output_type": "execute_result"
    }
   ],
   "source": [
    "m_east.take(0) # first row of the dataset, above"
   ]
  },
  {
   "cell_type": "code",
   "execution_count": 41,
   "metadata": {},
   "outputs": [
    {
     "data": {
      "text/html": [
       "<table border=\"1\" class=\"dataframe\">\n",
       "    <thead>\n",
       "        <tr>\n",
       "            <th>Region</th> <th>Location</th> <th>IntensityLevel</th> <th>count</th>\n",
       "        </tr>\n",
       "    </thead>\n",
       "    <tbody>\n",
       "        <tr>\n",
       "            <td>Middle East</td> <td>Lebanon </td> <td>War (at least 1000 battle-related deaths)</td> <td>3    </td>\n",
       "        </tr>\n",
       "    </tbody>\n",
       "</table>"
      ],
      "text/plain": [
       "Region      | Location | IntensityLevel                            | count\n",
       "Middle East | Lebanon  | War (at least 1000 battle-related deaths) | 3"
      ]
     },
     "execution_count": 41,
     "metadata": {},
     "output_type": "execute_result"
    }
   ],
   "source": [
    "m_east.take(9) # ninth row of the dataset, above"
   ]
  },
  {
   "cell_type": "markdown",
   "metadata": {},
   "source": [
    "So, the Middle East locations with the most `War` conflicts."
   ]
  },
  {
   "cell_type": "code",
   "execution_count": 42,
   "metadata": {},
   "outputs": [
    {
     "data": {
      "text/html": [
       "<table border=\"1\" class=\"dataframe\">\n",
       "    <thead>\n",
       "        <tr>\n",
       "            <th>Region</th> <th>Location</th> <th>IntensityLevel</th> <th>count</th>\n",
       "        </tr>\n",
       "    </thead>\n",
       "    <tbody>\n",
       "        <tr>\n",
       "            <td>Middle East</td> <td>Lebanon            </td> <td>War (at least 1000 battle-related deaths)</td> <td>3    </td>\n",
       "        </tr>\n",
       "        <tr>\n",
       "            <td>Middle East</td> <td>Yemen (North Yemen)</td> <td>War (at least 1000 battle-related deaths)</td> <td>2    </td>\n",
       "        </tr>\n",
       "        <tr>\n",
       "            <td>Middle East</td> <td>Syria              </td> <td>War (at least 1000 battle-related deaths)</td> <td>1    </td>\n",
       "        </tr>\n",
       "        <tr>\n",
       "            <td>Middle East</td> <td>South Yemen        </td> <td>War (at least 1000 battle-related deaths)</td> <td>1    </td>\n",
       "        </tr>\n",
       "        <tr>\n",
       "            <td>Middle East</td> <td>Iraq               </td> <td>War (at least 1000 battle-related deaths)</td> <td>1    </td>\n",
       "        </tr>\n",
       "    </tbody>\n",
       "</table>"
      ],
      "text/plain": [
       "Region      | Location            | IntensityLevel                            | count\n",
       "Middle East | Lebanon             | War (at least 1000 battle-related deaths) | 3\n",
       "Middle East | Yemen (North Yemen) | War (at least 1000 battle-related deaths) | 2\n",
       "Middle East | Syria               | War (at least 1000 battle-related deaths) | 1\n",
       "Middle East | South Yemen         | War (at least 1000 battle-related deaths) | 1\n",
       "Middle East | Iraq                | War (at least 1000 battle-related deaths) | 1"
      ]
     },
     "execution_count": 42,
     "metadata": {},
     "output_type": "execute_result"
    }
   ],
   "source": [
    "m_east.where('IntensityLevel', are.containing('War')) # filter to just show war rows"
   ]
  },
  {
   "cell_type": "markdown",
   "metadata": {},
   "source": [
    "Again, we can see that the greatest number of `War` conflicts are Lebanon, followed by Yemen (North Yemen), and so forth.  "
   ]
  },
  {
   "cell_type": "markdown",
   "metadata": {},
   "source": [
    "<br><br><br><br><br><br><br>\n",
    "## 3.3 Outcome <a id='2c'></a>\n",
    "\n",
    "Next, let's examine the `Outcome` of the civil conflicts. Here are all the possible outcomes coded:"
   ]
  },
  {
   "cell_type": "code",
   "execution_count": 43,
   "metadata": {},
   "outputs": [
    {
     "data": {
      "text/plain": [
       "['Peace agreement',\n",
       " 'Victory for Side A /Government Side',\n",
       " 'Ceasefire',\n",
       " 'Victory for Side B /Rebel Side',\n",
       " 'Actor ceases to exist',\n",
       " 'Low activity (less than 25 battle-deaths)']"
      ]
     },
     "execution_count": 43,
     "metadata": {},
     "output_type": "execute_result"
    }
   ],
   "source": [
    "list(set(wars.column('Outcome')))"
   ]
  },
  {
   "cell_type": "markdown",
   "metadata": {},
   "source": [
    "The summary of what each outcome means comes from the codebook for the Conflict Termination Dataset v.2-2015 (Kreutz 2010): \n",
    "\n",
    "| Outcome | Description |\n",
    "|-------------------------------------------|--------------------------------------------------------------------------------------------------------------------------------------------------------------------------------------------------------------------------------------------------------------------------------------------------------------------------------------------------------------------|\n",
    "| Actor ceases to exist | War activity continues with at least one party no longer existing or becoming a different type of party. For states, this means that the state became part of another country or a central government was no longer obvious. For rebel organizations, this means that the organization changed their name along with altering their alliances or territorial goals. |\n",
    "| Ceasefire | Fighting stops, but not necessarily with any resolution. |\n",
    "| Low activity (less than 25 battle-deaths) | War activity may continue, but fatality rates are below the fatality level defined by the authors of the dataset. |\n",
    "| Peace agreement | An agreement signed by opposing sides to formally end the war. |\n",
    "| Victory for Side A/Government Side | The government side of the war wins and the rebel side loses. |\n",
    "| Victory for Side A/Rebel Side | The rebel side wins and the government side loses."
   ]
  },
  {
   "cell_type": "markdown",
   "metadata": {},
   "source": [
    "Here are the number of occurances of each outcome:"
   ]
  },
  {
   "cell_type": "code",
   "execution_count": 44,
   "metadata": {},
   "outputs": [
    {
     "data": {
      "image/png": "[encoded data removed]",
      "text/plain": [
       "<Figure size 432x288 with 1 Axes>"
      ]
     },
     "metadata": {},
     "output_type": "display_data"
    }
   ],
   "source": [
    "termination_count = wars.group('Outcome').sort('count', descending=True) # count number of each outcome\n",
    "termination_count.bar('Outcome') # generate bar graph\n",
    "plt.xticks(rotation=90) # make x axis labels vertical\n",
    "plt.title(\"Number of Each Outcome\") # title graph\n",
    "plt.show()"
   ]
  },
  {
   "cell_type": "markdown",
   "metadata": {},
   "source": [
    "We can see that the greatest number of conflicts are terminated through low activity, so that they no longer meet the battle-death threshold, but they do not terminate through a peace agreement or a victory, for example."
   ]
  },
  {
   "cell_type": "markdown",
   "metadata": {},
   "source": [
    "### Discussion C\n",
    "\n",
    "Discuss with a partner and together write a couple of sentences in each of your forms on the following prompt: How often are rebels successful in civil wars? What other outcomes are striking? Compare peace agreements in Asia and Africa. What might explain the difference? Note: we are only looking at the top two regions in terms of the number of conflicts. Run the code cell below:"
   ]
  },
  {
   "cell_type": "code",
   "execution_count": 45,
   "metadata": {},
   "outputs": [
    {
     "data": {
      "text/html": [
       "<table border=\"1\" class=\"dataframe\">\n",
       "    <thead>\n",
       "        <tr>\n",
       "            <th>Region</th> <th>Outcome</th> <th>count</th>\n",
       "        </tr>\n",
       "    </thead>\n",
       "    <tbody>\n",
       "        <tr>\n",
       "            <td>Africa</td> <td>Low activity (less than 25 battle-deaths)</td> <td>48   </td>\n",
       "        </tr>\n",
       "        <tr>\n",
       "            <td>Africa</td> <td>Victory for Side A /Government Side      </td> <td>36   </td>\n",
       "        </tr>\n",
       "        <tr>\n",
       "            <td>Africa</td> <td>Peace agreement                          </td> <td>32   </td>\n",
       "        </tr>\n",
       "        <tr>\n",
       "            <td>Africa</td> <td>Victory for Side B /Rebel Side           </td> <td>18   </td>\n",
       "        </tr>\n",
       "        <tr>\n",
       "            <td>Africa</td> <td>Actor ceases to exist                    </td> <td>15   </td>\n",
       "        </tr>\n",
       "        <tr>\n",
       "            <td>Africa</td> <td>Ceasefire                                </td> <td>9    </td>\n",
       "        </tr>\n",
       "        <tr>\n",
       "            <td>Asia  </td> <td>Low activity (less than 25 battle-deaths)</td> <td>48   </td>\n",
       "        </tr>\n",
       "        <tr>\n",
       "            <td>Asia  </td> <td>Victory for Side A /Government Side      </td> <td>27   </td>\n",
       "        </tr>\n",
       "        <tr>\n",
       "            <td>Asia  </td> <td>Ceasefire                                </td> <td>18   </td>\n",
       "        </tr>\n",
       "        <tr>\n",
       "            <td>Asia  </td> <td>Actor ceases to exist                    </td> <td>14   </td>\n",
       "        </tr>\n",
       "        <tr>\n",
       "            <td>Asia  </td> <td>Peace agreement                          </td> <td>9    </td>\n",
       "        </tr>\n",
       "        <tr>\n",
       "            <td>Asia  </td> <td>Victory for Side B /Rebel Side           </td> <td>5    </td>\n",
       "        </tr>\n",
       "    </tbody>\n",
       "</table>"
      ],
      "text/plain": [
       "<IPython.core.display.HTML object>"
      ]
     },
     "metadata": {},
     "output_type": "display_data"
    }
   ],
   "source": [
    "wars.group(['Region', 'Outcome']).where('Region', are.containing('Asia') | are.containing('Africa')).sort(\n",
    "    'count', descending=True).sort('Region').show()"
   ]
  },
  {
   "cell_type": "markdown",
   "metadata": {},
   "source": [
    "*WRITE YOUR RESPONSE HERE. [NOTE: TO CHANGE THE TEXT, DOUBLE CLICK ON THE PLACEHOLDER TEXT, AND WHEN YOU ARE FINISHED, RUN THE CELL TO SAVE YOUR CHANGES]*"
   ]
  },
  {
   "cell_type": "markdown",
   "metadata": {},
   "source": [
    "<br><br><br><br>\n",
    "Let's make a bar graph of the `IntensityLevel` for a particular year. A bar graph shows us the number of counts between categories for a particular feature. Run the cell below, then use the dropdown menu to select a year. After selecting a year, the graph will show the number of conflicts of each intensity level in the previous five years."
   ]
  },
  {
   "cell_type": "code",
   "execution_count": 46,
   "metadata": {},
   "outputs": [
    {
     "data": {
      "application/vnd.jupyter.widget-view+json": {
       "model_id": "6956a7c3d415416780997c0b663fab1f",
       "version_major": 2,
       "version_minor": 0
      },
      "text/plain": [
       "interactive(children=(Dropdown(description='year', options=(1945, 1950, 1955, 1960, 1965, 1970, 1975, 1980, 19…"
      ]
     },
     "metadata": {},
     "output_type": "display_data"
    }
   ],
   "source": [
    "@interact(year=np.arange(1945, 2011, 5))\n",
    "def year_graph(year):\n",
    "    # filter data by chosen year and group by intensity level\n",
    "    five_year = war_years.with_column('Fifth Year', (war_years.column('Year') // 5) * 5) # add column of year rounded to nearest 5\n",
    "    one_year = five_year.where('Fifth Year', year).group('IntensityLevel').sort('IntensityLevel') # filter and sort by selected year\n",
    "    plt.bar(one_year.column('IntensityLevel'), one_year.column('count')) # create bar graph\n",
    "    plt.xticks((0, 1), ('Minor War', 'Major War')) # set x axis labels to be Minor and War\n",
    "    plt.ylabel(\"Count\") # set y axis label\n",
    "    plt.title('Number of Conflicts of Each Intensity Level from {} to {}'.format(year, year + 4)) # set title of graph\n",
    "    plt.show()"
   ]
  },
  {
   "cell_type": "markdown",
   "metadata": {},
   "source": [
    "We can see two bars in the plot above describe the number of conflicts: one for `Minor` conflicts and one for the `War` conflicts based on the year you chose."
   ]
  },
  {
   "cell_type": "markdown",
   "metadata": {},
   "source": [
    "<br><br><br><br><br><br><br><br><br>\n",
    "# 4. Choose a Conflict  <a id='3'></a>\n",
    "\n",
    "Let's select a location in the dropdown menu. We can use this to view only the rows that correspond to the chosen location."
   ]
  },
  {
   "cell_type": "code",
   "execution_count": 47,
   "metadata": {},
   "outputs": [
    {
     "data": {
      "application/vnd.jupyter.widget-view+json": {
       "model_id": "5017adfacecc4f50b95a6e91ed067de4",
       "version_major": 2,
       "version_minor": 0
      },
      "text/plain": [
       "interactive(children=(Dropdown(description='location', options=('Afghanistan', 'Algeria', 'Angola', 'Argentina…"
      ]
     },
     "metadata": {},
     "output_type": "display_data"
    }
   ],
   "source": [
    "locations = np.sort(list(set(wars.column('Location'))))\n",
    "@interact(location=locations)\n",
    "def location_filter(location):\n",
    "    wars.where('Location', location).show()"
   ]
  },
  {
   "cell_type": "markdown",
   "metadata": {},
   "source": [
    "Use the cells above to choose a conflict that looks the most interesting to you. Once you find one, write down the `DyadId`. In the cell below, replace the `...` with the `DyadId` you chose. This will display the rows in the table that have the `DyadId` of your choice. Your selected `DyadId` will be the case on which you do research for your homework assignment."
   ]
  },
  {
   "cell_type": "code",
   "execution_count": 48,
   "metadata": {},
   "outputs": [
    {
     "data": {
      "text/html": [
       "<table border=\"1\" class=\"dataframe\">\n",
       "    <thead>\n",
       "        <tr>\n",
       "            <th>ConflictId</th> <th>DyadId</th> <th>Location</th> <th>SideA</th> <th>SideB</th> <th>DisagreementOver</th> <th>IntensityLevel</th> <th>TypeOfConflict</th> <th>StartDate</th> <th>EndDate</th> <th>Outcome</th> <th>Region</th>\n",
       "        </tr>\n",
       "    </thead>\n",
       "    <tbody>\n",
       "        <tr>\n",
       "            <td>1-137     </td> <td>476   </td> <td>Afghanistan</td> <td>Government of Afghanistan</td> <td>Military faction (forces of Shahnawaz Tanay)</td> <td>Government      </td> <td>Minor (between 25 and 999 battle-related deaths)</td> <td>Internal armed conflict</td> <td>03/06/1990</td> <td>03/08/1990</td> <td>Victory for Side A /Government Side</td> <td>Asia  </td>\n",
       "        </tr>\n",
       "    </tbody>\n",
       "</table>"
      ],
      "text/plain": [
       "ConflictId | DyadId | Location    | SideA                     | SideB                                        | DisagreementOver | IntensityLevel                                   | TypeOfConflict          | StartDate  | EndDate    | Outcome                             | Region\n",
       "1-137      | 476    | Afghanistan | Government of Afghanistan | Military faction (forces of Shahnawaz Tanay) | Government       | Minor (between 25 and 999 battle-related deaths) | Internal armed conflict | 03/06/1990 | 03/08/1990 | Victory for Side A /Government Side | Asia"
      ]
     },
     "execution_count": 48,
     "metadata": {},
     "output_type": "execute_result"
    }
   ],
   "source": [
    "dyadid = 476  # replace the ... with a DyadId\n",
    "wars.where('DyadId', dyadid)"
   ]
  },
  {
   "cell_type": "markdown",
   "metadata": {},
   "source": [
    "<br><br>\n",
    "- -----------------------------------------------------\n",
    "<br><br>\n",
    "# 5. Homework <a id='4'></a>\n",
    "<br><br>\n",
    "### Problem 5.1: \n",
    "Write your dyad id, noting the location and years of the conflict as well, in the box below. "
   ]
  },
  {
   "cell_type": "markdown",
   "metadata": {},
   "source": [
    "*[NOTE: TO CHANGE THE TEXT, DOUBLE CLICK ON THE PLACEHOLDER TEXT, AND WHEN YOU ARE FINISHED, RUN THE CELL TO SAVE YOUR CHANGES.]*"
   ]
  },
  {
   "cell_type": "markdown",
   "metadata": {},
   "source": [
    "### Problem 5.2: \n",
    "Examing the row from the dataset that you have chosen above, how did the Conflict Termination Dataset (above) code the outcome?"
   ]
  },
  {
   "cell_type": "markdown",
   "metadata": {},
   "source": [
    "*[NOTE: TO CHANGE THE TEXT, DOUBLE CLICK ON THE PLACEHOLDER TEXT, AND WHEN YOU ARE FINISHED, RUN THE CELL TO SAVE YOUR CHANGES.]*"
   ]
  },
  {
   "cell_type": "markdown",
   "metadata": {},
   "source": [
    "### Problem 5.3: \n",
    "Do you find the Conflict Termination Dataset problematic? Write your answer in the box below."
   ]
  },
  {
   "cell_type": "markdown",
   "metadata": {},
   "source": [
    "*[NOTE: TO CHANGE THE TEXT, DOUBLE CLICK ON THE PLACEHOLDER TEXT, AND WHEN YOU ARE FINISHED, RUN THE CELL TO SAVE YOUR CHANGES.]*"
   ]
  },
  {
   "cell_type": "markdown",
   "metadata": {},
   "source": [
    "### Problem 5.4: \n",
    "Based on your understanding of the coding rules on termination type from the Conflict Termination Dataset (see the codebook [here](https://ucdp.uu.se/downloads/index.html#termination)), and perhaps the case you have just researched, what would be a change you would propose to create a different type of conflict termination? If such a change were made to the coding rules, how might our understanding of international conflict change? Feel free to speculate on this response. Write your answer in the box below. "
   ]
  },
  {
   "cell_type": "markdown",
   "metadata": {},
   "source": [
    "*[NOTE: TO CHANGE THE TEXT, DOUBLE CLICK ON THE PLACEHOLDER TEXT. WHEN YOU ARE FINISHED, RUN THE CELL TO SAVE YOUR CHANGES.]*"
   ]
  },
  {
   "cell_type": "markdown",
   "metadata": {},
   "source": [
    "<br><br>\n",
    "- -----------------------------------------------------\n",
    "<br><br>\n",
    "We hope you enjoyed this notebook and learned a few things! In case you wish to explore the dataset more on your own, here is the link to download the dataset: https://ucdp.uu.se/downloads/#d5."
   ]
  },
  {
   "cell_type": "markdown",
   "metadata": {},
   "source": [
    "<br><br><br><br><br><br>\n",
    "# 6. Data Science Opportunities at UC Berkeley <a id='5'></a>"
   ]
  },
  {
   "cell_type": "markdown",
   "metadata": {},
   "source": [
    "If you need assistance with this notebook or our peer advisors are happy to help. You can find their Drop-In Hours [here](https://data.berkeley.edu/academics/resources/peer-consulting). You can also email ds-peer-consulting@berkeley.edu to book an appointment if the times conflict with your schedule.\n",
    "\n",
    "If you are interested in data science, a great course to start with is Data 8 or consider a two-unit [Connector Course](https://data.berkeley.edu/education/connectors). For the full list of courses and degree programs we offer, click [here](https://data.berkeley.edu/academics/undergraduate-programs/data-science-offerings)."
   ]
  },
  {
   "cell_type": "markdown",
   "metadata": {},
   "source": [
    "# 7. Bibliography <a id='6'></a>\n",
    "* Kreutz, Joakim, 2010. How and When Armed Conflicts End: Introducing the UCDP Conflict Termination Dataset. *Journal of Peace Research* 47(2): 243-250."
   ]
  },
  {
   "cell_type": "code",
   "execution_count": null,
   "metadata": {},
   "outputs": [],
   "source": []
  }
 ],
 "metadata": {
  "kernelspec": {
   "display_name": "Python 3",
   "language": "python",
   "name": "python3"
  },
  "language_info": {
   "codemirror_mode": {
    "name": "ipython",
    "version": 3
   },
   "file_extension": ".py",
   "mimetype": "text/x-python",
   "name": "python",
   "nbconvert_exporter": "python",
   "pygments_lexer": "ipython3",
   "version": "3.6.8"
  }
 },
 "nbformat": 4,
 "nbformat_minor": 2
}
