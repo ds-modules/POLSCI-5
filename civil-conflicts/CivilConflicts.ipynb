{
 "cells": [
  {
   "cell_type": "markdown",
   "metadata": {
    "#student": false
   },
   "source": [
    "# Civil Conflicts\n",
    "<br>\n",
    "\n",
    "**Estimated Time:** 30-40 Minutes. <br>\n",
    "**Databook created by:** Lauren Hom and Ravi Singhal in collaboration with Professor Aila Matanock and Head GSI Alex Stephenson for Political Science 5: Introduction to International Relations\n",
    "\n",
    "\n",
    "Today we will be examining a dataset (i.e. a table) on civil conflicts around the world from 1946-2013. The data, which contains information on various types of conflicts, comes from the Uppsala Conflict Data Program (UCDP). We will be exploring what rows and columns represent in the UCDP Conflict Temination Dataset v.2-2015 (Kreutz 2010), as well as analyzing some trends in conflict and its termination over time.\n",
    "\n",
    "\n",
    "### Table of Contents \n",
    "1. [Jupyter Introduction](#0) <br>\n",
    "1. [The Dataset](#1)<br>\n",
    "    2.1 [Rows](#1a)<br>\n",
    "    2.2 [Columns](#1b)<br>\n",
    "1. [Civil Conflict Analysis](#2)<br>\n",
    "    3.1 [Civil Conflicts Over Time](#2a)<br>\n",
    "    3.2 [Intensity Level](#2b)<br>\n",
    "    3.3 [Outcome](#2c)<br>\n",
    "1. [Choose a Conflict](#3)\n",
    "1. [Homework](#4)<br>\n",
    "1. [Data Science Opportunities at UC Berkeley](#5)<br>\n",
    "1. [Bibliography](#6)"
   ]
  },
  {
   "cell_type": "markdown",
   "metadata": {
    "#student": false
   },
   "source": [
    "# 1. Jupyter Introduction <a id='0'></a>\n",
    "\n",
    "This webpage is a Jupyter Notebook. We will use this notebook to analyze the Uppsala Conflict Data Program's (UCDP) Conflict Termination Dataset v.2-2015 (Kreutz 2010). Jupyter Notebooks are composed of both regvular text and code cells. Code cells have a gray background. In order to run a code cell, click the cell and press `Shift + Enter` while the cell is selected or hit the `▶| Run` button in the toolbar at the top. An example of a code cell is below. You can also save your work using the button on the top left hand corner.\n",
    "\n",
    "This code cell imports packages and methods that will be utilized throughout for analysis (e.g. creating graphs, widgets, etc.). Try running it. If everything works properly, the word \"Success\" should be printed under the cell."
   ]
  },
  {
   "cell_type": "code",
   "execution_count": null,
   "metadata": {
    "#student": false
   },
   "outputs": [],
   "source": [
    "# This cell sets up the notebook. Just run this cell.\n",
    "from datascience import *\n",
    "import numpy as np\n",
    "from ipywidgets import interact, interactive, fixed, interact_manual\n",
    "import ipywidgets as widgets\n",
    "%matplotlib inline\n",
    "import matplotlib.pyplot as plt\n",
    "plt.style.use('fivethirtyeight')\n",
    "\n",
    "print(\"Success!\")"
   ]
  },
  {
   "cell_type": "markdown",
   "metadata": {
    "#student": false
   },
   "source": [
    "<br><br><br><br><br><br><br><br><br>\n",
    "# 2. The Dataset <a id='1'></a>\n",
    "\n",
    "The UCDP Conflict Termination Dataset v.2-2015 (Kreutz 2010) contains information about conflicts around world from 1946-2013. A **dataset** is a table with rows and columns that contain values. The dataa in this set are part of a larger collection project by UCPD, and it uses common definitions for armed conflicts, and this particular dataset focuses on their termination:\n",
    "\n",
    "> \"Armed conflict is defined by Uppsala Conflict Data Program (UCDP) \\[as\\] a contested incompatibility that concerns government and/or territory where the use of armed force between two parties, of which at least one is the government of a state, results in at least 25 battle-related deaths in a calender-year.\"\n",
    "\n",
    "> \"A conflict episode, thus, is defined as the a \\[sic] continuous period of active conflict years in the UCDP-PRIO armed conflict dataset. A conflict episode ends when an active year is followed by a year in which there are fewer than 25 battle-related deaths.\"\n",
    "\n",
    "\n",
    "<br>If you want to read more about the UCDP data, click [here](https://www.pcr.uu.se/research/ucdp/).\n",
    "\n",
    "<br>Here are the first 5 rows of the data-set. You can scroll horizontally when hovering over the table to see the whole data set."
   ]
  },
  {
   "cell_type": "code",
   "execution_count": null,
   "metadata": {
    "#student": false
   },
   "outputs": [],
   "source": [
    "raw = Table.read_table('ucdp-term-dyadic-2015.csv') # read in the dataset\n",
    "raw.show(5)"
   ]
  },
  {
   "cell_type": "markdown",
   "metadata": {
    "#student": false
   },
   "source": [
    "As you can see, this is a large dataset. We have cleaned the dataset by removing some conflicts that were not civil conflicts, removing some features of these conflicts (removing some columns), and making the description of the features (the labels) more readable. The cleaned dataset has 12 columns."
   ]
  },
  {
   "cell_type": "code",
   "execution_count": null,
   "metadata": {
    "#student": false
   },
   "outputs": [],
   "source": [
    "wars = Table.read_table('oneWar.csv') # read in the dataset\n",
    "wars.show(5)"
   ]
  },
  {
   "cell_type": "markdown",
   "metadata": {
    "#student": false
   },
   "source": [
    "Note that both the number of **columns** and the number of **rows** have changed. Run the cell below to compare the number of rows from the original dataset to the cleaned dataset."
   ]
  },
  {
   "cell_type": "code",
   "execution_count": null,
   "metadata": {
    "#student": false
   },
   "outputs": [],
   "source": [
    "print(\"The original dataset had {} rows. \\n\\\n",
    "After removing some rows that are not civil conflicts, the dataset has {} rows left.\".format(raw.num_rows, wars.num_rows))"
   ]
  },
  {
   "cell_type": "markdown",
   "metadata": {
    "#student": false
   },
   "source": [
    "Let's take a closer look at the cleaned dataset."
   ]
  },
  {
   "cell_type": "markdown",
   "metadata": {
    "#student": false
   },
   "source": [
    "<br><br><br><br><br><br><br>\n",
    "## 2.1 Rows <a id='1a'></a>\n"
   ]
  },
  {
   "cell_type": "markdown",
   "metadata": {
    "#student": false
   },
   "source": [
    "First, let's examine what a *row* is. Here is the first row of the dataset."
   ]
  },
  {
   "cell_type": "code",
   "execution_count": null,
   "metadata": {
    "#student": false
   },
   "outputs": [],
   "source": [
    "wars.take(0) # take the first row"
   ]
  },
  {
   "cell_type": "markdown",
   "metadata": {
    "#student": false
   },
   "source": [
    "This row gives us information about a specific conflict that happened in Algeria from 1985-1997. One thing to note is that the `IntensityLevel` of the conflict is Minor. As described in the `IntensityLevel` column, Minor indicates a conflict where there were between 25-999 battle-related deaths."
   ]
  },
  {
   "cell_type": "code",
   "execution_count": null,
   "metadata": {
    "#student": false
   },
   "outputs": [],
   "source": [
    "wars.take(29) # take the 30th row"
   ]
  },
  {
   "cell_type": "markdown",
   "metadata": {
    "#student": false
   },
   "source": [
    "In comparison, by looking at the 30th row of the dataset, we can see that this conflict in Ethiopia has an `IntensityLevel` of War, meaning there were at least 1000 battle-related deaths."
   ]
  },
  {
   "cell_type": "markdown",
   "metadata": {
    "#student": false
   },
   "source": [
    "<br><br><br><br><br><br><br>\n",
    "## 2.2 Columns <a id='1b'></a>\n"
   ]
  },
  {
   "cell_type": "markdown",
   "metadata": {
    "#student": false
   },
   "source": [
    "Next, we will look at some of the columns in the dataset that allow us to better understand the information we are seeing.\n",
    "\n",
    "### 2.2.1 Location\n",
    "To understand what a *column* is, let's look at a few examples. First, let's examine the `Location` column. According to the codebook for the dataset (Kreutz 2010),\n",
    "> \"Location is defined as the government side of a conflict, and should not be interpreted as the geographical location of the conflict.\"\n",
    "\n",
    "Here are the number of occurences of the 10 most common locations."
   ]
  },
  {
   "cell_type": "code",
   "execution_count": null,
   "metadata": {
    "#student": false
   },
   "outputs": [],
   "source": [
    "locations = wars.group('Location').sort('count', descending=True) # group by location and sort in descending order\n",
    "locations"
   ]
  },
  {
   "cell_type": "markdown",
   "metadata": {
    "#student": true
   },
   "source": [
    "### Discussion A\n",
    "\n",
    "Discuss with a partner and together write a couple of sentences in each of your forms on the following prompt: Are any of the locations listed here are surprising? Consider factors such as geographic size and population of the location. \n",
    "\n"
   ]
  },
  {
   "cell_type": "markdown",
   "metadata": {
    "#student": true
   },
   "source": [
    "*WRITE YOUR RESPONSE HERE. [NOTE: TO CHANGE THE TEXT, DOUBLE CLICK ON THE PLACEHOLDER TEXT, AND WHEN YOU ARE FINISHED, RUN THE CELL TO SAVE YOUR CHANGES]*"
   ]
  },
  {
   "cell_type": "markdown",
   "metadata": {
    "#student": false
   },
   "source": [
    "<br><br><br>\n",
    "### 2.2.2 Region\n",
    "Now let's look at the `Region` column. Again, first here are the conflicts in each region."
   ]
  },
  {
   "cell_type": "code",
   "execution_count": null,
   "metadata": {
    "#student": false
   },
   "outputs": [],
   "source": [
    "regions = wars.group('Region').sort('count', descending=True) # count occurences of each region\n",
    "regions"
   ]
  },
  {
   "cell_type": "markdown",
   "metadata": {
    "#student": false
   },
   "source": [
    "Above, we can see that Africa is the region coded as having the highest `count`, which means that Africa has the largest number of conflicts out of any region."
   ]
  },
  {
   "cell_type": "markdown",
   "metadata": {
    "#student": false
   },
   "source": [
    "<br><br><br><br><br><br><br><br><br>\n",
    "# 3. Civil Conflict Analysis <a id='2'></a>\n",
    "In this section, we will do further analysis on civil conflict occurrences. Here is the original dataset again."
   ]
  },
  {
   "cell_type": "code",
   "execution_count": null,
   "metadata": {
    "#student": false
   },
   "outputs": [],
   "source": [
    "wars.show(5)"
   ]
  },
  {
   "cell_type": "markdown",
   "metadata": {
    "#student": false
   },
   "source": [
    "<br><br><br><br><br><br><br>\n",
    "## 3.1 Civil Conflicts Over Time <a id='2a'></a>\n",
    "\n",
    "Now, let's visualize how the number of civil conflicts varies over time. This line graph shows the number of civil conflicts in each year."
   ]
  },
  {
   "cell_type": "code",
   "execution_count": null,
   "metadata": {
    "#student": false
   },
   "outputs": [],
   "source": [
    "war_years = Table.read_table('cleanedWars.csv') # read in the dataset\n",
    "war_years.set_format('Year', formats.FunctionFormatter(lambda x: x)) # fix format of year\n",
    "\n",
    "civil_trend = war_years.group('Year') # count number of civil conflicts per year\n",
    "\n",
    "civil_trend.plot('Year') # generate line graph\n",
    "plt.title(\"Number of Civil Conflicts over Time\") # title graph\n",
    "plt.show()"
   ]
  },
  {
   "cell_type": "markdown",
   "metadata": {
    "#student": true
   },
   "source": [
    "### Discussion B <a id='3a'></a>\n",
    "\n",
    "Discuss with a partner and together write a couple of sentences in each of your forms on the following prompt: Notice the spike in the number of conflicts during the 1990s, and, related an increasing trend in the number of total civil conflicts between 1946 and 1990. Then, what events are occurring around, and how might these events influence the trends we observe in the graph (above)? For some information to consider, think back to Fearon and Laitin 2003."
   ]
  },
  {
   "cell_type": "markdown",
   "metadata": {
    "#student": true
   },
   "source": [
    "*WRITE YOUR RESPONSE HERE. [NOTE: TO CHANGE THE TEXT, DOUBLE CLICK ON THE PLACEHOLDER TEXT, AND WHEN YOU ARE FINISHED, RUN THE CELL TO SAVE YOUR CHANGES]*"
   ]
  },
  {
   "cell_type": "markdown",
   "metadata": {
    "#student": false
   },
   "source": [
    "<br><br><br><br><br><br><br>\n",
    "## 3.2 Intensity Level <a id='2b'></a>\n",
    "Let's take a closer look at the `IntensityLevel` column. \n",
    ">The intensity variable is coded in two categories (Kreutz 2010):\n",
    ">1. Minor: between 25 and 999 battle-related deaths in a given year.\n",
    ">2. War: at least 1,000 battle-related deaths in a given year.\n",
    "\n",
    "Here are the number of conflicts for each type of intensity level, which is represented in the `count` column."
   ]
  },
  {
   "cell_type": "code",
   "execution_count": null,
   "metadata": {
    "#student": false
   },
   "outputs": [],
   "source": [
    "wars.group('IntensityLevel') # group by IntensityLevel"
   ]
  },
  {
   "cell_type": "markdown",
   "metadata": {
    "#student": false
   },
   "source": [
    "As you can see above, there are more \"Minor\" conflicts (354 occurences) versus \"War\" conflicts (49 occurences)."
   ]
  },
  {
   "cell_type": "markdown",
   "metadata": {
    "#student": false
   },
   "source": [
    "Each region now appears twice in the `Region` column: once for each type of intensity level. \n",
    "For example, in the first row, we can see that Africa had 143 \"Minor\" conflicts and, in the seventh row, we can see that Africa had 15 \"War\" conflicts. "
   ]
  },
  {
   "cell_type": "code",
   "execution_count": null,
   "metadata": {
    "#student": false
   },
   "outputs": [],
   "source": [
    "wars.group(['Region', 'IntensityLevel']).sort('count', descending=True).show() # group by Region and IntensityLevel"
   ]
  },
  {
   "cell_type": "markdown",
   "metadata": {
    "#student": false
   },
   "source": [
    "Let's look specifically at the Middle East. Here are the counts of every type of conflict in each Middle East location."
   ]
  },
  {
   "cell_type": "code",
   "execution_count": null,
   "metadata": {
    "#student": false
   },
   "outputs": [],
   "source": [
    "# filter by region, then group by location and intensity level\n",
    "m_east = wars.where('Region', 'Middle East').group(['Region', 'Location', 'IntensityLevel']).sort('count', descending=True).sort('IntensityLevel', descending=False)\n",
    "m_east.show()"
   ]
  },
  {
   "cell_type": "markdown",
   "metadata": {
    "#student": false
   },
   "source": [
    "We can see that the greatest number `Minor` conflicts happened in Israel (13 in total) while the great number of `War` conflicts happened in Lebanon (3 in total). \n",
    "\n",
    "The two rows that show this information from the data (above) are shown below."
   ]
  },
  {
   "cell_type": "code",
   "execution_count": null,
   "metadata": {
    "#student": false
   },
   "outputs": [],
   "source": [
    "m_east.take(0) # first row of the dataset, above"
   ]
  },
  {
   "cell_type": "code",
   "execution_count": null,
   "metadata": {
    "#student": false
   },
   "outputs": [],
   "source": [
    "m_east.take(9) # ninth row of the dataset, above"
   ]
  },
  {
   "cell_type": "markdown",
   "metadata": {
    "#student": false
   },
   "source": [
    "So, the Middle East locations with the most `War` conflicts."
   ]
  },
  {
   "cell_type": "code",
   "execution_count": null,
   "metadata": {
    "#student": false
   },
   "outputs": [],
   "source": [
    "m_east.where('IntensityLevel', are.containing('War')) # filter to just show war rows"
   ]
  },
  {
   "cell_type": "markdown",
   "metadata": {
    "#student": false
   },
   "source": [
    "Again, we can see that the greatest number of `War` conflicts are Lebanon, followed by Yemen (North Yemen), and so forth.  "
   ]
  },
  {
   "cell_type": "markdown",
   "metadata": {
    "#student": false
   },
   "source": [
    "<br><br><br><br><br><br><br>\n",
    "## 3.3 Outcome <a id='2c'></a>\n",
    "\n",
    "Next, let's examine the `Outcome` of the civil conflicts. Here are all the possible outcomes coded:"
   ]
  },
  {
   "cell_type": "code",
   "execution_count": null,
   "metadata": {
    "#student": false
   },
   "outputs": [],
   "source": [
    "list(set(wars.column('Outcome')))"
   ]
  },
  {
   "cell_type": "markdown",
   "metadata": {
    "#student": false
   },
   "source": [
    "The summary of what each outcome means comes from the codebook for the Conflict Termination Dataset v.2-2015 (Kreutz 2010): \n",
    "\n",
    "| Outcome | Description |\n",
    "|-------------------------------------------|--------------------------------------------------------------------------------------------------------------------------------------------------------------------------------------------------------------------------------------------------------------------------------------------------------------------------------------------------------------------|\n",
    "| Actor ceases to exist | War activity continues with at least one party no longer existing or becoming a different type of party. For states, this means that the state became part of another country or a central government was no longer obvious. For rebel organizations, this means that the organization changed their name along with altering their alliances or territorial goals. |\n",
    "| Ceasefire | Fighting stops, but not necessarily with any resolution. |\n",
    "| Low activity (less than 25 battle-deaths) | War activity may continue, but fatality rates are below the fatality level defined by the authors of the dataset. |\n",
    "| Peace agreement | An agreement signed by opposing sides to formally end the war. |\n",
    "| Victory for Side A/Government Side | The government side of the war wins and the rebel side loses. |\n",
    "| Victory for Side A/Rebel Side | The rebel side wins and the government side loses."
   ]
  },
  {
   "cell_type": "markdown",
   "metadata": {
    "#student": false
   },
   "source": [
    "Here are the number of occurances of each outcome:"
   ]
  },
  {
   "cell_type": "code",
   "execution_count": null,
   "metadata": {
    "#student": false
   },
   "outputs": [],
   "source": [
    "termination_count = wars.group('Outcome').sort('count', descending=True) # count number of each outcome\n",
    "termination_count.bar('Outcome') # generate bar graph\n",
    "plt.xticks(rotation=90) # make x axis labels vertical\n",
    "plt.title(\"Number of Each Outcome\") # title graph\n",
    "plt.show()"
   ]
  },
  {
   "cell_type": "markdown",
   "metadata": {
    "#student": false
   },
   "source": [
    "We can see that the greatest number of conflicts are terminated through low activity, so that they no longer meet the battle-death threshold, but they do not terminate through a peace agreement or a victory, for example."
   ]
  },
  {
   "cell_type": "markdown",
   "metadata": {
    "#student": true
   },
   "source": [
    "### Discussion C\n",
    "\n",
    "Discuss with a partner and together write a couple of sentences in each of your forms on the following prompt: How often are rebels successful in civil wars? What other outcomes are striking? Compare peace agreements in Asia and Africa. What might explain the difference? Note: we are only looking at the top two regions in terms of the number of conflicts. Run the code cell below:"
   ]
  },
  {
   "cell_type": "code",
   "execution_count": null,
   "metadata": {
    "#student": false
   },
   "outputs": [],
   "source": [
    "wars.group(['Region', 'Outcome']).where('Region', are.containing('Asia') | are.containing('Africa')).sort(\n",
    "    'count', descending=True).sort('Region').show()"
   ]
  },
  {
   "cell_type": "markdown",
   "metadata": {
    "#student": true
   },
   "source": [
    "*WRITE YOUR RESPONSE HERE. [NOTE: TO CHANGE THE TEXT, DOUBLE CLICK ON THE PLACEHOLDER TEXT, AND WHEN YOU ARE FINISHED, RUN THE CELL TO SAVE YOUR CHANGES]*"
   ]
  },
  {
   "cell_type": "markdown",
   "metadata": {
    "#student": false
   },
   "source": [
    "<br><br><br><br>\n",
    "Let's make a bar graph of the `IntensityLevel` for a particular year. A bar graph shows us the number of counts between categories for a particular feature. Run the cell below, then use the dropdown menu to select a year. After selecting a year, the graph will show the number of conflicts of each intensity level in the previous five years."
   ]
  },
  {
   "cell_type": "code",
   "execution_count": null,
   "metadata": {
    "#student": false
   },
   "outputs": [],
   "source": [
    "@interact(year=np.arange(1945, 2011, 5))\n",
    "def year_graph(year):\n",
    "    # filter data by chosen year and group by intensity level\n",
    "    five_year = war_years.with_column('Fifth Year', (war_years.column('Year') // 5) * 5) # add column of year rounded to nearest 5\n",
    "    one_year = five_year.where('Fifth Year', year).group('IntensityLevel').sort('IntensityLevel') # filter and sort by selected year\n",
    "    plt.bar(one_year.column('IntensityLevel'), one_year.column('count')) # create bar graph\n",
    "    plt.xticks((0, 1), ('Minor War', 'Major War')) # set x axis labels to be Minor and War\n",
    "    plt.ylabel(\"Count\") # set y axis label\n",
    "    plt.title('Number of Conflicts of Each Intensity Level from {} to {}'.format(year, year + 4)) # set title of graph\n",
    "    plt.show()"
   ]
  },
  {
   "cell_type": "markdown",
   "metadata": {
    "#student": false
   },
   "source": [
    "We can see two bars in the plot above describe the number of conflicts: one for `Minor` conflicts and one for the `War` conflicts based on the year you chose."
   ]
  },
  {
   "cell_type": "markdown",
   "metadata": {
    "#student": false
   },
   "source": [
    "<br><br><br><br><br><br><br><br><br>\n",
    "# 4. Choose a Conflict  <a id='3'></a>\n",
    "\n",
    "Let's select a location in the dropdown menu. We can use this to view only the rows that correspond to the chosen location."
   ]
  },
  {
   "cell_type": "code",
   "execution_count": null,
   "metadata": {
    "#student": false
   },
   "outputs": [],
   "source": [
    "locations = np.sort(list(set(wars.column('Location'))))\n",
    "@interact(location=locations)\n",
    "def location_filter(location):\n",
    "    wars.where('Location', location).show()"
   ]
  },
  {
   "cell_type": "markdown",
   "metadata": {
    "#student": false
   },
   "source": [
    "Use the cells above to choose a conflict that looks the most interesting to you. Once you find one, write down the `DyadId`. In the cell below, replace the `...` with the `DyadId` you chose. This will display the rows in the table that have the `DyadId` of your choice. Your selected `DyadId` will be the case on which you do research for your homework assignment."
   ]
  },
  {
   "cell_type": "code",
   "execution_count": null,
   "metadata": {
    "#student": true
   },
   "outputs": [],
   "source": [
    "dyadid = ...  # replace the ... with a DyadId\n",
    "wars.where('DyadId', dyadid)"
   ]
  },
  {
   "cell_type": "markdown",
   "metadata": {
    "#student": false
   },
   "source": [
    "<br><br>\n",
    "- -----------------------------------------------------\n",
    "<br><br>\n",
    "# 5. Homework <a id='4'></a>\n",
    "<br><br>\n",
    " "
   ]
  },
  {
   "cell_type": "markdown",
   "metadata": {
    "#student": true
   },
   "source": [
    "### Problem 5.1: \n",
    "Write your dyad id, noting the location and years of the conflict as well, in the box below."
   ]
  },
  {
   "cell_type": "markdown",
   "metadata": {
    "#student": true
   },
   "source": [
    "*[NOTE: TO CHANGE THE TEXT, DOUBLE CLICK ON THE PLACEHOLDER TEXT, AND WHEN YOU ARE FINISHED, RUN THE CELL TO SAVE YOUR CHANGES.]*"
   ]
  },
  {
   "cell_type": "markdown",
   "metadata": {
    "#student": true
   },
   "source": [
    "### Problem 5.2: \n",
    "\n",
    "Examining the row from the dataset that you have chosen above, how did the The Conflict Termination Dataset (above) code the outcome? Please provide a couple of sentences about the conflict, and then describe in at least as many sentences how the conflict ended, using (1) the [Country and Conflict summaries](https://ucdp.uu.se/) in the dropdown box, and (2) at least one academic article on the conflict you have chosen, or at least one on the country that mentions this conflict, from the [library resources](http://www.lib.berkeley.edu/research-support/articles) and/or GoogleScholar, searching for terms including the conflict location, the start and/or end dates, and the rebel group, and, finally, (3) at least one news article from [NexisUni](https://guides.lib.berkeley.edu/az.php?q=nexis%20uni), searching for the same types of terms as in (2). Write your answer in the box below AND provide a full citation using any complete citation style you would like to the academic article(s) and news article(s)."
   ]
  },
  {
   "cell_type": "markdown",
   "metadata": {
    "#student": true
   },
   "source": [
    "*[NOTE: TO CHANGE THE TEXT, DOUBLE CLICK ON THE PLACEHOLDER TEXT, AND WHEN YOU ARE FINISHED, RUN THE CELL TO SAVE YOUR CHANGES.]*"
   ]
  },
  {
   "cell_type": "markdown",
   "metadata": {
    "#student": true
   },
   "source": [
    "### Problem 5.3: \n",
    "\n",
    "Does this deeper research into the conflict's termination match the Conflict Termination Dataset's coding (see the question above)? If the answer is yes, briefly describe how your research supports the dataset's coding. If the answer is no, how would you code this case? Does it need a new category compared to those in the Conflict Termination Dataset?"
   ]
  },
  {
   "cell_type": "markdown",
   "metadata": {
    "#student": true
   },
   "source": [
    "*[NOTE: TO CHANGE THE TEXT, DOUBLE CLICK ON THE PLACEHOLDER TEXT, AND WHEN YOU ARE FINISHED, RUN THE CELL TO SAVE YOUR CHANGES.]*"
   ]
  },
  {
   "cell_type": "markdown",
   "metadata": {
    "#student": true
   },
   "source": [
    "### Problem 5.4: \n",
    "Based on your understanding of the coding rules on termination type from the Conflict Termination Dataset (see the codebook [here](https://ucdp.uu.se/downloads/index.html#termination)), and perhaps the case you have just researched, what would be a change you would propose to create a different type of conflict termination? If such a change were made to the coding rules, how might our understanding of international conflict change? Feel free to speculate on this response. Write your answer in the box below. "
   ]
  },
  {
   "cell_type": "markdown",
   "metadata": {
    "#student": true
   },
   "source": [
    "*[NOTE: TO CHANGE THE TEXT, DOUBLE CLICK ON THE PLACEHOLDER TEXT, AND WHEN YOU ARE FINISHED, RUN THE CELL TO SAVE YOUR CHANGES.]*"
   ]
  },
  {
   "cell_type": "markdown",
   "metadata": {
    "#student": false
   },
   "source": [
    "<br><br><br><br>\n",
    "## Submitting your work\n",
    "To convert your work to a pdf, run the following cell. After you run the cell, click the link below the cell that says \"Download this\" to download the pdf.\n",
    "\n",
    "Note: if your browser isn't set to open pdf files in the browser, you may see an error when you click the link. If so, do the following to get the pdf:\n",
    "- click on the <img src=\"https://datahub.berkeley.edu/hub/logo\" alt=\"Jupyter logo\" style=\"width:200px;height:50px;\"> image at the top left of the screen\n",
    "- go to the POLSCI-5 folder, then go to the civil-conflicts folder\n",
    "- there should be a file here called \"CivilConflicts_submission.pdf\". Check the box to the left of the file, then click the \"Download\" button that appears at the top."
   ]
  },
  {
   "cell_type": "code",
   "execution_count": null,
   "metadata": {
    "#student": false
   },
   "outputs": [],
   "source": [
    "# run this cell to convert your work to a pdf for submission\n",
    "!pip install gsExport -q\n",
    "import gsExport\n",
    "gsExport.generateSubmission(\"CivilConflicts.ipynb\")"
   ]
  },
  {
   "cell_type": "markdown",
   "metadata": {
    "#student": false
   },
   "source": [
    "<br><br>\n",
    "- -----------------------------------------------------\n",
    "<br><br>\n",
    "We hope you enjoyed this notebook and learned a few things! In case you wish to explore the dataset more on your own, here is the link to download the dataset: https://ucdp.uu.se/downloads/#d5."
   ]
  },
  {
   "cell_type": "markdown",
   "metadata": {
    "#student": false
   },
   "source": [
    "<br><br><br><br><br><br>\n",
    "# 6. Data Science Opportunities at UC Berkeley <a id='5'></a>"
   ]
  },
  {
   "cell_type": "markdown",
   "metadata": {
    "#student": false
   },
   "source": [
    "If you need assistance with this notebook, our peer advisors are happy to help. You can find their Drop-In Hours [here](https://data.berkeley.edu/academics/resources/peer-consulting). You can also email ds-peer-consulting@berkeley.edu to book an appointment if the times conflict with your schedule.\n",
    "\n",
    "If you are interested in data science, a great course to start with is Data 8 or consider a two-unit [Connector Course](https://data.berkeley.edu/education/connectors). For the full list of courses and degree programs we offer, click [here](https://data.berkeley.edu/academics/undergraduate-programs/data-science-offerings)."
   ]
  },
  {
   "cell_type": "markdown",
   "metadata": {
    "#student": false
   },
   "source": [
    "# 7. Bibliography <a id='6'></a>\n",
    "* Kreutz, Joakim, 2010. How and When Armed Conflicts End: Introducing the UCDP Conflict Termination Dataset. *Journal of Peace Research* 47(2): 243-250."
   ]
  }
 ],
 "metadata": {
  "checksums": [
   "2eb3c332108bc109f1a7d8b932e99caa",
   "e9b3f69606cfbfc7de875f47a668c0fc",
   "69ede1b1db62a77fbe038781e1e86168",
   "dfec2cd28d8678d1a6901d0ad1b61d01",
   "1be4cd6ef9d205a12d882c15cbecd27f",
   "46c1d6d754fda39251c4558db06c93d4",
   "a324fe767a1b5a988a545ba16f9d85e3",
   "d0d6b16cec82b304d2e08ac9d9d000c8",
   "ece75ee72167595d716b79afefa8294c",
   "bdb641cce22573fdd9a07eef5bfe3529",
   "63f6173d3f3887158beeb5497f3576c4",
   "e343c162b80fd36961fc91ef6a3b3256",
   "e18e0a13be68bd42f793747d4e59b4c3",
   "569f164e82f93971bd38b9c0156bf6bf",
   "2f2a61108376f69faa46c8f63a957eae",
   "ca484a73353d30356699afffef5ed536",
   "ddda6ad46fbba092900e70f609400028",
   "4fcd88f5707d80c703fc9fa1bbdfddf8",
   "11b14e7d2eb53af3e22ebc470a2ceb68",
   "5de0d2bc3990e861baf67a1fad74b656",
   "072f433e6462497de0779996ac095912",
   "0b49eb9a570823f4402f1b1448eb068c",
   "b17f3f2dba6e16b3bc0e1b779015b27f",
   "62d141f067619fe6524345dd4d2e430f",
   "e304e1721e3f6278e01b6f1053cd6f62",
   "4bbb033282fb534a35f6756ebae40527",
   "3b57aaec39420e6ff0e1acfbe82b1a04",
   "1708d899054f2aec8df999aec00df3a1",
   "2350ca1ef3a2adb5a98b2afdf0863257",
   "072f433e6462497de0779996ac095912",
   "7e83e5b50adeb5850d266c2fb8ae2d4d",
   "449deb9db6c31e7c088bb7843c93b4d3",
   "f6856e70b434acbf5ab35e1dc2414c8f",
   "b7d9ac38c69dd967f398e97dd468e199",
   "58fb6957e13414d3993c0d7c2bca86b3",
   "491c73b8b4eebdb14414588da2e840d2",
   "316cc6fedbf2e02d68a7f7a6de41b807",
   "796c8eabc7b27441b8ce753e09b67fcf",
   "ac4ff2d847d85fa0cf211e6395185735",
   "4117c69f4046942f6f9a21eea0413cbc",
   "4740f6cbbc397b4774a8beadff7ca616",
   "8dad901343c981f8e716bcc8588575ae",
   "9692da9ebcf1fe79780a3643be830109",
   "7757f1bad1638ffffac54ef26b23bad3",
   "ce73c9796bb0a7650d977f94916709e1",
   "13c4d5a466e2709f57084322d8b37009",
   "ef0a026a6ac25020880d4d46f527c242",
   "9a93ce2311ac112a9c0cf8ef88820b9b",
   "699ddac2bdd61d4ca4364b9f78b189ed",
   "90ecafba8a13b90417e70282db48e803",
   "3fb20dd735bd6ec978201b31874a9d34",
   "072f433e6462497de0779996ac095912",
   "55343c5871a803af24df0cf7d471bcb9",
   "988f3876c63933a52e5feffc28235c6b",
   "c74fb919f04818862d13e77dc765abb9",
   "a421a45fac0e252f71edeabde70d3fd8",
   "a7e2d3c635763911fe3fc60e85bbb689",
   "8e4564bc3f2bf1fb067c775b9fc83937",
   "4e0259e8cf23305c852e92523f773351",
   "e77fbcc11e2bc0a949a9e42fd43845ff",
   "a40af5aa97969086795e236610f4e84f",
   "af939a60e8e2660c59d37858791e416b",
   "231efccc3e8d60facc3a4ea99a537ca6",
   "af939a60e8e2660c59d37858791e416b",
   "ed1124c71c1dfdc38c615ac774eafd08",
   "af939a60e8e2660c59d37858791e416b",
   "431cc7a5069ddad7368cac0bdd87e3a9",
   "9348cdb191006e31f2626880a53d7190",
   "683102a9240258b38706e89d4baa0ca7",
   "29f5da631482db8c3892f707a4a5966c",
   "d50d08497cbd4236615823d4eb826602",
   "921e9f52cabde5fc1c188cd85972bbff",
   "b4c7fb69f05db27b84e51a727544faa9",
   "ee5f98611178ec113d2cc259a78ed650",
   "d41d8cd98f00b204e9800998ecf8427e"
  ],
  "kernelspec": {
   "display_name": "Python 3",
   "language": "python",
   "name": "python3"
  },
  "language_info": {
   "codemirror_mode": {
    "name": "ipython",
    "version": 3
   },
   "file_extension": ".py",
   "mimetype": "text/x-python",
   "name": "python",
   "nbconvert_exporter": "python",
   "pygments_lexer": "ipython3",
   "version": "3.6.8"
  },
  "number_of_pagebreaks": 0
 },
 "nbformat": 4,
 "nbformat_minor": 2
}
