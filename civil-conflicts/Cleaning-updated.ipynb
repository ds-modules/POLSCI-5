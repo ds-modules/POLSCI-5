{
 "cells": [
  {
   "cell_type": "code",
   "execution_count": null,
   "metadata": {},
   "outputs": [],
   "source": [
    "import pandas as pd\n",
    "import numpy as np"
   ]
  },
  {
   "cell_type": "code",
   "execution_count": null,
   "metadata": {},
   "outputs": [],
   "source": [
    "wars = pd.read_csv('ucdp-term-dyadic-2015.csv') # load in data\n",
    "wars"
   ]
  },
  {
   "cell_type": "code",
   "execution_count": null,
   "metadata": {},
   "outputs": [],
   "source": [
    "# drop unused columns\n",
    "dropped = wars.drop(['DyadEp', 'SideBID', 'StartPrec', 'StartDate2', 'StartPrec2', 'Dyadterm', \n",
    "           'EpEndPrec', 'Outcome_early', 'GWNoA', 'GWNoA2nd', 'GWNoB', 'GWNoB2nd', 'GWNoLoc', 'Version', 'Type2'], axis=1)\n",
    "dropped.head()"
   ]
  },
  {
   "cell_type": "code",
   "execution_count": null,
   "metadata": {},
   "outputs": [],
   "source": [
    "# replace values in Incompatibility column\n",
    "incompatibility = {1:'Territory', 2:'Government', 3:'Government and Territory'}\n",
    "dropped['Incompatibility'] = dropped['Incompatibility'].replace(incompatibility)\n",
    "dropped.head()"
   ]
  },
  {
   "cell_type": "code",
   "execution_count": null,
   "metadata": {},
   "outputs": [],
   "source": [
    "# replace values in IntensityLevel column\n",
    "intensity = {1:'Minor (between 25 and 999 battle-related deaths)', 2:'War (at least 1000 battle-related deaths)'}\n",
    "dropped['IntensityLevel'] = dropped['IntensityLevel'].replace(intensity)\n",
    "dropped.head()"
   ]
  },
  {
   "cell_type": "code",
   "execution_count": null,
   "metadata": {},
   "outputs": [],
   "source": [
    "# replace values in TypeOfConflict column\n",
    "conflict = {1:'Extrasystemic armed conflict', 2:'Interstate armed conflict', 3:'Internal armed conflict',\n",
    "             4:'Internationalized internal armed'}\n",
    "dropped['TypeOfConflict'] = dropped['TypeOfConflict'].replace(conflict)\n",
    "dropped.head()"
   ]
  },
  {
   "cell_type": "code",
   "execution_count": null,
   "metadata": {},
   "outputs": [],
   "source": [
    "# replace values in Outcome column\n",
    "outcome = {'1':'Peace agreement', '2':'Ceasefire', '3':'Victory for Side A /Government Side',\n",
    "           '4':'Victory for Side B /Rebel Side', '5':'Low activity (less than 25 battle-deaths)', \n",
    "           '6':'Actor ceases to exist', '.':np.nan}\n",
    "dropped['Outcome'] = dropped['Outcome'].replace(outcome)\n",
    "dropped.head()"
   ]
  },
  {
   "cell_type": "code",
   "execution_count": null,
   "metadata": {},
   "outputs": [],
   "source": [
    "# # replace values in Region column\n",
    "dropped['Region'] = dropped['Region'].str.replace('1', 'Europe')\n",
    "dropped['Region'] = dropped['Region'].str.replace('2', 'Middle East')\n",
    "dropped['Region'] = dropped['Region'].str.replace('3', 'Asia')\n",
    "dropped['Region'] = dropped['Region'].str.replace('4', 'Africa')\n",
    "dropped['Region'] = dropped['Region'].str.replace('5', 'Americas')\n",
    "dropped.head()"
   ]
  },
  {
   "cell_type": "code",
   "execution_count": null,
   "metadata": {},
   "outputs": [],
   "source": [
    "# replace periods with NaN\n",
    "period = {'.':np.nan}\n",
    "dropped = dropped.replace(period)\n",
    "dropped.head()"
   ]
  },
  {
   "cell_type": "code",
   "execution_count": null,
   "metadata": {},
   "outputs": [],
   "source": [
    "# rename some columns\n",
    "dropped = dropped.rename({'SideA2nd':'SideA_Ally', 'SideB2nd':'SideB_Ally', 'EpEndDate':'EndDate', \n",
    "                'CfireDate':'CeasefireDate', 'PeAgDate':'PeaceAgreementDate', 'Incompatibility':'DisagreementOver'\n",
    "                         }, axis=1)"
   ]
  },
  {
   "cell_type": "code",
   "execution_count": null,
   "metadata": {
    "scrolled": false
   },
   "outputs": [],
   "source": [
    "dropped.head()"
   ]
  },
  {
   "cell_type": "code",
   "execution_count": null,
   "metadata": {},
   "outputs": [],
   "source": [
    "dropped[(~dropped[\"Location\"].str.contains(\",\")) & (dropped[\"TypeOfConflict\"].str.contains('Internal armed conflict'))]"
   ]
  },
  {
   "cell_type": "code",
   "execution_count": null,
   "metadata": {},
   "outputs": [],
   "source": [
    "dropped.set_index('Year').to_csv('cleanedWars2.csv')"
   ]
  },
  {
   "cell_type": "markdown",
   "metadata": {},
   "source": [
    "### Edits to dataset after meeting with professor"
   ]
  },
  {
   "cell_type": "code",
   "execution_count": null,
   "metadata": {},
   "outputs": [],
   "source": [
    "# Drop remaining columns that are not needed after meeting with professor\n",
    "dropped = dropped.drop(['Year', 'SideA_Ally', 'SideB_Ally', 'TerritoryName', 'CeasefireDate', \n",
    "                        'PeaceAgreementDate'], axis = 1)\n",
    "dropped.head()"
   ]
  },
  {
   "cell_type": "code",
   "execution_count": null,
   "metadata": {},
   "outputs": [],
   "source": [
    "# Taking out locations with commas \",\"\", i.e. interstate wars\n",
    "dropped = dropped[~dropped[\"Location\"].str.contains(\",\")]\n",
    "dropped[dropped[\"Location\"].str.contains(\",\")]"
   ]
  },
  {
   "cell_type": "code",
   "execution_count": null,
   "metadata": {},
   "outputs": [],
   "source": [
    "# Dropping remaining interstate conflicts\n",
    "dropped = dropped[dropped[\"TypeOfConflict\"].str.contains('Internal armed conflict')]\n",
    "dropped.head()"
   ]
  },
  {
   "cell_type": "code",
   "execution_count": null,
   "metadata": {},
   "outputs": [],
   "source": [
    "# replace NaN values with \"Missing\" string\n",
    "dropped = dropped.fillna('Missing')\n",
    "dropped.head()"
   ]
  },
  {
   "cell_type": "code",
   "execution_count": null,
   "metadata": {},
   "outputs": [],
   "source": [
    "# Extracting start years of wars from start dates\n",
    "dropped['StartDate'] = pd.to_datetime(dropped['StartDate'])\n",
    "dropped['StartYear'] = dropped['StartDate'].dt.year\n",
    "dropped.head()"
   ]
  },
  {
   "cell_type": "code",
   "execution_count": null,
   "metadata": {
    "scrolled": true
   },
   "outputs": [],
   "source": [
    "# Extracting end years of wars from end dates\n",
    "\n",
    "# replace missing end dates with NaT so can convert to datetime and extract year\n",
    "dropped['EndYear'] = dropped['EndDate']\n",
    "dropped['EndYear'] = dropped['EndYear'].replace('Missing','NaT')\n",
    "\n",
    "dropped['EndYear'] = pd.to_datetime(dropped['EndYear'])\n",
    "dropped['EndYear'] = dropped['EndYear'].dt.year\n",
    "dropped = dropped.fillna('Missing')\n",
    "\n",
    "dropped.head(10)"
   ]
  },
  {
   "cell_type": "code",
   "execution_count": null,
   "metadata": {
    "scrolled": false
   },
   "outputs": [],
   "source": [
    "# One approach of getting one row per conflict, but \n",
    "# some conflicts still have more than one row since more than one end date was listed\n",
    "\n",
    "conflict_rows = dropped[dropped['EndDate'] != 'Missing']\n",
    "conflict_rows.head()"
   ]
  },
  {
   "cell_type": "markdown",
   "metadata": {},
   "source": [
    "### The code below produces the final dataframe that is currently used in the Civil Wars notebook"
   ]
  },
  {
   "cell_type": "code",
   "execution_count": null,
   "metadata": {},
   "outputs": [],
   "source": [
    "#  Another approach for getting one row per conflict where there is one row per conflict \n",
    "\n",
    "#Replace missing with NaN again so that can use function in apply\n",
    "one = dropped.replace('Missing', np.nan)\n",
    "\n",
    "# One row per conflict grouped by ConflictId and DyadId\n",
    "one.groupby(['ConflictId', 'DyadId'], sort = False)['EndYear'].apply(np.nanmax)\n",
    "idx = one.groupby(['ConflictId', 'DyadId'])['EndYear'].transform(max) == one['EndYear']\n",
    "\n",
    "\n",
    "one_row = one[idx]\n",
    "one_row.head()"
   ]
  },
  {
   "cell_type": "code",
   "execution_count": null,
   "metadata": {},
   "outputs": [],
   "source": [
    "# Reformatting values including start and end date formats \n",
    "\n",
    "one_row.fillna('Missing')\n",
    "one_row['StartDate'] = one_row['StartDate'].dt.strftime('%m/%d/%Y')\n",
    "one_row['EndDate'] = pd.to_datetime(one_row['EndDate'])\n",
    "one_row['EndDate'] = one_row['EndDate'].dt.strftime('%m/%d/%Y')\n",
    "\n",
    "one_row.head()"
   ]
  },
  {
   "cell_type": "code",
   "execution_count": null,
   "metadata": {},
   "outputs": [],
   "source": [
    "# Dropping StartYear and EndYear columns\n",
    "\n",
    "one_row.drop(['StartYear', 'EndYear'], axis = 1, inplace = True)\n",
    "one_row.head()"
   ]
  },
  {
   "cell_type": "code",
   "execution_count": null,
   "metadata": {},
   "outputs": [],
   "source": [
    "one_row[one_row[\"Outcome\"].str.contains(\"Missing\")]"
   ]
  },
  {
   "cell_type": "code",
   "execution_count": null,
   "metadata": {},
   "outputs": [],
   "source": [
    "approach_1 = conflict_rows.shape[0]\n",
    "approach_2 = one_row.shape[0]\n",
    "\n",
    "print('Approach 1 number of rows: ', approach_1)\n",
    "print('Approach 2 number of rows:', approach_2)"
   ]
  },
  {
   "cell_type": "code",
   "execution_count": null,
   "metadata": {},
   "outputs": [],
   "source": [
    "# by default, pd.to_datetime assumes 2-digit years < 70 are in the 2000s\n",
    "# reformat appropriate dates to be in the 1900s\n",
    "def fix_century(date):\n",
    "    if (date[-2:] > \"18\"):\n",
    "        date = date[:6] + \"19\" + date[-2:]\n",
    "    return date\n",
    "one_row.loc[:, \"EndDate\"] = one_row[\"EndDate\"].apply(fix_century)\n",
    "\n",
    "# sanity check: start date should always be before end date\n",
    "# this currently fails because start date > end date in original data set for row 2556\n",
    "#assert (pd.to_datetime(one_row[\"StartDate\"]) < pd.to_datetime(one_row[\"EndDate\"])).all()\n",
    "\n",
    "#sanity check: all dates should be between 1935 and 2017\n",
    "assert (one_row[\"StartDate\"].str.slice(6, 10) > \"1935\").all()\n",
    "assert (one_row[\"StartDate\"].str.slice(6, 10) < \"2018\").all()\n",
    "assert (one_row[\"EndDate\"].str.slice(6, 10) > \"1935\").all()\n",
    "assert (one_row[\"EndDate\"].str.slice(6, 10) < \"2018\").all()"
   ]
  },
  {
   "cell_type": "code",
   "execution_count": null,
   "metadata": {},
   "outputs": [],
   "source": [
    "one_row.set_index('ConflictId').to_csv('oneWar.csv')"
   ]
  },
  {
   "cell_type": "code",
   "execution_count": null,
   "metadata": {},
   "outputs": [],
   "source": []
  }
 ],
 "metadata": {
  "kernelspec": {
   "display_name": "Python 3",
   "language": "python",
   "name": "python3"
  },
  "language_info": {
   "codemirror_mode": {
    "name": "ipython",
    "version": 3
   },
   "file_extension": ".py",
   "mimetype": "text/x-python",
   "name": "python",
   "nbconvert_exporter": "python",
   "pygments_lexer": "ipython3",
   "version": "3.7.3"
  }
 },
 "nbformat": 4,
 "nbformat_minor": 2
}
